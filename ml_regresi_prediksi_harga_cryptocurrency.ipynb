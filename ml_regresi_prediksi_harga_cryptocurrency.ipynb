{
  "nbformat": 4,
  "nbformat_minor": 0,
  "metadata": {
    "colab": {
      "provenance": [],
      "toc_visible": true
    },
    "kernelspec": {
      "name": "python3",
      "display_name": "Python 3"
    },
    "language_info": {
      "name": "python"
    }
  },
  "cells": [
    {
      "cell_type": "markdown",
      "source": [
        "# Prediksi Harga Cryptocurrency\n"
      ],
      "metadata": {
        "id": "x5toB7NPRXMh"
      }
    },
    {
      "cell_type": "markdown",
      "source": [
        "Kita pasti pernah mendengar atau mungkin malah pernah (sedang) berinvestasi dalam cryptocurrency. Cryptocurrency adalah media pertukaran digital yang dienkripsi dan didesentralisasi (disebar dan tidak terpusat). Banyak orang menggunakan mata uang kripto sebagai salah satu bentuk investasi karena memberikan keuntungan besar bahkan dalam waktu singkat. Bitcoin, Ethereum, dan Binance Coin adalah beberapa cryptocurrency populer saat ini.\n",
        "\n",
        "Disini kita akan mencoba melakukan prediksi harga mata uang kripto apa pun di masa mendatang dengan pembelajaran mesin (machine learning) menggunakan Python.\n"
      ],
      "metadata": {
        "id": "IEbRcSLERfe1"
      }
    },
    {
      "cell_type": "markdown",
      "source": [
        "Memprediksi harga cryptocurrency adalah salah satu studi kasus populer di komunitas ilmu data (*data science*). Harga saham dan mata uang kripto **tidak hanya bergantung pada jumlah orang yang membeli atau menjualnya**. Saat ini, perubahan harga investasi ini **juga bergantung pada perubahan kebijakan keuangan pemerintah** terkait cryptocurrency apa pun. **Perasaan orang terhadap mata uang kripto** atau **kepribadian orang tertentu** yang secara langsung atau tidak langsung mendukung mata uang kripto juga mengakibatkan pembelian dan penjualan mata uang kripto tertentu secara besar-besaran, yang mengakibatkan perubahan harga.\n",
        "\n",
        "Singkatnya, jual beli menghasilkan perubahan harga mata uang kripto apa pun, tetapi tren jual beli bergantung pada banyak faktor. Menggunakan pembelajaran mesin untuk prediksi harga mata uang kripto hanya dapat berfungsi dalam situasi di mana harga berubah karena harga historis yang dilihat orang sebelum membeli dan menjual mata uang kripto mereka. Jadi, pada bagian di bawah ini, kita akan mencoba memprediksi harga bitcoin (yang merupakan salah satu mata uang kripto paling populer) selama 30 hari ke depan.\n"
      ],
      "metadata": {
        "id": "ZadgTHS0SV85"
      }
    },
    {
      "cell_type": "markdown",
      "source": [
        "Kita akan memulai tugas prediksi harga Cryptocurrency dengan mengimpor library Python yang diperlukan dan dataset yang kita butuhkan. Untuk tugas ini, kita akan mengumpulkan data harga Bitcoin terbaru dari Yahoo Finance, menggunakan API yfinance. Ini akan membantu kita mengumpulkan data terbaru setiap kali kita menjalankan kode ini.\n"
      ],
      "metadata": {
        "id": "2LYFMh7XTODh"
      }
    },
    {
      "cell_type": "code",
      "source": [
        "# install modul yfinance supaya bisa koneksi ke yahoo finance untuk mengambil data\n",
        "pip install yfinance\n"
      ],
      "metadata": {
        "colab": {
          "base_uri": "https://localhost:8080/"
        },
        "id": "wj4fgew8ULAd",
        "outputId": "d2c8177c-539e-4e67-e2bf-09a93a5353ba"
      },
      "execution_count": 2,
      "outputs": [
        {
          "output_type": "stream",
          "name": "stdout",
          "text": [
            "Looking in indexes: https://pypi.org/simple, https://us-python.pkg.dev/colab-wheels/public/simple/\n",
            "Collecting yfinance\n",
            "  Downloading yfinance-0.2.11-py2.py3-none-any.whl (59 kB)\n",
            "\u001b[2K     \u001b[90m━━━━━━━━━━━━━━━━━━━━━━━━━━━━━━━━━━━━━━━━\u001b[0m \u001b[32m59.2/59.2 KB\u001b[0m \u001b[31m3.4 MB/s\u001b[0m eta \u001b[36m0:00:00\u001b[0m\n",
            "\u001b[?25hCollecting requests>=2.26\n",
            "  Downloading requests-2.28.2-py3-none-any.whl (62 kB)\n",
            "\u001b[2K     \u001b[90m━━━━━━━━━━━━━━━━━━━━━━━━━━━━━━━━━━━━━━━━\u001b[0m \u001b[32m62.8/62.8 KB\u001b[0m \u001b[31m6.5 MB/s\u001b[0m eta \u001b[36m0:00:00\u001b[0m\n",
            "\u001b[?25hRequirement already satisfied: pytz>=2022.5 in /usr/local/lib/python3.8/dist-packages (from yfinance) (2022.7.1)\n",
            "Requirement already satisfied: lxml>=4.9.1 in /usr/local/lib/python3.8/dist-packages (from yfinance) (4.9.2)\n",
            "Requirement already satisfied: appdirs>=1.4.4 in /usr/local/lib/python3.8/dist-packages (from yfinance) (1.4.4)\n",
            "Collecting cryptography>=3.3.2\n",
            "  Downloading cryptography-39.0.1-cp36-abi3-manylinux_2_28_x86_64.whl (4.2 MB)\n",
            "\u001b[2K     \u001b[90m━━━━━━━━━━━━━━━━━━━━━━━━━━━━━━━━━━━━━━━━\u001b[0m \u001b[32m4.2/4.2 MB\u001b[0m \u001b[31m55.6 MB/s\u001b[0m eta \u001b[36m0:00:00\u001b[0m\n",
            "\u001b[?25hCollecting frozendict>=2.3.4\n",
            "  Downloading frozendict-2.3.4-cp38-cp38-manylinux_2_17_x86_64.manylinux2014_x86_64.whl (110 kB)\n",
            "\u001b[2K     \u001b[90m━━━━━━━━━━━━━━━━━━━━━━━━━━━━━━━━━━━━━━\u001b[0m \u001b[32m111.0/111.0 KB\u001b[0m \u001b[31m12.4 MB/s\u001b[0m eta \u001b[36m0:00:00\u001b[0m\n",
            "\u001b[?25hCollecting beautifulsoup4>=4.11.1\n",
            "  Downloading beautifulsoup4-4.11.2-py3-none-any.whl (129 kB)\n",
            "\u001b[2K     \u001b[90m━━━━━━━━━━━━━━━━━━━━━━━━━━━━━━━━━━━━━━\u001b[0m \u001b[32m129.4/129.4 KB\u001b[0m \u001b[31m13.5 MB/s\u001b[0m eta \u001b[36m0:00:00\u001b[0m\n",
            "\u001b[?25hRequirement already satisfied: numpy>=1.16.5 in /usr/local/lib/python3.8/dist-packages (from yfinance) (1.21.6)\n",
            "Requirement already satisfied: multitasking>=0.0.7 in /usr/local/lib/python3.8/dist-packages (from yfinance) (0.0.11)\n",
            "Collecting html5lib>=1.1\n",
            "  Downloading html5lib-1.1-py2.py3-none-any.whl (112 kB)\n",
            "\u001b[2K     \u001b[90m━━━━━━━━━━━━━━━━━━━━━━━━━━━━━━━━━━━━━━\u001b[0m \u001b[32m112.2/112.2 KB\u001b[0m \u001b[31m12.4 MB/s\u001b[0m eta \u001b[36m0:00:00\u001b[0m\n",
            "\u001b[?25hRequirement already satisfied: pandas>=1.3.0 in /usr/local/lib/python3.8/dist-packages (from yfinance) (1.3.5)\n",
            "Collecting soupsieve>1.2\n",
            "  Downloading soupsieve-2.4-py3-none-any.whl (37 kB)\n",
            "Requirement already satisfied: cffi>=1.12 in /usr/local/lib/python3.8/dist-packages (from cryptography>=3.3.2->yfinance) (1.15.1)\n",
            "Requirement already satisfied: six>=1.9 in /usr/local/lib/python3.8/dist-packages (from html5lib>=1.1->yfinance) (1.15.0)\n",
            "Requirement already satisfied: webencodings in /usr/local/lib/python3.8/dist-packages (from html5lib>=1.1->yfinance) (0.5.1)\n",
            "Requirement already satisfied: python-dateutil>=2.7.3 in /usr/local/lib/python3.8/dist-packages (from pandas>=1.3.0->yfinance) (2.8.2)\n",
            "Requirement already satisfied: urllib3<1.27,>=1.21.1 in /usr/local/lib/python3.8/dist-packages (from requests>=2.26->yfinance) (1.24.3)\n",
            "Requirement already satisfied: idna<4,>=2.5 in /usr/local/lib/python3.8/dist-packages (from requests>=2.26->yfinance) (2.10)\n",
            "Requirement already satisfied: charset-normalizer<4,>=2 in /usr/local/lib/python3.8/dist-packages (from requests>=2.26->yfinance) (2.1.1)\n",
            "Requirement already satisfied: certifi>=2017.4.17 in /usr/local/lib/python3.8/dist-packages (from requests>=2.26->yfinance) (2022.12.7)\n",
            "Requirement already satisfied: pycparser in /usr/local/lib/python3.8/dist-packages (from cffi>=1.12->cryptography>=3.3.2->yfinance) (2.21)\n",
            "Installing collected packages: soupsieve, requests, html5lib, frozendict, cryptography, beautifulsoup4, yfinance\n",
            "  Attempting uninstall: requests\n",
            "    Found existing installation: requests 2.25.1\n",
            "    Uninstalling requests-2.25.1:\n",
            "      Successfully uninstalled requests-2.25.1\n",
            "  Attempting uninstall: html5lib\n",
            "    Found existing installation: html5lib 1.0.1\n",
            "    Uninstalling html5lib-1.0.1:\n",
            "      Successfully uninstalled html5lib-1.0.1\n",
            "  Attempting uninstall: beautifulsoup4\n",
            "    Found existing installation: beautifulsoup4 4.6.3\n",
            "    Uninstalling beautifulsoup4-4.6.3:\n",
            "      Successfully uninstalled beautifulsoup4-4.6.3\n",
            "Successfully installed beautifulsoup4-4.11.2 cryptography-39.0.1 frozendict-2.3.4 html5lib-1.1 requests-2.28.2 soupsieve-2.4 yfinance-0.2.11\n"
          ]
        }
      ]
    },
    {
      "cell_type": "code",
      "source": [
        "import pandas as pd\n",
        "import yfinance as yf\n",
        "import datetime\n",
        "from datetime import date, timedelta\n",
        "today = date.today()\n",
        "\n",
        "d1 = today.strftime(\"%Y-%m-%d\")\n",
        "end_date = d1\n",
        "# d2 = date.today() - timedelta(days=730)\n",
        "d2 = date.today() - timedelta(days=180)\n",
        "d2 = d2.strftime(\"%Y-%m-%d\")\n",
        "start_date = d2\n",
        "\n",
        "# data diambil dari https://finance.yahoo.com/quote/BTC-USD/history?period1=1496264400&period2=1576706400&interval=1mo&filter=history&frequency=1mo\n",
        "data = yf.download('BTC-USD', start=start_date, end=end_date, progress=False)\n",
        "data[\"Date\"] = data.index\n",
        "data = data[[\"Date\", \"Open\", \"High\", \"Low\", \"Close\", \"Adj Close\", \"Volume\"]]\n",
        "data.reset_index(drop=True, inplace=True)\n",
        "print(data.tail())\n"
      ],
      "metadata": {
        "colab": {
          "base_uri": "https://localhost:8080/"
        },
        "id": "K_82-pNOTdqu",
        "outputId": "bf4f3ceb-f6b2-4654-aa2e-0767fc23d1a3"
      },
      "execution_count": 7,
      "outputs": [
        {
          "output_type": "stream",
          "name": "stdout",
          "text": [
            "          Date          Open          High           Low         Close  \\\n",
            "175 2023-02-11  21651.841797  21891.410156  21618.449219  21870.875000   \n",
            "176 2023-02-12  21870.902344  22060.994141  21682.828125  21788.203125   \n",
            "177 2023-02-13  21787.000000  21898.414062  21460.087891  21808.101562   \n",
            "178 2023-02-14  21801.822266  22293.140625  21632.394531  22220.804688   \n",
            "179 2023-02-15  22220.585938  24307.841797  22082.769531  24307.841797   \n",
            "\n",
            "        Adj Close       Volume  \n",
            "175  21870.875000  16356226232  \n",
            "176  21788.203125  17821046406  \n",
            "177  21808.101562  23918742607  \n",
            "178  22220.804688  26792596581  \n",
            "179  24307.841797  32483312909  \n"
          ]
        }
      ]
    },
    {
      "cell_type": "markdown",
      "source": [
        "Dalam *coding* di atas, kita telah mengumpulkan data terbaru harga Bitcoin selama 730 (atau 180) hari terakhir, dan kemudian kita telah menyiapkannya untuk tugas ilmu data (*data science*) apa pun. Sekarang, mari kita lihat bentuk kumpulan data (*dataset*) ini untuk melihat apakah kita bekerja dengan 730 (atau 180) baris atau tidak.\n"
      ],
      "metadata": {
        "id": "21a2inI6U1bc"
      }
    },
    {
      "cell_type": "code",
      "source": [
        "data.shape\n"
      ],
      "metadata": {
        "colab": {
          "base_uri": "https://localhost:8080/"
        },
        "id": "vPXDl_qQVHyX",
        "outputId": "a1c4ba7e-c634-4b4c-b8a3-d820963acd4d"
      },
      "execution_count": 3,
      "outputs": [
        {
          "output_type": "execute_result",
          "data": {
            "text/plain": [
              "(180, 7)"
            ]
          },
          "metadata": {},
          "execution_count": 3
        }
      ]
    },
    {
      "cell_type": "markdown",
      "source": [
        "Jadi dataset berisi 731 (atau 180) baris, dimana baris pertama berisi nama tiap kolom. Sekarang mari kita visualisasikan perubahan harga bitcoin hingga hari ini dengan menggunakan grafik candlestick.\n"
      ],
      "metadata": {
        "id": "RKcQkAquVPbj"
      }
    },
    {
      "cell_type": "code",
      "source": [
        "import plotly.graph_objects as go\n",
        "figure = go.Figure(data=[go.Candlestick(x=data[\"Date\"], open=data[\"Open\"], high=data[\"High\"], low=data[\"Low\"], close=data[\"Close\"])])\n",
        "figure.update_layout(title = \"Bitcoin Price Analysis\", xaxis_rangeslider_visible=False)\n",
        "figure.show()\n"
      ],
      "metadata": {
        "colab": {
          "base_uri": "https://localhost:8080/",
          "height": 542
        },
        "id": "pHLt4VFeVdnI",
        "outputId": "e3f6275d-3773-4cfa-f782-950ffa3e1a77"
      },
      "execution_count": 4,
      "outputs": [
        {
          "output_type": "display_data",
          "data": {
            "text/html": [
              "<html>\n",
              "<head><meta charset=\"utf-8\" /></head>\n",
              "<body>\n",
              "    <div>            <script src=\"https://cdnjs.cloudflare.com/ajax/libs/mathjax/2.7.5/MathJax.js?config=TeX-AMS-MML_SVG\"></script><script type=\"text/javascript\">if (window.MathJax) {MathJax.Hub.Config({SVG: {font: \"STIX-Web\"}});}</script>                <script type=\"text/javascript\">window.PlotlyConfig = {MathJaxConfig: 'local'};</script>\n",
              "        <script src=\"https://cdn.plot.ly/plotly-2.8.3.min.js\"></script>                <div id=\"acd261cd-fae3-4f37-be80-1003d3ba0b3b\" class=\"plotly-graph-div\" style=\"height:525px; width:100%;\"></div>            <script type=\"text/javascript\">                                    window.PLOTLYENV=window.PLOTLYENV || {};                                    if (document.getElementById(\"acd261cd-fae3-4f37-be80-1003d3ba0b3b\")) {                    Plotly.newPlot(                        \"acd261cd-fae3-4f37-be80-1003d3ba0b3b\",                        [{\"close\":[21166.060546875,21534.12109375,21398.908203125,21528.087890625,21395.01953125,21600.904296875,20260.01953125,20041.73828125,19616.814453125,20297.994140625,19796.80859375,20049.763671875,20127.140625,19969.771484375,19832.087890625,19986.712890625,19812.37109375,18837.66796875,19290.32421875,19329.833984375,21381.15234375,21680.5390625,21769.255859375,22370.44921875,20296.70703125,20241.08984375,19701.2109375,19772.583984375,20127.576171875,19419.505859375,19544.12890625,18890.7890625,18547.400390625,19413.55078125,19297.638671875,18937.01171875,18802.09765625,19222.671875,19110.546875,19426.720703125,19573.05078125,19431.7890625,19312.095703125,19044.107421875,19623.580078125,20336.84375,20160.716796875,19955.443359375,19546.849609375,19416.568359375,19446.42578125,19141.484375,19051.41796875,19157.4453125,19382.904296875,19185.65625,19067.634765625,19268.09375,19550.7578125,19334.416015625,19139.53515625,19053.740234375,19172.46875,19208.189453125,19567.0078125,19345.572265625,20095.857421875,20770.44140625,20285.8359375,20595.3515625,20818.4765625,20635.603515625,20495.7734375,20485.2734375,20159.50390625,20209.98828125,21147.23046875,21282.69140625,20926.486328125,20602.81640625,18541.271484375,15880.7802734375,17586.771484375,17034.29296875,16799.185546875,16353.365234375,16618.19921875,16884.61328125,16669.439453125,16687.517578125,16697.77734375,16711.546875,16291.83203125,15787.2841796875,16189.76953125,16610.70703125,16604.46484375,16521.841796875,16464.28125,16444.626953125,16217.322265625,16444.982421875,17168.56640625,16967.1328125,17088.66015625,16908.236328125,17130.486328125,16974.826171875,17089.50390625,16848.126953125,17233.474609375,17133.15234375,17128.724609375,17104.193359375,17206.4375,17781.318359375,17815.650390625,17364.865234375,16647.484375,16795.091796875,16757.9765625,16439.6796875,16906.3046875,16817.53515625,16830.341796875,16796.953125,16847.755859375,16841.986328125,16919.8046875,16717.173828125,16552.572265625,16642.341796875,16602.5859375,16547.49609375,16625.080078125,16688.470703125,16679.857421875,16863.23828125,16836.736328125,16951.96875,16955.078125,17091.14453125,17196.5546875,17446.29296875,17934.896484375,18869.587890625,19909.57421875,20976.298828125,20880.798828125,21169.6328125,21161.51953125,20688.78125,21086.79296875,22676.552734375,22777.625,22720.416015625,22934.431640625,22636.46875,23117.859375,23032.77734375,23078.728515625,23031.08984375,23774.56640625,22840.138671875,23139.283203125,23723.76953125,23471.87109375,23449.322265625,23331.84765625,22955.666015625,22760.109375,23264.291015625,22939.3984375,21819.0390625,21651.18359375,21870.875,21788.203125,21808.1015625,22220.8046875,24307.841796875],\"high\":[21350.806640625,21668.845703125,21531.462890625,21646.203125,21783.076171875,21789.63671875,21804.908203125,20340.775390625,20139.0546875,20357.462890625,20542.64453125,20420.990234375,20198.390625,20401.568359375,20037.009765625,19999.689453125,20031.16015625,20155.26953125,19427.171875,19417.3515625,21439.41015625,21760.275390625,21770.552734375,22439.181640625,22673.8203125,20467.201171875,20318.166015625,19870.62890625,20162.53125,20127.234375,19639.48046875,19602.45703125,19674.630859375,19456.91015625,19464.671875,19310.197265625,19134.732421875,19274.873046875,20338.455078125,19688.34375,19589.265625,20109.849609375,19471.154296875,19370.30859375,19653.54296875,20380.34375,20343.748046875,20408.392578125,20041.0859375,19601.6953125,19542.5390625,19515.466796875,19241.9609375,19203.19921875,19453.328125,19889.146484375,19212.541015625,19389.603515625,19635.802734375,19666.994140625,19348.416015625,19315.19921875,19237.384765625,19248.068359375,19646.65234375,19589.125,20348.412109375,20938.134765625,20854.044921875,20724.98046875,20988.39453125,20917.005859375,20795.3203125,20647.2890625,20742.810546875,20382.095703125,21209.560546875,21446.88671875,21345.376953125,21053.24609375,20664.607421875,18590.458984375,18054.3125,17650.943359375,17066.67578125,16920.765625,17109.32421875,17051.962890625,16960.294921875,16726.439453125,16947.05859375,16797.876953125,16746.779296875,16291.2236328125,16253.0478515625,16638.193359375,16771.474609375,16603.31640625,16666.86328125,16594.40625,16482.93359375,16522.2578125,17190.9375,17197.498046875,17088.66015625,17116.041015625,17157.767578125,17378.15234375,17091.86328125,17109.376953125,17267.916015625,17280.546875,17216.826171875,17245.634765625,17212.564453125,17930.0859375,18318.53125,17846.744140625,17505.525390625,16800.58984375,16815.38671875,16807.52734375,17012.984375,16916.80078125,16866.673828125,16905.21875,16864.703125,16860.5546875,16920.123046875,16959.845703125,16768.169921875,16651.755859375,16643.427734375,16628.986328125,16630.439453125,16759.34375,16760.447265625,16964.5859375,16884.021484375,16991.994140625,16975.017578125,17091.14453125,17389.95703125,17484.720703125,17934.896484375,19030.087890625,19964.322265625,21075.142578125,20993.748046875,21360.875,21438.66015625,21564.501953125,21163.01171875,22692.357421875,23282.34765625,23056.73046875,23126.486328125,23134.01171875,23722.099609375,23237.078125,23417.720703125,23165.896484375,23919.890625,23789.34765625,23225.021484375,23764.5390625,24167.2109375,23678.103515625,23556.94921875,23423.435546875,23119.279296875,23310.974609375,23367.958984375,22996.4375,21941.185546875,21891.41015625,22060.994140625,21898.4140625,22293.140625,24307.841796875],\"low\":[20856.73046875,21103.197265625,20939.18359375,20955.138671875,21195.005859375,21362.44140625,20199.482421875,19890.5234375,19616.814453125,19600.78515625,19617.640625,19799.58203125,19653.96875,19814.765625,19698.35546875,19636.81640625,19673.046875,18800.171875,18644.466796875,19076.71484375,19310.962890625,21168.72265625,21406.9453125,21603.896484375,20062.669921875,19793.396484375,19636.734375,19400.076171875,19777.033203125,19387.4921875,18390.318359375,18813.455078125,18290.314453125,18415.591796875,18617.552734375,18861.974609375,18696.46875,18721.28515625,18915.66796875,18553.296875,18924.353515625,19265.662109375,19231.08203125,18970.62109375,19025.2265625,19523.83984375,19801.80078125,19900.087890625,19395.79296875,19299.4140625,19349.259765625,19102.978515625,18925.603515625,19029.7578125,18319.822265625,19115.408203125,19019.25,19068.9140625,19173.333984375,19144.76953125,19127.6875,18971.458984375,18770.970703125,19132.244140625,19124.197265625,19206.32421875,19261.447265625,20076.1171875,20255.373046875,20086.068359375,20566.484375,20547.462890625,20287.458984375,20359.845703125,20087.134765625,20086.240234375,20188.01953125,21097.634765625,20920.19140625,20489.97265625,17603.544921875,15682.6923828125,15834.0185546875,16543.482421875,16651.775390625,16320.634765625,15872.94140625,16542.55078125,16430.111328125,16460.68359375,16564.611328125,16570.41015625,16248.6923828125,15599.046875,15656.6064453125,16170.5029296875,16501.767578125,16388.404296875,16416.228515625,16437.025390625,16054.5302734375,16139.396484375,16445.4765625,16888.388671875,16877.880859375,16888.140625,16903.439453125,16922.431640625,16939.921875,16750.55859375,16788.783203125,17100.8359375,17120.68359375,17091.8203125,16899.39453125,17111.763671875,17739.513671875,17322.58984375,16584.701171875,16614.029296875,16697.8203125,16398.13671875,16427.8671875,16755.912109375,16592.408203125,16794.458984375,16793.52734375,16755.25390625,16812.369140625,16642.072265625,16497.556640625,16508.68359375,16408.474609375,16517.51953125,16521.234375,16572.228515625,16622.37109375,16667.763671875,16790.283203125,16716.421875,16914.19140625,16924.05078125,17093.9921875,17162.990234375,17337.994140625,17995.203125,18753.1640625,19907.828125,20606.986328125,20715.74609375,20978.533203125,20541.544921875,20685.380859375,20919.126953125,22511.833984375,22387.900390625,22654.3046875,22549.744140625,22406.076171875,22911.373046875,22654.59375,22908.845703125,22985.0703125,22657.58203125,22765.568359375,22877.75,23468.595703125,23279.955078125,23291.794921875,22841.759765625,22692.025390625,22756.2578125,22731.09765625,21773.974609375,21539.392578125,21618.44921875,21682.828125,21460.087890625,21632.39453125,22082.76953125],\"open\":[20872.841796875,21160.392578125,21531.462890625,21401.044921875,21526.455078125,21395.458984375,21596.0859375,20262.48046875,20041.03515625,19615.154296875,20298.611328125,19799.58203125,20050.498046875,20126.072265625,19969.71875,19832.470703125,19988.7890625,19817.724609375,18837.68359375,19289.94140625,19328.140625,21376.912109375,21678.54296875,21770.1484375,22371.48046875,20184.5546875,20242.2890625,19704.005859375,19777.033203125,20127.234375,19418.572265625,19545.591796875,18891.283203125,18534.650390625,19412.400390625,19296.990234375,18936.310546875,18803.900390625,19221.83984375,19104.62109375,19427.779296875,19573.431640625,19431.10546875,19311.849609375,19044.068359375,19623.583984375,20335.900390625,20161.0390625,19957.55859375,19546.328125,19417.478515625,19446.416015625,19139.0,19052.646484375,19156.966796875,19382.533203125,19185.4375,19068.9140625,19268.5625,19550.466796875,19335.02734375,19138.0859375,19053.203125,19172.380859375,19207.734375,19567.76953125,19344.96484375,20092.236328125,20772.802734375,20287.95703125,20595.103515625,20817.982421875,20633.6953125,20494.8984375,20482.958984375,20162.689453125,20208.76953125,21144.83203125,21285.056640625,20924.62109375,20600.671875,18543.76171875,15883.158203125,17583.251953125,17036.875,16799.72265625,16352.0283203125,16617.484375,16884.341796875,16670.42578125,16687.912109375,16696.220703125,16712.919921875,16291.2236328125,15782.30078125,16195.5888671875,16611.63671875,16602.26953125,16521.576171875,16463.8828125,16440.22265625,16217.6396484375,16445.4765625,17168.001953125,16968.68359375,17090.09765625,16908.169921875,17128.89453125,16975.23828125,17089.505859375,16847.349609375,17232.1484375,17134.220703125,17129.7109375,17102.5,17206.44140625,17782.06640625,17813.64453125,17364.546875,16646.982421875,16795.609375,16759.041015625,16441.787109375,16904.52734375,16818.380859375,16829.64453125,16796.9765625,16847.505859375,16842.25,16919.291015625,16716.400390625,16552.322265625,16641.330078125,16603.673828125,16547.9140625,16625.509765625,16688.84765625,16680.205078125,16863.47265625,16836.47265625,16952.1171875,16954.146484375,17093.9921875,17192.94921875,17446.359375,18117.59375,18868.90625,19910.537109375,20977.484375,20882.224609375,21175.833984375,21161.05078125,20686.74609375,21085.373046875,22677.427734375,22777.986328125,22721.087890625,22929.626953125,22639.267578125,23108.955078125,23030.716796875,23079.96484375,23031.44921875,23774.6484375,22840.796875,23137.8359375,23720.82421875,23469.412109375,23446.3203125,23332.248046875,22954.021484375,22757.267578125,23263.416015625,22946.56640625,21819.005859375,21651.841796875,21870.90234375,21787.0,21801.822265625,22220.5859375],\"x\":[\"2022-08-20T00:00:00\",\"2022-08-21T00:00:00\",\"2022-08-22T00:00:00\",\"2022-08-23T00:00:00\",\"2022-08-24T00:00:00\",\"2022-08-25T00:00:00\",\"2022-08-26T00:00:00\",\"2022-08-27T00:00:00\",\"2022-08-28T00:00:00\",\"2022-08-29T00:00:00\",\"2022-08-30T00:00:00\",\"2022-08-31T00:00:00\",\"2022-09-01T00:00:00\",\"2022-09-02T00:00:00\",\"2022-09-03T00:00:00\",\"2022-09-04T00:00:00\",\"2022-09-05T00:00:00\",\"2022-09-06T00:00:00\",\"2022-09-07T00:00:00\",\"2022-09-08T00:00:00\",\"2022-09-09T00:00:00\",\"2022-09-10T00:00:00\",\"2022-09-11T00:00:00\",\"2022-09-12T00:00:00\",\"2022-09-13T00:00:00\",\"2022-09-14T00:00:00\",\"2022-09-15T00:00:00\",\"2022-09-16T00:00:00\",\"2022-09-17T00:00:00\",\"2022-09-18T00:00:00\",\"2022-09-19T00:00:00\",\"2022-09-20T00:00:00\",\"2022-09-21T00:00:00\",\"2022-09-22T00:00:00\",\"2022-09-23T00:00:00\",\"2022-09-24T00:00:00\",\"2022-09-25T00:00:00\",\"2022-09-26T00:00:00\",\"2022-09-27T00:00:00\",\"2022-09-28T00:00:00\",\"2022-09-29T00:00:00\",\"2022-09-30T00:00:00\",\"2022-10-01T00:00:00\",\"2022-10-02T00:00:00\",\"2022-10-03T00:00:00\",\"2022-10-04T00:00:00\",\"2022-10-05T00:00:00\",\"2022-10-06T00:00:00\",\"2022-10-07T00:00:00\",\"2022-10-08T00:00:00\",\"2022-10-09T00:00:00\",\"2022-10-10T00:00:00\",\"2022-10-11T00:00:00\",\"2022-10-12T00:00:00\",\"2022-10-13T00:00:00\",\"2022-10-14T00:00:00\",\"2022-10-15T00:00:00\",\"2022-10-16T00:00:00\",\"2022-10-17T00:00:00\",\"2022-10-18T00:00:00\",\"2022-10-19T00:00:00\",\"2022-10-20T00:00:00\",\"2022-10-21T00:00:00\",\"2022-10-22T00:00:00\",\"2022-10-23T00:00:00\",\"2022-10-24T00:00:00\",\"2022-10-25T00:00:00\",\"2022-10-26T00:00:00\",\"2022-10-27T00:00:00\",\"2022-10-28T00:00:00\",\"2022-10-29T00:00:00\",\"2022-10-30T00:00:00\",\"2022-10-31T00:00:00\",\"2022-11-01T00:00:00\",\"2022-11-02T00:00:00\",\"2022-11-03T00:00:00\",\"2022-11-04T00:00:00\",\"2022-11-05T00:00:00\",\"2022-11-06T00:00:00\",\"2022-11-07T00:00:00\",\"2022-11-08T00:00:00\",\"2022-11-09T00:00:00\",\"2022-11-10T00:00:00\",\"2022-11-11T00:00:00\",\"2022-11-12T00:00:00\",\"2022-11-13T00:00:00\",\"2022-11-14T00:00:00\",\"2022-11-15T00:00:00\",\"2022-11-16T00:00:00\",\"2022-11-17T00:00:00\",\"2022-11-18T00:00:00\",\"2022-11-19T00:00:00\",\"2022-11-20T00:00:00\",\"2022-11-21T00:00:00\",\"2022-11-22T00:00:00\",\"2022-11-23T00:00:00\",\"2022-11-24T00:00:00\",\"2022-11-25T00:00:00\",\"2022-11-26T00:00:00\",\"2022-11-27T00:00:00\",\"2022-11-28T00:00:00\",\"2022-11-29T00:00:00\",\"2022-11-30T00:00:00\",\"2022-12-01T00:00:00\",\"2022-12-02T00:00:00\",\"2022-12-03T00:00:00\",\"2022-12-04T00:00:00\",\"2022-12-05T00:00:00\",\"2022-12-06T00:00:00\",\"2022-12-07T00:00:00\",\"2022-12-08T00:00:00\",\"2022-12-09T00:00:00\",\"2022-12-10T00:00:00\",\"2022-12-11T00:00:00\",\"2022-12-12T00:00:00\",\"2022-12-13T00:00:00\",\"2022-12-14T00:00:00\",\"2022-12-15T00:00:00\",\"2022-12-16T00:00:00\",\"2022-12-17T00:00:00\",\"2022-12-18T00:00:00\",\"2022-12-19T00:00:00\",\"2022-12-20T00:00:00\",\"2022-12-21T00:00:00\",\"2022-12-22T00:00:00\",\"2022-12-23T00:00:00\",\"2022-12-24T00:00:00\",\"2022-12-25T00:00:00\",\"2022-12-26T00:00:00\",\"2022-12-27T00:00:00\",\"2022-12-28T00:00:00\",\"2022-12-29T00:00:00\",\"2022-12-30T00:00:00\",\"2022-12-31T00:00:00\",\"2023-01-01T00:00:00\",\"2023-01-02T00:00:00\",\"2023-01-03T00:00:00\",\"2023-01-04T00:00:00\",\"2023-01-05T00:00:00\",\"2023-01-06T00:00:00\",\"2023-01-07T00:00:00\",\"2023-01-08T00:00:00\",\"2023-01-09T00:00:00\",\"2023-01-10T00:00:00\",\"2023-01-11T00:00:00\",\"2023-01-12T00:00:00\",\"2023-01-13T00:00:00\",\"2023-01-14T00:00:00\",\"2023-01-15T00:00:00\",\"2023-01-16T00:00:00\",\"2023-01-17T00:00:00\",\"2023-01-18T00:00:00\",\"2023-01-19T00:00:00\",\"2023-01-20T00:00:00\",\"2023-01-21T00:00:00\",\"2023-01-22T00:00:00\",\"2023-01-23T00:00:00\",\"2023-01-24T00:00:00\",\"2023-01-25T00:00:00\",\"2023-01-26T00:00:00\",\"2023-01-27T00:00:00\",\"2023-01-28T00:00:00\",\"2023-01-29T00:00:00\",\"2023-01-30T00:00:00\",\"2023-01-31T00:00:00\",\"2023-02-01T00:00:00\",\"2023-02-02T00:00:00\",\"2023-02-03T00:00:00\",\"2023-02-04T00:00:00\",\"2023-02-05T00:00:00\",\"2023-02-06T00:00:00\",\"2023-02-07T00:00:00\",\"2023-02-08T00:00:00\",\"2023-02-09T00:00:00\",\"2023-02-10T00:00:00\",\"2023-02-11T00:00:00\",\"2023-02-12T00:00:00\",\"2023-02-13T00:00:00\",\"2023-02-14T00:00:00\",\"2023-02-15T00:00:00\"],\"type\":\"candlestick\"}],                        {\"template\":{\"data\":{\"bar\":[{\"error_x\":{\"color\":\"#2a3f5f\"},\"error_y\":{\"color\":\"#2a3f5f\"},\"marker\":{\"line\":{\"color\":\"#E5ECF6\",\"width\":0.5},\"pattern\":{\"fillmode\":\"overlay\",\"size\":10,\"solidity\":0.2}},\"type\":\"bar\"}],\"barpolar\":[{\"marker\":{\"line\":{\"color\":\"#E5ECF6\",\"width\":0.5},\"pattern\":{\"fillmode\":\"overlay\",\"size\":10,\"solidity\":0.2}},\"type\":\"barpolar\"}],\"carpet\":[{\"aaxis\":{\"endlinecolor\":\"#2a3f5f\",\"gridcolor\":\"white\",\"linecolor\":\"white\",\"minorgridcolor\":\"white\",\"startlinecolor\":\"#2a3f5f\"},\"baxis\":{\"endlinecolor\":\"#2a3f5f\",\"gridcolor\":\"white\",\"linecolor\":\"white\",\"minorgridcolor\":\"white\",\"startlinecolor\":\"#2a3f5f\"},\"type\":\"carpet\"}],\"choropleth\":[{\"colorbar\":{\"outlinewidth\":0,\"ticks\":\"\"},\"type\":\"choropleth\"}],\"contour\":[{\"colorbar\":{\"outlinewidth\":0,\"ticks\":\"\"},\"colorscale\":[[0.0,\"#0d0887\"],[0.1111111111111111,\"#46039f\"],[0.2222222222222222,\"#7201a8\"],[0.3333333333333333,\"#9c179e\"],[0.4444444444444444,\"#bd3786\"],[0.5555555555555556,\"#d8576b\"],[0.6666666666666666,\"#ed7953\"],[0.7777777777777778,\"#fb9f3a\"],[0.8888888888888888,\"#fdca26\"],[1.0,\"#f0f921\"]],\"type\":\"contour\"}],\"contourcarpet\":[{\"colorbar\":{\"outlinewidth\":0,\"ticks\":\"\"},\"type\":\"contourcarpet\"}],\"heatmap\":[{\"colorbar\":{\"outlinewidth\":0,\"ticks\":\"\"},\"colorscale\":[[0.0,\"#0d0887\"],[0.1111111111111111,\"#46039f\"],[0.2222222222222222,\"#7201a8\"],[0.3333333333333333,\"#9c179e\"],[0.4444444444444444,\"#bd3786\"],[0.5555555555555556,\"#d8576b\"],[0.6666666666666666,\"#ed7953\"],[0.7777777777777778,\"#fb9f3a\"],[0.8888888888888888,\"#fdca26\"],[1.0,\"#f0f921\"]],\"type\":\"heatmap\"}],\"heatmapgl\":[{\"colorbar\":{\"outlinewidth\":0,\"ticks\":\"\"},\"colorscale\":[[0.0,\"#0d0887\"],[0.1111111111111111,\"#46039f\"],[0.2222222222222222,\"#7201a8\"],[0.3333333333333333,\"#9c179e\"],[0.4444444444444444,\"#bd3786\"],[0.5555555555555556,\"#d8576b\"],[0.6666666666666666,\"#ed7953\"],[0.7777777777777778,\"#fb9f3a\"],[0.8888888888888888,\"#fdca26\"],[1.0,\"#f0f921\"]],\"type\":\"heatmapgl\"}],\"histogram\":[{\"marker\":{\"pattern\":{\"fillmode\":\"overlay\",\"size\":10,\"solidity\":0.2}},\"type\":\"histogram\"}],\"histogram2d\":[{\"colorbar\":{\"outlinewidth\":0,\"ticks\":\"\"},\"colorscale\":[[0.0,\"#0d0887\"],[0.1111111111111111,\"#46039f\"],[0.2222222222222222,\"#7201a8\"],[0.3333333333333333,\"#9c179e\"],[0.4444444444444444,\"#bd3786\"],[0.5555555555555556,\"#d8576b\"],[0.6666666666666666,\"#ed7953\"],[0.7777777777777778,\"#fb9f3a\"],[0.8888888888888888,\"#fdca26\"],[1.0,\"#f0f921\"]],\"type\":\"histogram2d\"}],\"histogram2dcontour\":[{\"colorbar\":{\"outlinewidth\":0,\"ticks\":\"\"},\"colorscale\":[[0.0,\"#0d0887\"],[0.1111111111111111,\"#46039f\"],[0.2222222222222222,\"#7201a8\"],[0.3333333333333333,\"#9c179e\"],[0.4444444444444444,\"#bd3786\"],[0.5555555555555556,\"#d8576b\"],[0.6666666666666666,\"#ed7953\"],[0.7777777777777778,\"#fb9f3a\"],[0.8888888888888888,\"#fdca26\"],[1.0,\"#f0f921\"]],\"type\":\"histogram2dcontour\"}],\"mesh3d\":[{\"colorbar\":{\"outlinewidth\":0,\"ticks\":\"\"},\"type\":\"mesh3d\"}],\"parcoords\":[{\"line\":{\"colorbar\":{\"outlinewidth\":0,\"ticks\":\"\"}},\"type\":\"parcoords\"}],\"pie\":[{\"automargin\":true,\"type\":\"pie\"}],\"scatter\":[{\"marker\":{\"colorbar\":{\"outlinewidth\":0,\"ticks\":\"\"}},\"type\":\"scatter\"}],\"scatter3d\":[{\"line\":{\"colorbar\":{\"outlinewidth\":0,\"ticks\":\"\"}},\"marker\":{\"colorbar\":{\"outlinewidth\":0,\"ticks\":\"\"}},\"type\":\"scatter3d\"}],\"scattercarpet\":[{\"marker\":{\"colorbar\":{\"outlinewidth\":0,\"ticks\":\"\"}},\"type\":\"scattercarpet\"}],\"scattergeo\":[{\"marker\":{\"colorbar\":{\"outlinewidth\":0,\"ticks\":\"\"}},\"type\":\"scattergeo\"}],\"scattergl\":[{\"marker\":{\"colorbar\":{\"outlinewidth\":0,\"ticks\":\"\"}},\"type\":\"scattergl\"}],\"scattermapbox\":[{\"marker\":{\"colorbar\":{\"outlinewidth\":0,\"ticks\":\"\"}},\"type\":\"scattermapbox\"}],\"scatterpolar\":[{\"marker\":{\"colorbar\":{\"outlinewidth\":0,\"ticks\":\"\"}},\"type\":\"scatterpolar\"}],\"scatterpolargl\":[{\"marker\":{\"colorbar\":{\"outlinewidth\":0,\"ticks\":\"\"}},\"type\":\"scatterpolargl\"}],\"scatterternary\":[{\"marker\":{\"colorbar\":{\"outlinewidth\":0,\"ticks\":\"\"}},\"type\":\"scatterternary\"}],\"surface\":[{\"colorbar\":{\"outlinewidth\":0,\"ticks\":\"\"},\"colorscale\":[[0.0,\"#0d0887\"],[0.1111111111111111,\"#46039f\"],[0.2222222222222222,\"#7201a8\"],[0.3333333333333333,\"#9c179e\"],[0.4444444444444444,\"#bd3786\"],[0.5555555555555556,\"#d8576b\"],[0.6666666666666666,\"#ed7953\"],[0.7777777777777778,\"#fb9f3a\"],[0.8888888888888888,\"#fdca26\"],[1.0,\"#f0f921\"]],\"type\":\"surface\"}],\"table\":[{\"cells\":{\"fill\":{\"color\":\"#EBF0F8\"},\"line\":{\"color\":\"white\"}},\"header\":{\"fill\":{\"color\":\"#C8D4E3\"},\"line\":{\"color\":\"white\"}},\"type\":\"table\"}]},\"layout\":{\"annotationdefaults\":{\"arrowcolor\":\"#2a3f5f\",\"arrowhead\":0,\"arrowwidth\":1},\"autotypenumbers\":\"strict\",\"coloraxis\":{\"colorbar\":{\"outlinewidth\":0,\"ticks\":\"\"}},\"colorscale\":{\"diverging\":[[0,\"#8e0152\"],[0.1,\"#c51b7d\"],[0.2,\"#de77ae\"],[0.3,\"#f1b6da\"],[0.4,\"#fde0ef\"],[0.5,\"#f7f7f7\"],[0.6,\"#e6f5d0\"],[0.7,\"#b8e186\"],[0.8,\"#7fbc41\"],[0.9,\"#4d9221\"],[1,\"#276419\"]],\"sequential\":[[0.0,\"#0d0887\"],[0.1111111111111111,\"#46039f\"],[0.2222222222222222,\"#7201a8\"],[0.3333333333333333,\"#9c179e\"],[0.4444444444444444,\"#bd3786\"],[0.5555555555555556,\"#d8576b\"],[0.6666666666666666,\"#ed7953\"],[0.7777777777777778,\"#fb9f3a\"],[0.8888888888888888,\"#fdca26\"],[1.0,\"#f0f921\"]],\"sequentialminus\":[[0.0,\"#0d0887\"],[0.1111111111111111,\"#46039f\"],[0.2222222222222222,\"#7201a8\"],[0.3333333333333333,\"#9c179e\"],[0.4444444444444444,\"#bd3786\"],[0.5555555555555556,\"#d8576b\"],[0.6666666666666666,\"#ed7953\"],[0.7777777777777778,\"#fb9f3a\"],[0.8888888888888888,\"#fdca26\"],[1.0,\"#f0f921\"]]},\"colorway\":[\"#636efa\",\"#EF553B\",\"#00cc96\",\"#ab63fa\",\"#FFA15A\",\"#19d3f3\",\"#FF6692\",\"#B6E880\",\"#FF97FF\",\"#FECB52\"],\"font\":{\"color\":\"#2a3f5f\"},\"geo\":{\"bgcolor\":\"white\",\"lakecolor\":\"white\",\"landcolor\":\"#E5ECF6\",\"showlakes\":true,\"showland\":true,\"subunitcolor\":\"white\"},\"hoverlabel\":{\"align\":\"left\"},\"hovermode\":\"closest\",\"mapbox\":{\"style\":\"light\"},\"paper_bgcolor\":\"white\",\"plot_bgcolor\":\"#E5ECF6\",\"polar\":{\"angularaxis\":{\"gridcolor\":\"white\",\"linecolor\":\"white\",\"ticks\":\"\"},\"bgcolor\":\"#E5ECF6\",\"radialaxis\":{\"gridcolor\":\"white\",\"linecolor\":\"white\",\"ticks\":\"\"}},\"scene\":{\"xaxis\":{\"backgroundcolor\":\"#E5ECF6\",\"gridcolor\":\"white\",\"gridwidth\":2,\"linecolor\":\"white\",\"showbackground\":true,\"ticks\":\"\",\"zerolinecolor\":\"white\"},\"yaxis\":{\"backgroundcolor\":\"#E5ECF6\",\"gridcolor\":\"white\",\"gridwidth\":2,\"linecolor\":\"white\",\"showbackground\":true,\"ticks\":\"\",\"zerolinecolor\":\"white\"},\"zaxis\":{\"backgroundcolor\":\"#E5ECF6\",\"gridcolor\":\"white\",\"gridwidth\":2,\"linecolor\":\"white\",\"showbackground\":true,\"ticks\":\"\",\"zerolinecolor\":\"white\"}},\"shapedefaults\":{\"line\":{\"color\":\"#2a3f5f\"}},\"ternary\":{\"aaxis\":{\"gridcolor\":\"white\",\"linecolor\":\"white\",\"ticks\":\"\"},\"baxis\":{\"gridcolor\":\"white\",\"linecolor\":\"white\",\"ticks\":\"\"},\"bgcolor\":\"#E5ECF6\",\"caxis\":{\"gridcolor\":\"white\",\"linecolor\":\"white\",\"ticks\":\"\"}},\"title\":{\"x\":0.05},\"xaxis\":{\"automargin\":true,\"gridcolor\":\"white\",\"linecolor\":\"white\",\"ticks\":\"\",\"title\":{\"standoff\":15},\"zerolinecolor\":\"white\",\"zerolinewidth\":2},\"yaxis\":{\"automargin\":true,\"gridcolor\":\"white\",\"linecolor\":\"white\",\"ticks\":\"\",\"title\":{\"standoff\":15},\"zerolinecolor\":\"white\",\"zerolinewidth\":2}}},\"xaxis\":{\"rangeslider\":{\"visible\":false}},\"title\":{\"text\":\"Bitcoin Price Analysis\"}},                        {\"responsive\": true}                    ).then(function(){\n",
              "                            \n",
              "var gd = document.getElementById('acd261cd-fae3-4f37-be80-1003d3ba0b3b');\n",
              "var x = new MutationObserver(function (mutations, observer) {{\n",
              "        var display = window.getComputedStyle(gd).display;\n",
              "        if (!display || display === 'none') {{\n",
              "            console.log([gd, 'removed!']);\n",
              "            Plotly.purge(gd);\n",
              "            observer.disconnect();\n",
              "        }}\n",
              "}});\n",
              "\n",
              "// Listen for the removal of the full notebook cells\n",
              "var notebookContainer = gd.closest('#notebook-container');\n",
              "if (notebookContainer) {{\n",
              "    x.observe(notebookContainer, {childList: true});\n",
              "}}\n",
              "\n",
              "// Listen for the clearing of the current output cell\n",
              "var outputEl = gd.closest('.output');\n",
              "if (outputEl) {{\n",
              "    x.observe(outputEl, {childList: true});\n",
              "}}\n",
              "\n",
              "                        })                };                            </script>        </div>\n",
              "</body>\n",
              "</html>"
            ]
          },
          "metadata": {}
        }
      ]
    },
    {
      "cell_type": "markdown",
      "source": [
        "Kolom 'Close' dalam kumpulan data (*dataset*) berisi nilai yang perlu kita prediksi. Jadi, mari kita lihat korelasi semua kolom dalam data dengan kolom 'Close'.\n"
      ],
      "metadata": {
        "id": "J9f1ukE5au61"
      }
    },
    {
      "cell_type": "code",
      "source": [
        "correlation = data.corr()\n",
        "print(correlation[\"Close\"].sort_values(ascending=False))\n"
      ],
      "metadata": {
        "colab": {
          "base_uri": "https://localhost:8080/"
        },
        "id": "oLohe5ghbA7h",
        "outputId": "f09e7c39-776b-42ef-e6cc-53d51c5aa5d0"
      },
      "execution_count": 5,
      "outputs": [
        {
          "output_type": "stream",
          "name": "stdout",
          "text": [
            "Close        1.000000\n",
            "Adj Close    1.000000\n",
            "Low          0.986374\n",
            "High         0.985120\n",
            "Open         0.968491\n",
            "Volume       0.171102\n",
            "Name: Close, dtype: float64\n"
          ]
        }
      ]
    },
    {
      "cell_type": "markdown",
      "source": [
        "**Model Prediksi Harga Cryptocurrency**\n",
        "\n",
        "Memprediksi harga cryptocurrency masa depan didasarkan pada masalah analisis Time series. Library **AutoTS** dengan Python adalah salah satu library terbaik untuk analisis deret waktu (*time series*). Jadi di sini kita akan menggunakan library AutoTS untuk memprediksi harga bitcoin selama 30 (atau 10) hari ke depan.\n"
      ],
      "metadata": {
        "id": "roig1HZJbkU5"
      }
    },
    {
      "cell_type": "code",
      "source": [
        "# Install modul AutoTS\n",
        "pip install AutoTS\n"
      ],
      "metadata": {
        "colab": {
          "base_uri": "https://localhost:8080/"
        },
        "id": "pQuxcrqdcNhl",
        "outputId": "1959e34b-9e46-4f86-bcb6-266fb08ef343"
      },
      "execution_count": 8,
      "outputs": [
        {
          "output_type": "stream",
          "name": "stdout",
          "text": [
            "Looking in indexes: https://pypi.org/simple, https://us-python.pkg.dev/colab-wheels/public/simple/\n",
            "Collecting AutoTS\n",
            "  Downloading AutoTS-0.5.4-py3-none-any.whl (686 kB)\n",
            "\u001b[2K     \u001b[90m━━━━━━━━━━━━━━━━━━━━━━━━━━━━━━━━━━━━━━\u001b[0m \u001b[32m686.4/686.4 KB\u001b[0m \u001b[31m17.5 MB/s\u001b[0m eta \u001b[36m0:00:00\u001b[0m\n",
            "\u001b[?25hRequirement already satisfied: numpy>=1.14.6 in /usr/local/lib/python3.8/dist-packages (from AutoTS) (1.21.6)\n",
            "Requirement already satisfied: statsmodels>=0.10.0 in /usr/local/lib/python3.8/dist-packages (from AutoTS) (0.12.2)\n",
            "Requirement already satisfied: scikit-learn>=0.20.0 in /usr/local/lib/python3.8/dist-packages (from AutoTS) (1.0.2)\n",
            "Requirement already satisfied: pandas>=0.25.0 in /usr/local/lib/python3.8/dist-packages (from AutoTS) (1.3.5)\n",
            "Requirement already satisfied: python-dateutil>=2.7.3 in /usr/local/lib/python3.8/dist-packages (from pandas>=0.25.0->AutoTS) (2.8.2)\n",
            "Requirement already satisfied: pytz>=2017.3 in /usr/local/lib/python3.8/dist-packages (from pandas>=0.25.0->AutoTS) (2022.7.1)\n",
            "Requirement already satisfied: joblib>=0.11 in /usr/local/lib/python3.8/dist-packages (from scikit-learn>=0.20.0->AutoTS) (1.2.0)\n",
            "Requirement already satisfied: threadpoolctl>=2.0.0 in /usr/local/lib/python3.8/dist-packages (from scikit-learn>=0.20.0->AutoTS) (3.1.0)\n",
            "Requirement already satisfied: scipy>=1.1.0 in /usr/local/lib/python3.8/dist-packages (from scikit-learn>=0.20.0->AutoTS) (1.7.3)\n",
            "Requirement already satisfied: patsy>=0.5 in /usr/local/lib/python3.8/dist-packages (from statsmodels>=0.10.0->AutoTS) (0.5.3)\n",
            "Requirement already satisfied: six in /usr/local/lib/python3.8/dist-packages (from patsy>=0.5->statsmodels>=0.10.0->AutoTS) (1.15.0)\n",
            "Installing collected packages: AutoTS\n",
            "Successfully installed AutoTS-0.5.4\n"
          ]
        }
      ]
    },
    {
      "cell_type": "code",
      "source": [
        "from autots import AutoTS\n",
        "# model = AutoTS(forecast_length=30, frequency='infer', ensemble='simple')\n",
        "model = AutoTS(forecast_length=10, frequency='infer', ensemble='simple')\n",
        "model = model.fit(data, date_col='Date', value_col='Close', id_col=None)\n",
        "prediction = model.predict()\n",
        "forecast = prediction.forecast\n",
        "print(forecast)\n"
      ],
      "metadata": {
        "colab": {
          "base_uri": "https://localhost:8080/"
        },
        "id": "OgTzDL2TcD8N",
        "outputId": "25698af0-8eb5-4c16-bb60-2a42a964f865"
      },
      "execution_count": 6,
      "outputs": [
        {
          "output_type": "stream",
          "name": "stdout",
          "text": [
            "Inferred frequency is: D\n",
            "Model Number: 1 with model ARIMA in generation 0 of 10\n",
            "Model Number: 2 with model AverageValueNaive in generation 0 of 10\n",
            "Model Number: 3 with model AverageValueNaive in generation 0 of 10\n",
            "Model Number: 4 with model AverageValueNaive in generation 0 of 10\n",
            "Model Number: 5 with model DatepartRegression in generation 0 of 10\n",
            "Model Number: 6 with model DatepartRegression in generation 0 of 10\n",
            "Model Number: 7 with model DatepartRegression in generation 0 of 10\n"
          ]
        },
        {
          "output_type": "stream",
          "name": "stderr",
          "text": [
            "/usr/local/lib/python3.8/dist-packages/sklearn/svm/_base.py:1206: ConvergenceWarning:\n",
            "\n",
            "Liblinear failed to converge, increase the number of iterations.\n",
            "\n",
            "/usr/local/lib/python3.8/dist-packages/sklearn/neural_network/_multilayer_perceptron.py:549: ConvergenceWarning:\n",
            "\n",
            "lbfgs failed to converge (status=1):\n",
            "STOP: TOTAL NO. of ITERATIONS REACHED LIMIT.\n",
            "\n",
            "Increase the number of iterations (max_iter) or scale the data as shown in:\n",
            "    https://scikit-learn.org/stable/modules/preprocessing.html\n",
            "\n"
          ]
        },
        {
          "output_type": "stream",
          "name": "stdout",
          "text": [
            "Model Number: 8 with model DatepartRegression in generation 0 of 10\n",
            "Epoch 1/50\n",
            "6/6 [==============================] - 7s 10ms/step - loss: 0.3970\n",
            "Epoch 2/50\n",
            "6/6 [==============================] - 0s 8ms/step - loss: 0.3874\n",
            "Epoch 3/50\n",
            "6/6 [==============================] - 0s 8ms/step - loss: 0.3774\n",
            "Epoch 4/50\n",
            "6/6 [==============================] - 0s 8ms/step - loss: 0.3698\n",
            "Epoch 5/50\n",
            "6/6 [==============================] - 0s 8ms/step - loss: 0.3632\n",
            "Epoch 6/50\n",
            "6/6 [==============================] - 0s 7ms/step - loss: 0.3592\n",
            "Epoch 7/50\n",
            "6/6 [==============================] - 0s 13ms/step - loss: 0.3450\n",
            "Epoch 8/50\n",
            "6/6 [==============================] - 0s 17ms/step - loss: 0.3381\n",
            "Epoch 9/50\n",
            "6/6 [==============================] - 0s 14ms/step - loss: 0.3206\n",
            "Epoch 10/50\n",
            "6/6 [==============================] - 0s 13ms/step - loss: 0.3010\n",
            "Epoch 11/50\n",
            "6/6 [==============================] - 0s 12ms/step - loss: 0.2817\n",
            "Epoch 12/50\n",
            "6/6 [==============================] - 0s 14ms/step - loss: 0.2761\n",
            "Epoch 13/50\n",
            "6/6 [==============================] - 0s 13ms/step - loss: 0.2670\n",
            "Epoch 14/50\n",
            "6/6 [==============================] - 0s 12ms/step - loss: 0.2636\n",
            "Epoch 15/50\n",
            "6/6 [==============================] - 0s 12ms/step - loss: 0.2576\n",
            "Epoch 16/50\n",
            "6/6 [==============================] - 0s 12ms/step - loss: 0.2545\n",
            "Epoch 17/50\n",
            "6/6 [==============================] - 0s 12ms/step - loss: 0.2565\n",
            "Epoch 18/50\n",
            "6/6 [==============================] - 0s 12ms/step - loss: 0.2460\n",
            "Epoch 19/50\n",
            "6/6 [==============================] - 0s 12ms/step - loss: 0.2346\n",
            "Epoch 20/50\n",
            "6/6 [==============================] - 0s 15ms/step - loss: 0.2416\n",
            "Epoch 21/50\n",
            "6/6 [==============================] - 0s 14ms/step - loss: 0.2310\n",
            "Epoch 22/50\n",
            "6/6 [==============================] - 0s 12ms/step - loss: 0.2342\n",
            "Epoch 23/50\n",
            "6/6 [==============================] - 0s 13ms/step - loss: 0.2285\n",
            "Epoch 24/50\n",
            "6/6 [==============================] - 0s 13ms/step - loss: 0.2306\n",
            "Epoch 25/50\n",
            "6/6 [==============================] - 0s 11ms/step - loss: 0.2127\n",
            "Epoch 26/50\n",
            "6/6 [==============================] - 0s 10ms/step - loss: 0.2169\n",
            "Epoch 27/50\n",
            "6/6 [==============================] - 0s 10ms/step - loss: 0.2130\n",
            "Epoch 28/50\n",
            "6/6 [==============================] - 0s 10ms/step - loss: 0.2147\n",
            "Epoch 29/50\n",
            "6/6 [==============================] - 0s 10ms/step - loss: 0.2047\n",
            "Epoch 30/50\n",
            "6/6 [==============================] - 0s 10ms/step - loss: 0.2068\n",
            "Epoch 31/50\n",
            "6/6 [==============================] - 0s 9ms/step - loss: 0.2006\n",
            "Epoch 32/50\n",
            "6/6 [==============================] - 0s 9ms/step - loss: 0.2009\n",
            "Epoch 33/50\n",
            "6/6 [==============================] - 0s 13ms/step - loss: 0.1995\n",
            "Epoch 34/50\n",
            "6/6 [==============================] - 0s 9ms/step - loss: 0.1969\n",
            "Epoch 35/50\n",
            "6/6 [==============================] - 0s 9ms/step - loss: 0.2002\n",
            "Epoch 36/50\n",
            "6/6 [==============================] - 0s 10ms/step - loss: 0.2042\n",
            "Epoch 37/50\n",
            "6/6 [==============================] - 0s 12ms/step - loss: 0.1829\n",
            "Epoch 38/50\n",
            "6/6 [==============================] - 0s 9ms/step - loss: 0.1967\n",
            "Epoch 39/50\n",
            "6/6 [==============================] - 0s 11ms/step - loss: 0.1936\n",
            "Epoch 40/50\n",
            "6/6 [==============================] - 0s 9ms/step - loss: 0.1833\n",
            "Epoch 41/50\n",
            "6/6 [==============================] - 0s 9ms/step - loss: 0.1836\n",
            "Epoch 42/50\n",
            "6/6 [==============================] - 0s 10ms/step - loss: 0.1882\n",
            "Epoch 43/50\n",
            "6/6 [==============================] - 0s 9ms/step - loss: 0.1849\n",
            "Epoch 44/50\n",
            "6/6 [==============================] - 0s 9ms/step - loss: 0.1827\n",
            "Epoch 45/50\n",
            "6/6 [==============================] - 0s 9ms/step - loss: 0.1829\n",
            "Epoch 46/50\n",
            "6/6 [==============================] - 0s 9ms/step - loss: 0.1835\n",
            "Epoch 47/50\n",
            "6/6 [==============================] - 0s 9ms/step - loss: 0.2056\n",
            "Epoch 48/50\n",
            "6/6 [==============================] - 0s 9ms/step - loss: 0.1830\n",
            "Epoch 49/50\n",
            "6/6 [==============================] - 0s 10ms/step - loss: 0.1793\n",
            "Epoch 50/50\n",
            "6/6 [==============================] - 0s 9ms/step - loss: 0.1818\n",
            "1/1 [==============================] - 2s 2s/step\n",
            "Model Number: 9 with model ETS in generation 0 of 10\n",
            "Model Number: 10 with model ETS in generation 0 of 10\n",
            "Model Number: 11 with model GLM in generation 0 of 10\n",
            "Model Number: 12 with model GLM in generation 0 of 10\n",
            "Model Number: 13 with model GLS in generation 0 of 10\n",
            "Model Number: 14 with model GLS in generation 0 of 10\n",
            "Model Number: 15 with model GluonTS in generation 0 of 10\n",
            "Template Eval Error: ImportError('GluonTS installation not found or installed version is incompatible with AutoTS.') in model 15: GluonTS\n",
            "Model Number: 16 with model GluonTS in generation 0 of 10\n",
            "Template Eval Error: ImportError('GluonTS installation not found or installed version is incompatible with AutoTS.') in model 16: GluonTS\n",
            "Model Number: 17 with model GluonTS in generation 0 of 10\n",
            "Template Eval Error: ImportError('GluonTS installation not found or installed version is incompatible with AutoTS.') in model 17: GluonTS\n",
            "Model Number: 18 with model GluonTS in generation 0 of 10\n",
            "Template Eval Error: ImportError('GluonTS installation not found or installed version is incompatible with AutoTS.') in model 18: GluonTS\n",
            "Model Number: 19 with model GluonTS in generation 0 of 10\n",
            "Template Eval Error: ImportError('GluonTS installation not found or installed version is incompatible with AutoTS.') in model 19: GluonTS\n",
            "Model Number: 20 with model LastValueNaive in generation 0 of 10\n",
            "Model Number: 21 with model LastValueNaive in generation 0 of 10\n",
            "Model Number: 22 with model LastValueNaive in generation 0 of 10\n"
          ]
        },
        {
          "output_type": "stream",
          "name": "stderr",
          "text": [
            "/usr/local/lib/python3.8/dist-packages/sklearn/preprocessing/_data.py:3253: RuntimeWarning:\n",
            "\n",
            "divide by zero encountered in log\n",
            "\n"
          ]
        },
        {
          "output_type": "stream",
          "name": "stdout",
          "text": [
            "Model Number: 23 with model LastValueNaive in generation 0 of 10\n",
            "Model Number: 24 with model SeasonalNaive in generation 0 of 10\n",
            "Model Number: 25 with model SeasonalNaive in generation 0 of 10\n",
            "Model Number: 26 with model SeasonalNaive in generation 0 of 10\n"
          ]
        },
        {
          "output_type": "stream",
          "name": "stderr",
          "text": [
            "/usr/local/lib/python3.8/dist-packages/sklearn/preprocessing/_data.py:3253: RuntimeWarning:\n",
            "\n",
            "divide by zero encountered in log\n",
            "\n",
            "/usr/local/lib/python3.8/dist-packages/autots/tools/probabilistic.py:67: RuntimeWarning:\n",
            "\n",
            "invalid value encountered in true_divide\n",
            "\n",
            "/usr/local/lib/python3.8/dist-packages/autots/tools/probabilistic.py:68: RuntimeWarning:\n",
            "\n",
            "divide by zero encountered in true_divide\n",
            "\n",
            "/usr/local/lib/python3.8/dist-packages/sklearn/preprocessing/_data.py:3196: RuntimeWarning:\n",
            "\n",
            "divide by zero encountered in power\n",
            "\n",
            "/usr/local/lib/python3.8/dist-packages/sklearn/preprocessing/_data.py:3196: RuntimeWarning:\n",
            "\n",
            "divide by zero encountered in power\n",
            "\n",
            "/usr/local/lib/python3.8/dist-packages/sklearn/preprocessing/_data.py:3196: RuntimeWarning:\n",
            "\n",
            "divide by zero encountered in power\n",
            "\n"
          ]
        },
        {
          "output_type": "stream",
          "name": "stdout",
          "text": [
            "Model Number: 27 with model UnobservedComponents in generation 0 of 10\n",
            "Model Number: 28 with model UnobservedComponents in generation 0 of 10\n",
            "Model Number: 29 with model UnobservedComponents in generation 0 of 10\n",
            "Model Number: 30 with model VAR in generation 0 of 10\n",
            "Template Eval Error: ValueError('Only gave one variable to VAR') in model 30: VAR\n",
            "Model Number: 31 with model VAR in generation 0 of 10\n",
            "Template Eval Error: ValueError('Only gave one variable to VAR') in model 31: VAR\n",
            "Model Number: 32 with model VECM in generation 0 of 10\n",
            "Template Eval Error: ValueError('Only gave one variable to VECM') in model 32: VECM\n",
            "Model Number: 33 with model VECM in generation 0 of 10\n",
            "Template Eval Error: ValueError('Only gave one variable to VECM') in model 33: VECM\n",
            "Model Number: 34 with model WindowRegression in generation 0 of 10\n",
            "Model Number: 35 with model ConstantNaive in generation 0 of 10\n"
          ]
        },
        {
          "output_type": "stream",
          "name": "stderr",
          "text": [
            "/usr/local/lib/python3.8/dist-packages/sklearn/neural_network/_multilayer_perceptron.py:549: ConvergenceWarning:\n",
            "\n",
            "lbfgs failed to converge (status=1):\n",
            "STOP: TOTAL NO. of ITERATIONS REACHED LIMIT.\n",
            "\n",
            "Increase the number of iterations (max_iter) or scale the data as shown in:\n",
            "    https://scikit-learn.org/stable/modules/preprocessing.html\n",
            "\n",
            "/usr/local/lib/python3.8/dist-packages/sklearn/preprocessing/_data.py:3253: RuntimeWarning:\n",
            "\n",
            "divide by zero encountered in log\n",
            "\n",
            "/usr/local/lib/python3.8/dist-packages/sklearn/preprocessing/_data.py:3196: RuntimeWarning:\n",
            "\n",
            "divide by zero encountered in power\n",
            "\n",
            "/usr/local/lib/python3.8/dist-packages/sklearn/preprocessing/_data.py:3196: RuntimeWarning:\n",
            "\n",
            "divide by zero encountered in power\n",
            "\n",
            "/usr/local/lib/python3.8/dist-packages/sklearn/preprocessing/_data.py:3196: RuntimeWarning:\n",
            "\n",
            "divide by zero encountered in power\n",
            "\n"
          ]
        },
        {
          "output_type": "stream",
          "name": "stdout",
          "text": [
            "Model Number: 36 with model FBProphet in generation 0 of 10\n"
          ]
        },
        {
          "output_type": "stream",
          "name": "stderr",
          "text": [
            "INFO:prophet:Disabling yearly seasonality. Run prophet with yearly_seasonality=True to override this.\n",
            "INFO:prophet:Disabling daily seasonality. Run prophet with daily_seasonality=True to override this.\n",
            "DEBUG:cmdstanpy:input tempfile: /tmp/tmp09dakauk/ue571sft.json\n",
            "DEBUG:cmdstanpy:input tempfile: /tmp/tmp09dakauk/dqer4c37.json\n",
            "DEBUG:cmdstanpy:idx 0\n",
            "DEBUG:cmdstanpy:running CmdStan, num_threads: None\n",
            "DEBUG:cmdstanpy:CmdStan args: ['/usr/local/lib/python3.8/dist-packages/prophet/stan_model/prophet_model.bin', 'random', 'seed=98171', 'data', 'file=/tmp/tmp09dakauk/ue571sft.json', 'init=/tmp/tmp09dakauk/dqer4c37.json', 'output', 'file=/tmp/tmp09dakauk/prophet_model4ngtz65s/prophet_model-20230216093859.csv', 'method=optimize', 'algorithm=newton', 'iter=10000']\n",
            "09:38:59 - cmdstanpy - INFO - Chain [1] start processing\n",
            "INFO:cmdstanpy:Chain [1] start processing\n",
            "09:39:00 - cmdstanpy - INFO - Chain [1] done processing\n",
            "INFO:cmdstanpy:Chain [1] done processing\n"
          ]
        },
        {
          "output_type": "stream",
          "name": "stdout",
          "text": [
            "Model Number: 37 with model GluonTS in generation 0 of 10\n",
            "Template Eval Error: ImportError('GluonTS installation not found or installed version is incompatible with AutoTS.') in model 37: GluonTS\n",
            "Model Number: 38 with model MultivariateRegression in generation 0 of 10\n"
          ]
        },
        {
          "output_type": "stream",
          "name": "stderr",
          "text": [
            "[Parallel(n_jobs=-2)]: Using backend SequentialBackend with 1 concurrent workers.\n",
            "[Parallel(n_jobs=-2)]: Done 200 out of 200 | elapsed:    0.2s finished\n",
            "[Parallel(n_jobs=1)]: Using backend SequentialBackend with 1 concurrent workers.\n",
            "[Parallel(n_jobs=1)]: Done 200 out of 200 | elapsed:    0.0s finished\n",
            "[Parallel(n_jobs=1)]: Using backend SequentialBackend with 1 concurrent workers.\n",
            "[Parallel(n_jobs=1)]: Done 200 out of 200 | elapsed:    0.0s finished\n",
            "[Parallel(n_jobs=1)]: Using backend SequentialBackend with 1 concurrent workers.\n",
            "[Parallel(n_jobs=1)]: Done 200 out of 200 | elapsed:    0.0s finished\n",
            "[Parallel(n_jobs=1)]: Using backend SequentialBackend with 1 concurrent workers.\n",
            "[Parallel(n_jobs=1)]: Done 200 out of 200 | elapsed:    0.0s finished\n",
            "[Parallel(n_jobs=1)]: Using backend SequentialBackend with 1 concurrent workers.\n",
            "[Parallel(n_jobs=1)]: Done 200 out of 200 | elapsed:    0.0s finished\n",
            "[Parallel(n_jobs=1)]: Using backend SequentialBackend with 1 concurrent workers.\n",
            "[Parallel(n_jobs=1)]: Done 200 out of 200 | elapsed:    0.0s finished\n",
            "[Parallel(n_jobs=1)]: Using backend SequentialBackend with 1 concurrent workers.\n",
            "[Parallel(n_jobs=1)]: Done 200 out of 200 | elapsed:    0.0s finished\n",
            "[Parallel(n_jobs=1)]: Using backend SequentialBackend with 1 concurrent workers.\n",
            "[Parallel(n_jobs=1)]: Done 200 out of 200 | elapsed:    0.0s finished\n",
            "[Parallel(n_jobs=1)]: Using backend SequentialBackend with 1 concurrent workers.\n",
            "[Parallel(n_jobs=1)]: Done 200 out of 200 | elapsed:    0.0s finished\n",
            "[Parallel(n_jobs=1)]: Using backend SequentialBackend with 1 concurrent workers.\n",
            "[Parallel(n_jobs=1)]: Done 200 out of 200 | elapsed:    0.0s finished\n"
          ]
        },
        {
          "output_type": "stream",
          "name": "stdout",
          "text": [
            "Model Number: 39 with model MultivariateRegression in generation 0 of 10\n",
            "Template Eval Error: ValueError(\"regression_type='User' but not future_regressor supplied.\") in model 39: MultivariateRegression\n",
            "Model Number: 40 with model DatepartRegression in generation 0 of 10\n",
            "Template Eval Error: ValueError(\"regression_type='User' but no future_regressor passed\") in model 40: DatepartRegression\n",
            "Model Number: 41 with model SeasonalNaive in generation 0 of 10\n",
            "Model Number: 42 with model DatepartRegression in generation 0 of 10\n",
            "Model Number: 43 with model UnobservedComponents in generation 0 of 10\n",
            "Model Number: 44 with model UnobservedComponents in generation 0 of 10\n",
            "Model Number: 45 with model ETS in generation 0 of 10\n",
            "Model Number: 46 with model VECM in generation 0 of 10\n",
            "Template Eval Error: ValueError('Only gave one variable to VECM') in model 46: VECM\n",
            "Model Number: 47 with model ARDL in generation 0 of 10\n",
            "Template Eval Error: ImportError(\"cannot import name 'ARDL' from 'statsmodels.tsa.api' (/usr/local/lib/python3.8/dist-packages/statsmodels/tsa/api.py)\") in model 47: ARDL\n",
            "Model Number: 48 with model MultivariateMotif in generation 0 of 10\n",
            "Model Number: 49 with model MultivariateMotif in generation 0 of 10\n",
            "Model Number: 50 with model UnivariateMotif in generation 0 of 10\n",
            "Model Number: 51 with model UnivariateMotif in generation 0 of 10\n",
            "Model Number: 52 with model SectionalMotif in generation 0 of 10\n",
            "Model Number: 53 with model SectionalMotif in generation 0 of 10\n",
            "Model Number: 54 with model MultivariateRegression in generation 0 of 10\n"
          ]
        },
        {
          "output_type": "stream",
          "name": "stderr",
          "text": [
            "INFO:prophet:Disabling yearly seasonality. Run prophet with yearly_seasonality=True to override this.\n",
            "INFO:prophet:Disabling daily seasonality. Run prophet with daily_seasonality=True to override this.\n",
            "DEBUG:cmdstanpy:input tempfile: /tmp/tmp09dakauk/uiud5e1m.json\n",
            "DEBUG:cmdstanpy:input tempfile: /tmp/tmp09dakauk/ujtqttds.json\n",
            "DEBUG:cmdstanpy:idx 0\n",
            "DEBUG:cmdstanpy:running CmdStan, num_threads: None\n",
            "DEBUG:cmdstanpy:CmdStan args: ['/usr/local/lib/python3.8/dist-packages/prophet/stan_model/prophet_model.bin', 'random', 'seed=99178', 'data', 'file=/tmp/tmp09dakauk/uiud5e1m.json', 'init=/tmp/tmp09dakauk/ujtqttds.json', 'output', 'file=/tmp/tmp09dakauk/prophet_model6z2w1lfo/prophet_model-20230216093902.csv', 'method=optimize', 'algorithm=newton', 'iter=10000']\n",
            "09:39:02 - cmdstanpy - INFO - Chain [1] start processing\n",
            "INFO:cmdstanpy:Chain [1] start processing\n"
          ]
        },
        {
          "output_type": "stream",
          "name": "stdout",
          "text": [
            "Model Number: 55 with model FBProphet in generation 0 of 10\n"
          ]
        },
        {
          "output_type": "stream",
          "name": "stderr",
          "text": [
            "09:39:02 - cmdstanpy - INFO - Chain [1] done processing\n",
            "INFO:cmdstanpy:Chain [1] done processing\n"
          ]
        },
        {
          "output_type": "stream",
          "name": "stdout",
          "text": [
            "Model Number: 56 with model SeasonalNaive in generation 0 of 10\n",
            "Model Number: 57 with model DatepartRegression in generation 0 of 10\n"
          ]
        },
        {
          "output_type": "stream",
          "name": "stderr",
          "text": [
            "[Parallel(n_jobs=-2)]: Using backend SequentialBackend with 1 concurrent workers.\n",
            "[Parallel(n_jobs=-2)]: Done 100 out of 100 | elapsed:    0.1s finished\n",
            "[Parallel(n_jobs=1)]: Using backend SequentialBackend with 1 concurrent workers.\n",
            "[Parallel(n_jobs=1)]: Done 100 out of 100 | elapsed:    0.0s finished\n"
          ]
        },
        {
          "output_type": "stream",
          "name": "stdout",
          "text": [
            "Model Number: 58 with model NVAR in generation 0 of 10\n",
            "Model Number: 59 with model Theta in generation 0 of 10\n",
            "Model Number: 60 with model UnivariateRegression in generation 0 of 10\n",
            "Template Eval Error: ValueError(\"Input contains NaN, infinity or a value too large for dtype('float32').\") in model 60: UnivariateRegression\n",
            "Model Number: 61 with model ARCH in generation 0 of 10\n",
            "Template Eval Error: ImportError('`arch` package must be installed from pip') in model 61: ARCH\n",
            "Model Number: 62 with model ConstantNaive in generation 0 of 10\n",
            "Model Number: 63 with model LastValueNaive in generation 0 of 10\n",
            "Model Number: 64 with model AverageValueNaive in generation 0 of 10\n",
            "Model Number: 65 with model GLS in generation 0 of 10\n",
            "Model Number: 66 with model SeasonalNaive in generation 0 of 10\n",
            "Model Number: 67 with model GLM in generation 0 of 10\n",
            "Template Eval Error: ValueError('regression_type=user and no future_regressor passed') in model 67: GLM\n",
            "Model Number: 68 with model ETS in generation 0 of 10\n",
            "ETS error ValueError('endog must be strictly positive when usingmultiplicative trend or seasonal components.')\n",
            "ETS failed on Close with ValueError('endog must be strictly positive when usingmultiplicative trend or seasonal components.')\n"
          ]
        },
        {
          "output_type": "stream",
          "name": "stderr",
          "text": [
            "INFO:prophet:Disabling yearly seasonality. Run prophet with yearly_seasonality=True to override this.\n",
            "INFO:prophet:Disabling daily seasonality. Run prophet with daily_seasonality=True to override this.\n"
          ]
        },
        {
          "output_type": "stream",
          "name": "stdout",
          "text": [
            "Model Number: 69 with model FBProphet in generation 0 of 10\n"
          ]
        },
        {
          "output_type": "stream",
          "name": "stderr",
          "text": [
            "DEBUG:cmdstanpy:input tempfile: /tmp/tmp09dakauk/h46smbyg.json\n",
            "DEBUG:cmdstanpy:input tempfile: /tmp/tmp09dakauk/0ah1783t.json\n",
            "DEBUG:cmdstanpy:idx 0\n",
            "DEBUG:cmdstanpy:running CmdStan, num_threads: None\n",
            "DEBUG:cmdstanpy:CmdStan args: ['/usr/local/lib/python3.8/dist-packages/prophet/stan_model/prophet_model.bin', 'random', 'seed=52056', 'data', 'file=/tmp/tmp09dakauk/h46smbyg.json', 'init=/tmp/tmp09dakauk/0ah1783t.json', 'output', 'file=/tmp/tmp09dakauk/prophet_modely0d6oxh_/prophet_model-20230216093903.csv', 'method=optimize', 'algorithm=lbfgs', 'iter=10000']\n",
            "09:39:03 - cmdstanpy - INFO - Chain [1] start processing\n",
            "INFO:cmdstanpy:Chain [1] start processing\n",
            "09:39:04 - cmdstanpy - INFO - Chain [1] done processing\n",
            "INFO:cmdstanpy:Chain [1] done processing\n"
          ]
        },
        {
          "output_type": "stream",
          "name": "stdout",
          "text": [
            "Model Number: 70 with model GluonTS in generation 0 of 10\n",
            "Template Eval Error: ImportError('GluonTS installation not found or installed version is incompatible with AutoTS.') in model 70: GluonTS\n",
            "Model Number: 71 with model UnobservedComponents in generation 0 of 10\n",
            "Model Number: 72 with model VAR in generation 0 of 10\n",
            "HolidayTransformer: no anomalies detected.\n",
            "Template Eval Error: ValueError('Only gave one variable to VAR') in model 72: VAR\n",
            "Model Number: 73 with model VECM in generation 0 of 10\n",
            "Template Eval Error: ValueError(\"regression_type='User' but no future_regressor supplied\") in model 73: VECM\n",
            "Model Number: 74 with model ARIMA in generation 0 of 10\n",
            "Model Number: 75 with model WindowRegression in generation 0 of 10\n",
            "Template Eval Error: KeyError('model') in model 75: WindowRegression\n",
            "Model Number: 76 with model DatepartRegression in generation 0 of 10\n",
            "Template Eval Error: ValueError(\"regression_type='User' but no future_regressor passed\") in model 76: DatepartRegression\n",
            "Model Number: 77 with model UnivariateRegression in generation 0 of 10\n",
            "Template Eval Error: ValueError(\"Input contains NaN, infinity or a value too large for dtype('float32').\") in model 77: UnivariateRegression\n",
            "Model Number: 78 with model MultivariateRegression in generation 0 of 10\n",
            "Template Eval Error: ValueError('Some value(s) of y are out of the valid range for family PoissonDistribution') in model 78: MultivariateRegression\n",
            "Model Number: 79 with model UnivariateMotif in generation 0 of 10\n",
            "HolidayTransformer: no anomalies detected.\n",
            "Model Number: 80 with model MultivariateMotif in generation 0 of 10\n",
            "Model Number: 81 with model SectionalMotif in generation 0 of 10\n",
            "Model Number: 82 with model NVAR in generation 0 of 10\n",
            "Model Number: 83 with model Theta in generation 0 of 10\n",
            "Model Number: 84 with model ARDL in generation 0 of 10\n",
            "Template Eval Error: ImportError(\"cannot import name 'ARDL' from 'statsmodels.tsa.api' (/usr/local/lib/python3.8/dist-packages/statsmodels/tsa/api.py)\") in model 84: ARDL\n",
            "Model Number: 85 with model ARCH in generation 0 of 10\n",
            "Template Eval Error: ImportError('`arch` package must be installed from pip') in model 85: ARCH\n",
            "Model Number: 86 with model MetricMotif in generation 0 of 10\n",
            "Model Number: 87 with model ETS in generation 0 of 10\n"
          ]
        },
        {
          "output_type": "stream",
          "name": "stderr",
          "text": [
            "/usr/local/lib/python3.8/dist-packages/sklearn/preprocessing/_data.py:3253: RuntimeWarning:\n",
            "\n",
            "divide by zero encountered in log\n",
            "\n"
          ]
        },
        {
          "output_type": "stream",
          "name": "stdout",
          "text": [
            "Model Number: 88 with model SectionalMotif in generation 0 of 10\n",
            "Model Number: 89 with model LastValueNaive in generation 0 of 10\n",
            "Model Number: 90 with model MetricMotif in generation 0 of 10\n",
            "Model Number: 91 with model DatepartRegression in generation 0 of 10\n",
            "Template Eval Error: ValueError('Model DatepartRegression returned NaN for one or more series. fail_on_forecast_nan=True') in model 91: DatepartRegression\n",
            "Model Number: 92 with model VAR in generation 0 of 10\n",
            "Template Eval Error: ValueError('Only gave one variable to VAR') in model 92: VAR\n",
            "Model Number: 93 with model SeasonalNaive in generation 0 of 10\n"
          ]
        },
        {
          "output_type": "stream",
          "name": "stderr",
          "text": [
            "/usr/local/lib/python3.8/dist-packages/sklearn/neighbors/_regression.py:470: UserWarning:\n",
            "\n",
            "One or more samples have no neighbors within specified radius; predicting NaN.\n",
            "\n"
          ]
        },
        {
          "output_type": "stream",
          "name": "stdout",
          "text": [
            "Model Number: 94 with model ETS in generation 0 of 10\n",
            "Model Number: 95 with model AverageValueNaive in generation 0 of 10\n",
            "Model Number: 96 with model VAR in generation 0 of 10\n",
            "Template Eval Error: ValueError('Only gave one variable to VAR') in model 96: VAR\n",
            "Model Number: 97 with model GLS in generation 0 of 10\n",
            "Model Number: 98 with model ARDL in generation 0 of 10\n",
            "Template Eval Error: ImportError(\"cannot import name 'ARDL' from 'statsmodels.tsa.api' (/usr/local/lib/python3.8/dist-packages/statsmodels/tsa/api.py)\") in model 98: ARDL\n",
            "Model Number: 99 with model UnivariateMotif in generation 0 of 10\n",
            "Model Number: 100 with model ARDL in generation 0 of 10\n",
            "Template Eval Error: ImportError(\"cannot import name 'ARDL' from 'statsmodels.tsa.api' (/usr/local/lib/python3.8/dist-packages/statsmodels/tsa/api.py)\") in model 100: ARDL\n",
            "Model Number: 101 with model ETS in generation 0 of 10\n",
            "Model Number: 102 with model UnivariateMotif in generation 0 of 10\n",
            "Model Number: 103 with model SeasonalNaive in generation 0 of 10\n",
            "Model Number: 104 with model SeasonalNaive in generation 0 of 10\n",
            "Model Number: 105 with model UnobservedComponents in generation 0 of 10\n",
            "Template Eval Error: ValueError(\"regression_type='User' but no future_regressor supplied\") in model 105: UnobservedComponents\n",
            "Model Number: 106 with model ConstantNaive in generation 0 of 10\n",
            "Model Number: 107 with model LastValueNaive in generation 0 of 10\n",
            "Model Number: 108 with model VAR in generation 0 of 10\n",
            "Template Eval Error: ValueError('Only gave one variable to VAR') in model 108: VAR\n",
            "Model Number: 109 with model UnobservedComponents in generation 0 of 10\n",
            "Template Eval Error: ValueError(\"regression_type='User' but no future_regressor supplied\") in model 109: UnobservedComponents\n",
            "Model Number: 110 with model UnivariateMotif in generation 0 of 10\n",
            "Model Number: 111 with model DatepartRegression in generation 0 of 10\n"
          ]
        },
        {
          "output_type": "stream",
          "name": "stderr",
          "text": [
            "[Parallel(n_jobs=-2)]: Using backend SequentialBackend with 1 concurrent workers.\n"
          ]
        },
        {
          "output_type": "stream",
          "name": "stdout",
          "text": [
            "Model Number: 112 with model MetricMotif in generation 0 of 10\n"
          ]
        },
        {
          "output_type": "stream",
          "name": "stderr",
          "text": [
            "[Parallel(n_jobs=-2)]: Done 100 out of 100 | elapsed:    0.2s finished\n",
            "[Parallel(n_jobs=1)]: Using backend SequentialBackend with 1 concurrent workers.\n",
            "[Parallel(n_jobs=1)]: Done 100 out of 100 | elapsed:    0.0s finished\n"
          ]
        },
        {
          "output_type": "stream",
          "name": "stdout",
          "text": [
            "Model Number: 113 with model AverageValueNaive in generation 0 of 10\n",
            "Model Number: 114 with model ARDL in generation 0 of 10\n",
            "Template Eval Error: ImportError(\"cannot import name 'ARDL' from 'statsmodels.tsa.api' (/usr/local/lib/python3.8/dist-packages/statsmodels/tsa/api.py)\") in model 114: ARDL\n",
            "Model Number: 115 with model ARDL in generation 0 of 10\n",
            "Template Eval Error: ImportError(\"cannot import name 'ARDL' from 'statsmodels.tsa.api' (/usr/local/lib/python3.8/dist-packages/statsmodels/tsa/api.py)\") in model 115: ARDL\n",
            "Model Number: 116 with model SeasonalNaive in generation 0 of 10\n",
            "Model Number: 117 with model SeasonalNaive in generation 0 of 10\n",
            "Model Number: 118 with model ARDL in generation 0 of 10\n",
            "Template Eval Error: ValueError(\"regression_type='User' but future_regressor not supplied\") in model 118: ARDL\n",
            "Model Number: 119 with model ConstantNaive in generation 0 of 10\n",
            "Model Number: 120 with model ARIMA in generation 0 of 10\n",
            "Model Number: 121 with model ARCH in generation 0 of 10\n",
            "Template Eval Error: ImportError('`arch` package must be installed from pip') in model 121: ARCH\n",
            "Model Number: 122 with model Theta in generation 0 of 10\n",
            "Model Number: 123 with model UnivariateMotif in generation 0 of 10\n",
            "Model Number: 124 with model UnivariateMotif in generation 0 of 10\n",
            "Model Number: 125 with model DatepartRegression in generation 0 of 10\n",
            "Model Number: 126 with model GLM in generation 0 of 10\n",
            "Template Eval Error: ValueError('regression_type=user and no future_regressor passed') in model 126: GLM\n",
            "Model Number: 127 with model LastValueNaive in generation 0 of 10\n"
          ]
        },
        {
          "output_type": "stream",
          "name": "stderr",
          "text": [
            "[Parallel(n_jobs=-2)]: Using backend SequentialBackend with 1 concurrent workers.\n",
            "[Parallel(n_jobs=-2)]: Done 100 out of 100 | elapsed:    0.1s finished\n",
            "[Parallel(n_jobs=1)]: Using backend SequentialBackend with 1 concurrent workers.\n",
            "[Parallel(n_jobs=1)]: Done 100 out of 100 | elapsed:    0.0s finished\n"
          ]
        },
        {
          "output_type": "stream",
          "name": "stdout",
          "text": [
            "Model Number: 128 with model SectionalMotif in generation 0 of 10\n",
            "Model Number: 129 with model ConstantNaive in generation 0 of 10\n",
            "Model Number: 130 with model UnivariateMotif in generation 0 of 10\n",
            "Model Number: 131 with model SeasonalNaive in generation 0 of 10\n",
            "Model Number: 132 with model VAR in generation 0 of 10\n",
            "Template Eval Error: ValueError('Only gave one variable to VAR') in model 132: VAR\n",
            "Model Number: 133 with model UnivariateMotif in generation 0 of 10\n",
            "Model Number: 134 with model SeasonalNaive in generation 0 of 10\n",
            "Model Number: 135 with model ARCH in generation 0 of 10\n",
            "Template Eval Error: ImportError('`arch` package must be installed from pip') in model 135: ARCH\n",
            "Model Number: 136 with model LastValueNaive in generation 0 of 10\n",
            "Model Number: 137 with model WindowRegression in generation 0 of 10\n",
            "Model Number: 138 with model GLM in generation 0 of 10\n",
            "Template Eval Error: ValueError('NaN, inf or invalid value detected in weights, estimation infeasible.') in model 138: GLM\n",
            "Model Number: 139 with model Theta in generation 0 of 10\n"
          ]
        },
        {
          "output_type": "stream",
          "name": "stderr",
          "text": [
            "/usr/local/lib/python3.8/dist-packages/statsmodels/genmod/families/links.py:517: RuntimeWarning:\n",
            "\n",
            "overflow encountered in exp\n",
            "\n",
            "/usr/local/lib/python3.8/dist-packages/statsmodels/genmod/families/family.py:134: RuntimeWarning:\n",
            "\n",
            "invalid value encountered in multiply\n",
            "\n",
            "/usr/local/lib/python3.8/dist-packages/statsmodels/genmod/generalized_linear_model.py:1198: RuntimeWarning:\n",
            "\n",
            "invalid value encountered in multiply\n",
            "\n"
          ]
        },
        {
          "output_type": "stream",
          "name": "stdout",
          "text": [
            "Model Number: 140 with model ARDL in generation 0 of 10\n",
            "Template Eval Error: ImportError(\"cannot import name 'ARDL' from 'statsmodels.tsa.api' (/usr/local/lib/python3.8/dist-packages/statsmodels/tsa/api.py)\") in model 140: ARDL\n",
            "Model Number: 141 with model ARCH in generation 0 of 10\n",
            "Template Eval Error: ImportError('`arch` package must be installed from pip') in model 141: ARCH\n",
            "Model Number: 142 with model MetricMotif in generation 0 of 10\n",
            "Model Number: 143 with model NVAR in generation 0 of 10\n",
            "Model Number: 144 with model ARCH in generation 0 of 10\n",
            "Template Eval Error: ImportError('`arch` package must be installed from pip') in model 144: ARCH\n",
            "Model Number: 145 with model MetricMotif in generation 0 of 10\n",
            "Model Number: 146 with model ARCH in generation 0 of 10\n",
            "Template Eval Error: ImportError('`arch` package must be installed from pip') in model 146: ARCH\n",
            "Model Number: 147 with model VAR in generation 0 of 10\n",
            "Template Eval Error: ValueError('Only gave one variable to VAR') in model 147: VAR\n",
            "Model Number: 148 with model GluonTS in generation 0 of 10\n",
            "Template Eval Error: ImportError('GluonTS installation not found or installed version is incompatible with AutoTS.') in model 148: GluonTS\n",
            "Model Number: 149 with model DatepartRegression in generation 0 of 10\n",
            "Template Eval Error: ValueError(\"regression_type='User' but no future_regressor passed\") in model 149: DatepartRegression\n",
            "Model Number: 150 with model VAR in generation 0 of 10\n",
            "Template Eval Error: ValueError('Only gave one variable to VAR') in model 150: VAR\n",
            "Model Number: 151 with model VECM in generation 0 of 10\n",
            "Template Eval Error: ValueError(\"regression_type='User' but no future_regressor supplied\") in model 151: VECM\n",
            "Model Number: 152 with model AverageValueNaive in generation 0 of 10\n",
            "Model Number: 153 with model Theta in generation 0 of 10\n",
            "Model Number: 154 with model GLM in generation 0 of 10\n",
            "Template Eval Error: ValueError('NaN, inf or invalid value detected in weights, estimation infeasible.') in model 154: GLM\n",
            "Model Number: 155 with model AverageValueNaive in generation 0 of 10\n",
            "Model Number: 156 with model VAR in generation 0 of 10\n",
            "Template Eval Error: ValueError('Only gave one variable to VAR') in model 156: VAR\n",
            "Model Number: 157 with model LastValueNaive in generation 0 of 10\n",
            "Template Eval Error: ValueError(\"Model returned NaN due to a preprocessing transformer {'fillna': 'rolling_mean_24', 'transformations': {'0': 'ScipyFilter', '1': 'SeasonalDifference', '2': 'AlignLastValue'}, 'transformation_params': {'0': {'method': 'savgol_filter', 'method_args': {'window_length': 7, 'polyorder': 3, 'deriv': 1, 'mode': 'nearest'}}, '1': {'lag_1': 7, 'method': 'LastValue'}, '2': {'rows': 1, 'lag': 1, 'method': 'multiplicative', 'strength': 1.0, 'first_value_only': False}}}. fail_on_forecast_nan=True\") in model 157: LastValueNaive\n",
            "Model Number: 158 with model GluonTS in generation 0 of 10\n",
            "Template Eval Error: ImportError('GluonTS installation not found or installed version is incompatible with AutoTS.') in model 158: GluonTS\n",
            "Model Number: 159 with model UnivariateMotif in generation 0 of 10\n"
          ]
        },
        {
          "output_type": "stream",
          "name": "stderr",
          "text": [
            "/usr/local/lib/python3.8/dist-packages/statsmodels/genmod/families/family.py:428: RuntimeWarning:\n",
            "\n",
            "divide by zero encountered in true_divide\n",
            "\n",
            "/usr/local/lib/python3.8/dist-packages/statsmodels/genmod/families/family.py:134: RuntimeWarning:\n",
            "\n",
            "divide by zero encountered in true_divide\n",
            "\n",
            "/usr/local/lib/python3.8/dist-packages/sklearn/linear_model/_ridge.py:157: LinAlgWarning:\n",
            "\n",
            "Ill-conditioned matrix (rcond=7.7081e-25): result may not be accurate.\n",
            "\n",
            "/usr/local/lib/python3.8/dist-packages/sklearn/preprocessing/_data.py:3253: RuntimeWarning:\n",
            "\n",
            "divide by zero encountered in log\n",
            "\n",
            "/usr/local/lib/python3.8/dist-packages/sklearn/preprocessing/_data.py:3196: RuntimeWarning:\n",
            "\n",
            "divide by zero encountered in power\n",
            "\n",
            "/usr/local/lib/python3.8/dist-packages/sklearn/preprocessing/_data.py:3196: RuntimeWarning:\n",
            "\n",
            "divide by zero encountered in power\n",
            "\n",
            "/usr/local/lib/python3.8/dist-packages/sklearn/preprocessing/_data.py:3196: RuntimeWarning:\n",
            "\n",
            "divide by zero encountered in power\n",
            "\n"
          ]
        },
        {
          "output_type": "stream",
          "name": "stdout",
          "text": [
            "Model Number: 160 with model MetricMotif in generation 0 of 10\n",
            "Model Number: 161 with model ConstantNaive in generation 0 of 10\n",
            "Model Number: 162 with model SectionalMotif in generation 0 of 10\n",
            "Model Number: 163 with model Theta in generation 0 of 10\n",
            "Model Number: 164 with model AverageValueNaive in generation 0 of 10\n",
            "Model Number: 165 with model Theta in generation 0 of 10\n",
            "Model Number: 166 with model ETS in generation 0 of 10\n",
            "Model Number: 167 with model GLM in generation 0 of 10\n",
            "Template Eval Error: ValueError('NaN, inf or invalid value detected in weights, estimation infeasible.') in model 167: GLM\n",
            "Model Number: 168 with model MultivariateMotif in generation 0 of 10\n"
          ]
        },
        {
          "output_type": "stream",
          "name": "stderr",
          "text": [
            "/usr/local/lib/python3.8/dist-packages/statsmodels/genmod/families/family.py:428: RuntimeWarning:\n",
            "\n",
            "divide by zero encountered in true_divide\n",
            "\n",
            "/usr/local/lib/python3.8/dist-packages/statsmodels/genmod/families/family.py:134: RuntimeWarning:\n",
            "\n",
            "divide by zero encountered in true_divide\n",
            "\n",
            "INFO:prophet:Disabling yearly seasonality. Run prophet with yearly_seasonality=True to override this.\n",
            "INFO:prophet:Disabling daily seasonality. Run prophet with daily_seasonality=True to override this.\n"
          ]
        },
        {
          "output_type": "stream",
          "name": "stdout",
          "text": [
            "Model Number: 169 with model ConstantNaive in generation 0 of 10\n",
            "Template Eval Error: Exception('Transformer DifferencedTransformer failed on inverse') in model 169: ConstantNaive\n",
            "Model Number: 170 with model ARCH in generation 0 of 10\n",
            "Template Eval Error: ImportError('`arch` package must be installed from pip') in model 170: ARCH\n",
            "Model Number: 171 with model FBProphet in generation 0 of 10\n"
          ]
        },
        {
          "output_type": "stream",
          "name": "stderr",
          "text": [
            "DEBUG:cmdstanpy:input tempfile: /tmp/tmp09dakauk/bqvhghdp.json\n",
            "DEBUG:cmdstanpy:input tempfile: /tmp/tmp09dakauk/e5rhmclr.json\n",
            "DEBUG:cmdstanpy:idx 0\n",
            "DEBUG:cmdstanpy:running CmdStan, num_threads: None\n",
            "DEBUG:cmdstanpy:CmdStan args: ['/usr/local/lib/python3.8/dist-packages/prophet/stan_model/prophet_model.bin', 'random', 'seed=31548', 'data', 'file=/tmp/tmp09dakauk/bqvhghdp.json', 'init=/tmp/tmp09dakauk/e5rhmclr.json', 'output', 'file=/tmp/tmp09dakauk/prophet_modeljmwivlq7/prophet_model-20230216093913.csv', 'method=optimize', 'algorithm=lbfgs', 'iter=10000']\n",
            "09:39:13 - cmdstanpy - INFO - Chain [1] start processing\n",
            "INFO:cmdstanpy:Chain [1] start processing\n",
            "09:39:13 - cmdstanpy - INFO - Chain [1] done processing\n",
            "INFO:cmdstanpy:Chain [1] done processing\n"
          ]
        },
        {
          "output_type": "stream",
          "name": "stdout",
          "text": [
            "Model Number: 172 with model AverageValueNaive in generation 0 of 10\n",
            "Model Number: 173 with model MultivariateMotif in generation 0 of 10\n",
            "Model Number: 174 with model Theta in generation 0 of 10\n",
            "Model Number: 175 with model GLM in generation 0 of 10\n",
            "Model Number: 176 with model UnivariateMotif in generation 0 of 10\n",
            "Model Number: 177 with model ARDL in generation 0 of 10\n",
            "Template Eval Error: ValueError(\"regression_type='User' but future_regressor not supplied\") in model 177: ARDL\n",
            "Model Number: 178 with model MultivariateMotif in generation 0 of 10\n",
            "Model Number: 179 with model NVAR in generation 0 of 10\n",
            "Model Number: 180 with model UnivariateMotif in generation 0 of 10\n",
            "Model Number: 181 with model Theta in generation 0 of 10\n",
            "Model Number: 182 with model SectionalMotif in generation 0 of 10\n",
            "Model Number: 183 with model ARIMA in generation 0 of 10\n",
            "Template Eval Error: Exception('Transformer Detrend failed on fit') in model 183: ARIMA\n",
            "Model Number: 184 with model VECM in generation 0 of 10\n",
            "Template Eval Error: ValueError(\"regression_type='User' but no future_regressor supplied\") in model 184: VECM\n",
            "Model Number: 185 with model NVAR in generation 0 of 10\n",
            "Model Number: 186 with model SeasonalNaive in generation 0 of 10\n",
            "New Generation: 1 of 10\n",
            "Model Number: 187 with model MetricMotif in generation 1 of 10\n",
            "Model Number: 188 with model SectionalMotif in generation 1 of 10\n",
            "Model Number: 189 with model ConstantNaive in generation 1 of 10\n",
            "Model Number: 190 with model SectionalMotif in generation 1 of 10\n",
            "Model Number: 191 with model ConstantNaive in generation 1 of 10\n"
          ]
        },
        {
          "output_type": "stream",
          "name": "stderr",
          "text": [
            "INFO:prophet:Disabling yearly seasonality. Run prophet with yearly_seasonality=True to override this.\n",
            "INFO:prophet:Disabling daily seasonality. Run prophet with daily_seasonality=True to override this.\n"
          ]
        },
        {
          "output_type": "stream",
          "name": "stdout",
          "text": [
            "Model Number: 192 with model FBProphet in generation 1 of 10\n"
          ]
        },
        {
          "output_type": "stream",
          "name": "stderr",
          "text": [
            "DEBUG:cmdstanpy:input tempfile: /tmp/tmp09dakauk/v0a3rar3.json\n",
            "DEBUG:cmdstanpy:input tempfile: /tmp/tmp09dakauk/kuarm5t9.json\n",
            "DEBUG:cmdstanpy:idx 0\n",
            "DEBUG:cmdstanpy:running CmdStan, num_threads: None\n",
            "DEBUG:cmdstanpy:CmdStan args: ['/usr/local/lib/python3.8/dist-packages/prophet/stan_model/prophet_model.bin', 'random', 'seed=63671', 'data', 'file=/tmp/tmp09dakauk/v0a3rar3.json', 'init=/tmp/tmp09dakauk/kuarm5t9.json', 'output', 'file=/tmp/tmp09dakauk/prophet_modeld3ay85yn/prophet_model-20230216093915.csv', 'method=optimize', 'algorithm=lbfgs', 'iter=10000']\n",
            "09:39:15 - cmdstanpy - INFO - Chain [1] start processing\n",
            "INFO:cmdstanpy:Chain [1] start processing\n",
            "09:39:15 - cmdstanpy - INFO - Chain [1] done processing\n",
            "INFO:cmdstanpy:Chain [1] done processing\n"
          ]
        },
        {
          "output_type": "stream",
          "name": "stdout",
          "text": [
            "Model Number: 193 with model UnobservedComponents in generation 1 of 10\n",
            "Model Number: 194 with model LastValueNaive in generation 1 of 10\n",
            "Model Number: 195 with model MultivariateRegression in generation 1 of 10\n"
          ]
        },
        {
          "output_type": "stream",
          "name": "stderr",
          "text": [
            "[Parallel(n_jobs=-2)]: Using backend SequentialBackend with 1 concurrent workers.\n",
            "[Parallel(n_jobs=-2)]: Done 200 out of 200 | elapsed:    0.3s finished\n",
            "[Parallel(n_jobs=1)]: Using backend SequentialBackend with 1 concurrent workers.\n",
            "[Parallel(n_jobs=1)]: Done 200 out of 200 | elapsed:    0.0s finished\n",
            "[Parallel(n_jobs=1)]: Using backend SequentialBackend with 1 concurrent workers.\n",
            "[Parallel(n_jobs=1)]: Done 200 out of 200 | elapsed:    0.0s finished\n",
            "[Parallel(n_jobs=1)]: Using backend SequentialBackend with 1 concurrent workers.\n",
            "[Parallel(n_jobs=1)]: Done 200 out of 200 | elapsed:    0.0s finished\n",
            "[Parallel(n_jobs=1)]: Using backend SequentialBackend with 1 concurrent workers.\n",
            "[Parallel(n_jobs=1)]: Done 200 out of 200 | elapsed:    0.0s finished\n",
            "[Parallel(n_jobs=1)]: Using backend SequentialBackend with 1 concurrent workers.\n",
            "[Parallel(n_jobs=1)]: Done 200 out of 200 | elapsed:    0.0s finished\n",
            "[Parallel(n_jobs=1)]: Using backend SequentialBackend with 1 concurrent workers.\n",
            "[Parallel(n_jobs=1)]: Done 200 out of 200 | elapsed:    0.0s finished\n",
            "[Parallel(n_jobs=1)]: Using backend SequentialBackend with 1 concurrent workers.\n",
            "[Parallel(n_jobs=1)]: Done 200 out of 200 | elapsed:    0.0s finished\n",
            "[Parallel(n_jobs=1)]: Using backend SequentialBackend with 1 concurrent workers.\n",
            "[Parallel(n_jobs=1)]: Done 200 out of 200 | elapsed:    0.0s finished\n",
            "[Parallel(n_jobs=1)]: Using backend SequentialBackend with 1 concurrent workers.\n",
            "[Parallel(n_jobs=1)]: Done 200 out of 200 | elapsed:    0.0s finished\n",
            "[Parallel(n_jobs=1)]: Using backend SequentialBackend with 1 concurrent workers.\n",
            "[Parallel(n_jobs=1)]: Done 200 out of 200 | elapsed:    0.0s finished\n"
          ]
        },
        {
          "output_type": "stream",
          "name": "stdout",
          "text": [
            "Model Number: 196 with model UnobservedComponents in generation 1 of 10\n",
            "Model Number: 197 with model UnobservedComponents in generation 1 of 10\n",
            "Model Number: 198 with model ARIMA in generation 1 of 10\n",
            "Template Eval Error: Exception('Transformer BTCD failed on fit') in model 198: ARIMA\n",
            "Model Number: 199 with model Theta in generation 1 of 10\n",
            "Model Number: 200 with model SectionalMotif in generation 1 of 10\n",
            "Model Number: 201 with model SeasonalNaive in generation 1 of 10\n",
            "Model Number: 202 with model DatepartRegression in generation 1 of 10\n",
            "Model Number: 203 with model NVAR in generation 1 of 10\n",
            "Model Number: 204 with model Theta in generation 1 of 10\n",
            "Model Number: 205 with model UnivariateMotif in generation 1 of 10\n",
            "Model Number: 206 with model ETS in generation 1 of 10\n",
            "Model Number: 207 with model AverageValueNaive in generation 1 of 10\n",
            "Model Number: 208 with model LastValueNaive in generation 1 of 10\n",
            "Model Number: 209 with model ETS in generation 1 of 10\n",
            "Model Number: 210 with model UnobservedComponents in generation 1 of 10\n",
            "Model Number: 211 with model LastValueNaive in generation 1 of 10\n",
            "Model Number: 212 with model GLM in generation 1 of 10\n",
            "Model Number: 213 with model FBProphet in generation 1 of 10\n",
            "Template Eval Error: ValueError(\"regression_type='User' but no future_regressor passed\") in model 213: FBProphet\n",
            "Model Number: 214 with model MultivariateMotif in generation 1 of 10\n",
            "Model Number: 215 with model GLM in generation 1 of 10\n"
          ]
        },
        {
          "output_type": "stream",
          "name": "stderr",
          "text": [
            "/usr/local/lib/python3.8/dist-packages/statsmodels/genmod/families/family.py:1227: RuntimeWarning:\n",
            "\n",
            "divide by zero encountered in true_divide\n",
            "\n",
            "/usr/local/lib/python3.8/dist-packages/statsmodels/genmod/families/family.py:1231: RuntimeWarning:\n",
            "\n",
            "invalid value encountered in log\n",
            "\n",
            "/usr/local/lib/python3.8/dist-packages/statsmodels/genmod/families/links.py:188: RuntimeWarning:\n",
            "\n",
            "overflow encountered in exp\n",
            "\n"
          ]
        },
        {
          "output_type": "stream",
          "name": "stdout",
          "text": [
            "Model Number: 216 with model MultivariateMotif in generation 1 of 10\n",
            "Model Number: 217 with model UnobservedComponents in generation 1 of 10\n",
            "Model Number: 218 with model MetricMotif in generation 1 of 10\n",
            "HolidayTransformer: no anomalies detected.\n",
            "Model Number: 219 with model DatepartRegression in generation 1 of 10\n"
          ]
        },
        {
          "output_type": "stream",
          "name": "stderr",
          "text": [
            "/usr/local/lib/python3.8/dist-packages/sklearn/linear_model/_ridge.py:157: LinAlgWarning:\n",
            "\n",
            "Ill-conditioned matrix (rcond=7.7081e-25): result may not be accurate.\n",
            "\n",
            "[Parallel(n_jobs=-2)]: Using backend SequentialBackend with 1 concurrent workers.\n",
            "[Parallel(n_jobs=-2)]: Done 300 out of 300 | elapsed:    0.3s finished\n",
            "[Parallel(n_jobs=1)]: Using backend SequentialBackend with 1 concurrent workers.\n",
            "[Parallel(n_jobs=1)]: Done 300 out of 300 | elapsed:    0.0s finished\n"
          ]
        },
        {
          "output_type": "stream",
          "name": "stdout",
          "text": [
            "Model Number: 220 with model Theta in generation 1 of 10\n",
            "Model Number: 221 with model SectionalMotif in generation 1 of 10\n",
            "Model Number: 222 with model NVAR in generation 1 of 10\n",
            "Model Number: 223 with model DatepartRegression in generation 1 of 10\n"
          ]
        },
        {
          "output_type": "stream",
          "name": "stderr",
          "text": [
            "[Parallel(n_jobs=-2)]: Using backend SequentialBackend with 1 concurrent workers.\n",
            "[Parallel(n_jobs=-2)]: Done 100 out of 100 | elapsed:    0.1s finished\n",
            "[Parallel(n_jobs=1)]: Using backend SequentialBackend with 1 concurrent workers.\n",
            "[Parallel(n_jobs=1)]: Done 100 out of 100 | elapsed:    0.0s finished\n"
          ]
        },
        {
          "output_type": "stream",
          "name": "stdout",
          "text": [
            "Model Number: 224 with model SeasonalNaive in generation 1 of 10\n",
            "Model Number: 225 with model SeasonalNaive in generation 1 of 10\n",
            "Model Number: 226 with model MetricMotif in generation 1 of 10\n"
          ]
        },
        {
          "output_type": "stream",
          "name": "stderr",
          "text": [
            "/usr/local/lib/python3.8/dist-packages/sklearn/preprocessing/_data.py:3253: RuntimeWarning:\n",
            "\n",
            "divide by zero encountered in log\n",
            "\n",
            "/usr/local/lib/python3.8/dist-packages/autots/tools/probabilistic.py:67: RuntimeWarning:\n",
            "\n",
            "invalid value encountered in true_divide\n",
            "\n",
            "/usr/local/lib/python3.8/dist-packages/autots/tools/probabilistic.py:68: RuntimeWarning:\n",
            "\n",
            "divide by zero encountered in true_divide\n",
            "\n",
            "/usr/local/lib/python3.8/dist-packages/sklearn/preprocessing/_data.py:3196: RuntimeWarning:\n",
            "\n",
            "divide by zero encountered in power\n",
            "\n",
            "/usr/local/lib/python3.8/dist-packages/sklearn/preprocessing/_data.py:3196: RuntimeWarning:\n",
            "\n",
            "divide by zero encountered in power\n",
            "\n",
            "/usr/local/lib/python3.8/dist-packages/sklearn/preprocessing/_data.py:3196: RuntimeWarning:\n",
            "\n",
            "divide by zero encountered in power\n",
            "\n"
          ]
        },
        {
          "output_type": "stream",
          "name": "stdout",
          "text": [
            "Model Number: 227 with model MetricMotif in generation 1 of 10\n",
            "Model Number: 228 with model DatepartRegression in generation 1 of 10\n"
          ]
        },
        {
          "output_type": "stream",
          "name": "stderr",
          "text": [
            "/usr/local/lib/python3.8/dist-packages/sklearn/svm/_base.py:1206: ConvergenceWarning:\n",
            "\n",
            "Liblinear failed to converge, increase the number of iterations.\n",
            "\n"
          ]
        },
        {
          "output_type": "stream",
          "name": "stdout",
          "text": [
            "Model Number: 229 with model UnivariateMotif in generation 1 of 10\n",
            "Model Number: 230 with model MetricMotif in generation 1 of 10\n",
            "Model Number: 231 with model ETS in generation 1 of 10\n",
            "Model Number: 232 with model FBProphet in generation 1 of 10\n",
            "Template Eval Error: ValueError(\"regression_type='User' but no future_regressor passed\") in model 232: FBProphet\n",
            "Model Number: 233 with model Theta in generation 1 of 10\n",
            "Model Number: 234 with model Theta in generation 1 of 10\n",
            "Model Number: 235 with model Theta in generation 1 of 10\n",
            "Model Number: 236 with model ETS in generation 1 of 10\n",
            "Model Number: 237 with model SeasonalNaive in generation 1 of 10\n",
            "Model Number: 238 with model AverageValueNaive in generation 1 of 10\n",
            "Model Number: 239 with model MultivariateRegression in generation 1 of 10\n"
          ]
        },
        {
          "output_type": "stream",
          "name": "stderr",
          "text": [
            "[Parallel(n_jobs=-2)]: Using backend SequentialBackend with 1 concurrent workers.\n",
            "[Parallel(n_jobs=-2)]: Done 200 out of 200 | elapsed:    0.6s finished\n",
            "[Parallel(n_jobs=1)]: Using backend SequentialBackend with 1 concurrent workers.\n",
            "[Parallel(n_jobs=1)]: Done 200 out of 200 | elapsed:    0.0s finished\n",
            "[Parallel(n_jobs=1)]: Using backend SequentialBackend with 1 concurrent workers.\n",
            "[Parallel(n_jobs=1)]: Done 200 out of 200 | elapsed:    0.0s finished\n",
            "[Parallel(n_jobs=1)]: Using backend SequentialBackend with 1 concurrent workers.\n",
            "[Parallel(n_jobs=1)]: Done 200 out of 200 | elapsed:    0.0s finished\n",
            "[Parallel(n_jobs=1)]: Using backend SequentialBackend with 1 concurrent workers.\n",
            "[Parallel(n_jobs=1)]: Done 200 out of 200 | elapsed:    0.0s finished\n",
            "[Parallel(n_jobs=1)]: Using backend SequentialBackend with 1 concurrent workers.\n",
            "[Parallel(n_jobs=1)]: Done 200 out of 200 | elapsed:    0.0s finished\n",
            "[Parallel(n_jobs=1)]: Using backend SequentialBackend with 1 concurrent workers.\n",
            "[Parallel(n_jobs=1)]: Done 200 out of 200 | elapsed:    0.0s finished\n"
          ]
        },
        {
          "output_type": "stream",
          "name": "stdout",
          "text": [
            "Model Number: 240 with model UnivariateMotif in generation 1 of 10\n"
          ]
        },
        {
          "output_type": "stream",
          "name": "stderr",
          "text": [
            "[Parallel(n_jobs=1)]: Using backend SequentialBackend with 1 concurrent workers.\n",
            "[Parallel(n_jobs=1)]: Done 200 out of 200 | elapsed:    0.0s finished\n",
            "[Parallel(n_jobs=1)]: Using backend SequentialBackend with 1 concurrent workers.\n",
            "[Parallel(n_jobs=1)]: Done 200 out of 200 | elapsed:    0.0s finished\n",
            "[Parallel(n_jobs=1)]: Using backend SequentialBackend with 1 concurrent workers.\n",
            "[Parallel(n_jobs=1)]: Done 200 out of 200 | elapsed:    0.0s finished\n",
            "[Parallel(n_jobs=1)]: Using backend SequentialBackend with 1 concurrent workers.\n",
            "[Parallel(n_jobs=1)]: Done 200 out of 200 | elapsed:    0.0s finished\n"
          ]
        },
        {
          "output_type": "stream",
          "name": "stdout",
          "text": [
            "Model Number: 241 with model NVAR in generation 1 of 10\n"
          ]
        },
        {
          "output_type": "stream",
          "name": "stderr",
          "text": [
            "INFO:prophet:Disabling yearly seasonality. Run prophet with yearly_seasonality=True to override this.\n",
            "INFO:prophet:Disabling daily seasonality. Run prophet with daily_seasonality=True to override this.\n",
            "DEBUG:cmdstanpy:input tempfile: /tmp/tmp09dakauk/z6lmfzno.json\n",
            "DEBUG:cmdstanpy:input tempfile: /tmp/tmp09dakauk/9qg2um9_.json\n",
            "DEBUG:cmdstanpy:idx 0\n",
            "DEBUG:cmdstanpy:running CmdStan, num_threads: None\n",
            "DEBUG:cmdstanpy:CmdStan args: ['/usr/local/lib/python3.8/dist-packages/prophet/stan_model/prophet_model.bin', 'random', 'seed=17906', 'data', 'file=/tmp/tmp09dakauk/z6lmfzno.json', 'init=/tmp/tmp09dakauk/9qg2um9_.json', 'output', 'file=/tmp/tmp09dakauk/prophet_modelaw6lqf8_/prophet_model-20230216093924.csv', 'method=optimize', 'algorithm=newton', 'iter=10000']\n",
            "09:39:24 - cmdstanpy - INFO - Chain [1] start processing\n",
            "INFO:cmdstanpy:Chain [1] start processing\n"
          ]
        },
        {
          "output_type": "stream",
          "name": "stdout",
          "text": [
            "Model Number: 242 with model FBProphet in generation 1 of 10\n"
          ]
        },
        {
          "output_type": "stream",
          "name": "stderr",
          "text": [
            "09:39:24 - cmdstanpy - INFO - Chain [1] done processing\n",
            "INFO:cmdstanpy:Chain [1] done processing\n"
          ]
        },
        {
          "output_type": "stream",
          "name": "stdout",
          "text": [
            "Model Number: 243 with model GLM in generation 1 of 10\n",
            "Template Eval Error: ValueError('regression_type=user and no future_regressor passed') in model 243: GLM\n",
            "Model Number: 244 with model ETS in generation 1 of 10\n",
            "Template Eval Error: Exception('Transformer Cointegration failed on fit') in model 244: ETS\n",
            "Model Number: 245 with model MultivariateRegression in generation 1 of 10\n",
            "Model Number: 246 with model ETS in generation 1 of 10\n",
            "Model Number: 247 with model NVAR in generation 1 of 10\n",
            "Model Number: 248 with model SectionalMotif in generation 1 of 10\n",
            "Model Number: 249 with model LastValueNaive in generation 1 of 10\n",
            "Model Number: 250 with model ConstantNaive in generation 1 of 10\n",
            "Model Number: 251 with model SeasonalNaive in generation 1 of 10\n",
            "Model Number: 252 with model ETS in generation 1 of 10\n",
            "Model Number: 253 with model Theta in generation 1 of 10\n",
            "Model Number: 254 with model MultivariateMotif in generation 1 of 10\n",
            "Model Number: 255 with model LastValueNaive in generation 1 of 10\n",
            "Model Number: 256 with model AverageValueNaive in generation 1 of 10\n",
            "Model Number: 257 with model NVAR in generation 1 of 10\n",
            "Model Number: 258 with model MetricMotif in generation 1 of 10\n",
            "Model Number: 259 with model SectionalMotif in generation 1 of 10\n",
            "Model Number: 260 with model LastValueNaive in generation 1 of 10\n",
            "Model Number: 261 with model MultivariateMotif in generation 1 of 10\n",
            "Model Number: 262 with model GLM in generation 1 of 10\n",
            "Model Number: 263 with model AverageValueNaive in generation 1 of 10\n",
            "Model Number: 264 with model DatepartRegression in generation 1 of 10\n",
            "Model Number: 265 with model SectionalMotif in generation 1 of 10\n",
            "Model Number: 266 with model AverageValueNaive in generation 1 of 10\n",
            "Model Number: 267 with model ARIMA in generation 1 of 10\n"
          ]
        },
        {
          "output_type": "stream",
          "name": "stderr",
          "text": [
            "INFO:prophet:Disabling yearly seasonality. Run prophet with yearly_seasonality=True to override this.\n",
            "INFO:prophet:Disabling daily seasonality. Run prophet with daily_seasonality=True to override this.\n",
            "DEBUG:cmdstanpy:input tempfile: /tmp/tmp09dakauk/oufigb4g.json\n",
            "DEBUG:cmdstanpy:input tempfile: /tmp/tmp09dakauk/_pks6dz0.json\n",
            "DEBUG:cmdstanpy:idx 0\n",
            "DEBUG:cmdstanpy:running CmdStan, num_threads: None\n",
            "DEBUG:cmdstanpy:CmdStan args: ['/usr/local/lib/python3.8/dist-packages/prophet/stan_model/prophet_model.bin', 'random', 'seed=46254', 'data', 'file=/tmp/tmp09dakauk/oufigb4g.json', 'init=/tmp/tmp09dakauk/_pks6dz0.json', 'output', 'file=/tmp/tmp09dakauk/prophet_modelqy_p5o43/prophet_model-20230216093934.csv', 'method=optimize', 'algorithm=lbfgs', 'iter=10000']\n",
            "09:39:34 - cmdstanpy - INFO - Chain [1] start processing\n",
            "INFO:cmdstanpy:Chain [1] start processing\n"
          ]
        },
        {
          "output_type": "stream",
          "name": "stdout",
          "text": [
            "Model Number: 268 with model FBProphet in generation 1 of 10\n"
          ]
        },
        {
          "output_type": "stream",
          "name": "stderr",
          "text": [
            "09:39:35 - cmdstanpy - INFO - Chain [1] done processing\n",
            "INFO:cmdstanpy:Chain [1] done processing\n"
          ]
        },
        {
          "output_type": "stream",
          "name": "stdout",
          "text": [
            "Model Number: 269 with model ETS in generation 1 of 10\n",
            "Model Number: 270 with model UnobservedComponents in generation 1 of 10\n",
            "Template Eval Error: ValueError(\"regression_type='User' but no future_regressor supplied\") in model 270: UnobservedComponents\n",
            "Model Number: 271 with model ARIMA in generation 1 of 10\n",
            "Model Number: 272 with model MetricMotif in generation 1 of 10\n",
            "Template Eval Error: Exception('Transformer LocalLinearTrend failed on fit') in model 272: MetricMotif\n",
            "Model Number: 273 with model MultivariateMotif in generation 1 of 10\n",
            "Model Number: 274 with model WindowRegression in generation 1 of 10\n",
            "Model Number: 275 with model ETS in generation 1 of 10\n",
            "ETS error ValueError('endog must be strictly positive when usingmultiplicative trend or seasonal components.')\n",
            "ETS failed on Close with ValueError('endog must be strictly positive when usingmultiplicative trend or seasonal components.')\n"
          ]
        },
        {
          "output_type": "stream",
          "name": "stderr",
          "text": [
            "/usr/local/lib/python3.8/dist-packages/sklearn/neural_network/_multilayer_perceptron.py:549: ConvergenceWarning:\n",
            "\n",
            "lbfgs failed to converge (status=1):\n",
            "STOP: TOTAL NO. of ITERATIONS REACHED LIMIT.\n",
            "\n",
            "Increase the number of iterations (max_iter) or scale the data as shown in:\n",
            "    https://scikit-learn.org/stable/modules/preprocessing.html\n",
            "\n"
          ]
        },
        {
          "output_type": "stream",
          "name": "stdout",
          "text": [
            "Model Number: 276 with model MetricMotif in generation 1 of 10\n",
            "Model Number: 277 with model AverageValueNaive in generation 1 of 10\n",
            "Model Number: 278 with model LastValueNaive in generation 1 of 10\n",
            "Model Number: 279 with model ARIMA in generation 1 of 10\n",
            "Model Number: 280 with model Theta in generation 1 of 10\n",
            "Model Number: 281 with model UnobservedComponents in generation 1 of 10\n",
            "Model Number: 282 with model FBProphet in generation 1 of 10\n",
            "Template Eval Error: ValueError(\"regression_type='User' but no future_regressor passed\") in model 282: FBProphet\n",
            "Model Number: 283 with model SeasonalNaive in generation 1 of 10\n",
            "Model Number: 284 with model NVAR in generation 1 of 10\n",
            "Model Number: 285 with model NVAR in generation 1 of 10\n",
            "Model Number: 286 with model SeasonalNaive in generation 1 of 10\n",
            "Model Number: 287 with model UnobservedComponents in generation 1 of 10\n",
            "Model Number: 288 with model ETS in generation 1 of 10\n",
            "Model Number: 289 with model MetricMotif in generation 1 of 10\n",
            "Model Number: 290 with model ARIMA in generation 1 of 10\n"
          ]
        },
        {
          "output_type": "stream",
          "name": "stderr",
          "text": [
            "/usr/local/lib/python3.8/dist-packages/sklearn/preprocessing/_data.py:3253: RuntimeWarning:\n",
            "\n",
            "divide by zero encountered in log\n",
            "\n",
            "/usr/local/lib/python3.8/dist-packages/sklearn/preprocessing/_data.py:3196: RuntimeWarning:\n",
            "\n",
            "divide by zero encountered in power\n",
            "\n",
            "/usr/local/lib/python3.8/dist-packages/sklearn/preprocessing/_data.py:3196: RuntimeWarning:\n",
            "\n",
            "divide by zero encountered in power\n",
            "\n",
            "/usr/local/lib/python3.8/dist-packages/sklearn/preprocessing/_data.py:3196: RuntimeWarning:\n",
            "\n",
            "divide by zero encountered in power\n",
            "\n"
          ]
        },
        {
          "output_type": "stream",
          "name": "stdout",
          "text": [
            "Model Number: 291 with model NVAR in generation 1 of 10\n",
            "Model Number: 292 with model LastValueNaive in generation 1 of 10\n",
            "Model Number: 293 with model DatepartRegression in generation 1 of 10\n",
            "Model Number: 294 with model UnivariateMotif in generation 1 of 10\n"
          ]
        },
        {
          "output_type": "stream",
          "name": "stderr",
          "text": [
            "/usr/local/lib/python3.8/dist-packages/sklearn/neural_network/_multilayer_perceptron.py:549: ConvergenceWarning:\n",
            "\n",
            "lbfgs failed to converge (status=1):\n",
            "STOP: TOTAL NO. of ITERATIONS REACHED LIMIT.\n",
            "\n",
            "Increase the number of iterations (max_iter) or scale the data as shown in:\n",
            "    https://scikit-learn.org/stable/modules/preprocessing.html\n",
            "\n"
          ]
        },
        {
          "output_type": "stream",
          "name": "stdout",
          "text": [
            "Model Number: 295 with model GLS in generation 1 of 10\n",
            "Model Number: 296 with model UnobservedComponents in generation 1 of 10\n",
            "Model Number: 297 with model SeasonalNaive in generation 1 of 10\n",
            "Model Number: 298 with model MetricMotif in generation 1 of 10\n",
            "Model Number: 299 with model GLS in generation 1 of 10\n",
            "Model Number: 300 with model SeasonalNaive in generation 1 of 10\n",
            "Model Number: 301 with model ETS in generation 1 of 10\n",
            "Model Number: 302 with model LastValueNaive in generation 1 of 10\n",
            "Model Number: 303 with model Theta in generation 1 of 10\n",
            "Model Number: 304 with model ARIMA in generation 1 of 10\n",
            "Template Eval Error: ValueError(\"regression_type='User' but future_regressor not supplied\") in model 304: ARIMA\n",
            "Model Number: 305 with model ARIMA in generation 1 of 10\n",
            "Template Eval Error: ValueError(\"regression_type='User' but future_regressor not supplied\") in model 305: ARIMA\n",
            "Model Number: 306 with model AverageValueNaive in generation 1 of 10\n",
            "Model Number: 307 with model SeasonalNaive in generation 1 of 10\n",
            "Model Number: 308 with model MultivariateMotif in generation 1 of 10\n",
            "Model Number: 309 with model Theta in generation 1 of 10\n",
            "Model Number: 310 with model ETS in generation 1 of 10\n",
            "Model Number: 311 with model LastValueNaive in generation 1 of 10\n",
            "New Generation: 2 of 10\n",
            "Model Number: 312 with model MetricMotif in generation 2 of 10\n",
            "Model Number: 313 with model UnivariateMotif in generation 2 of 10\n",
            "Model Number: 314 with model MultivariateMotif in generation 2 of 10\n",
            "Model Number: 315 with model MetricMotif in generation 2 of 10\n",
            "Model Number: 316 with model AverageValueNaive in generation 2 of 10\n",
            "Model Number: 317 with model MetricMotif in generation 2 of 10\n",
            "Model Number: 318 with model SeasonalNaive in generation 2 of 10\n"
          ]
        },
        {
          "output_type": "stream",
          "name": "stderr",
          "text": [
            "INFO:prophet:Disabling yearly seasonality. Run prophet with yearly_seasonality=True to override this.\n",
            "INFO:prophet:Disabling daily seasonality. Run prophet with daily_seasonality=True to override this.\n"
          ]
        },
        {
          "output_type": "stream",
          "name": "stdout",
          "text": [
            "Model Number: 319 with model FBProphet in generation 2 of 10\n"
          ]
        },
        {
          "output_type": "stream",
          "name": "stderr",
          "text": [
            "DEBUG:cmdstanpy:input tempfile: /tmp/tmp09dakauk/uog3wf3m.json\n",
            "DEBUG:cmdstanpy:input tempfile: /tmp/tmp09dakauk/w1ezx54k.json\n",
            "DEBUG:cmdstanpy:idx 0\n",
            "DEBUG:cmdstanpy:running CmdStan, num_threads: None\n",
            "DEBUG:cmdstanpy:CmdStan args: ['/usr/local/lib/python3.8/dist-packages/prophet/stan_model/prophet_model.bin', 'random', 'seed=62606', 'data', 'file=/tmp/tmp09dakauk/uog3wf3m.json', 'init=/tmp/tmp09dakauk/w1ezx54k.json', 'output', 'file=/tmp/tmp09dakauk/prophet_modelgj1k1pnd/prophet_model-20230216093951.csv', 'method=optimize', 'algorithm=newton', 'iter=10000']\n",
            "09:39:51 - cmdstanpy - INFO - Chain [1] start processing\n",
            "INFO:cmdstanpy:Chain [1] start processing\n",
            "09:39:51 - cmdstanpy - INFO - Chain [1] done processing\n",
            "INFO:cmdstanpy:Chain [1] done processing\n"
          ]
        },
        {
          "output_type": "stream",
          "name": "stdout",
          "text": [
            "Model Number: 320 with model LastValueNaive in generation 2 of 10\n",
            "Model Number: 321 with model UnivariateMotif in generation 2 of 10\n",
            "Model Number: 322 with model Theta in generation 2 of 10\n",
            "Model Number: 323 with model DatepartRegression in generation 2 of 10\n",
            "Model Number: 324 with model DatepartRegression in generation 2 of 10\n"
          ]
        },
        {
          "output_type": "stream",
          "name": "stderr",
          "text": [
            "[Parallel(n_jobs=-2)]: Using backend SequentialBackend with 1 concurrent workers.\n",
            "[Parallel(n_jobs=-2)]: Done 100 out of 100 | elapsed:    0.1s finished\n",
            "[Parallel(n_jobs=1)]: Using backend SequentialBackend with 1 concurrent workers.\n",
            "[Parallel(n_jobs=1)]: Done 100 out of 100 | elapsed:    0.0s finished\n"
          ]
        },
        {
          "output_type": "stream",
          "name": "stdout",
          "text": [
            "Model Number: 325 with model SeasonalNaive in generation 2 of 10\n"
          ]
        },
        {
          "output_type": "stream",
          "name": "stderr",
          "text": [
            "INFO:prophet:Disabling yearly seasonality. Run prophet with yearly_seasonality=True to override this.\n",
            "INFO:prophet:Disabling daily seasonality. Run prophet with daily_seasonality=True to override this.\n",
            "DEBUG:cmdstanpy:input tempfile: /tmp/tmp09dakauk/wic4isdw.json\n",
            "DEBUG:cmdstanpy:input tempfile: /tmp/tmp09dakauk/9b6x90ui.json\n",
            "DEBUG:cmdstanpy:idx 0\n",
            "DEBUG:cmdstanpy:running CmdStan, num_threads: None\n",
            "DEBUG:cmdstanpy:CmdStan args: ['/usr/local/lib/python3.8/dist-packages/prophet/stan_model/prophet_model.bin', 'random', 'seed=17733', 'data', 'file=/tmp/tmp09dakauk/wic4isdw.json', 'init=/tmp/tmp09dakauk/9b6x90ui.json', 'output', 'file=/tmp/tmp09dakauk/prophet_modeljm0jpzk9/prophet_model-20230216093952.csv', 'method=optimize', 'algorithm=lbfgs', 'iter=10000']\n",
            "09:39:52 - cmdstanpy - INFO - Chain [1] start processing\n",
            "INFO:cmdstanpy:Chain [1] start processing\n"
          ]
        },
        {
          "output_type": "stream",
          "name": "stdout",
          "text": [
            "Model Number: 326 with model FBProphet in generation 2 of 10\n"
          ]
        },
        {
          "output_type": "stream",
          "name": "stderr",
          "text": [
            "09:39:52 - cmdstanpy - INFO - Chain [1] done processing\n",
            "INFO:cmdstanpy:Chain [1] done processing\n"
          ]
        },
        {
          "output_type": "stream",
          "name": "stdout",
          "text": [
            "Model Number: 327 with model LastValueNaive in generation 2 of 10\n",
            "Model Number: 328 with model ARIMA in generation 2 of 10\n",
            "Model Number: 329 with model SectionalMotif in generation 2 of 10\n",
            "Model Number: 330 with model DatepartRegression in generation 2 of 10\n",
            "Model Number: 331 with model MetricMotif in generation 2 of 10\n",
            "Model Number: 332 with model SectionalMotif in generation 2 of 10\n",
            "Model Number: 333 with model LastValueNaive in generation 2 of 10\n",
            "Model Number: 334 with model WindowRegression in generation 2 of 10\n",
            "Model Number: 335 with model Theta in generation 2 of 10\n",
            "Model Number: 336 with model AverageValueNaive in generation 2 of 10\n",
            "Model Number: 337 with model MetricMotif in generation 2 of 10\n",
            "Model Number: 338 with model UnobservedComponents in generation 2 of 10\n",
            "Model Number: 339 with model UnivariateMotif in generation 2 of 10\n",
            "Model Number: 340 with model NVAR in generation 2 of 10\n",
            "Model Number: 341 with model SeasonalNaive in generation 2 of 10\n",
            "Model Number: 342 with model ETS in generation 2 of 10\n",
            "Model Number: 343 with model DatepartRegression in generation 2 of 10\n",
            "Model Number: 344 with model Theta in generation 2 of 10\n",
            "Model Number: 345 with model Theta in generation 2 of 10\n",
            "Model Number: 346 with model DatepartRegression in generation 2 of 10\n",
            "HolidayTransformer: no anomalies detected.\n",
            "Epoch 1/500\n",
            "3/3 [==============================] - 6s 382ms/step - loss: 856147.3125 - val_loss: 355922.0625\n",
            "Epoch 2/500\n",
            "3/3 [==============================] - 0s 90ms/step - loss: 818511.5625 - val_loss: 252647.4688\n",
            "Epoch 3/500\n",
            "3/3 [==============================] - 0s 82ms/step - loss: 642459.5000 - val_loss: 100336.7188\n",
            "Epoch 4/500\n",
            "3/3 [==============================] - 0s 91ms/step - loss: 660832.5000 - val_loss: 41308.3398\n",
            "Epoch 5/500\n",
            "3/3 [==============================] - 0s 84ms/step - loss: 695858.3125 - val_loss: 28551.9219\n",
            "Epoch 6/500\n",
            "3/3 [==============================] - 0s 73ms/step - loss: 653224.3750 - val_loss: 2124.5327\n",
            "Epoch 7/500\n",
            "3/3 [==============================] - 0s 65ms/step - loss: 668544.3125 - val_loss: 9580.1133\n",
            "Epoch 8/500\n",
            "3/3 [==============================] - 0s 76ms/step - loss: 627589.8750 - val_loss: 43150.9180\n",
            "Epoch 9/500\n",
            "3/3 [==============================] - 0s 76ms/step - loss: 611706.5000 - val_loss: 2018.0278\n",
            "Epoch 10/500\n",
            "3/3 [==============================] - 0s 65ms/step - loss: 608328.9375 - val_loss: 3329.1594\n",
            "Epoch 11/500\n",
            "3/3 [==============================] - 0s 72ms/step - loss: 699044.9375 - val_loss: 20591.3848\n",
            "Epoch 12/500\n",
            "3/3 [==============================] - 0s 67ms/step - loss: 719241.5000 - val_loss: 48817.4062\n",
            "Epoch 13/500\n",
            "3/3 [==============================] - 0s 79ms/step - loss: 634261.5000 - val_loss: 1523.8738\n",
            "Epoch 14/500\n",
            "3/3 [==============================] - 0s 74ms/step - loss: 691298.3125 - val_loss: 39207.5352\n",
            "Epoch 15/500\n",
            "3/3 [==============================] - 0s 64ms/step - loss: 649634.3750 - val_loss: 16715.2793\n",
            "Epoch 16/500\n",
            "3/3 [==============================] - 0s 72ms/step - loss: 656793.1250 - val_loss: 95543.2109\n",
            "Epoch 17/500\n",
            "3/3 [==============================] - 0s 87ms/step - loss: 574368.3125 - val_loss: 61374.3203\n",
            "Epoch 18/500\n",
            "3/3 [==============================] - 0s 106ms/step - loss: 687768.6875 - val_loss: 1648.8958\n",
            "Epoch 19/500\n",
            "3/3 [==============================] - 0s 109ms/step - loss: 669095.1250 - val_loss: 35071.1758\n",
            "Epoch 20/500\n",
            "3/3 [==============================] - 0s 120ms/step - loss: 604737.2500 - val_loss: 27554.4902\n",
            "Epoch 21/500\n",
            "3/3 [==============================] - 0s 102ms/step - loss: 626540.2500 - val_loss: 6184.1421\n",
            "Epoch 22/500\n",
            "3/3 [==============================] - 0s 112ms/step - loss: 599719.5625 - val_loss: 32406.1699\n",
            "Epoch 23/500\n",
            "3/3 [==============================] - 0s 135ms/step - loss: 610837.3125 - val_loss: 14353.2734\n",
            "1/1 [==============================] - 1s 713ms/step\n",
            "Template Eval Error: ValueError('Model DatepartRegression returned NaN for one or more series. fail_on_forecast_nan=True') in model 346: DatepartRegression\n",
            "Model Number: 347 with model Theta in generation 2 of 10\n",
            "Model Number: 348 with model DatepartRegression in generation 2 of 10\n",
            "Model Number: 349 with model ConstantNaive in generation 2 of 10\n",
            "Model Number: 350 with model UnobservedComponents in generation 2 of 10\n",
            "Model Number: 351 with model ETS in generation 2 of 10\n",
            "ETS error ValueError('endog must be strictly positive when usingmultiplicative trend or seasonal components.')\n",
            "ETS failed on Close with ValueError('endog must be strictly positive when usingmultiplicative trend or seasonal components.')\n",
            "Model Number: 352 with model Theta in generation 2 of 10\n",
            "Model Number: 353 with model ARIMA in generation 2 of 10\n",
            "Model Number: 354 with model NVAR in generation 2 of 10\n",
            "Model Number: 355 with model UnobservedComponents in generation 2 of 10\n",
            "Model Number: 356 with model SeasonalNaive in generation 2 of 10\n",
            "Model Number: 357 with model SectionalMotif in generation 2 of 10\n",
            "Model Number: 358 with model LastValueNaive in generation 2 of 10\n",
            "Model Number: 359 with model WindowRegression in generation 2 of 10\n",
            "Model Number: 360 with model MetricMotif in generation 2 of 10\n"
          ]
        },
        {
          "output_type": "stream",
          "name": "stderr",
          "text": [
            "/usr/local/lib/python3.8/dist-packages/sklearn/svm/_base.py:1206: ConvergenceWarning:\n",
            "\n",
            "Liblinear failed to converge, increase the number of iterations.\n",
            "\n"
          ]
        },
        {
          "output_type": "stream",
          "name": "stdout",
          "text": [
            "Model Number: 361 with model NVAR in generation 2 of 10\n",
            "Model Number: 362 with model ARIMA in generation 2 of 10\n",
            "Model Number: 363 with model SeasonalNaive in generation 2 of 10\n",
            "Model Number: 364 with model Theta in generation 2 of 10\n",
            "Model Number: 365 with model MultivariateMotif in generation 2 of 10\n",
            "Model Number: 366 with model ConstantNaive in generation 2 of 10\n",
            "Model Number: 367 with model ETS in generation 2 of 10\n",
            "Model Number: 368 with model Theta in generation 2 of 10\n",
            "Model Number: 369 with model ETS in generation 2 of 10\n",
            "Model Number: 370 with model ARIMA in generation 2 of 10\n",
            "Model Number: 371 with model AverageValueNaive in generation 2 of 10\n",
            "Model Number: 372 with model ARIMA in generation 2 of 10\n",
            "Model Number: 373 with model NVAR in generation 2 of 10\n",
            "Model Number: 374 with model SectionalMotif in generation 2 of 10\n",
            "Model Number: 375 with model MetricMotif in generation 2 of 10\n",
            "Model Number: 376 with model NVAR in generation 2 of 10\n",
            "Model Number: 377 with model ETS in generation 2 of 10\n",
            "Model Number: 378 with model UnobservedComponents in generation 2 of 10\n",
            "Model Number: 379 with model LastValueNaive in generation 2 of 10\n",
            "Model Number: 380 with model LastValueNaive in generation 2 of 10\n",
            "Model Number: 381 with model WindowRegression in generation 2 of 10\n",
            "Model Number: 382 with model ETS in generation 2 of 10\n",
            "ETS error ValueError('endog must be strictly positive when usingmultiplicative trend or seasonal components.')\n",
            "ETS failed on Close with ValueError('endog must be strictly positive when usingmultiplicative trend or seasonal components.')\n"
          ]
        },
        {
          "output_type": "stream",
          "name": "stderr",
          "text": [
            "/usr/local/lib/python3.8/dist-packages/sklearn/neural_network/_multilayer_perceptron.py:549: ConvergenceWarning:\n",
            "\n",
            "lbfgs failed to converge (status=1):\n",
            "STOP: TOTAL NO. of ITERATIONS REACHED LIMIT.\n",
            "\n",
            "Increase the number of iterations (max_iter) or scale the data as shown in:\n",
            "    https://scikit-learn.org/stable/modules/preprocessing.html\n",
            "\n"
          ]
        },
        {
          "output_type": "stream",
          "name": "stdout",
          "text": [
            "Model Number: 383 with model SeasonalNaive in generation 2 of 10\n",
            "Model Number: 384 with model ETS in generation 2 of 10\n",
            "Model Number: 385 with model MultivariateRegression in generation 2 of 10\n",
            "Template Eval Error: ValueError(\"Input contains NaN, infinity or a value too large for dtype('float32').\") in model 385: MultivariateRegression\n",
            "Model Number: 386 with model SeasonalNaive in generation 2 of 10\n",
            "Model Number: 387 with model Theta in generation 2 of 10\n"
          ]
        },
        {
          "output_type": "stream",
          "name": "stderr",
          "text": [
            "/usr/local/lib/python3.8/dist-packages/numpy/lib/function_base.py:2683: RuntimeWarning:\n",
            "\n",
            "Degrees of freedom <= 0 for slice\n",
            "\n",
            "/usr/local/lib/python3.8/dist-packages/numpy/lib/function_base.py:2683: RuntimeWarning:\n",
            "\n",
            "Degrees of freedom <= 0 for slice\n",
            "\n"
          ]
        },
        {
          "output_type": "stream",
          "name": "stdout",
          "text": [
            "Model Number: 388 with model ARIMA in generation 2 of 10\n",
            "Model Number: 389 with model ETS in generation 2 of 10\n",
            "Model Number: 390 with model MultivariateMotif in generation 2 of 10\n",
            "Model Number: 391 with model ETS in generation 2 of 10\n",
            "Model Number: 392 with model AverageValueNaive in generation 2 of 10\n",
            "Model Number: 393 with model NVAR in generation 2 of 10\n",
            "Model Number: 394 with model DatepartRegression in generation 2 of 10\n",
            "Model Number: 395 with model UnobservedComponents in generation 2 of 10\n",
            "Model Number: 396 with model Theta in generation 2 of 10\n",
            "Model Number: 397 with model ARIMA in generation 2 of 10\n",
            "Model Number: 398 with model LastValueNaive in generation 2 of 10\n",
            "Model Number: 399 with model GLS in generation 2 of 10\n",
            "Model Number: 400 with model AverageValueNaive in generation 2 of 10\n",
            "Model Number: 401 with model SectionalMotif in generation 2 of 10\n",
            "Model Number: 402 with model GLM in generation 2 of 10\n",
            "Model Number: 403 with model MetricMotif in generation 2 of 10\n",
            "Model Number: 404 with model LastValueNaive in generation 2 of 10\n",
            "Model Number: 405 with model NVAR in generation 2 of 10\n",
            "Model Number: 406 with model AverageValueNaive in generation 2 of 10\n",
            "Model Number: 407 with model ConstantNaive in generation 2 of 10\n",
            "Model Number: 408 with model NVAR in generation 2 of 10\n",
            "Model Number: 409 with model NVAR in generation 2 of 10\n",
            "Model Number: 410 with model MultivariateMotif in generation 2 of 10\n",
            "Model Number: 411 with model SectionalMotif in generation 2 of 10\n",
            "Model Number: 412 with model UnobservedComponents in generation 2 of 10\n",
            "Model Number: 413 with model LastValueNaive in generation 2 of 10\n",
            "Model Number: 414 with model AverageValueNaive in generation 2 of 10\n",
            "Model Number: 415 with model MetricMotif in generation 2 of 10\n"
          ]
        },
        {
          "output_type": "stream",
          "name": "stderr",
          "text": [
            "INFO:prophet:Disabling yearly seasonality. Run prophet with yearly_seasonality=True to override this.\n",
            "INFO:prophet:Disabling daily seasonality. Run prophet with daily_seasonality=True to override this.\n",
            "DEBUG:cmdstanpy:input tempfile: /tmp/tmp09dakauk/kvhw4_ci.json\n",
            "DEBUG:cmdstanpy:input tempfile: /tmp/tmp09dakauk/20xnh9ab.json\n",
            "DEBUG:cmdstanpy:idx 0\n"
          ]
        },
        {
          "output_type": "stream",
          "name": "stdout",
          "text": [
            "Model Number: 416 with model FBProphet in generation 2 of 10\n"
          ]
        },
        {
          "output_type": "stream",
          "name": "stderr",
          "text": [
            "DEBUG:cmdstanpy:running CmdStan, num_threads: None\n",
            "DEBUG:cmdstanpy:CmdStan args: ['/usr/local/lib/python3.8/dist-packages/prophet/stan_model/prophet_model.bin', 'random', 'seed=20186', 'data', 'file=/tmp/tmp09dakauk/kvhw4_ci.json', 'init=/tmp/tmp09dakauk/20xnh9ab.json', 'output', 'file=/tmp/tmp09dakauk/prophet_modelx0fptw63/prophet_model-20230216094100.csv', 'method=optimize', 'algorithm=lbfgs', 'iter=10000']\n",
            "09:41:00 - cmdstanpy - INFO - Chain [1] start processing\n",
            "INFO:cmdstanpy:Chain [1] start processing\n",
            "09:41:00 - cmdstanpy - INFO - Chain [1] done processing\n",
            "INFO:cmdstanpy:Chain [1] done processing\n"
          ]
        },
        {
          "output_type": "stream",
          "name": "stdout",
          "text": [
            "Model Number: 417 with model ARIMA in generation 2 of 10\n",
            "Model Number: 418 with model ARIMA in generation 2 of 10\n",
            "Model Number: 419 with model Theta in generation 2 of 10\n",
            "Model Number: 420 with model MetricMotif in generation 2 of 10\n",
            "Model Number: 421 with model GLM in generation 2 of 10\n",
            "Model Number: 422 with model SeasonalNaive in generation 2 of 10\n",
            "Model Number: 423 with model UnobservedComponents in generation 2 of 10\n"
          ]
        },
        {
          "output_type": "stream",
          "name": "stderr",
          "text": [
            "/usr/local/lib/python3.8/dist-packages/statsmodels/genmod/families/links.py:188: RuntimeWarning:\n",
            "\n",
            "overflow encountered in exp\n",
            "\n"
          ]
        },
        {
          "output_type": "stream",
          "name": "stdout",
          "text": [
            "Model Number: 424 with model UnobservedComponents in generation 2 of 10\n",
            "Model Number: 425 with model MultivariateMotif in generation 2 of 10\n",
            "Model Number: 426 with model ARIMA in generation 2 of 10\n",
            "Model Number: 427 with model ETS in generation 2 of 10\n",
            "Model Number: 428 with model NVAR in generation 2 of 10\n",
            "Model Number: 429 with model SeasonalNaive in generation 2 of 10\n",
            "Template Eval Error: Exception('Transformer Detrend failed on fit') in model 429: SeasonalNaive\n",
            "Model Number: 430 with model SectionalMotif in generation 2 of 10\n",
            "Model Number: 431 with model MultivariateRegression in generation 2 of 10\n",
            "Template Eval Error: Exception('Transformer Detrend failed on fit') in model 431: MultivariateRegression\n",
            "Model Number: 432 with model SeasonalNaive in generation 2 of 10\n",
            "Template Eval Error: Exception('Transformer Cointegration failed on fit') in model 432: SeasonalNaive\n",
            "Model Number: 433 with model MultivariateRegression in generation 2 of 10\n",
            "Model Number: 434 with model NVAR in generation 2 of 10\n"
          ]
        },
        {
          "output_type": "stream",
          "name": "stderr",
          "text": [
            "/usr/local/lib/python3.8/dist-packages/sklearn/neural_network/_multilayer_perceptron.py:549: ConvergenceWarning:\n",
            "\n",
            "lbfgs failed to converge (status=1):\n",
            "STOP: TOTAL NO. of ITERATIONS REACHED LIMIT.\n",
            "\n",
            "Increase the number of iterations (max_iter) or scale the data as shown in:\n",
            "    https://scikit-learn.org/stable/modules/preprocessing.html\n",
            "\n"
          ]
        },
        {
          "output_type": "stream",
          "name": "stdout",
          "text": [
            "Model Number: 435 with model SeasonalNaive in generation 2 of 10\n",
            "Model Number: 436 with model UnobservedComponents in generation 2 of 10\n",
            "New Generation: 3 of 10\n",
            "Model Number: 437 with model LastValueNaive in generation 3 of 10\n",
            "Model Number: 438 with model ETS in generation 3 of 10\n",
            "Model Number: 439 with model AverageValueNaive in generation 3 of 10\n",
            "Model Number: 440 with model SectionalMotif in generation 3 of 10\n",
            "Model Number: 441 with model NVAR in generation 3 of 10\n",
            "Model Number: 442 with model NVAR in generation 3 of 10\n",
            "Model Number: 443 with model DatepartRegression in generation 3 of 10\n",
            "Epoch 1/50\n",
            "22/22 [==============================] - 8s 7ms/step - loss: 0.5033\n",
            "Epoch 2/50\n",
            "22/22 [==============================] - 0s 7ms/step - loss: 0.3501\n",
            "Epoch 3/50\n",
            "22/22 [==============================] - 0s 7ms/step - loss: 0.2946\n",
            "Epoch 4/50\n",
            "22/22 [==============================] - 0s 7ms/step - loss: 0.2713\n",
            "Epoch 5/50\n",
            "22/22 [==============================] - 0s 7ms/step - loss: 0.2592\n",
            "Epoch 6/50\n",
            "22/22 [==============================] - 0s 7ms/step - loss: 0.2494\n",
            "Epoch 7/50\n",
            "22/22 [==============================] - 0s 7ms/step - loss: 0.2380\n",
            "Epoch 8/50\n",
            "22/22 [==============================] - 0s 7ms/step - loss: 0.2446\n",
            "Epoch 9/50\n",
            "22/22 [==============================] - 0s 7ms/step - loss: 0.2530\n",
            "Epoch 10/50\n",
            "22/22 [==============================] - 0s 7ms/step - loss: 0.2494\n",
            "Epoch 11/50\n",
            "22/22 [==============================] - 0s 7ms/step - loss: 0.2451\n",
            "Epoch 12/50\n",
            "22/22 [==============================] - 0s 7ms/step - loss: 0.2442\n",
            "Epoch 13/50\n",
            "22/22 [==============================] - 0s 8ms/step - loss: 0.2404\n",
            "Epoch 14/50\n",
            "22/22 [==============================] - 0s 7ms/step - loss: 0.2380\n",
            "Epoch 15/50\n",
            "22/22 [==============================] - 0s 7ms/step - loss: 0.2469\n",
            "Epoch 16/50\n",
            "22/22 [==============================] - 0s 7ms/step - loss: 0.2480\n",
            "Epoch 17/50\n",
            "22/22 [==============================] - 0s 7ms/step - loss: 0.2402\n",
            "Epoch 18/50\n",
            "22/22 [==============================] - 0s 7ms/step - loss: 0.2382\n",
            "Epoch 19/50\n",
            "22/22 [==============================] - 0s 7ms/step - loss: 0.2367\n",
            "Epoch 20/50\n",
            "22/22 [==============================] - 0s 7ms/step - loss: 0.2433\n",
            "Epoch 21/50\n",
            "22/22 [==============================] - 0s 7ms/step - loss: 0.2431\n",
            "Epoch 22/50\n",
            "22/22 [==============================] - 0s 8ms/step - loss: 0.2408\n",
            "Epoch 23/50\n",
            "22/22 [==============================] - 0s 7ms/step - loss: 0.2468\n",
            "Epoch 24/50\n",
            "22/22 [==============================] - 0s 7ms/step - loss: 0.2384\n",
            "Epoch 25/50\n",
            "22/22 [==============================] - 0s 8ms/step - loss: 0.2398\n",
            "Epoch 26/50\n",
            "22/22 [==============================] - 0s 8ms/step - loss: 0.2402\n",
            "Epoch 27/50\n",
            "22/22 [==============================] - 0s 8ms/step - loss: 0.2469\n",
            "Epoch 28/50\n",
            "22/22 [==============================] - 0s 7ms/step - loss: 0.2466\n",
            "Epoch 29/50\n",
            "22/22 [==============================] - 0s 7ms/step - loss: 0.2464\n",
            "Epoch 30/50\n",
            "22/22 [==============================] - 0s 7ms/step - loss: 0.2439\n",
            "Epoch 31/50\n",
            "22/22 [==============================] - 0s 7ms/step - loss: 0.2474\n",
            "Epoch 32/50\n",
            "22/22 [==============================] - 0s 9ms/step - loss: 0.2463\n",
            "Epoch 33/50\n",
            "22/22 [==============================] - 0s 9ms/step - loss: 0.2448\n",
            "Epoch 34/50\n",
            "22/22 [==============================] - 0s 9ms/step - loss: 0.2418\n",
            "Epoch 35/50\n",
            "22/22 [==============================] - 0s 9ms/step - loss: 0.2437\n",
            "Epoch 36/50\n",
            "22/22 [==============================] - 0s 9ms/step - loss: 0.2501\n",
            "Epoch 37/50\n",
            "22/22 [==============================] - 0s 10ms/step - loss: 0.2520\n",
            "Epoch 38/50\n",
            "22/22 [==============================] - 0s 9ms/step - loss: 0.2382\n",
            "Epoch 39/50\n",
            "22/22 [==============================] - 0s 9ms/step - loss: 0.2413\n",
            "Epoch 40/50\n",
            "22/22 [==============================] - 0s 9ms/step - loss: 0.2417\n",
            "Epoch 41/50\n",
            "22/22 [==============================] - 0s 9ms/step - loss: 0.2449\n",
            "Epoch 42/50\n",
            "22/22 [==============================] - 0s 9ms/step - loss: 0.2407\n",
            "Epoch 43/50\n",
            "22/22 [==============================] - 0s 8ms/step - loss: 0.2451\n",
            "Epoch 44/50\n",
            "22/22 [==============================] - 0s 14ms/step - loss: 0.2478\n",
            "Epoch 45/50\n",
            "22/22 [==============================] - 0s 11ms/step - loss: 0.2449\n",
            "Epoch 46/50\n",
            "22/22 [==============================] - 0s 9ms/step - loss: 0.2414\n",
            "Epoch 47/50\n",
            "22/22 [==============================] - 0s 9ms/step - loss: 0.2434\n",
            "Epoch 48/50\n",
            "22/22 [==============================] - 0s 10ms/step - loss: 0.2450\n",
            "Epoch 49/50\n",
            "22/22 [==============================] - 0s 10ms/step - loss: 0.2437\n",
            "Epoch 50/50\n",
            "22/22 [==============================] - 0s 9ms/step - loss: 0.2470\n",
            "1/1 [==============================] - 1s 1s/step\n",
            "Model Number: 444 with model SectionalMotif in generation 3 of 10\n",
            "Model Number: 445 with model ARIMA in generation 3 of 10\n",
            "Model Number: 446 with model NVAR in generation 3 of 10\n",
            "Model Number: 447 with model Theta in generation 3 of 10\n",
            "Template Eval Error: Exception('Transformer FastICA failed on fit') in model 447: Theta\n",
            "Model Number: 448 with model MultivariateRegression in generation 3 of 10\n",
            "Template Eval Error: ValueError(\"regression_type='User' but not future_regressor supplied.\") in model 448: MultivariateRegression\n",
            "Model Number: 449 with model Theta in generation 3 of 10\n"
          ]
        },
        {
          "output_type": "stream",
          "name": "stderr",
          "text": [
            "/usr/local/lib/python3.8/dist-packages/sklearn/decomposition/_fastica.py:84: RuntimeWarning:\n",
            "\n",
            "invalid value encountered in true_divide\n",
            "\n"
          ]
        },
        {
          "output_type": "stream",
          "name": "stdout",
          "text": [
            "Model Number: 450 with model SectionalMotif in generation 3 of 10\n",
            "Model Number: 451 with model NVAR in generation 3 of 10\n",
            "Model Number: 452 with model WindowRegression in generation 3 of 10\n"
          ]
        },
        {
          "output_type": "stream",
          "name": "stderr",
          "text": [
            "/usr/local/lib/python3.8/dist-packages/sklearn/neural_network/_multilayer_perceptron.py:549: ConvergenceWarning:\n",
            "\n",
            "lbfgs failed to converge (status=1):\n",
            "STOP: TOTAL NO. of ITERATIONS REACHED LIMIT.\n",
            "\n",
            "Increase the number of iterations (max_iter) or scale the data as shown in:\n",
            "    https://scikit-learn.org/stable/modules/preprocessing.html\n",
            "\n"
          ]
        },
        {
          "output_type": "stream",
          "name": "stdout",
          "text": [
            "Model Number: 453 with model UnobservedComponents in generation 3 of 10\n",
            "Model Number: 454 with model GLS in generation 3 of 10\n",
            "Model Number: 455 with model ETS in generation 3 of 10\n",
            "Model Number: 456 with model UnivariateMotif in generation 3 of 10\n",
            "Model Number: 457 with model ARIMA in generation 3 of 10\n",
            "Model Number: 458 with model WindowRegression in generation 3 of 10\n",
            "Model Number: 459 with model DatepartRegression in generation 3 of 10\n",
            "Model Number: 460 with model SeasonalNaive in generation 3 of 10\n",
            "Model Number: 461 with model MultivariateRegression in generation 3 of 10\n"
          ]
        },
        {
          "output_type": "stream",
          "name": "stderr",
          "text": [
            "[Parallel(n_jobs=-2)]: Using backend SequentialBackend with 1 concurrent workers.\n",
            "[Parallel(n_jobs=-2)]: Done 200 out of 200 | elapsed:    0.2s finished\n",
            "[Parallel(n_jobs=1)]: Using backend SequentialBackend with 1 concurrent workers.\n",
            "[Parallel(n_jobs=1)]: Done 200 out of 200 | elapsed:    0.0s finished\n",
            "[Parallel(n_jobs=1)]: Using backend SequentialBackend with 1 concurrent workers.\n",
            "[Parallel(n_jobs=1)]: Done 200 out of 200 | elapsed:    0.0s finished\n",
            "[Parallel(n_jobs=1)]: Using backend SequentialBackend with 1 concurrent workers.\n",
            "[Parallel(n_jobs=1)]: Done 200 out of 200 | elapsed:    0.0s finished\n",
            "[Parallel(n_jobs=1)]: Using backend SequentialBackend with 1 concurrent workers.\n",
            "[Parallel(n_jobs=1)]: Done 200 out of 200 | elapsed:    0.0s finished\n",
            "[Parallel(n_jobs=1)]: Using backend SequentialBackend with 1 concurrent workers.\n",
            "[Parallel(n_jobs=1)]: Done 200 out of 200 | elapsed:    0.0s finished\n",
            "[Parallel(n_jobs=1)]: Using backend SequentialBackend with 1 concurrent workers.\n",
            "[Parallel(n_jobs=1)]: Done 200 out of 200 | elapsed:    0.0s finished\n",
            "[Parallel(n_jobs=1)]: Using backend SequentialBackend with 1 concurrent workers.\n",
            "[Parallel(n_jobs=1)]: Done 200 out of 200 | elapsed:    0.0s finished\n",
            "[Parallel(n_jobs=1)]: Using backend SequentialBackend with 1 concurrent workers.\n"
          ]
        },
        {
          "output_type": "stream",
          "name": "stdout",
          "text": [
            "Model Number: 462 with model NVAR in generation 3 of 10\n"
          ]
        },
        {
          "output_type": "stream",
          "name": "stderr",
          "text": [
            "[Parallel(n_jobs=1)]: Done 200 out of 200 | elapsed:    0.0s finished\n",
            "[Parallel(n_jobs=1)]: Using backend SequentialBackend with 1 concurrent workers.\n",
            "[Parallel(n_jobs=1)]: Done 200 out of 200 | elapsed:    0.0s finished\n",
            "[Parallel(n_jobs=1)]: Using backend SequentialBackend with 1 concurrent workers.\n",
            "[Parallel(n_jobs=1)]: Done 200 out of 200 | elapsed:    0.0s finished\n"
          ]
        },
        {
          "output_type": "stream",
          "name": "stdout",
          "text": [
            "Model Number: 463 with model MetricMotif in generation 3 of 10\n",
            "Model Number: 464 with model ARIMA in generation 3 of 10\n"
          ]
        },
        {
          "output_type": "stream",
          "name": "stderr",
          "text": [
            "/usr/local/lib/python3.8/dist-packages/sklearn/preprocessing/_data.py:3253: RuntimeWarning:\n",
            "\n",
            "divide by zero encountered in log\n",
            "\n"
          ]
        },
        {
          "output_type": "stream",
          "name": "stdout",
          "text": [
            "Model Number: 465 with model MetricMotif in generation 3 of 10\n"
          ]
        },
        {
          "output_type": "stream",
          "name": "stderr",
          "text": [
            "/usr/local/lib/python3.8/dist-packages/sklearn/preprocessing/_data.py:3196: RuntimeWarning:\n",
            "\n",
            "divide by zero encountered in power\n",
            "\n"
          ]
        },
        {
          "output_type": "stream",
          "name": "stdout",
          "text": [
            "Model Number: 466 with model Theta in generation 3 of 10\n",
            "Model Number: 467 with model SeasonalNaive in generation 3 of 10\n",
            "Template Eval Error: Exception('Transformer Cointegration failed on fit') in model 467: SeasonalNaive\n",
            "Model Number: 468 with model WindowRegression in generation 3 of 10\n",
            "Model Number: 469 with model LastValueNaive in generation 3 of 10\n",
            "Model Number: 470 with model WindowRegression in generation 3 of 10\n"
          ]
        },
        {
          "output_type": "stream",
          "name": "stderr",
          "text": [
            "/usr/local/lib/python3.8/dist-packages/sklearn/neural_network/_multilayer_perceptron.py:549: ConvergenceWarning:\n",
            "\n",
            "lbfgs failed to converge (status=1):\n",
            "STOP: TOTAL NO. of ITERATIONS REACHED LIMIT.\n",
            "\n",
            "Increase the number of iterations (max_iter) or scale the data as shown in:\n",
            "    https://scikit-learn.org/stable/modules/preprocessing.html\n",
            "\n"
          ]
        },
        {
          "output_type": "stream",
          "name": "stdout",
          "text": [
            "Model Number: 471 with model UnobservedComponents in generation 3 of 10\n",
            "Model Number: 472 with model SectionalMotif in generation 3 of 10\n",
            "Model Number: 473 with model MultivariateMotif in generation 3 of 10\n",
            "Model Number: 474 with model UnivariateMotif in generation 3 of 10\n",
            "Model Number: 475 with model LastValueNaive in generation 3 of 10\n",
            "Model Number: 476 with model Theta in generation 3 of 10\n",
            "Model Number: 477 with model MetricMotif in generation 3 of 10\n",
            "Model Number: 478 with model ARIMA in generation 3 of 10\n",
            "Model Number: 479 with model ETS in generation 3 of 10\n",
            "Model Number: 480 with model ETS in generation 3 of 10\n",
            "Model Number: 481 with model MetricMotif in generation 3 of 10\n"
          ]
        },
        {
          "output_type": "stream",
          "name": "stderr",
          "text": [
            "/usr/local/lib/python3.8/dist-packages/sklearn/linear_model/_ridge.py:157: LinAlgWarning:\n",
            "\n",
            "Ill-conditioned matrix (rcond=7.7081e-25): result may not be accurate.\n",
            "\n"
          ]
        },
        {
          "output_type": "stream",
          "name": "stdout",
          "text": [
            "Model Number: 482 with model MultivariateMotif in generation 3 of 10\n",
            "Template Eval Error: Exception('Transformer Detrend failed on fit') in model 482: MultivariateMotif\n",
            "Model Number: 483 with model WindowRegression in generation 3 of 10\n",
            "Template Eval Error: ValueError('Some value(s) of y are out of the valid range for family PoissonDistribution') in model 483: WindowRegression\n",
            "Model Number: 484 with model SectionalMotif in generation 3 of 10\n",
            "Model Number: 485 with model MultivariateRegression in generation 3 of 10\n"
          ]
        },
        {
          "output_type": "stream",
          "name": "stderr",
          "text": [
            "/usr/local/lib/python3.8/dist-packages/sklearn/experimental/enable_hist_gradient_boosting.py:16: UserWarning:\n",
            "\n",
            "Since version 1.0, it is not needed to import enable_hist_gradient_boosting anymore. HistGradientBoostingClassifier and HistGradientBoostingRegressor are now stable and can be normally imported from sklearn.ensemble.\n",
            "\n"
          ]
        },
        {
          "output_type": "stream",
          "name": "stdout",
          "text": [
            "Model Number: 486 with model ARIMA in generation 3 of 10\n",
            "Model Number: 487 with model AverageValueNaive in generation 3 of 10\n",
            "Model Number: 488 with model DatepartRegression in generation 3 of 10\n",
            "Model Number: 489 with model Theta in generation 3 of 10\n",
            "Model Number: 490 with model DatepartRegression in generation 3 of 10\n",
            "Template Eval Error: ValueError(\"regression_type='User' but no future_regressor passed\") in model 490: DatepartRegression\n",
            "Model Number: 491 with model GLS in generation 3 of 10\n",
            "Model Number: 492 with model MetricMotif in generation 3 of 10\n",
            "Model Number: 493 with model GLM in generation 3 of 10\n",
            "Template Eval Error: ValueError('The first guess on the deviance function returned a nan.  This could be a boundary  problem and should be reported.') in model 493: GLM\n",
            "Model Number: 494 with model Theta in generation 3 of 10\n",
            "Model Number: 495 with model DatepartRegression in generation 3 of 10\n"
          ]
        },
        {
          "output_type": "stream",
          "name": "stderr",
          "text": [
            "/usr/local/lib/python3.8/dist-packages/statsmodels/genmod/families/family.py:1231: RuntimeWarning:\n",
            "\n",
            "invalid value encountered in log\n",
            "\n"
          ]
        },
        {
          "output_type": "stream",
          "name": "stdout",
          "text": [
            "Epoch 1/100\n",
            "6/6 [==============================] - 8s 9ms/step - loss: 0.3284\n",
            "Epoch 2/100\n",
            "6/6 [==============================] - 0s 11ms/step - loss: 0.2686\n",
            "Epoch 3/100\n",
            "6/6 [==============================] - 0s 10ms/step - loss: 0.2092\n",
            "Epoch 4/100\n",
            "6/6 [==============================] - 0s 9ms/step - loss: 0.1419\n",
            "Epoch 5/100\n",
            "6/6 [==============================] - 0s 12ms/step - loss: 0.0754\n",
            "Epoch 6/100\n",
            "6/6 [==============================] - 0s 10ms/step - loss: 0.0231\n",
            "Epoch 7/100\n",
            "6/6 [==============================] - 0s 10ms/step - loss: 0.0169\n",
            "Epoch 8/100\n",
            "6/6 [==============================] - 0s 12ms/step - loss: 0.0193\n",
            "Epoch 9/100\n",
            "6/6 [==============================] - 0s 10ms/step - loss: 0.0103\n",
            "Epoch 10/100\n",
            "6/6 [==============================] - 0s 10ms/step - loss: 0.0111\n",
            "Epoch 11/100\n",
            "6/6 [==============================] - 0s 9ms/step - loss: 0.0104\n",
            "Epoch 12/100\n",
            "6/6 [==============================] - 0s 9ms/step - loss: 0.0096\n",
            "Epoch 13/100\n",
            "6/6 [==============================] - 0s 9ms/step - loss: 0.0095\n",
            "Epoch 14/100\n",
            "6/6 [==============================] - 0s 9ms/step - loss: 0.0108\n",
            "Epoch 15/100\n",
            "6/6 [==============================] - 0s 14ms/step - loss: 0.0079\n",
            "Epoch 16/100\n",
            "6/6 [==============================] - 0s 9ms/step - loss: 0.0099\n",
            "Epoch 17/100\n",
            "6/6 [==============================] - 0s 12ms/step - loss: 0.0114\n",
            "Epoch 18/100\n",
            "6/6 [==============================] - 0s 8ms/step - loss: 0.0087\n",
            "Epoch 19/100\n",
            "6/6 [==============================] - 0s 8ms/step - loss: 0.0091\n",
            "Epoch 20/100\n",
            "6/6 [==============================] - 0s 11ms/step - loss: 0.0083\n",
            "Epoch 21/100\n",
            "6/6 [==============================] - 0s 8ms/step - loss: 0.0072\n",
            "Epoch 22/100\n",
            "6/6 [==============================] - 0s 8ms/step - loss: 0.0089\n",
            "Epoch 23/100\n",
            "6/6 [==============================] - 0s 8ms/step - loss: 0.0088\n",
            "Epoch 24/100\n",
            "6/6 [==============================] - 0s 8ms/step - loss: 0.0080\n",
            "Epoch 25/100\n",
            "6/6 [==============================] - 0s 8ms/step - loss: 0.0085\n",
            "Epoch 26/100\n",
            "6/6 [==============================] - 0s 8ms/step - loss: 0.0084\n",
            "Epoch 27/100\n",
            "6/6 [==============================] - 0s 8ms/step - loss: 0.0085\n",
            "Epoch 28/100\n",
            "6/6 [==============================] - 0s 7ms/step - loss: 0.0086\n",
            "Epoch 29/100\n",
            "6/6 [==============================] - 0s 8ms/step - loss: 0.0083\n",
            "Epoch 30/100\n",
            "6/6 [==============================] - 0s 8ms/step - loss: 0.0074\n",
            "Epoch 31/100\n",
            "6/6 [==============================] - 0s 9ms/step - loss: 0.0076\n",
            "Epoch 32/100\n",
            "6/6 [==============================] - 0s 8ms/step - loss: 0.0083\n",
            "Epoch 33/100\n",
            "6/6 [==============================] - 0s 8ms/step - loss: 0.0069\n",
            "Epoch 34/100\n",
            "6/6 [==============================] - 0s 10ms/step - loss: 0.0071\n",
            "Epoch 35/100\n",
            "6/6 [==============================] - 0s 10ms/step - loss: 0.0067\n",
            "Epoch 36/100\n",
            "6/6 [==============================] - 0s 10ms/step - loss: 0.0068\n",
            "Epoch 37/100\n",
            "6/6 [==============================] - 0s 10ms/step - loss: 0.0068\n",
            "Epoch 38/100\n",
            "6/6 [==============================] - 0s 9ms/step - loss: 0.0066\n",
            "Epoch 39/100\n",
            "6/6 [==============================] - 0s 9ms/step - loss: 0.0069\n",
            "Epoch 40/100\n",
            "6/6 [==============================] - 0s 9ms/step - loss: 0.0065\n",
            "Epoch 41/100\n",
            "6/6 [==============================] - 0s 10ms/step - loss: 0.0060\n",
            "Epoch 42/100\n",
            "6/6 [==============================] - 0s 10ms/step - loss: 0.0064\n",
            "Epoch 43/100\n",
            "6/6 [==============================] - 0s 9ms/step - loss: 0.0062\n",
            "Epoch 44/100\n",
            "6/6 [==============================] - 0s 9ms/step - loss: 0.0069\n",
            "Epoch 45/100\n",
            "6/6 [==============================] - 0s 12ms/step - loss: 0.0068\n",
            "Epoch 46/100\n",
            "6/6 [==============================] - 0s 10ms/step - loss: 0.0056\n",
            "Epoch 47/100\n",
            "6/6 [==============================] - 0s 9ms/step - loss: 0.0051\n",
            "Epoch 48/100\n",
            "6/6 [==============================] - 0s 14ms/step - loss: 0.0056\n",
            "Epoch 49/100\n",
            "6/6 [==============================] - 0s 9ms/step - loss: 0.0072\n",
            "Epoch 50/100\n",
            "6/6 [==============================] - 0s 8ms/step - loss: 0.0071\n",
            "Epoch 51/100\n",
            "6/6 [==============================] - 0s 8ms/step - loss: 0.0054\n",
            "Epoch 52/100\n",
            "6/6 [==============================] - 0s 8ms/step - loss: 0.0061\n",
            "Epoch 53/100\n",
            "6/6 [==============================] - 0s 12ms/step - loss: 0.0056\n",
            "Epoch 54/100\n",
            "6/6 [==============================] - 0s 8ms/step - loss: 0.0052\n",
            "Epoch 55/100\n",
            "6/6 [==============================] - 0s 8ms/step - loss: 0.0056\n",
            "Epoch 56/100\n",
            "6/6 [==============================] - 0s 8ms/step - loss: 0.0065\n",
            "Epoch 57/100\n",
            "6/6 [==============================] - 0s 8ms/step - loss: 0.0059\n",
            "Epoch 58/100\n",
            "6/6 [==============================] - 0s 7ms/step - loss: 0.0058\n",
            "Epoch 59/100\n",
            "6/6 [==============================] - 0s 9ms/step - loss: 0.0058\n",
            "Epoch 60/100\n",
            "6/6 [==============================] - 0s 8ms/step - loss: 0.0053\n",
            "Epoch 61/100\n",
            "6/6 [==============================] - 0s 8ms/step - loss: 0.0055\n",
            "Epoch 62/100\n",
            "6/6 [==============================] - 0s 8ms/step - loss: 0.0057\n",
            "Epoch 63/100\n",
            "6/6 [==============================] - 0s 9ms/step - loss: 0.0051\n",
            "Epoch 64/100\n",
            "6/6 [==============================] - 0s 8ms/step - loss: 0.0058\n",
            "Epoch 65/100\n",
            "6/6 [==============================] - 0s 9ms/step - loss: 0.0053\n",
            "Epoch 66/100\n",
            "6/6 [==============================] - 0s 9ms/step - loss: 0.0059\n",
            "Epoch 67/100\n",
            "6/6 [==============================] - 0s 10ms/step - loss: 0.0051\n",
            "Epoch 68/100\n",
            "6/6 [==============================] - 0s 9ms/step - loss: 0.0051\n",
            "Epoch 69/100\n",
            "6/6 [==============================] - 0s 14ms/step - loss: 0.0054\n",
            "Epoch 70/100\n",
            "6/6 [==============================] - 0s 14ms/step - loss: 0.0053\n",
            "Epoch 71/100\n",
            "6/6 [==============================] - 0s 16ms/step - loss: 0.0052\n",
            "Epoch 72/100\n",
            "6/6 [==============================] - 0s 14ms/step - loss: 0.0048\n",
            "Epoch 73/100\n",
            "6/6 [==============================] - 0s 13ms/step - loss: 0.0051\n",
            "Epoch 74/100\n",
            "6/6 [==============================] - 0s 14ms/step - loss: 0.0046\n",
            "Epoch 75/100\n",
            "6/6 [==============================] - 0s 15ms/step - loss: 0.0046\n",
            "Epoch 76/100\n",
            "6/6 [==============================] - 0s 14ms/step - loss: 0.0055\n",
            "Epoch 77/100\n",
            "6/6 [==============================] - 0s 16ms/step - loss: 0.0047\n",
            "Epoch 78/100\n",
            "6/6 [==============================] - 0s 15ms/step - loss: 0.0048\n",
            "Epoch 79/100\n",
            "6/6 [==============================] - 0s 14ms/step - loss: 0.0050\n",
            "Epoch 80/100\n",
            "6/6 [==============================] - 0s 13ms/step - loss: 0.0044\n",
            "Epoch 81/100\n",
            "6/6 [==============================] - 0s 14ms/step - loss: 0.0045\n",
            "Epoch 82/100\n",
            "6/6 [==============================] - 0s 14ms/step - loss: 0.0047\n",
            "Epoch 83/100\n",
            "6/6 [==============================] - 0s 13ms/step - loss: 0.0045\n",
            "Epoch 84/100\n",
            "6/6 [==============================] - 0s 14ms/step - loss: 0.0048\n",
            "Epoch 85/100\n",
            "6/6 [==============================] - 0s 14ms/step - loss: 0.0047\n",
            "Epoch 86/100\n",
            "6/6 [==============================] - 0s 12ms/step - loss: 0.0051\n",
            "Epoch 87/100\n",
            "6/6 [==============================] - 0s 14ms/step - loss: 0.0048\n",
            "Epoch 88/100\n",
            "6/6 [==============================] - 0s 13ms/step - loss: 0.0047\n",
            "Epoch 89/100\n",
            "6/6 [==============================] - 0s 15ms/step - loss: 0.0046\n",
            "Epoch 90/100\n",
            "6/6 [==============================] - 0s 14ms/step - loss: 0.0047\n",
            "Epoch 91/100\n",
            "6/6 [==============================] - 0s 13ms/step - loss: 0.0044\n",
            "Epoch 92/100\n",
            "6/6 [==============================] - 0s 12ms/step - loss: 0.0044\n",
            "Epoch 93/100\n",
            "6/6 [==============================] - 0s 13ms/step - loss: 0.0044\n",
            "Epoch 94/100\n",
            "6/6 [==============================] - 0s 12ms/step - loss: 0.0043\n",
            "Epoch 95/100\n",
            "6/6 [==============================] - 0s 12ms/step - loss: 0.0043\n",
            "Epoch 96/100\n",
            "6/6 [==============================] - 0s 13ms/step - loss: 0.0044\n",
            "Epoch 97/100\n",
            "6/6 [==============================] - 0s 13ms/step - loss: 0.0048\n",
            "Epoch 98/100\n",
            "6/6 [==============================] - 0s 13ms/step - loss: 0.0044\n",
            "Epoch 99/100\n",
            "6/6 [==============================] - 0s 13ms/step - loss: 0.0041\n",
            "Epoch 100/100\n",
            "6/6 [==============================] - 0s 12ms/step - loss: 0.0043\n",
            "1/1 [==============================] - 1s 1s/step\n",
            "Model Number: 496 with model DatepartRegression in generation 3 of 10\n",
            "Model Number: 497 with model SectionalMotif in generation 3 of 10\n",
            "Model Number: 498 with model NVAR in generation 3 of 10\n",
            "Model Number: 499 with model ARIMA in generation 3 of 10\n",
            "Model Number: 500 with model MetricMotif in generation 3 of 10\n",
            "Model Number: 501 with model SeasonalNaive in generation 3 of 10\n",
            "Model Number: 502 with model UnivariateMotif in generation 3 of 10\n",
            "Model Number: 503 with model ETS in generation 3 of 10\n",
            "Model Number: 504 with model SectionalMotif in generation 3 of 10\n",
            "Model Number: 505 with model WindowRegression in generation 3 of 10\n"
          ]
        },
        {
          "output_type": "stream",
          "name": "stderr",
          "text": [
            "/usr/local/lib/python3.8/dist-packages/sklearn/neural_network/_multilayer_perceptron.py:549: ConvergenceWarning:\n",
            "\n",
            "lbfgs failed to converge (status=1):\n",
            "STOP: TOTAL NO. of ITERATIONS REACHED LIMIT.\n",
            "\n",
            "Increase the number of iterations (max_iter) or scale the data as shown in:\n",
            "    https://scikit-learn.org/stable/modules/preprocessing.html\n",
            "\n"
          ]
        },
        {
          "output_type": "stream",
          "name": "stdout",
          "text": [
            "Model Number: 506 with model UnobservedComponents in generation 3 of 10\n",
            "Model Number: 507 with model ARIMA in generation 3 of 10\n",
            "Model Number: 508 with model UnobservedComponents in generation 3 of 10\n",
            "Model Number: 509 with model ARIMA in generation 3 of 10\n",
            "Model Number: 510 with model SeasonalNaive in generation 3 of 10\n",
            "Model Number: 511 with model ARIMA in generation 3 of 10\n",
            "Model Number: 512 with model UnobservedComponents in generation 3 of 10\n",
            "Template Eval Error: ValueError(\"regression_type='User' but no future_regressor supplied\") in model 512: UnobservedComponents\n",
            "Model Number: 513 with model MultivariateMotif in generation 3 of 10\n",
            "Model Number: 514 with model ARIMA in generation 3 of 10\n",
            "Model Number: 515 with model SeasonalNaive in generation 3 of 10\n",
            "Model Number: 516 with model LastValueNaive in generation 3 of 10\n",
            "Model Number: 517 with model ARIMA in generation 3 of 10\n"
          ]
        },
        {
          "output_type": "stream",
          "name": "stderr",
          "text": [
            "INFO:prophet:Disabling yearly seasonality. Run prophet with yearly_seasonality=True to override this.\n",
            "INFO:prophet:Disabling daily seasonality. Run prophet with daily_seasonality=True to override this.\n",
            "DEBUG:cmdstanpy:input tempfile: /tmp/tmp09dakauk/w7jtv10w.json\n",
            "DEBUG:cmdstanpy:input tempfile: /tmp/tmp09dakauk/f76aifpd.json\n",
            "DEBUG:cmdstanpy:idx 0\n",
            "DEBUG:cmdstanpy:running CmdStan, num_threads: None\n",
            "DEBUG:cmdstanpy:CmdStan args: ['/usr/local/lib/python3.8/dist-packages/prophet/stan_model/prophet_model.bin', 'random', 'seed=20144', 'data', 'file=/tmp/tmp09dakauk/w7jtv10w.json', 'init=/tmp/tmp09dakauk/f76aifpd.json', 'output', 'file=/tmp/tmp09dakauk/prophet_model88aadafe/prophet_model-20230216094314.csv', 'method=optimize', 'algorithm=lbfgs', 'iter=10000']\n",
            "09:43:14 - cmdstanpy - INFO - Chain [1] start processing\n",
            "INFO:cmdstanpy:Chain [1] start processing\n",
            "09:43:14 - cmdstanpy - INFO - Chain [1] done processing\n"
          ]
        },
        {
          "output_type": "stream",
          "name": "stdout",
          "text": [
            "Model Number: 518 with model FBProphet in generation 3 of 10\n"
          ]
        },
        {
          "output_type": "stream",
          "name": "stderr",
          "text": [
            "INFO:cmdstanpy:Chain [1] done processing\n"
          ]
        },
        {
          "output_type": "stream",
          "name": "stdout",
          "text": [
            "Model Number: 519 with model SectionalMotif in generation 3 of 10\n",
            "Model Number: 520 with model NVAR in generation 3 of 10\n",
            "Model Number: 521 with model LastValueNaive in generation 3 of 10\n",
            "Model Number: 522 with model UnobservedComponents in generation 3 of 10\n",
            "Model Number: 523 with model MultivariateRegression in generation 3 of 10\n"
          ]
        },
        {
          "output_type": "stream",
          "name": "stderr",
          "text": [
            "INFO:prophet:Disabling yearly seasonality. Run prophet with yearly_seasonality=True to override this.\n",
            "INFO:prophet:Disabling daily seasonality. Run prophet with daily_seasonality=True to override this.\n",
            "DEBUG:cmdstanpy:input tempfile: /tmp/tmp09dakauk/kcsbf3vh.json\n",
            "DEBUG:cmdstanpy:input tempfile: /tmp/tmp09dakauk/bbju_a__.json\n",
            "DEBUG:cmdstanpy:idx 0\n"
          ]
        },
        {
          "output_type": "stream",
          "name": "stdout",
          "text": [
            "Model Number: 524 with model FBProphet in generation 3 of 10\n"
          ]
        },
        {
          "output_type": "stream",
          "name": "stderr",
          "text": [
            "DEBUG:cmdstanpy:running CmdStan, num_threads: None\n",
            "DEBUG:cmdstanpy:CmdStan args: ['/usr/local/lib/python3.8/dist-packages/prophet/stan_model/prophet_model.bin', 'random', 'seed=72601', 'data', 'file=/tmp/tmp09dakauk/kcsbf3vh.json', 'init=/tmp/tmp09dakauk/bbju_a__.json', 'output', 'file=/tmp/tmp09dakauk/prophet_modelmzm105hl/prophet_model-20230216094316.csv', 'method=optimize', 'algorithm=lbfgs', 'iter=10000']\n",
            "09:43:16 - cmdstanpy - INFO - Chain [1] start processing\n",
            "INFO:cmdstanpy:Chain [1] start processing\n",
            "09:43:16 - cmdstanpy - INFO - Chain [1] done processing\n",
            "INFO:cmdstanpy:Chain [1] done processing\n"
          ]
        },
        {
          "output_type": "stream",
          "name": "stdout",
          "text": [
            "Model Number: 525 with model UnobservedComponents in generation 3 of 10\n",
            "Model Number: 526 with model Theta in generation 3 of 10\n",
            "Model Number: 527 with model MultivariateRegression in generation 3 of 10\n",
            "Model Number: 528 with model NVAR in generation 3 of 10\n",
            "Model Number: 529 with model GLM in generation 3 of 10\n",
            "Model Number: 530 with model SeasonalNaive in generation 3 of 10\n",
            "Model Number: 531 with model SectionalMotif in generation 3 of 10\n"
          ]
        },
        {
          "output_type": "stream",
          "name": "stderr",
          "text": [
            "/usr/local/lib/python3.8/dist-packages/statsmodels/genmod/families/links.py:188: RuntimeWarning:\n",
            "\n",
            "overflow encountered in exp\n",
            "\n"
          ]
        },
        {
          "output_type": "stream",
          "name": "stdout",
          "text": [
            "Model Number: 532 with model MetricMotif in generation 3 of 10\n",
            "Model Number: 533 with model NVAR in generation 3 of 10\n",
            "Template Eval Error: Exception('Transformer BTCD failed on fit') in model 533: NVAR\n",
            "Model Number: 534 with model MetricMotif in generation 3 of 10\n",
            "Template Eval Error: Exception('Transformer BTCD failed on fit') in model 534: MetricMotif\n",
            "Model Number: 535 with model LastValueNaive in generation 3 of 10\n",
            "Model Number: 536 with model AverageValueNaive in generation 3 of 10\n",
            "Model Number: 537 with model NVAR in generation 3 of 10\n",
            "Model Number: 538 with model MetricMotif in generation 3 of 10\n",
            "Model Number: 539 with model MultivariateMotif in generation 3 of 10\n",
            "Model Number: 540 with model ETS in generation 3 of 10\n",
            "Model Number: 541 with model AverageValueNaive in generation 3 of 10\n",
            "Model Number: 542 with model NVAR in generation 3 of 10\n",
            "Model Number: 543 with model DatepartRegression in generation 3 of 10\n",
            "Model Number: 544 with model MetricMotif in generation 3 of 10\n",
            "Model Number: 545 with model AverageValueNaive in generation 3 of 10\n",
            "Model Number: 546 with model SectionalMotif in generation 3 of 10\n",
            "Model Number: 547 with model LastValueNaive in generation 3 of 10\n",
            "Model Number: 548 with model MultivariateRegression in generation 3 of 10\n",
            "Model Number: 549 with model MetricMotif in generation 3 of 10\n",
            "Model Number: 550 with model ARIMA in generation 3 of 10\n",
            "Model Number: 551 with model MetricMotif in generation 3 of 10\n",
            "Model Number: 552 with model ETS in generation 3 of 10\n",
            "Model Number: 553 with model DatepartRegression in generation 3 of 10\n",
            "Template Eval Error: ValueError(\"regression_type='User' but no future_regressor passed\") in model 553: DatepartRegression\n",
            "Model Number: 554 with model Theta in generation 3 of 10\n",
            "Model Number: 555 with model NVAR in generation 3 of 10\n",
            "Model Number: 556 with model DatepartRegression in generation 3 of 10\n",
            "Template Eval Error: ValueError(\"regression_type='User' but no future_regressor passed\") in model 556: DatepartRegression\n",
            "Model Number: 557 with model SeasonalNaive in generation 3 of 10\n",
            "Model Number: 558 with model DatepartRegression in generation 3 of 10\n",
            "Model Number: 559 with model NVAR in generation 3 of 10\n"
          ]
        },
        {
          "output_type": "stream",
          "name": "stderr",
          "text": [
            "INFO:prophet:Disabling yearly seasonality. Run prophet with yearly_seasonality=True to override this.\n",
            "INFO:prophet:Disabling daily seasonality. Run prophet with daily_seasonality=True to override this.\n",
            "DEBUG:cmdstanpy:input tempfile: /tmp/tmp09dakauk/1fycozmw.json\n",
            "DEBUG:cmdstanpy:input tempfile: /tmp/tmp09dakauk/6byjf185.json\n",
            "DEBUG:cmdstanpy:idx 0\n",
            "DEBUG:cmdstanpy:running CmdStan, num_threads: None\n",
            "DEBUG:cmdstanpy:CmdStan args: ['/usr/local/lib/python3.8/dist-packages/prophet/stan_model/prophet_model.bin', 'random', 'seed=60610', 'data', 'file=/tmp/tmp09dakauk/1fycozmw.json', 'init=/tmp/tmp09dakauk/6byjf185.json', 'output', 'file=/tmp/tmp09dakauk/prophet_modelctnmi4so/prophet_model-20230216094404.csv', 'method=optimize', 'algorithm=lbfgs', 'iter=10000']\n",
            "09:44:04 - cmdstanpy - INFO - Chain [1] start processing\n",
            "INFO:cmdstanpy:Chain [1] start processing\n",
            "09:44:04 - cmdstanpy - INFO - Chain [1] done processing\n",
            "INFO:cmdstanpy:Chain [1] done processing\n"
          ]
        },
        {
          "output_type": "stream",
          "name": "stdout",
          "text": [
            "Model Number: 560 with model FBProphet in generation 3 of 10\n",
            "Model Number: 561 with model ARIMA in generation 3 of 10\n",
            "New Generation: 4 of 10\n",
            "Model Number: 562 with model UnobservedComponents in generation 4 of 10\n",
            "Template Eval Error: LinAlgError('Singular matrix') in model 562: UnobservedComponents\n",
            "Model Number: 563 with model LastValueNaive in generation 4 of 10\n",
            "Model Number: 564 with model ARIMA in generation 4 of 10\n",
            "Model Number: 565 with model WindowRegression in generation 4 of 10\n",
            "Epoch 1/50\n",
            "4/4 [==============================] - 2s 116ms/step - loss: 0.2487 - val_loss: 0.2724\n",
            "Epoch 2/50\n",
            "4/4 [==============================] - 0s 32ms/step - loss: 0.1719 - val_loss: 0.2356\n",
            "Epoch 3/50\n",
            "4/4 [==============================] - 0s 27ms/step - loss: 0.1257 - val_loss: 0.2116\n",
            "Epoch 4/50\n",
            "4/4 [==============================] - 0s 36ms/step - loss: 0.0925 - val_loss: 0.1939\n",
            "Epoch 5/50\n",
            "4/4 [==============================] - 0s 28ms/step - loss: 0.0680 - val_loss: 0.1782\n",
            "Epoch 6/50\n",
            "4/4 [==============================] - 0s 34ms/step - loss: 0.0485 - val_loss: 0.1693\n",
            "Epoch 7/50\n",
            "4/4 [==============================] - 0s 34ms/step - loss: 0.0371 - val_loss: 0.1634\n",
            "Epoch 8/50\n",
            "4/4 [==============================] - 0s 32ms/step - loss: 0.0299 - val_loss: 0.1592\n",
            "Epoch 9/50\n",
            "4/4 [==============================] - 0s 30ms/step - loss: 0.0271 - val_loss: 0.1581\n",
            "Epoch 10/50\n",
            "4/4 [==============================] - 0s 32ms/step - loss: 0.0231 - val_loss: 0.1538\n",
            "Epoch 11/50\n",
            "4/4 [==============================] - 0s 26ms/step - loss: 0.0215 - val_loss: 0.1582\n",
            "Epoch 12/50\n",
            "4/4 [==============================] - 0s 25ms/step - loss: 0.0213 - val_loss: 0.1565\n",
            "Epoch 13/50\n",
            "4/4 [==============================] - 0s 41ms/step - loss: 0.0206 - val_loss: 0.1535\n",
            "Epoch 14/50\n",
            "4/4 [==============================] - 0s 27ms/step - loss: 0.0201 - val_loss: 0.1505\n",
            "Epoch 15/50\n",
            "4/4 [==============================] - 0s 28ms/step - loss: 0.0200 - val_loss: 0.1505\n",
            "Epoch 16/50\n",
            "4/4 [==============================] - 0s 32ms/step - loss: 0.0205 - val_loss: 0.1554\n",
            "Epoch 17/50\n",
            "4/4 [==============================] - 0s 36ms/step - loss: 0.0191 - val_loss: 0.1534\n",
            "Epoch 18/50\n",
            "4/4 [==============================] - 0s 51ms/step - loss: 0.0190 - val_loss: 0.1569\n",
            "Epoch 19/50\n",
            "4/4 [==============================] - 0s 43ms/step - loss: 0.0191 - val_loss: 0.1613\n",
            "Epoch 20/50\n",
            "4/4 [==============================] - 0s 49ms/step - loss: 0.0180 - val_loss: 0.1569\n",
            "Epoch 21/50\n",
            "4/4 [==============================] - 0s 43ms/step - loss: 0.0181 - val_loss: 0.1573\n",
            "Epoch 22/50\n",
            "4/4 [==============================] - 0s 35ms/step - loss: 0.0173 - val_loss: 0.1621\n",
            "Epoch 23/50\n",
            "4/4 [==============================] - 0s 34ms/step - loss: 0.0178 - val_loss: 0.1724\n",
            "Epoch 24/50\n",
            "4/4 [==============================] - 0s 34ms/step - loss: 0.0171 - val_loss: 0.1686\n",
            "Epoch 25/50\n",
            "4/4 [==============================] - 0s 42ms/step - loss: 0.0150 - val_loss: 0.1633\n"
          ]
        },
        {
          "output_type": "stream",
          "name": "stderr",
          "text": [
            "WARNING:tensorflow:5 out of the last 5 calls to <function Model.make_predict_function.<locals>.predict_function at 0x7f9761634670> triggered tf.function retracing. Tracing is expensive and the excessive number of tracings could be due to (1) creating @tf.function repeatedly in a loop, (2) passing tensors with different shapes, (3) passing Python objects instead of tensors. For (1), please define your @tf.function outside of the loop. For (2), @tf.function has reduce_retracing=True option that can avoid unnecessary retracing. For (3), please refer to https://www.tensorflow.org/guide/function#controlling_retracing and https://www.tensorflow.org/api_docs/python/tf/function for  more details.\n"
          ]
        },
        {
          "output_type": "stream",
          "name": "stdout",
          "text": [
            "1/1 [==============================] - 0s 163ms/step\n",
            "Model Number: 566 with model MetricMotif in generation 4 of 10\n",
            "Model Number: 567 with model WindowRegression in generation 4 of 10\n",
            "Model Number: 568 with model ARIMA in generation 4 of 10\n",
            "Model Number: 569 with model DatepartRegression in generation 4 of 10\n"
          ]
        },
        {
          "output_type": "stream",
          "name": "stderr",
          "text": [
            "[Parallel(n_jobs=-2)]: Using backend SequentialBackend with 1 concurrent workers.\n",
            "[Parallel(n_jobs=-2)]: Done 100 out of 100 | elapsed:    0.1s finished\n",
            "[Parallel(n_jobs=1)]: Using backend SequentialBackend with 1 concurrent workers.\n",
            "[Parallel(n_jobs=1)]: Done 100 out of 100 | elapsed:    0.0s finished\n"
          ]
        },
        {
          "output_type": "stream",
          "name": "stdout",
          "text": [
            "Model Number: 570 with model Theta in generation 4 of 10\n",
            "Model Number: 571 with model AverageValueNaive in generation 4 of 10\n",
            "Model Number: 572 with model ETS in generation 4 of 10\n",
            "Model Number: 573 with model MultivariateRegression in generation 4 of 10\n",
            "Model Number: 574 with model DatepartRegression in generation 4 of 10\n",
            "Model Number: 575 with model WindowRegression in generation 4 of 10\n",
            "Model Number: 576 with model MultivariateMotif in generation 4 of 10\n"
          ]
        },
        {
          "output_type": "stream",
          "name": "stderr",
          "text": [
            "/usr/local/lib/python3.8/dist-packages/sklearn/neural_network/_multilayer_perceptron.py:549: ConvergenceWarning:\n",
            "\n",
            "lbfgs failed to converge (status=1):\n",
            "STOP: TOTAL NO. of ITERATIONS REACHED LIMIT.\n",
            "\n",
            "Increase the number of iterations (max_iter) or scale the data as shown in:\n",
            "    https://scikit-learn.org/stable/modules/preprocessing.html\n",
            "\n"
          ]
        },
        {
          "output_type": "stream",
          "name": "stdout",
          "text": [
            "Model Number: 577 with model UnivariateMotif in generation 4 of 10\n",
            "HolidayTransformer: no anomalies detected.\n",
            "Model Number: 578 with model DatepartRegression in generation 4 of 10\n",
            "Model Number: 579 with model MetricMotif in generation 4 of 10\n",
            "Model Number: 580 with model NVAR in generation 4 of 10\n",
            "Model Number: 581 with model MetricMotif in generation 4 of 10\n",
            "Model Number: 582 with model SeasonalNaive in generation 4 of 10\n",
            "Model Number: 583 with model DatepartRegression in generation 4 of 10\n",
            "Model Number: 584 with model AverageValueNaive in generation 4 of 10\n",
            "Model Number: 585 with model ARIMA in generation 4 of 10\n",
            "Model Number: 586 with model MetricMotif in generation 4 of 10\n",
            "Model Number: 587 with model SectionalMotif in generation 4 of 10\n",
            "Model Number: 588 with model ETS in generation 4 of 10\n",
            "ETS error ValueError('Can only dampen the trend component')\n",
            "ETS failed on Close with ValueError('Can only dampen the trend component')\n",
            "Model Number: 589 with model UnobservedComponents in generation 4 of 10\n",
            "Model Number: 590 with model AverageValueNaive in generation 4 of 10\n",
            "Model Number: 591 with model Theta in generation 4 of 10\n",
            "Model Number: 592 with model MetricMotif in generation 4 of 10\n",
            "Template Eval Error: Exception('Transformer Cointegration failed on fit') in model 592: MetricMotif\n",
            "Model Number: 593 with model DatepartRegression in generation 4 of 10\n",
            "Model Number: 594 with model ConstantNaive in generation 4 of 10\n"
          ]
        },
        {
          "output_type": "stream",
          "name": "stderr",
          "text": [
            "INFO:prophet:Disabling yearly seasonality. Run prophet with yearly_seasonality=True to override this.\n",
            "INFO:prophet:Disabling daily seasonality. Run prophet with daily_seasonality=True to override this.\n",
            "DEBUG:cmdstanpy:input tempfile: /tmp/tmp09dakauk/ton4z6bf.json\n",
            "DEBUG:cmdstanpy:input tempfile: /tmp/tmp09dakauk/6notb9ys.json\n",
            "DEBUG:cmdstanpy:idx 0\n",
            "DEBUG:cmdstanpy:running CmdStan, num_threads: None\n",
            "DEBUG:cmdstanpy:CmdStan args: ['/usr/local/lib/python3.8/dist-packages/prophet/stan_model/prophet_model.bin', 'random', 'seed=26929', 'data', 'file=/tmp/tmp09dakauk/ton4z6bf.json', 'init=/tmp/tmp09dakauk/6notb9ys.json', 'output', 'file=/tmp/tmp09dakauk/prophet_modelro6he30s/prophet_model-20230216094441.csv', 'method=optimize', 'algorithm=newton', 'iter=10000']\n",
            "09:44:41 - cmdstanpy - INFO - Chain [1] start processing\n",
            "INFO:cmdstanpy:Chain [1] start processing\n",
            "09:44:41 - cmdstanpy - INFO - Chain [1] done processing\n",
            "INFO:cmdstanpy:Chain [1] done processing\n"
          ]
        },
        {
          "output_type": "stream",
          "name": "stdout",
          "text": [
            "Model Number: 595 with model FBProphet in generation 4 of 10\n",
            "Model Number: 596 with model UnobservedComponents in generation 4 of 10\n",
            "Model Number: 597 with model MultivariateMotif in generation 4 of 10\n",
            "Model Number: 598 with model SeasonalNaive in generation 4 of 10\n",
            "Template Eval Error: Exception('Transformer Cointegration failed on fit') in model 598: SeasonalNaive\n",
            "Model Number: 599 with model NVAR in generation 4 of 10\n",
            "Model Number: 600 with model ARIMA in generation 4 of 10\n",
            "Model Number: 601 with model ETS in generation 4 of 10\n",
            "Model Number: 602 with model DatepartRegression in generation 4 of 10\n",
            "Template Eval Error: Exception('Transformer Cointegration failed on fit') in model 602: DatepartRegression\n",
            "Model Number: 603 with model MultivariateRegression in generation 4 of 10\n",
            "Model Number: 604 with model LastValueNaive in generation 4 of 10\n",
            "Model Number: 605 with model ARIMA in generation 4 of 10\n",
            "Model Number: 606 with model Theta in generation 4 of 10\n",
            "Model Number: 607 with model DatepartRegression in generation 4 of 10\n",
            "Model Number: 608 with model NVAR in generation 4 of 10\n",
            "Model Number: 609 with model NVAR in generation 4 of 10\n",
            "Model Number: 610 with model SeasonalNaive in generation 4 of 10\n",
            "Model Number: 611 with model MetricMotif in generation 4 of 10\n",
            "Model Number: 612 with model MultivariateRegression in generation 4 of 10\n",
            "Template Eval Error: ValueError(\"regression_type='User' but not future_regressor supplied.\") in model 612: MultivariateRegression\n",
            "Model Number: 613 with model ARIMA in generation 4 of 10\n",
            "Template Eval Error: ValueError(\"regression_type='User' but future_regressor not supplied\") in model 613: ARIMA\n",
            "Model Number: 614 with model ARIMA in generation 4 of 10\n",
            "Model Number: 615 with model UnobservedComponents in generation 4 of 10\n",
            "Model Number: 616 with model MultivariateMotif in generation 4 of 10\n",
            "Model Number: 617 with model NVAR in generation 4 of 10\n",
            "Model Number: 618 with model MetricMotif in generation 4 of 10\n",
            "Model Number: 619 with model SectionalMotif in generation 4 of 10\n",
            "Model Number: 620 with model Theta in generation 4 of 10\n",
            "Model Number: 621 with model MetricMotif in generation 4 of 10\n",
            "Model Number: 622 with model LastValueNaive in generation 4 of 10\n",
            "Model Number: 623 with model UnobservedComponents in generation 4 of 10\n",
            "Model Number: 624 with model ARIMA in generation 4 of 10\n"
          ]
        },
        {
          "output_type": "stream",
          "name": "stderr",
          "text": [
            "INFO:prophet:Disabling yearly seasonality. Run prophet with yearly_seasonality=True to override this.\n",
            "INFO:prophet:Disabling daily seasonality. Run prophet with daily_seasonality=True to override this.\n"
          ]
        },
        {
          "output_type": "stream",
          "name": "stdout",
          "text": [
            "Model Number: 625 with model FBProphet in generation 4 of 10\n",
            "Model Number: 626 with model ARIMA in generation 4 of 10\n",
            "Model Number: 627 with model SeasonalNaive in generation 4 of 10\n",
            "Model Number: 628 with model SectionalMotif in generation 4 of 10\n",
            "Model Number: 629 with model NVAR in generation 4 of 10\n",
            "Model Number: 630 with model NVAR in generation 4 of 10\n",
            "Model Number: 631 with model ETS in generation 4 of 10\n",
            "Model Number: 632 with model LastValueNaive in generation 4 of 10\n",
            "Model Number: 633 with model SectionalMotif in generation 4 of 10\n",
            "Model Number: 634 with model MultivariateRegression in generation 4 of 10\n",
            "Model Number: 635 with model NVAR in generation 4 of 10\n",
            "Model Number: 636 with model MetricMotif in generation 4 of 10\n",
            "Model Number: 637 with model WindowRegression in generation 4 of 10\n",
            "Model Number: 638 with model SeasonalNaive in generation 4 of 10\n",
            "Model Number: 639 with model MultivariateRegression in generation 4 of 10\n"
          ]
        },
        {
          "output_type": "stream",
          "name": "stderr",
          "text": [
            "[Parallel(n_jobs=-2)]: Using backend SequentialBackend with 1 concurrent workers.\n",
            "[Parallel(n_jobs=-2)]: Done 200 out of 200 | elapsed:    0.2s finished\n",
            "[Parallel(n_jobs=1)]: Using backend SequentialBackend with 1 concurrent workers.\n",
            "[Parallel(n_jobs=1)]: Done 200 out of 200 | elapsed:    0.0s finished\n",
            "[Parallel(n_jobs=1)]: Using backend SequentialBackend with 1 concurrent workers.\n",
            "[Parallel(n_jobs=1)]: Done 200 out of 200 | elapsed:    0.0s finished\n",
            "[Parallel(n_jobs=1)]: Using backend SequentialBackend with 1 concurrent workers.\n",
            "[Parallel(n_jobs=1)]: Done 200 out of 200 | elapsed:    0.0s finished\n",
            "[Parallel(n_jobs=1)]: Using backend SequentialBackend with 1 concurrent workers.\n",
            "[Parallel(n_jobs=1)]: Done 200 out of 200 | elapsed:    0.0s finished\n",
            "[Parallel(n_jobs=1)]: Using backend SequentialBackend with 1 concurrent workers.\n",
            "[Parallel(n_jobs=1)]: Done 200 out of 200 | elapsed:    0.0s finished\n",
            "[Parallel(n_jobs=1)]: Using backend SequentialBackend with 1 concurrent workers.\n",
            "[Parallel(n_jobs=1)]: Done 200 out of 200 | elapsed:    0.0s finished\n",
            "[Parallel(n_jobs=1)]: Using backend SequentialBackend with 1 concurrent workers.\n",
            "[Parallel(n_jobs=1)]: Done 200 out of 200 | elapsed:    0.0s finished\n",
            "[Parallel(n_jobs=1)]: Using backend SequentialBackend with 1 concurrent workers.\n",
            "[Parallel(n_jobs=1)]: Done 200 out of 200 | elapsed:    0.0s finished\n",
            "[Parallel(n_jobs=1)]: Using backend SequentialBackend with 1 concurrent workers.\n",
            "[Parallel(n_jobs=1)]: Done 200 out of 200 | elapsed:    0.0s finished\n",
            "[Parallel(n_jobs=1)]: Using backend SequentialBackend with 1 concurrent workers.\n",
            "[Parallel(n_jobs=1)]: Done 200 out of 200 | elapsed:    0.0s finished\n"
          ]
        },
        {
          "output_type": "stream",
          "name": "stdout",
          "text": [
            "Model Number: 640 with model Theta in generation 4 of 10\n",
            "Model Number: 641 with model DatepartRegression in generation 4 of 10\n",
            "Model Number: 642 with model UnivariateMotif in generation 4 of 10\n",
            "Model Number: 643 with model SeasonalNaive in generation 4 of 10\n",
            "Model Number: 644 with model ETS in generation 4 of 10\n",
            "Model Number: 645 with model ARIMA in generation 4 of 10\n",
            "Model Number: 646 with model UnobservedComponents in generation 4 of 10\n",
            "Model Number: 647 with model SectionalMotif in generation 4 of 10\n",
            "Model Number: 648 with model MetricMotif in generation 4 of 10\n",
            "Model Number: 649 with model LastValueNaive in generation 4 of 10\n",
            "Model Number: 650 with model Theta in generation 4 of 10\n",
            "Model Number: 651 with model ARIMA in generation 4 of 10\n",
            "Model Number: 652 with model AverageValueNaive in generation 4 of 10\n",
            "Template Eval Error: Exception('Transformer DifferencedTransformer failed on inverse') in model 652: AverageValueNaive\n",
            "Model Number: 653 with model LastValueNaive in generation 4 of 10\n",
            "Model Number: 654 with model ETS in generation 4 of 10\n",
            "Model Number: 655 with model FBProphet in generation 4 of 10\n",
            "No anomalies detected.\n"
          ]
        },
        {
          "output_type": "stream",
          "name": "stderr",
          "text": [
            "INFO:prophet:Disabling yearly seasonality. Run prophet with yearly_seasonality=True to override this.\n",
            "INFO:prophet:Disabling daily seasonality. Run prophet with daily_seasonality=True to override this.\n",
            "DEBUG:cmdstanpy:input tempfile: /tmp/tmp09dakauk/3858ig4a.json\n",
            "DEBUG:cmdstanpy:input tempfile: /tmp/tmp09dakauk/de63hbpr.json\n",
            "DEBUG:cmdstanpy:idx 0\n",
            "DEBUG:cmdstanpy:running CmdStan, num_threads: None\n",
            "DEBUG:cmdstanpy:CmdStan args: ['/usr/local/lib/python3.8/dist-packages/prophet/stan_model/prophet_model.bin', 'random', 'seed=36099', 'data', 'file=/tmp/tmp09dakauk/3858ig4a.json', 'init=/tmp/tmp09dakauk/de63hbpr.json', 'output', 'file=/tmp/tmp09dakauk/prophet_modelzq2pn6u0/prophet_model-20230216094454.csv', 'method=optimize', 'algorithm=lbfgs', 'iter=10000']\n",
            "09:44:54 - cmdstanpy - INFO - Chain [1] start processing\n",
            "INFO:cmdstanpy:Chain [1] start processing\n",
            "09:44:54 - cmdstanpy - INFO - Chain [1] done processing\n",
            "INFO:cmdstanpy:Chain [1] done processing\n"
          ]
        },
        {
          "output_type": "stream",
          "name": "stdout",
          "text": [
            "Model Number: 656 with model AverageValueNaive in generation 4 of 10\n",
            "Model Number: 657 with model AverageValueNaive in generation 4 of 10\n",
            "Model Number: 658 with model MultivariateMotif in generation 4 of 10\n",
            "Model Number: 659 with model NVAR in generation 4 of 10\n",
            "Model Number: 660 with model AverageValueNaive in generation 4 of 10\n",
            "Model Number: 661 with model AverageValueNaive in generation 4 of 10\n",
            "Model Number: 662 with model UnobservedComponents in generation 4 of 10\n",
            "Model Number: 663 with model MetricMotif in generation 4 of 10\n",
            "Model Number: 664 with model AverageValueNaive in generation 4 of 10\n",
            "Model Number: 665 with model SectionalMotif in generation 4 of 10\n",
            "Model Number: 666 with model UnivariateMotif in generation 4 of 10\n",
            "Model Number: 667 with model MultivariateMotif in generation 4 of 10\n",
            "Model Number: 668 with model DatepartRegression in generation 4 of 10\n",
            "Model Number: 669 with model NVAR in generation 4 of 10\n",
            "Model Number: 670 with model WindowRegression in generation 4 of 10\n",
            "Model Number: 671 with model UnivariateMotif in generation 4 of 10\n",
            "Model Number: 672 with model GLS in generation 4 of 10\n",
            "Model Number: 673 with model NVAR in generation 4 of 10\n",
            "Model Number: 674 with model UnobservedComponents in generation 4 of 10\n",
            "Model Number: 675 with model MetricMotif in generation 4 of 10\n",
            "Model Number: 676 with model UnivariateMotif in generation 4 of 10\n",
            "Model Number: 677 with model DatepartRegression in generation 4 of 10\n",
            "Model Number: 678 with model ConstantNaive in generation 4 of 10\n"
          ]
        },
        {
          "output_type": "stream",
          "name": "stderr",
          "text": [
            "/usr/local/lib/python3.8/dist-packages/sklearn/svm/_base.py:1206: ConvergenceWarning:\n",
            "\n",
            "Liblinear failed to converge, increase the number of iterations.\n",
            "\n"
          ]
        },
        {
          "output_type": "stream",
          "name": "stdout",
          "text": [
            "Model Number: 679 with model NVAR in generation 4 of 10\n",
            "Model Number: 680 with model ETS in generation 4 of 10\n",
            "Model Number: 681 with model UnobservedComponents in generation 4 of 10\n",
            "Model Number: 682 with model ETS in generation 4 of 10\n",
            "Model Number: 683 with model MetricMotif in generation 4 of 10\n",
            "Model Number: 684 with model NVAR in generation 4 of 10\n",
            "Model Number: 685 with model AverageValueNaive in generation 4 of 10\n",
            "Model Number: 686 with model Theta in generation 4 of 10\n",
            "Template Eval Error: Exception('Transformer BTCD failed on fit') in model 686: Theta\n",
            "New Generation: 5 of 10\n",
            "Model Number: 687 with model NVAR in generation 5 of 10\n",
            "Model Number: 688 with model NVAR in generation 5 of 10\n",
            "Model Number: 689 with model Theta in generation 5 of 10\n",
            "Model Number: 690 with model SectionalMotif in generation 5 of 10\n",
            "Model Number: 691 with model ARIMA in generation 5 of 10\n",
            "Model Number: 692 with model GLM in generation 5 of 10\n",
            "Model Number: 693 with model UnivariateMotif in generation 5 of 10\n",
            "Model Number: 694 with model UnobservedComponents in generation 5 of 10\n",
            "Model Number: 695 with model LastValueNaive in generation 5 of 10\n",
            "Model Number: 696 with model MultivariateMotif in generation 5 of 10\n",
            "Model Number: 697 with model Theta in generation 5 of 10\n",
            "Model Number: 698 with model Theta in generation 5 of 10\n",
            "Template Eval Error: Exception('Transformer BTCD failed on fit') in model 698: Theta\n",
            "Model Number: 699 with model AverageValueNaive in generation 5 of 10\n",
            "Model Number: 700 with model ARIMA in generation 5 of 10\n",
            "Model Number: 701 with model LastValueNaive in generation 5 of 10\n",
            "Model Number: 702 with model SeasonalNaive in generation 5 of 10\n",
            "Model Number: 703 with model LastValueNaive in generation 5 of 10\n",
            "Model Number: 704 with model SeasonalNaive in generation 5 of 10\n",
            "Model Number: 705 with model MetricMotif in generation 5 of 10\n",
            "Model Number: 706 with model NVAR in generation 5 of 10\n",
            "Model Number: 707 with model MetricMotif in generation 5 of 10\n",
            "Model Number: 708 with model MultivariateRegression in generation 5 of 10\n",
            "Model Number: 709 with model SectionalMotif in generation 5 of 10\n",
            "Model Number: 710 with model SectionalMotif in generation 5 of 10\n",
            "Model Number: 711 with model UnivariateMotif in generation 5 of 10\n",
            "Model Number: 712 with model LastValueNaive in generation 5 of 10\n",
            "Model Number: 713 with model DatepartRegression in generation 5 of 10\n",
            "Model Number: 714 with model GLM in generation 5 of 10\n",
            "Template Eval Error: ValueError('The first guess on the deviance function returned a nan.  This could be a boundary  problem and should be reported.') in model 714: GLM\n",
            "Model Number: 715 with model UnobservedComponents in generation 5 of 10\n",
            "Model Number: 716 with model AverageValueNaive in generation 5 of 10\n",
            "Model Number: 717 with model SeasonalNaive in generation 5 of 10\n"
          ]
        },
        {
          "output_type": "stream",
          "name": "stderr",
          "text": [
            "/usr/local/lib/python3.8/dist-packages/statsmodels/genmod/families/family.py:1231: RuntimeWarning:\n",
            "\n",
            "invalid value encountered in log\n",
            "\n"
          ]
        },
        {
          "output_type": "stream",
          "name": "stdout",
          "text": [
            "Model Number: 718 with model ARIMA in generation 5 of 10\n",
            "Model Number: 719 with model WindowRegression in generation 5 of 10\n"
          ]
        },
        {
          "output_type": "stream",
          "name": "stderr",
          "text": [
            "/usr/local/lib/python3.8/dist-packages/sklearn/neural_network/_multilayer_perceptron.py:549: ConvergenceWarning:\n",
            "\n",
            "lbfgs failed to converge (status=1):\n",
            "STOP: TOTAL NO. of ITERATIONS REACHED LIMIT.\n",
            "\n",
            "Increase the number of iterations (max_iter) or scale the data as shown in:\n",
            "    https://scikit-learn.org/stable/modules/preprocessing.html\n",
            "\n"
          ]
        },
        {
          "output_type": "stream",
          "name": "stdout",
          "text": [
            "Model Number: 720 with model DatepartRegression in generation 5 of 10\n",
            "Model Number: 721 with model AverageValueNaive in generation 5 of 10\n",
            "Model Number: 722 with model WindowRegression in generation 5 of 10\n"
          ]
        },
        {
          "output_type": "stream",
          "name": "stderr",
          "text": [
            "[Parallel(n_jobs=-2)]: Using backend SequentialBackend with 1 concurrent workers.\n",
            "[Parallel(n_jobs=-2)]: Done 300 out of 300 | elapsed:    0.5s finished\n",
            "[Parallel(n_jobs=1)]: Using backend SequentialBackend with 1 concurrent workers.\n",
            "[Parallel(n_jobs=1)]: Done 300 out of 300 | elapsed:    0.0s finished\n",
            "[Parallel(n_jobs=1)]: Using backend SequentialBackend with 1 concurrent workers.\n",
            "[Parallel(n_jobs=1)]: Done 300 out of 300 | elapsed:    0.0s finished\n",
            "[Parallel(n_jobs=1)]: Using backend SequentialBackend with 1 concurrent workers.\n",
            "[Parallel(n_jobs=1)]: Done 300 out of 300 | elapsed:    0.0s finished\n",
            "[Parallel(n_jobs=1)]: Using backend SequentialBackend with 1 concurrent workers.\n",
            "[Parallel(n_jobs=1)]: Done 300 out of 300 | elapsed:    0.0s finished\n",
            "[Parallel(n_jobs=1)]: Using backend SequentialBackend with 1 concurrent workers.\n",
            "[Parallel(n_jobs=1)]: Done 300 out of 300 | elapsed:    0.0s finished\n",
            "[Parallel(n_jobs=1)]: Using backend SequentialBackend with 1 concurrent workers.\n",
            "[Parallel(n_jobs=1)]: Done 300 out of 300 | elapsed:    0.0s finished\n",
            "[Parallel(n_jobs=1)]: Using backend SequentialBackend with 1 concurrent workers.\n"
          ]
        },
        {
          "output_type": "stream",
          "name": "stdout",
          "text": [
            "Model Number: 723 with model WindowRegression in generation 5 of 10\n"
          ]
        },
        {
          "output_type": "stream",
          "name": "stderr",
          "text": [
            "[Parallel(n_jobs=1)]: Done 300 out of 300 | elapsed:    0.0s finished\n",
            "[Parallel(n_jobs=1)]: Using backend SequentialBackend with 1 concurrent workers.\n",
            "[Parallel(n_jobs=1)]: Done 300 out of 300 | elapsed:    0.0s finished\n",
            "[Parallel(n_jobs=1)]: Using backend SequentialBackend with 1 concurrent workers.\n",
            "[Parallel(n_jobs=1)]: Done 300 out of 300 | elapsed:    0.0s finished\n",
            "[Parallel(n_jobs=1)]: Using backend SequentialBackend with 1 concurrent workers.\n",
            "[Parallel(n_jobs=1)]: Done 300 out of 300 | elapsed:    0.0s finished\n",
            "/usr/local/lib/python3.8/dist-packages/sklearn/svm/_base.py:1206: ConvergenceWarning:\n",
            "\n",
            "Liblinear failed to converge, increase the number of iterations.\n",
            "\n"
          ]
        },
        {
          "output_type": "stream",
          "name": "stdout",
          "text": [
            "Model Number: 724 with model SeasonalNaive in generation 5 of 10\n",
            "Model Number: 725 with model ETS in generation 5 of 10\n",
            "Model Number: 726 with model MetricMotif in generation 5 of 10\n",
            "Model Number: 727 with model DatepartRegression in generation 5 of 10\n",
            "Epoch 1/50\n",
            "5/5 [==============================] - 5s 124ms/step - loss: 664.2963 - val_loss: 544.0145\n",
            "Epoch 2/50\n",
            "5/5 [==============================] - 0s 29ms/step - loss: 534.1063 - val_loss: 435.8865\n",
            "Epoch 3/50\n",
            "5/5 [==============================] - 0s 30ms/step - loss: 421.4258 - val_loss: 345.1484\n",
            "Epoch 4/50\n",
            "5/5 [==============================] - 0s 29ms/step - loss: 345.6208 - val_loss: 281.1967\n",
            "Epoch 5/50\n",
            "5/5 [==============================] - 0s 43ms/step - loss: 322.2424 - val_loss: 217.9234\n",
            "Epoch 6/50\n",
            "5/5 [==============================] - 0s 44ms/step - loss: 262.7664 - val_loss: 155.9626\n",
            "Epoch 7/50\n",
            "5/5 [==============================] - 0s 44ms/step - loss: 236.1556 - val_loss: 97.1616\n",
            "Epoch 8/50\n",
            "5/5 [==============================] - 0s 52ms/step - loss: 198.2792 - val_loss: 73.9198\n",
            "Epoch 9/50\n",
            "5/5 [==============================] - 0s 50ms/step - loss: 203.7128 - val_loss: 36.4487\n",
            "Epoch 10/50\n",
            "5/5 [==============================] - 0s 50ms/step - loss: 221.4138 - val_loss: 5.9359\n",
            "Epoch 11/50\n",
            "5/5 [==============================] - 0s 54ms/step - loss: 217.3734 - val_loss: 24.1018\n",
            "Epoch 12/50\n",
            "5/5 [==============================] - 0s 54ms/step - loss: 194.5220 - val_loss: 47.5404\n",
            "Epoch 13/50\n",
            "5/5 [==============================] - 0s 44ms/step - loss: 201.5036 - val_loss: 34.7714\n",
            "Epoch 14/50\n",
            "5/5 [==============================] - 0s 63ms/step - loss: 199.2893 - val_loss: 73.1995\n",
            "Epoch 15/50\n",
            "5/5 [==============================] - 0s 48ms/step - loss: 182.4073 - val_loss: 38.4198\n",
            "Epoch 16/50\n",
            "5/5 [==============================] - 0s 55ms/step - loss: 195.1602 - val_loss: 28.0320\n",
            "Epoch 17/50\n",
            "5/5 [==============================] - 0s 40ms/step - loss: 164.1208 - val_loss: 35.8342\n",
            "Epoch 18/50\n",
            "5/5 [==============================] - 0s 46ms/step - loss: 171.0966 - val_loss: 40.6006\n",
            "Epoch 19/50\n",
            "5/5 [==============================] - 0s 30ms/step - loss: 185.7845 - val_loss: 8.4421\n",
            "Epoch 20/50\n",
            "5/5 [==============================] - 0s 37ms/step - loss: 173.2355 - val_loss: 19.9822\n"
          ]
        },
        {
          "output_type": "stream",
          "name": "stderr",
          "text": [
            "WARNING:tensorflow:6 out of the last 6 calls to <function Model.make_predict_function.<locals>.predict_function at 0x7f9762392e50> triggered tf.function retracing. Tracing is expensive and the excessive number of tracings could be due to (1) creating @tf.function repeatedly in a loop, (2) passing tensors with different shapes, (3) passing Python objects instead of tensors. For (1), please define your @tf.function outside of the loop. For (2), @tf.function has reduce_retracing=True option that can avoid unnecessary retracing. For (3), please refer to https://www.tensorflow.org/guide/function#controlling_retracing and https://www.tensorflow.org/api_docs/python/tf/function for  more details.\n"
          ]
        },
        {
          "output_type": "stream",
          "name": "stdout",
          "text": [
            "1/1 [==============================] - 0s 296ms/step\n",
            "Template Eval Error: ValueError('Model DatepartRegression returned NaN for one or more series. fail_on_forecast_nan=True') in model 727: DatepartRegression\n",
            "Model Number: 728 with model DatepartRegression in generation 5 of 10\n",
            "Template Eval Error: ValueError(\"regression_type='User' but no future_regressor passed\") in model 728: DatepartRegression\n",
            "Model Number: 729 with model NVAR in generation 5 of 10\n",
            "Model Number: 730 with model MultivariateRegression in generation 5 of 10\n",
            "Model Number: 731 with model SeasonalNaive in generation 5 of 10\n",
            "Model Number: 732 with model MultivariateRegression in generation 5 of 10\n",
            "Model Number: 733 with model GLM in generation 5 of 10\n",
            "Model Number: 734 with model UnivariateMotif in generation 5 of 10\n",
            "Model Number: 735 with model MetricMotif in generation 5 of 10\n"
          ]
        },
        {
          "output_type": "stream",
          "name": "stderr",
          "text": [
            "/usr/local/lib/python3.8/dist-packages/statsmodels/genmod/families/links.py:188: RuntimeWarning:\n",
            "\n",
            "overflow encountered in exp\n",
            "\n"
          ]
        },
        {
          "output_type": "stream",
          "name": "stdout",
          "text": [
            "Model Number: 736 with model AverageValueNaive in generation 5 of 10\n",
            "Model Number: 737 with model MultivariateRegression in generation 5 of 10\n",
            "Model Number: 738 with model UnivariateMotif in generation 5 of 10\n",
            "Model Number: 739 with model SectionalMotif in generation 5 of 10\n",
            "Model Number: 740 with model ConstantNaive in generation 5 of 10\n",
            "Model Number: 741 with model NVAR in generation 5 of 10\n",
            "Model Number: 742 with model Theta in generation 5 of 10\n",
            "Model Number: 743 with model Theta in generation 5 of 10\n",
            "Model Number: 744 with model DatepartRegression in generation 5 of 10\n",
            "Template Eval Error: ValueError(\"regression_type='User' but no future_regressor passed\") in model 744: DatepartRegression\n",
            "Model Number: 745 with model LastValueNaive in generation 5 of 10\n",
            "Model Number: 746 with model ETS in generation 5 of 10\n",
            "Model Number: 747 with model MetricMotif in generation 5 of 10\n",
            "Model Number: 748 with model DatepartRegression in generation 5 of 10\n",
            "Template Eval Error: ValueError(\"regression_type='User' but no future_regressor passed\") in model 748: DatepartRegression\n",
            "Model Number: 749 with model MetricMotif in generation 5 of 10\n",
            "Model Number: 750 with model UnobservedComponents in generation 5 of 10\n",
            "Model Number: 751 with model DatepartRegression in generation 5 of 10\n",
            "Model Number: 752 with model ARIMA in generation 5 of 10\n",
            "Model Number: 753 with model AverageValueNaive in generation 5 of 10\n",
            "Model Number: 754 with model MultivariateMotif in generation 5 of 10\n",
            "Model Number: 755 with model DatepartRegression in generation 5 of 10\n",
            "Model Number: 756 with model GLM in generation 5 of 10\n",
            "Model Number: 757 with model MetricMotif in generation 5 of 10\n"
          ]
        },
        {
          "output_type": "stream",
          "name": "stderr",
          "text": [
            "/usr/local/lib/python3.8/dist-packages/statsmodels/genmod/families/family.py:1227: RuntimeWarning:\n",
            "\n",
            "divide by zero encountered in true_divide\n",
            "\n"
          ]
        },
        {
          "output_type": "stream",
          "name": "stdout",
          "text": [
            "Model Number: 758 with model NVAR in generation 5 of 10\n",
            "Model Number: 759 with model MetricMotif in generation 5 of 10\n",
            "Model Number: 760 with model SectionalMotif in generation 5 of 10\n",
            "Model Number: 761 with model WindowRegression in generation 5 of 10\n"
          ]
        },
        {
          "output_type": "stream",
          "name": "stderr",
          "text": [
            "/usr/local/lib/python3.8/dist-packages/sklearn/neural_network/_multilayer_perceptron.py:549: ConvergenceWarning:\n",
            "\n",
            "lbfgs failed to converge (status=1):\n",
            "STOP: TOTAL NO. of ITERATIONS REACHED LIMIT.\n",
            "\n",
            "Increase the number of iterations (max_iter) or scale the data as shown in:\n",
            "    https://scikit-learn.org/stable/modules/preprocessing.html\n",
            "\n",
            "[Parallel(n_jobs=-2)]: Using backend SequentialBackend with 1 concurrent workers.\n"
          ]
        },
        {
          "output_type": "stream",
          "name": "stdout",
          "text": [
            "Model Number: 762 with model MultivariateRegression in generation 5 of 10\n"
          ]
        },
        {
          "output_type": "stream",
          "name": "stderr",
          "text": [
            "[Parallel(n_jobs=-2)]: Done 200 out of 200 | elapsed:    0.3s finished\n",
            "[Parallel(n_jobs=1)]: Using backend SequentialBackend with 1 concurrent workers.\n",
            "[Parallel(n_jobs=1)]: Done 200 out of 200 | elapsed:    0.0s finished\n",
            "[Parallel(n_jobs=1)]: Using backend SequentialBackend with 1 concurrent workers.\n",
            "[Parallel(n_jobs=1)]: Done 200 out of 200 | elapsed:    0.0s finished\n",
            "[Parallel(n_jobs=1)]: Using backend SequentialBackend with 1 concurrent workers.\n",
            "[Parallel(n_jobs=1)]: Done 200 out of 200 | elapsed:    0.0s finished\n",
            "[Parallel(n_jobs=1)]: Using backend SequentialBackend with 1 concurrent workers.\n",
            "[Parallel(n_jobs=1)]: Done 200 out of 200 | elapsed:    0.0s finished\n",
            "[Parallel(n_jobs=1)]: Using backend SequentialBackend with 1 concurrent workers.\n",
            "[Parallel(n_jobs=1)]: Done 200 out of 200 | elapsed:    0.0s finished\n",
            "[Parallel(n_jobs=1)]: Using backend SequentialBackend with 1 concurrent workers.\n",
            "[Parallel(n_jobs=1)]: Done 200 out of 200 | elapsed:    0.0s finished\n",
            "[Parallel(n_jobs=1)]: Using backend SequentialBackend with 1 concurrent workers.\n",
            "[Parallel(n_jobs=1)]: Done 200 out of 200 | elapsed:    0.0s finished\n",
            "[Parallel(n_jobs=1)]: Using backend SequentialBackend with 1 concurrent workers.\n",
            "[Parallel(n_jobs=1)]: Done 200 out of 200 | elapsed:    0.0s finished\n",
            "[Parallel(n_jobs=1)]: Using backend SequentialBackend with 1 concurrent workers.\n",
            "[Parallel(n_jobs=1)]: Done 200 out of 200 | elapsed:    0.0s finished\n",
            "[Parallel(n_jobs=1)]: Using backend SequentialBackend with 1 concurrent workers.\n",
            "[Parallel(n_jobs=1)]: Done 200 out of 200 | elapsed:    0.0s finished\n"
          ]
        },
        {
          "output_type": "stream",
          "name": "stdout",
          "text": [
            "Model Number: 763 with model DatepartRegression in generation 5 of 10\n",
            "Model Number: 764 with model LastValueNaive in generation 5 of 10\n",
            "Model Number: 765 with model MultivariateMotif in generation 5 of 10\n",
            "Model Number: 766 with model UnivariateMotif in generation 5 of 10\n",
            "Model Number: 767 with model SeasonalNaive in generation 5 of 10\n",
            "Model Number: 768 with model ETS in generation 5 of 10\n",
            "Model Number: 769 with model Theta in generation 5 of 10\n",
            "Template Eval Error: Exception('Transformer BTCD failed on fit') in model 769: Theta\n",
            "Model Number: 770 with model LastValueNaive in generation 5 of 10\n",
            "Model Number: 771 with model ARIMA in generation 5 of 10\n",
            "Model Number: 772 with model SeasonalNaive in generation 5 of 10\n",
            "Model Number: 773 with model NVAR in generation 5 of 10\n",
            "Model Number: 774 with model SeasonalNaive in generation 5 of 10\n",
            "Model Number: 775 with model UnobservedComponents in generation 5 of 10\n",
            "Model Number: 776 with model NVAR in generation 5 of 10\n",
            "Model Number: 777 with model UnobservedComponents in generation 5 of 10\n",
            "Model Number: 778 with model ETS in generation 5 of 10\n",
            "Model Number: 779 with model MetricMotif in generation 5 of 10\n",
            "Model Number: 780 with model MetricMotif in generation 5 of 10\n"
          ]
        },
        {
          "output_type": "stream",
          "name": "stderr",
          "text": [
            "INFO:prophet:Disabling yearly seasonality. Run prophet with yearly_seasonality=True to override this.\n",
            "INFO:prophet:Disabling daily seasonality. Run prophet with daily_seasonality=True to override this.\n"
          ]
        },
        {
          "output_type": "stream",
          "name": "stdout",
          "text": [
            "Model Number: 781 with model FBProphet in generation 5 of 10\n"
          ]
        },
        {
          "output_type": "stream",
          "name": "stderr",
          "text": [
            "DEBUG:cmdstanpy:input tempfile: /tmp/tmp09dakauk/he7hud2u.json\n",
            "DEBUG:cmdstanpy:input tempfile: /tmp/tmp09dakauk/d9t7fkg1.json\n",
            "DEBUG:cmdstanpy:idx 0\n",
            "DEBUG:cmdstanpy:running CmdStan, num_threads: None\n",
            "DEBUG:cmdstanpy:CmdStan args: ['/usr/local/lib/python3.8/dist-packages/prophet/stan_model/prophet_model.bin', 'random', 'seed=33774', 'data', 'file=/tmp/tmp09dakauk/he7hud2u.json', 'init=/tmp/tmp09dakauk/d9t7fkg1.json', 'output', 'file=/tmp/tmp09dakauk/prophet_model3ky2run_/prophet_model-20230216094528.csv', 'method=optimize', 'algorithm=newton', 'iter=10000']\n",
            "09:45:28 - cmdstanpy - INFO - Chain [1] start processing\n",
            "INFO:cmdstanpy:Chain [1] start processing\n",
            "09:45:29 - cmdstanpy - INFO - Chain [1] done processing\n",
            "INFO:cmdstanpy:Chain [1] done processing\n"
          ]
        },
        {
          "output_type": "stream",
          "name": "stdout",
          "text": [
            "Model Number: 782 with model ARIMA in generation 5 of 10\n",
            "Model Number: 783 with model ARIMA in generation 5 of 10\n",
            "Model Number: 784 with model SeasonalNaive in generation 5 of 10\n",
            "Model Number: 785 with model NVAR in generation 5 of 10\n",
            "Model Number: 786 with model AverageValueNaive in generation 5 of 10\n",
            "Template Eval Error: Exception('Transformer Cointegration failed on fit') in model 786: AverageValueNaive\n",
            "New Generation: 6 of 10\n",
            "Model Number: 787 with model Theta in generation 6 of 10\n",
            "Model Number: 788 with model DatepartRegression in generation 6 of 10\n",
            "Template Eval Error: ValueError(\"regression_type='User' but no future_regressor passed\") in model 788: DatepartRegression\n",
            "Model Number: 789 with model UnivariateMotif in generation 6 of 10\n",
            "Model Number: 790 with model WindowRegression in generation 6 of 10\n",
            "Model Number: 791 with model NVAR in generation 6 of 10\n",
            "HolidayTransformer: no anomalies detected.\n"
          ]
        },
        {
          "output_type": "stream",
          "name": "stderr",
          "text": [
            "/usr/local/lib/python3.8/dist-packages/sklearn/neural_network/_multilayer_perceptron.py:549: ConvergenceWarning:\n",
            "\n",
            "lbfgs failed to converge (status=1):\n",
            "STOP: TOTAL NO. of ITERATIONS REACHED LIMIT.\n",
            "\n",
            "Increase the number of iterations (max_iter) or scale the data as shown in:\n",
            "    https://scikit-learn.org/stable/modules/preprocessing.html\n",
            "\n"
          ]
        },
        {
          "output_type": "stream",
          "name": "stdout",
          "text": [
            "Model Number: 792 with model NVAR in generation 6 of 10\n",
            "HolidayTransformer: no anomalies detected.\n",
            "Template Eval Error: Exception('Transformer Detrend failed on fit') in model 792: NVAR\n",
            "Model Number: 793 with model Theta in generation 6 of 10\n",
            "Model Number: 794 with model ETS in generation 6 of 10\n",
            "Model Number: 795 with model MetricMotif in generation 6 of 10\n",
            "Model Number: 796 with model ConstantNaive in generation 6 of 10\n",
            "Model Number: 797 with model UnobservedComponents in generation 6 of 10\n",
            "Model Number: 798 with model GLS in generation 6 of 10\n",
            "Model Number: 799 with model ARIMA in generation 6 of 10\n",
            "Model Number: 800 with model MultivariateMotif in generation 6 of 10\n",
            "Model Number: 801 with model Theta in generation 6 of 10\n",
            "Model Number: 802 with model SectionalMotif in generation 6 of 10\n",
            "Model Number: 803 with model MetricMotif in generation 6 of 10\n",
            "Model Number: 804 with model Theta in generation 6 of 10\n",
            "Model Number: 805 with model SeasonalNaive in generation 6 of 10\n",
            "Model Number: 806 with model UnobservedComponents in generation 6 of 10\n",
            "Model Number: 807 with model MultivariateRegression in generation 6 of 10\n"
          ]
        },
        {
          "output_type": "stream",
          "name": "stderr",
          "text": [
            "[Parallel(n_jobs=-2)]: Using backend SequentialBackend with 1 concurrent workers.\n",
            "[Parallel(n_jobs=-2)]: Done 200 out of 200 | elapsed:    0.3s finished\n",
            "[Parallel(n_jobs=1)]: Using backend SequentialBackend with 1 concurrent workers.\n",
            "[Parallel(n_jobs=1)]: Done 200 out of 200 | elapsed:    0.0s finished\n",
            "[Parallel(n_jobs=1)]: Using backend SequentialBackend with 1 concurrent workers.\n",
            "[Parallel(n_jobs=1)]: Done 200 out of 200 | elapsed:    0.0s finished\n",
            "[Parallel(n_jobs=1)]: Using backend SequentialBackend with 1 concurrent workers.\n",
            "[Parallel(n_jobs=1)]: Done 200 out of 200 | elapsed:    0.0s finished\n",
            "[Parallel(n_jobs=1)]: Using backend SequentialBackend with 1 concurrent workers.\n",
            "[Parallel(n_jobs=1)]: Done 200 out of 200 | elapsed:    0.0s finished\n",
            "[Parallel(n_jobs=1)]: Using backend SequentialBackend with 1 concurrent workers.\n",
            "[Parallel(n_jobs=1)]: Done 200 out of 200 | elapsed:    0.0s finished\n",
            "[Parallel(n_jobs=1)]: Using backend SequentialBackend with 1 concurrent workers.\n",
            "[Parallel(n_jobs=1)]: Done 200 out of 200 | elapsed:    0.0s finished\n",
            "[Parallel(n_jobs=1)]: Using backend SequentialBackend with 1 concurrent workers.\n",
            "[Parallel(n_jobs=1)]: Done 200 out of 200 | elapsed:    0.0s finished\n",
            "[Parallel(n_jobs=1)]: Using backend SequentialBackend with 1 concurrent workers.\n",
            "[Parallel(n_jobs=1)]: Done 200 out of 200 | elapsed:    0.0s finished\n",
            "[Parallel(n_jobs=1)]: Using backend SequentialBackend with 1 concurrent workers.\n",
            "[Parallel(n_jobs=1)]: Done 200 out of 200 | elapsed:    0.0s finished\n",
            "[Parallel(n_jobs=1)]: Using backend SequentialBackend with 1 concurrent workers.\n",
            "[Parallel(n_jobs=1)]: Done 200 out of 200 | elapsed:    0.0s finished\n"
          ]
        },
        {
          "output_type": "stream",
          "name": "stdout",
          "text": [
            "Model Number: 808 with model WindowRegression in generation 6 of 10\n"
          ]
        },
        {
          "output_type": "stream",
          "name": "stderr",
          "text": [
            "/usr/local/lib/python3.8/dist-packages/sklearn/neural_network/_multilayer_perceptron.py:549: ConvergenceWarning:\n",
            "\n",
            "lbfgs failed to converge (status=1):\n",
            "STOP: TOTAL NO. of ITERATIONS REACHED LIMIT.\n",
            "\n",
            "Increase the number of iterations (max_iter) or scale the data as shown in:\n",
            "    https://scikit-learn.org/stable/modules/preprocessing.html\n",
            "\n"
          ]
        },
        {
          "output_type": "stream",
          "name": "stdout",
          "text": [
            "Model Number: 809 with model MultivariateRegression in generation 6 of 10\n",
            "Model Number: 810 with model DatepartRegression in generation 6 of 10\n",
            "Epoch 1/50\n",
            "5/5 [==============================] - 4s 156ms/step - loss: 172419.1250 - val_loss: 12629.9863\n",
            "Epoch 2/50\n",
            "5/5 [==============================] - 0s 74ms/step - loss: 130520.4141 - val_loss: 6702.8623\n",
            "Epoch 3/50\n",
            "5/5 [==============================] - 0s 59ms/step - loss: 121428.1562 - val_loss: 68909.7734\n",
            "Epoch 4/50\n",
            "5/5 [==============================] - 0s 70ms/step - loss: 122920.8125 - val_loss: 25776.3613\n",
            "Epoch 5/50\n",
            "5/5 [==============================] - 0s 59ms/step - loss: 111360.9141 - val_loss: 10863.4170\n",
            "Epoch 6/50\n",
            "5/5 [==============================] - 0s 70ms/step - loss: 110311.0078 - val_loss: 42591.7227\n",
            "Epoch 7/50\n",
            "5/5 [==============================] - 0s 51ms/step - loss: 120109.7578 - val_loss: 1364.6066\n",
            "Epoch 8/50\n",
            "5/5 [==============================] - 0s 50ms/step - loss: 115286.4453 - val_loss: 229.8819\n",
            "Epoch 9/50\n",
            "5/5 [==============================] - 0s 49ms/step - loss: 107402.7812 - val_loss: 52589.3867\n",
            "Epoch 10/50\n",
            "5/5 [==============================] - 0s 52ms/step - loss: 101685.9062 - val_loss: 12464.1650\n",
            "Epoch 11/50\n",
            "5/5 [==============================] - 0s 50ms/step - loss: 102581.8125 - val_loss: 47435.8594\n",
            "Epoch 12/50\n",
            "5/5 [==============================] - 0s 59ms/step - loss: 110417.3125 - val_loss: 28863.0469\n",
            "Epoch 13/50\n",
            "5/5 [==============================] - 0s 50ms/step - loss: 89535.5312 - val_loss: 56836.1367\n",
            "Epoch 14/50\n",
            "5/5 [==============================] - 0s 63ms/step - loss: 111216.3047 - val_loss: 31024.4453\n",
            "Epoch 15/50\n",
            "5/5 [==============================] - 0s 56ms/step - loss: 98107.9844 - val_loss: 31413.5508\n",
            "Epoch 16/50\n",
            "5/5 [==============================] - 0s 61ms/step - loss: 81033.8594 - val_loss: 12055.0547\n",
            "Epoch 17/50\n",
            "5/5 [==============================] - 0s 66ms/step - loss: 91740.0781 - val_loss: 49792.8242\n",
            "Epoch 18/50\n",
            "5/5 [==============================] - 0s 55ms/step - loss: 96908.3047 - val_loss: 20680.0469\n",
            "1/1 [==============================] - 0s 262ms/step\n",
            "Template Eval Error: ValueError('Model DatepartRegression returned NaN for one or more series. fail_on_forecast_nan=True') in model 810: DatepartRegression\n",
            "Model Number: 811 with model UnobservedComponents in generation 6 of 10\n",
            "Model Number: 812 with model SeasonalNaive in generation 6 of 10\n",
            "Model Number: 813 with model MultivariateRegression in generation 6 of 10\n",
            "Model Number: 814 with model ConstantNaive in generation 6 of 10\n",
            "Model Number: 815 with model UnobservedComponents in generation 6 of 10\n",
            "Model Number: 816 with model ETS in generation 6 of 10\n",
            "Model Number: 817 with model DatepartRegression in generation 6 of 10\n",
            "HolidayTransformer: no anomalies detected.\n"
          ]
        },
        {
          "output_type": "stream",
          "name": "stderr",
          "text": [
            "/usr/local/lib/python3.8/dist-packages/sklearn/linear_model/_ridge.py:157: LinAlgWarning:\n",
            "\n",
            "Ill-conditioned matrix (rcond=7.7081e-25): result may not be accurate.\n",
            "\n"
          ]
        },
        {
          "output_type": "stream",
          "name": "stdout",
          "text": [
            "Model Number: 818 with model NVAR in generation 6 of 10\n",
            "Template Eval Error: Exception('Transformer Detrend failed on fit') in model 818: NVAR\n",
            "Model Number: 819 with model GLS in generation 6 of 10\n",
            "Model Number: 820 with model LastValueNaive in generation 6 of 10\n",
            "Model Number: 821 with model UnobservedComponents in generation 6 of 10\n",
            "Model Number: 822 with model SectionalMotif in generation 6 of 10\n",
            "Model Number: 823 with model MetricMotif in generation 6 of 10\n",
            "Model Number: 824 with model Theta in generation 6 of 10\n",
            "Model Number: 825 with model SectionalMotif in generation 6 of 10\n",
            "Model Number: 826 with model DatepartRegression in generation 6 of 10\n",
            "Model Number: 827 with model NVAR in generation 6 of 10\n",
            "Template Eval Error: Exception('Transformer Detrend failed on fit') in model 827: NVAR\n",
            "Model Number: 828 with model LastValueNaive in generation 6 of 10\n",
            "Template Eval Error: Exception('Transformer Cointegration failed on fit') in model 828: LastValueNaive\n",
            "Model Number: 829 with model DatepartRegression in generation 6 of 10\n",
            "Template Eval Error: ValueError(\"regression_type='User' but no future_regressor passed\") in model 829: DatepartRegression\n",
            "Model Number: 830 with model DatepartRegression in generation 6 of 10\n",
            "Model Number: 831 with model AverageValueNaive in generation 6 of 10\n",
            "Model Number: 832 with model MultivariateMotif in generation 6 of 10\n"
          ]
        },
        {
          "output_type": "stream",
          "name": "stderr",
          "text": [
            "INFO:prophet:Disabling yearly seasonality. Run prophet with yearly_seasonality=True to override this.\n",
            "INFO:prophet:Disabling daily seasonality. Run prophet with daily_seasonality=True to override this.\n",
            "DEBUG:cmdstanpy:input tempfile: /tmp/tmp09dakauk/j4qaxlv4.json\n",
            "DEBUG:cmdstanpy:input tempfile: /tmp/tmp09dakauk/l3_tzj8y.json\n",
            "DEBUG:cmdstanpy:idx 0\n",
            "DEBUG:cmdstanpy:running CmdStan, num_threads: None\n",
            "DEBUG:cmdstanpy:CmdStan args: ['/usr/local/lib/python3.8/dist-packages/prophet/stan_model/prophet_model.bin', 'random', 'seed=67587', 'data', 'file=/tmp/tmp09dakauk/j4qaxlv4.json', 'init=/tmp/tmp09dakauk/l3_tzj8y.json', 'output', 'file=/tmp/tmp09dakauk/prophet_model_lf67u_g/prophet_model-20230216094600.csv', 'method=optimize', 'algorithm=lbfgs', 'iter=10000']\n",
            "09:46:00 - cmdstanpy - INFO - Chain [1] start processing\n",
            "INFO:cmdstanpy:Chain [1] start processing\n"
          ]
        },
        {
          "output_type": "stream",
          "name": "stdout",
          "text": [
            "Model Number: 833 with model FBProphet in generation 6 of 10\n"
          ]
        },
        {
          "output_type": "stream",
          "name": "stderr",
          "text": [
            "09:46:00 - cmdstanpy - INFO - Chain [1] done processing\n",
            "INFO:cmdstanpy:Chain [1] done processing\n"
          ]
        },
        {
          "output_type": "stream",
          "name": "stdout",
          "text": [
            "Model Number: 834 with model UnobservedComponents in generation 6 of 10\n",
            "Model Number: 835 with model ARIMA in generation 6 of 10\n"
          ]
        },
        {
          "output_type": "stream",
          "name": "stderr",
          "text": [
            "/usr/local/lib/python3.8/dist-packages/sklearn/preprocessing/_data.py:3253: RuntimeWarning:\n",
            "\n",
            "divide by zero encountered in log\n",
            "\n",
            "INFO:prophet:Disabling yearly seasonality. Run prophet with yearly_seasonality=True to override this.\n",
            "INFO:prophet:Disabling daily seasonality. Run prophet with daily_seasonality=True to override this.\n"
          ]
        },
        {
          "output_type": "stream",
          "name": "stdout",
          "text": [
            "Model Number: 836 with model FBProphet in generation 6 of 10\n",
            "Model Number: 837 with model ARIMA in generation 6 of 10\n"
          ]
        },
        {
          "output_type": "stream",
          "name": "stderr",
          "text": [
            "/usr/local/lib/python3.8/dist-packages/sklearn/preprocessing/_data.py:3196: RuntimeWarning:\n",
            "\n",
            "divide by zero encountered in power\n",
            "\n"
          ]
        },
        {
          "output_type": "stream",
          "name": "stdout",
          "text": [
            "Model Number: 838 with model WindowRegression in generation 6 of 10\n",
            "Model Number: 839 with model FBProphet in generation 6 of 10\n",
            "Template Eval Error: Exception('Transformer Detrend failed on fit') in model 839: FBProphet\n",
            "Model Number: 840 with model MultivariateMotif in generation 6 of 10\n"
          ]
        },
        {
          "output_type": "stream",
          "name": "stderr",
          "text": [
            "/usr/local/lib/python3.8/dist-packages/sklearn/neural_network/_multilayer_perceptron.py:549: ConvergenceWarning:\n",
            "\n",
            "lbfgs failed to converge (status=1):\n",
            "STOP: TOTAL NO. of ITERATIONS REACHED LIMIT.\n",
            "\n",
            "Increase the number of iterations (max_iter) or scale the data as shown in:\n",
            "    https://scikit-learn.org/stable/modules/preprocessing.html\n",
            "\n"
          ]
        },
        {
          "output_type": "stream",
          "name": "stdout",
          "text": [
            "Model Number: 841 with model UnobservedComponents in generation 6 of 10\n",
            "Model Number: 842 with model ETS in generation 6 of 10\n",
            "Model Number: 843 with model WindowRegression in generation 6 of 10\n",
            "Model Number: 844 with model AverageValueNaive in generation 6 of 10\n"
          ]
        },
        {
          "output_type": "stream",
          "name": "stderr",
          "text": [
            "/usr/local/lib/python3.8/dist-packages/sklearn/neural_network/_multilayer_perceptron.py:549: ConvergenceWarning:\n",
            "\n",
            "lbfgs failed to converge (status=1):\n",
            "STOP: TOTAL NO. of ITERATIONS REACHED LIMIT.\n",
            "\n",
            "Increase the number of iterations (max_iter) or scale the data as shown in:\n",
            "    https://scikit-learn.org/stable/modules/preprocessing.html\n",
            "\n"
          ]
        },
        {
          "output_type": "stream",
          "name": "stdout",
          "text": [
            "Model Number: 845 with model DatepartRegression in generation 6 of 10\n",
            "Model Number: 846 with model UnobservedComponents in generation 6 of 10\n",
            "Model Number: 847 with model AverageValueNaive in generation 6 of 10\n",
            "Model Number: 848 with model SectionalMotif in generation 6 of 10\n",
            "Model Number: 849 with model UnivariateMotif in generation 6 of 10\n",
            "Model Number: 850 with model NVAR in generation 6 of 10\n",
            "Model Number: 851 with model MultivariateRegression in generation 6 of 10\n",
            "Model Number: 852 with model MultivariateMotif in generation 6 of 10\n",
            "Model Number: 853 with model ETS in generation 6 of 10\n",
            "Model Number: 854 with model WindowRegression in generation 6 of 10\n",
            "Model Number: 855 with model MetricMotif in generation 6 of 10\n",
            "Model Number: 856 with model SeasonalNaive in generation 6 of 10\n",
            "Model Number: 857 with model SectionalMotif in generation 6 of 10\n",
            "Model Number: 858 with model MultivariateRegression in generation 6 of 10\n",
            "Model Number: 859 with model Theta in generation 6 of 10\n",
            "Model Number: 860 with model UnivariateMotif in generation 6 of 10\n",
            "Model Number: 861 with model SeasonalNaive in generation 6 of 10\n",
            "Model Number: 862 with model SeasonalNaive in generation 6 of 10\n",
            "Model Number: 863 with model ETS in generation 6 of 10\n",
            "Model Number: 864 with model ETS in generation 6 of 10\n",
            "ETS error ValueError('endog must be strictly positive when usingmultiplicative trend or seasonal components.')\n",
            "ETS failed on Close with ValueError('endog must be strictly positive when usingmultiplicative trend or seasonal components.')\n",
            "Model Number: 865 with model SectionalMotif in generation 6 of 10\n",
            "Model Number: 866 with model NVAR in generation 6 of 10\n",
            "Model Number: 867 with model AverageValueNaive in generation 6 of 10\n",
            "Model Number: 868 with model WindowRegression in generation 6 of 10\n",
            "Model Number: 869 with model ConstantNaive in generation 6 of 10\n",
            "Model Number: 870 with model NVAR in generation 6 of 10\n",
            "Model Number: 871 with model SectionalMotif in generation 6 of 10\n"
          ]
        },
        {
          "output_type": "stream",
          "name": "stderr",
          "text": [
            "/usr/local/lib/python3.8/dist-packages/sklearn/neural_network/_multilayer_perceptron.py:549: ConvergenceWarning:\n",
            "\n",
            "lbfgs failed to converge (status=1):\n",
            "STOP: TOTAL NO. of ITERATIONS REACHED LIMIT.\n",
            "\n",
            "Increase the number of iterations (max_iter) or scale the data as shown in:\n",
            "    https://scikit-learn.org/stable/modules/preprocessing.html\n",
            "\n"
          ]
        },
        {
          "output_type": "stream",
          "name": "stdout",
          "text": [
            "Model Number: 872 with model Theta in generation 6 of 10\n",
            "Model Number: 873 with model DatepartRegression in generation 6 of 10\n",
            "Model Number: 874 with model LastValueNaive in generation 6 of 10\n",
            "Model Number: 875 with model UnobservedComponents in generation 6 of 10\n",
            "Template Eval Error: Exception('Transformer BTCD failed on fit') in model 875: UnobservedComponents\n",
            "Model Number: 876 with model LastValueNaive in generation 6 of 10\n",
            "Model Number: 877 with model ETS in generation 6 of 10\n",
            "Model Number: 878 with model SeasonalNaive in generation 6 of 10\n"
          ]
        },
        {
          "output_type": "stream",
          "name": "stderr",
          "text": [
            "/usr/local/lib/python3.8/dist-packages/sklearn/preprocessing/_data.py:3253: RuntimeWarning:\n",
            "\n",
            "divide by zero encountered in log\n",
            "\n"
          ]
        },
        {
          "output_type": "stream",
          "name": "stdout",
          "text": [
            "Model Number: 879 with model MultivariateMotif in generation 6 of 10\n",
            "Model Number: 880 with model NVAR in generation 6 of 10\n",
            "Model Number: 881 with model ETS in generation 6 of 10\n",
            "Model Number: 882 with model Theta in generation 6 of 10\n",
            "Model Number: 883 with model SeasonalNaive in generation 6 of 10\n",
            "Model Number: 884 with model MultivariateRegression in generation 6 of 10\n",
            "Template Eval Error: ValueError(\"regression_type='User' but not future_regressor supplied.\") in model 884: MultivariateRegression\n",
            "Model Number: 885 with model SeasonalNaive in generation 6 of 10\n",
            "Model Number: 886 with model MultivariateMotif in generation 6 of 10\n",
            "New Generation: 7 of 10\n",
            "Model Number: 887 with model DatepartRegression in generation 7 of 10\n",
            "Template Eval Error: Exception('Transformer BTCD failed on fit') in model 887: DatepartRegression\n",
            "Model Number: 888 with model ARIMA in generation 7 of 10\n",
            "Model Number: 889 with model SeasonalNaive in generation 7 of 10\n",
            "Model Number: 890 with model ETS in generation 7 of 10\n",
            "ETS error ValueError('endog must be strictly positive when usingmultiplicative trend or seasonal components.')\n",
            "ETS failed on 0 with ValueError('endog must be strictly positive when usingmultiplicative trend or seasonal components.')\n",
            "Model Number: 891 with model MetricMotif in generation 7 of 10\n",
            "Model Number: 892 with model MultivariateMotif in generation 7 of 10\n",
            "Model Number: 893 with model WindowRegression in generation 7 of 10\n",
            "Model Number: 894 with model DatepartRegression in generation 7 of 10\n",
            "HolidayTransformer: no anomalies detected.\n",
            "Template Eval Error: ValueError(\"regression_type='User' but no future_regressor passed\") in model 894: DatepartRegression\n",
            "Model Number: 895 with model NVAR in generation 7 of 10\n",
            "Model Number: 896 with model UnobservedComponents in generation 7 of 10\n",
            "Model Number: 897 with model Theta in generation 7 of 10\n"
          ]
        },
        {
          "output_type": "stream",
          "name": "stderr",
          "text": [
            "/usr/local/lib/python3.8/dist-packages/sklearn/linear_model/_ridge.py:157: LinAlgWarning:\n",
            "\n",
            "Ill-conditioned matrix (rcond=7.7081e-25): result may not be accurate.\n",
            "\n"
          ]
        },
        {
          "output_type": "stream",
          "name": "stdout",
          "text": [
            "Template Eval Error: Exception('Transformer Cointegration failed on fit') in model 897: Theta\n",
            "Model Number: 898 with model SectionalMotif in generation 7 of 10\n",
            "Model Number: 899 with model NVAR in generation 7 of 10\n",
            "Model Number: 900 with model UnobservedComponents in generation 7 of 10\n",
            "Model Number: 901 with model UnobservedComponents in generation 7 of 10\n",
            "Model Number: 902 with model DatepartRegression in generation 7 of 10\n",
            "Model Number: 903 with model UnobservedComponents in generation 7 of 10\n",
            "Template Eval Error: ValueError(\"regression_type='User' but no future_regressor supplied\") in model 903: UnobservedComponents\n",
            "Model Number: 904 with model ETS in generation 7 of 10\n",
            "Model Number: 905 with model NVAR in generation 7 of 10\n",
            "Model Number: 906 with model NVAR in generation 7 of 10\n",
            "Model Number: 907 with model DatepartRegression in generation 7 of 10\n",
            "Model Number: 908 with model DatepartRegression in generation 7 of 10\n",
            "Model Number: 909 with model LastValueNaive in generation 7 of 10\n",
            "Model Number: 910 with model SeasonalNaive in generation 7 of 10\n",
            "Model Number: 911 with model NVAR in generation 7 of 10\n",
            "Model Number: 912 with model SectionalMotif in generation 7 of 10\n",
            "Model Number: 913 with model UnobservedComponents in generation 7 of 10\n",
            "Model Number: 914 with model SectionalMotif in generation 7 of 10\n",
            "Model Number: 915 with model MetricMotif in generation 7 of 10\n",
            "Model Number: 916 with model ETS in generation 7 of 10\n",
            "Model Number: 917 with model Theta in generation 7 of 10\n",
            "Template Eval Error: Exception('Transformer Cointegration failed on fit') in model 917: Theta\n",
            "Model Number: 918 with model DatepartRegression in generation 7 of 10\n",
            "Template Eval Error: Exception('Transformer Cointegration failed on fit') in model 918: DatepartRegression\n",
            "Model Number: 919 with model ETS in generation 7 of 10\n"
          ]
        },
        {
          "output_type": "stream",
          "name": "stderr",
          "text": [
            "/usr/local/lib/python3.8/dist-packages/autots/tools/thresholding.py:204: RuntimeWarning:\n",
            "\n",
            "overflow encountered in double_scalars\n",
            "\n"
          ]
        },
        {
          "output_type": "stream",
          "name": "stdout",
          "text": [
            "Model Number: 920 with model GLM in generation 7 of 10\n",
            "Model Number: 921 with model NVAR in generation 7 of 10\n",
            "Model Number: 922 with model ARIMA in generation 7 of 10\n",
            "Model Number: 923 with model NVAR in generation 7 of 10\n",
            "Model Number: 924 with model SeasonalNaive in generation 7 of 10\n",
            "Model Number: 925 with model ARIMA in generation 7 of 10\n",
            "Model Number: 926 with model MultivariateMotif in generation 7 of 10\n",
            "Model Number: 927 with model NVAR in generation 7 of 10\n",
            "Template Eval Error: ValueError(\"Model returned NaN due to a preprocessing transformer {'fillna': 'zero', 'transformations': {'0': 'AlignLastValue', '1': 'AlignLastValue', '2': 'PowerTransformer'}, 'transformation_params': {'0': {'rows': 1, 'lag': 7, 'method': 'additive', 'strength': 1.0, 'first_value_only': False}, '1': {'rows': 1, 'lag': 1, 'method': 'additive', 'strength': 1.0, 'first_value_only': False}, '2': {}}}. fail_on_forecast_nan=True\") in model 927: NVAR\n",
            "Model Number: 928 with model Theta in generation 7 of 10\n"
          ]
        },
        {
          "output_type": "stream",
          "name": "stderr",
          "text": [
            "/usr/local/lib/python3.8/dist-packages/sklearn/preprocessing/_data.py:3253: RuntimeWarning:\n",
            "\n",
            "divide by zero encountered in log\n",
            "\n",
            "/usr/local/lib/python3.8/dist-packages/sklearn/preprocessing/_data.py:3196: RuntimeWarning:\n",
            "\n",
            "divide by zero encountered in power\n",
            "\n",
            "/usr/local/lib/python3.8/dist-packages/sklearn/preprocessing/_data.py:3196: RuntimeWarning:\n",
            "\n",
            "divide by zero encountered in power\n",
            "\n",
            "/usr/local/lib/python3.8/dist-packages/sklearn/preprocessing/_data.py:3196: RuntimeWarning:\n",
            "\n",
            "divide by zero encountered in power\n",
            "\n"
          ]
        },
        {
          "output_type": "stream",
          "name": "stdout",
          "text": [
            "Model Number: 929 with model NVAR in generation 7 of 10\n",
            "Model Number: 930 with model NVAR in generation 7 of 10\n",
            "Model Number: 931 with model AverageValueNaive in generation 7 of 10\n",
            "Model Number: 932 with model UnobservedComponents in generation 7 of 10\n",
            "Model Number: 933 with model GLS in generation 7 of 10\n",
            "Model Number: 934 with model LastValueNaive in generation 7 of 10\n",
            "Model Number: 935 with model MultivariateRegression in generation 7 of 10\n",
            "Model Number: 936 with model MultivariateMotif in generation 7 of 10\n",
            "Model Number: 937 with model AverageValueNaive in generation 7 of 10\n",
            "Model Number: 938 with model ETS in generation 7 of 10\n",
            "ETS error ValueError('endog must be strictly positive when usingmultiplicative trend or seasonal components.')\n",
            "ETS failed on Close with ValueError('endog must be strictly positive when usingmultiplicative trend or seasonal components.')\n",
            "Model Number: 939 with model ARIMA in generation 7 of 10\n",
            "Model Number: 940 with model MetricMotif in generation 7 of 10\n",
            "Model Number: 941 with model SectionalMotif in generation 7 of 10\n",
            "Model Number: 942 with model AverageValueNaive in generation 7 of 10\n",
            "Model Number: 943 with model SeasonalNaive in generation 7 of 10\n",
            "Model Number: 944 with model ETS in generation 7 of 10\n",
            "Model Number: 945 with model MultivariateMotif in generation 7 of 10\n",
            "Model Number: 946 with model WindowRegression in generation 7 of 10\n",
            "Model Number: 947 with model LastValueNaive in generation 7 of 10\n",
            "Model Number: 948 with model MultivariateRegression in generation 7 of 10\n",
            "Model Number: 949 with model WindowRegression in generation 7 of 10\n",
            "Model Number: 950 with model Theta in generation 7 of 10\n",
            "Model Number: 951 with model UnobservedComponents in generation 7 of 10\n",
            "Model Number: 952 with model MultivariateRegression in generation 7 of 10\n"
          ]
        },
        {
          "output_type": "stream",
          "name": "stderr",
          "text": [
            "[Parallel(n_jobs=-2)]: Using backend SequentialBackend with 1 concurrent workers.\n",
            "[Parallel(n_jobs=-2)]: Done 200 out of 200 | elapsed:    0.4s finished\n",
            "[Parallel(n_jobs=1)]: Using backend SequentialBackend with 1 concurrent workers.\n",
            "[Parallel(n_jobs=1)]: Done 200 out of 200 | elapsed:    0.0s finished\n",
            "[Parallel(n_jobs=1)]: Using backend SequentialBackend with 1 concurrent workers.\n",
            "[Parallel(n_jobs=1)]: Done 200 out of 200 | elapsed:    0.0s finished\n",
            "[Parallel(n_jobs=1)]: Using backend SequentialBackend with 1 concurrent workers.\n",
            "[Parallel(n_jobs=1)]: Done 200 out of 200 | elapsed:    0.0s finished\n",
            "[Parallel(n_jobs=1)]: Using backend SequentialBackend with 1 concurrent workers.\n",
            "[Parallel(n_jobs=1)]: Done 200 out of 200 | elapsed:    0.0s finished\n",
            "[Parallel(n_jobs=1)]: Using backend SequentialBackend with 1 concurrent workers.\n",
            "[Parallel(n_jobs=1)]: Done 200 out of 200 | elapsed:    0.0s finished\n",
            "[Parallel(n_jobs=1)]: Using backend SequentialBackend with 1 concurrent workers.\n",
            "[Parallel(n_jobs=1)]: Done 200 out of 200 | elapsed:    0.0s finished\n"
          ]
        },
        {
          "output_type": "stream",
          "name": "stdout",
          "text": [
            "Model Number: 953 with model AverageValueNaive in generation 7 of 10\n"
          ]
        },
        {
          "output_type": "stream",
          "name": "stderr",
          "text": [
            "[Parallel(n_jobs=1)]: Using backend SequentialBackend with 1 concurrent workers.\n",
            "[Parallel(n_jobs=1)]: Done 200 out of 200 | elapsed:    0.0s finished\n",
            "[Parallel(n_jobs=1)]: Using backend SequentialBackend with 1 concurrent workers.\n",
            "[Parallel(n_jobs=1)]: Done 200 out of 200 | elapsed:    0.0s finished\n",
            "[Parallel(n_jobs=1)]: Using backend SequentialBackend with 1 concurrent workers.\n",
            "[Parallel(n_jobs=1)]: Done 200 out of 200 | elapsed:    0.0s finished\n",
            "[Parallel(n_jobs=1)]: Using backend SequentialBackend with 1 concurrent workers.\n",
            "[Parallel(n_jobs=1)]: Done 200 out of 200 | elapsed:    0.0s finished\n"
          ]
        },
        {
          "output_type": "stream",
          "name": "stdout",
          "text": [
            "Model Number: 954 with model SectionalMotif in generation 7 of 10\n",
            "Model Number: 955 with model ARIMA in generation 7 of 10\n",
            "Model Number: 956 with model SectionalMotif in generation 7 of 10\n",
            "Model Number: 957 with model AverageValueNaive in generation 7 of 10\n",
            "Model Number: 958 with model GLS in generation 7 of 10\n",
            "Model Number: 959 with model Theta in generation 7 of 10\n",
            "Model Number: 960 with model Theta in generation 7 of 10\n",
            "Model Number: 961 with model Theta in generation 7 of 10\n",
            "Model Number: 962 with model ConstantNaive in generation 7 of 10\n",
            "Model Number: 963 with model MultivariateRegression in generation 7 of 10\n",
            "Model Number: 964 with model AverageValueNaive in generation 7 of 10\n",
            "Model Number: 965 with model WindowRegression in generation 7 of 10\n",
            "Epoch 1/50\n",
            "20/20 [==============================] - 7s 9ms/step - loss: 0.1919\n",
            "Epoch 2/50\n",
            "20/20 [==============================] - 0s 8ms/step - loss: 0.1819\n",
            "Epoch 3/50\n",
            "20/20 [==============================] - 0s 8ms/step - loss: 0.1836\n",
            "Epoch 4/50\n",
            "20/20 [==============================] - 0s 8ms/step - loss: 0.1901\n",
            "Epoch 5/50\n",
            "20/20 [==============================] - 0s 8ms/step - loss: 0.1856\n",
            "Epoch 6/50\n",
            "20/20 [==============================] - 0s 9ms/step - loss: 0.1882\n",
            "Epoch 7/50\n",
            "20/20 [==============================] - 0s 8ms/step - loss: 0.1887\n",
            "Epoch 8/50\n",
            "20/20 [==============================] - 0s 8ms/step - loss: 0.1813\n",
            "Epoch 9/50\n",
            "20/20 [==============================] - 0s 8ms/step - loss: 0.1824\n",
            "Epoch 10/50\n",
            "20/20 [==============================] - 0s 9ms/step - loss: 0.1813\n",
            "Epoch 11/50\n",
            "20/20 [==============================] - 0s 8ms/step - loss: 0.1816\n",
            "Epoch 12/50\n",
            "20/20 [==============================] - 0s 7ms/step - loss: 0.1860\n",
            "Epoch 13/50\n",
            "20/20 [==============================] - 0s 9ms/step - loss: 0.1930\n",
            "Epoch 14/50\n",
            "20/20 [==============================] - 0s 8ms/step - loss: 0.1850\n",
            "Epoch 15/50\n",
            "20/20 [==============================] - 0s 8ms/step - loss: 0.1847\n",
            "Epoch 16/50\n",
            "20/20 [==============================] - 0s 8ms/step - loss: 0.1852\n",
            "Epoch 17/50\n",
            "20/20 [==============================] - 0s 8ms/step - loss: 0.1849\n",
            "Epoch 18/50\n",
            "20/20 [==============================] - 0s 8ms/step - loss: 0.1829\n",
            "Epoch 19/50\n",
            "20/20 [==============================] - 0s 8ms/step - loss: 0.1836\n",
            "Epoch 20/50\n",
            "20/20 [==============================] - 0s 8ms/step - loss: 0.1836\n",
            "Epoch 21/50\n",
            "20/20 [==============================] - 0s 8ms/step - loss: 0.1859\n",
            "Epoch 22/50\n",
            "20/20 [==============================] - 0s 8ms/step - loss: 0.1891\n",
            "Epoch 23/50\n",
            "20/20 [==============================] - 0s 8ms/step - loss: 0.1937\n",
            "Epoch 24/50\n",
            "20/20 [==============================] - 0s 8ms/step - loss: 0.1835\n",
            "Epoch 25/50\n",
            "20/20 [==============================] - 0s 8ms/step - loss: 0.1826\n",
            "Epoch 26/50\n",
            "20/20 [==============================] - 0s 7ms/step - loss: 0.1840\n",
            "Epoch 27/50\n",
            "20/20 [==============================] - 0s 7ms/step - loss: 0.1829\n",
            "Epoch 28/50\n",
            "20/20 [==============================] - 0s 8ms/step - loss: 0.1851\n",
            "Epoch 29/50\n",
            "20/20 [==============================] - 0s 8ms/step - loss: 0.1837\n",
            "Epoch 30/50\n",
            "20/20 [==============================] - 0s 8ms/step - loss: 0.1937\n",
            "Epoch 31/50\n",
            "20/20 [==============================] - 0s 8ms/step - loss: 0.1820\n",
            "Epoch 32/50\n",
            "20/20 [==============================] - 0s 9ms/step - loss: 0.1836\n",
            "Epoch 33/50\n",
            "20/20 [==============================] - 0s 9ms/step - loss: 0.1943\n",
            "Epoch 34/50\n",
            "20/20 [==============================] - 0s 10ms/step - loss: 0.1830\n",
            "Epoch 35/50\n",
            "20/20 [==============================] - 0s 9ms/step - loss: 0.1919\n",
            "Epoch 36/50\n",
            "20/20 [==============================] - 0s 10ms/step - loss: 0.1880\n",
            "Epoch 37/50\n",
            "20/20 [==============================] - 0s 10ms/step - loss: 0.1834\n",
            "Epoch 38/50\n",
            "20/20 [==============================] - 0s 9ms/step - loss: 0.1884\n",
            "Epoch 39/50\n",
            "20/20 [==============================] - 0s 11ms/step - loss: 0.1865\n",
            "Epoch 40/50\n",
            "20/20 [==============================] - 0s 10ms/step - loss: 0.1837\n",
            "Epoch 41/50\n",
            "20/20 [==============================] - 0s 10ms/step - loss: 0.1853\n",
            "Epoch 42/50\n",
            "20/20 [==============================] - 0s 15ms/step - loss: 0.1823\n",
            "Epoch 43/50\n",
            "20/20 [==============================] - 0s 16ms/step - loss: 0.1825\n",
            "Epoch 44/50\n",
            "20/20 [==============================] - 0s 14ms/step - loss: 0.1832\n",
            "Epoch 45/50\n",
            "20/20 [==============================] - 0s 13ms/step - loss: 0.1827\n",
            "Epoch 46/50\n",
            "20/20 [==============================] - 0s 13ms/step - loss: 0.1856\n",
            "Epoch 47/50\n",
            "20/20 [==============================] - 0s 16ms/step - loss: 0.1835\n",
            "Epoch 48/50\n",
            "20/20 [==============================] - 0s 13ms/step - loss: 0.1835\n",
            "Epoch 49/50\n",
            "20/20 [==============================] - 0s 14ms/step - loss: 0.1819\n",
            "Epoch 50/50\n",
            "20/20 [==============================] - 0s 14ms/step - loss: 0.1833\n",
            "1/1 [==============================] - 2s 2s/step\n",
            "1/1 [==============================] - 0s 30ms/step\n",
            "1/1 [==============================] - 0s 29ms/step\n",
            "1/1 [==============================] - 0s 42ms/step\n",
            "1/1 [==============================] - 0s 30ms/step\n",
            "1/1 [==============================] - 0s 28ms/step\n",
            "1/1 [==============================] - 0s 29ms/step\n",
            "1/1 [==============================] - 0s 33ms/step\n",
            "1/1 [==============================] - 0s 29ms/step\n",
            "1/1 [==============================] - 0s 30ms/step\n",
            "Model Number: 966 with model ETS in generation 7 of 10\n",
            "ETS error ValueError('endog must be strictly positive when usingmultiplicative trend or seasonal components.')\n",
            "ETS failed on Close with ValueError('endog must be strictly positive when usingmultiplicative trend or seasonal components.')\n",
            "Model Number: 967 with model MetricMotif in generation 7 of 10\n",
            "Model Number: 968 with model AverageValueNaive in generation 7 of 10\n",
            "Model Number: 969 with model SeasonalNaive in generation 7 of 10\n",
            "Model Number: 970 with model UnobservedComponents in generation 7 of 10\n",
            "Model Number: 971 with model SeasonalNaive in generation 7 of 10\n",
            "Model Number: 972 with model ETS in generation 7 of 10\n",
            "Model Number: 973 with model WindowRegression in generation 7 of 10\n",
            "Template Eval Error: Exception('Transformer Detrend failed on fit') in model 973: WindowRegression\n",
            "Model Number: 974 with model Theta in generation 7 of 10\n",
            "Model Number: 975 with model ARIMA in generation 7 of 10\n",
            "Model Number: 976 with model ARIMA in generation 7 of 10\n",
            "Model Number: 977 with model SectionalMotif in generation 7 of 10\n",
            "Model Number: 978 with model MetricMotif in generation 7 of 10\n",
            "Model Number: 979 with model NVAR in generation 7 of 10\n",
            "Template Eval Error: Exception('Transformer Detrend failed on fit') in model 979: NVAR\n",
            "Model Number: 980 with model ConstantNaive in generation 7 of 10\n",
            "Model Number: 981 with model UnivariateMotif in generation 7 of 10\n",
            "Model Number: 982 with model UnobservedComponents in generation 7 of 10\n",
            "Model Number: 983 with model MetricMotif in generation 7 of 10\n",
            "Model Number: 984 with model LastValueNaive in generation 7 of 10\n",
            "Model Number: 985 with model MultivariateRegression in generation 7 of 10\n",
            "Model Number: 986 with model MultivariateMotif in generation 7 of 10\n",
            "New Generation: 8 of 10\n",
            "Model Number: 987 with model MultivariateMotif in generation 8 of 10\n",
            "Model Number: 988 with model NVAR in generation 8 of 10\n",
            "Model Number: 989 with model SeasonalNaive in generation 8 of 10\n",
            "Model Number: 990 with model MetricMotif in generation 8 of 10\n",
            "Model Number: 991 with model Theta in generation 8 of 10\n"
          ]
        },
        {
          "output_type": "stream",
          "name": "stderr",
          "text": [
            "/usr/local/lib/python3.8/dist-packages/autots/tools/probabilistic.py:67: RuntimeWarning:\n",
            "\n",
            "invalid value encountered in true_divide\n",
            "\n",
            "/usr/local/lib/python3.8/dist-packages/autots/tools/probabilistic.py:68: RuntimeWarning:\n",
            "\n",
            "divide by zero encountered in true_divide\n",
            "\n"
          ]
        },
        {
          "output_type": "stream",
          "name": "stdout",
          "text": [
            "Model Number: 992 with model FBProphet in generation 8 of 10\n"
          ]
        },
        {
          "output_type": "stream",
          "name": "stderr",
          "text": [
            "INFO:prophet:Disabling yearly seasonality. Run prophet with yearly_seasonality=True to override this.\n",
            "INFO:prophet:Disabling daily seasonality. Run prophet with daily_seasonality=True to override this.\n",
            "DEBUG:cmdstanpy:input tempfile: /tmp/tmp09dakauk/a2m4i1ev.json\n",
            "DEBUG:cmdstanpy:input tempfile: /tmp/tmp09dakauk/f_ee66x3.json\n",
            "DEBUG:cmdstanpy:idx 0\n",
            "DEBUG:cmdstanpy:running CmdStan, num_threads: None\n",
            "DEBUG:cmdstanpy:CmdStan args: ['/usr/local/lib/python3.8/dist-packages/prophet/stan_model/prophet_model.bin', 'random', 'seed=39196', 'data', 'file=/tmp/tmp09dakauk/a2m4i1ev.json', 'init=/tmp/tmp09dakauk/f_ee66x3.json', 'output', 'file=/tmp/tmp09dakauk/prophet_model9n81y6dw/prophet_model-20230216094658.csv', 'method=optimize', 'algorithm=lbfgs', 'iter=10000']\n",
            "09:46:58 - cmdstanpy - INFO - Chain [1] start processing\n",
            "INFO:cmdstanpy:Chain [1] start processing\n",
            "09:46:59 - cmdstanpy - INFO - Chain [1] done processing\n",
            "INFO:cmdstanpy:Chain [1] done processing\n"
          ]
        },
        {
          "output_type": "stream",
          "name": "stdout",
          "text": [
            "Model Number: 993 with model MetricMotif in generation 8 of 10\n",
            "Model Number: 994 with model AverageValueNaive in generation 8 of 10\n",
            "Model Number: 995 with model MultivariateRegression in generation 8 of 10\n",
            "Model Number: 996 with model SeasonalNaive in generation 8 of 10\n"
          ]
        },
        {
          "output_type": "stream",
          "name": "stderr",
          "text": [
            "INFO:prophet:Disabling yearly seasonality. Run prophet with yearly_seasonality=True to override this.\n",
            "INFO:prophet:Disabling daily seasonality. Run prophet with daily_seasonality=True to override this.\n",
            "DEBUG:cmdstanpy:input tempfile: /tmp/tmp09dakauk/kheicrs8.json\n",
            "DEBUG:cmdstanpy:input tempfile: /tmp/tmp09dakauk/5g4y2owi.json\n",
            "DEBUG:cmdstanpy:idx 0\n",
            "DEBUG:cmdstanpy:running CmdStan, num_threads: None\n",
            "DEBUG:cmdstanpy:CmdStan args: ['/usr/local/lib/python3.8/dist-packages/prophet/stan_model/prophet_model.bin', 'random', 'seed=73913', 'data', 'file=/tmp/tmp09dakauk/kheicrs8.json', 'init=/tmp/tmp09dakauk/5g4y2owi.json', 'output', 'file=/tmp/tmp09dakauk/prophet_modelw3qm8q93/prophet_model-20230216094659.csv', 'method=optimize', 'algorithm=lbfgs', 'iter=10000']\n",
            "09:46:59 - cmdstanpy - INFO - Chain [1] start processing\n",
            "INFO:cmdstanpy:Chain [1] start processing\n"
          ]
        },
        {
          "output_type": "stream",
          "name": "stdout",
          "text": [
            "Model Number: 997 with model FBProphet in generation 8 of 10\n"
          ]
        },
        {
          "output_type": "stream",
          "name": "stderr",
          "text": [
            "09:47:00 - cmdstanpy - INFO - Chain [1] done processing\n",
            "INFO:cmdstanpy:Chain [1] done processing\n"
          ]
        },
        {
          "output_type": "stream",
          "name": "stdout",
          "text": [
            "Model Number: 998 with model AverageValueNaive in generation 8 of 10\n",
            "Model Number: 999 with model MetricMotif in generation 8 of 10\n",
            "Model Number: 1000 with model ARIMA in generation 8 of 10\n",
            "Model Number: 1001 with model MetricMotif in generation 8 of 10\n",
            "Model Number: 1002 with model AverageValueNaive in generation 8 of 10\n",
            "Model Number: 1003 with model UnobservedComponents in generation 8 of 10\n",
            "Template Eval Error: Exception('Transformer BTCD failed on fit') in model 1003: UnobservedComponents\n",
            "Model Number: 1004 with model ARIMA in generation 8 of 10\n",
            "Model Number: 1005 with model LastValueNaive in generation 8 of 10\n",
            "Model Number: 1006 with model UnobservedComponents in generation 8 of 10\n",
            "Model Number: 1007 with model UnobservedComponents in generation 8 of 10\n",
            "Model Number: 1008 with model ARIMA in generation 8 of 10\n",
            "Model Number: 1009 with model SeasonalNaive in generation 8 of 10\n",
            "Model Number: 1010 with model UnobservedComponents in generation 8 of 10\n",
            "Model Number: 1011 with model DatepartRegression in generation 8 of 10\n",
            "[LibLinear][LibLinear][LibLinear][LibLinear][LibLinear][LibLinear][LibLinear][LibLinear][LibLinear][LibLinear]"
          ]
        },
        {
          "output_type": "stream",
          "name": "stderr",
          "text": [
            "/usr/local/lib/python3.8/dist-packages/sklearn/svm/_base.py:1206: ConvergenceWarning:\n",
            "\n",
            "Liblinear failed to converge, increase the number of iterations.\n",
            "\n",
            "/usr/local/lib/python3.8/dist-packages/sklearn/svm/_base.py:1206: ConvergenceWarning:\n",
            "\n",
            "Liblinear failed to converge, increase the number of iterations.\n",
            "\n",
            "/usr/local/lib/python3.8/dist-packages/sklearn/svm/_base.py:1206: ConvergenceWarning:\n",
            "\n",
            "Liblinear failed to converge, increase the number of iterations.\n",
            "\n",
            "/usr/local/lib/python3.8/dist-packages/sklearn/svm/_base.py:1206: ConvergenceWarning:\n",
            "\n",
            "Liblinear failed to converge, increase the number of iterations.\n",
            "\n",
            "/usr/local/lib/python3.8/dist-packages/sklearn/svm/_base.py:1206: ConvergenceWarning:\n",
            "\n",
            "Liblinear failed to converge, increase the number of iterations.\n",
            "\n",
            "/usr/local/lib/python3.8/dist-packages/sklearn/svm/_base.py:1206: ConvergenceWarning:\n",
            "\n",
            "Liblinear failed to converge, increase the number of iterations.\n",
            "\n",
            "/usr/local/lib/python3.8/dist-packages/sklearn/svm/_base.py:1206: ConvergenceWarning:\n",
            "\n",
            "Liblinear failed to converge, increase the number of iterations.\n",
            "\n",
            "/usr/local/lib/python3.8/dist-packages/sklearn/svm/_base.py:1206: ConvergenceWarning:\n",
            "\n",
            "Liblinear failed to converge, increase the number of iterations.\n",
            "\n",
            "/usr/local/lib/python3.8/dist-packages/sklearn/svm/_base.py:1206: ConvergenceWarning:\n",
            "\n",
            "Liblinear failed to converge, increase the number of iterations.\n",
            "\n",
            "/usr/local/lib/python3.8/dist-packages/sklearn/svm/_base.py:1206: ConvergenceWarning:\n",
            "\n",
            "Liblinear failed to converge, increase the number of iterations.\n",
            "\n",
            "/usr/local/lib/python3.8/dist-packages/sklearn/svm/_base.py:1206: ConvergenceWarning:\n",
            "\n",
            "Liblinear failed to converge, increase the number of iterations.\n",
            "\n"
          ]
        },
        {
          "output_type": "stream",
          "name": "stdout",
          "text": [
            "[LibLinear][LibLinear][LibLinear][LibLinear][LibLinear][LibLinear][LibLinear][LibLinear][LibLinear]"
          ]
        },
        {
          "output_type": "stream",
          "name": "stderr",
          "text": [
            "/usr/local/lib/python3.8/dist-packages/sklearn/svm/_base.py:1206: ConvergenceWarning:\n",
            "\n",
            "Liblinear failed to converge, increase the number of iterations.\n",
            "\n",
            "/usr/local/lib/python3.8/dist-packages/sklearn/svm/_base.py:1206: ConvergenceWarning:\n",
            "\n",
            "Liblinear failed to converge, increase the number of iterations.\n",
            "\n",
            "/usr/local/lib/python3.8/dist-packages/sklearn/svm/_base.py:1206: ConvergenceWarning:\n",
            "\n",
            "Liblinear failed to converge, increase the number of iterations.\n",
            "\n",
            "/usr/local/lib/python3.8/dist-packages/sklearn/svm/_base.py:1206: ConvergenceWarning:\n",
            "\n",
            "Liblinear failed to converge, increase the number of iterations.\n",
            "\n",
            "/usr/local/lib/python3.8/dist-packages/sklearn/svm/_base.py:1206: ConvergenceWarning:\n",
            "\n",
            "Liblinear failed to converge, increase the number of iterations.\n",
            "\n",
            "/usr/local/lib/python3.8/dist-packages/sklearn/svm/_base.py:1206: ConvergenceWarning:\n",
            "\n",
            "Liblinear failed to converge, increase the number of iterations.\n",
            "\n",
            "/usr/local/lib/python3.8/dist-packages/sklearn/svm/_base.py:1206: ConvergenceWarning:\n",
            "\n",
            "Liblinear failed to converge, increase the number of iterations.\n",
            "\n",
            "/usr/local/lib/python3.8/dist-packages/sklearn/svm/_base.py:1206: ConvergenceWarning:\n",
            "\n",
            "Liblinear failed to converge, increase the number of iterations.\n",
            "\n",
            "/usr/local/lib/python3.8/dist-packages/sklearn/svm/_base.py:1206: ConvergenceWarning:\n",
            "\n",
            "Liblinear failed to converge, increase the number of iterations.\n",
            "\n",
            "/usr/local/lib/python3.8/dist-packages/sklearn/svm/_base.py:1206: ConvergenceWarning:\n",
            "\n",
            "Liblinear failed to converge, increase the number of iterations.\n",
            "\n"
          ]
        },
        {
          "output_type": "stream",
          "name": "stdout",
          "text": [
            "[LibLinear][LibLinear][LibLinear]Model Number: 1012 with model Theta in generation 8 of 10\n"
          ]
        },
        {
          "output_type": "stream",
          "name": "stderr",
          "text": [
            "/usr/local/lib/python3.8/dist-packages/sklearn/svm/_base.py:1206: ConvergenceWarning:\n",
            "\n",
            "Liblinear failed to converge, increase the number of iterations.\n",
            "\n"
          ]
        },
        {
          "output_type": "stream",
          "name": "stdout",
          "text": [
            "Model Number: 1013 with model SeasonalNaive in generation 8 of 10\n",
            "Model Number: 1014 with model MetricMotif in generation 8 of 10\n",
            "Model Number: 1015 with model ConstantNaive in generation 8 of 10\n",
            "Model Number: 1016 with model DatepartRegression in generation 8 of 10\n",
            "Model Number: 1017 with model LastValueNaive in generation 8 of 10\n",
            "Model Number: 1018 with model SectionalMotif in generation 8 of 10\n",
            "Model Number: 1019 with model ARIMA in generation 8 of 10\n",
            "Model Number: 1020 with model DatepartRegression in generation 8 of 10\n",
            "HolidayTransformer: no anomalies detected.\n",
            "Template Eval Error: ValueError(\"regression_type='User' but no future_regressor passed\") in model 1020: DatepartRegression\n",
            "Model Number: 1021 with model SeasonalNaive in generation 8 of 10\n",
            "Model Number: 1022 with model Theta in generation 8 of 10\n"
          ]
        },
        {
          "output_type": "stream",
          "name": "stderr",
          "text": [
            "/usr/local/lib/python3.8/dist-packages/sklearn/linear_model/_ridge.py:157: LinAlgWarning:\n",
            "\n",
            "Ill-conditioned matrix (rcond=7.7081e-25): result may not be accurate.\n",
            "\n"
          ]
        },
        {
          "output_type": "stream",
          "name": "stdout",
          "text": [
            "Model Number: 1023 with model GLS in generation 8 of 10\n",
            "Model Number: 1024 with model UnivariateMotif in generation 8 of 10\n",
            "Model Number: 1025 with model WindowRegression in generation 8 of 10\n",
            "Model Number: 1026 with model FBProphet in generation 8 of 10\n"
          ]
        },
        {
          "output_type": "stream",
          "name": "stderr",
          "text": [
            "INFO:prophet:Disabling yearly seasonality. Run prophet with yearly_seasonality=True to override this.\n",
            "INFO:prophet:Disabling daily seasonality. Run prophet with daily_seasonality=True to override this.\n",
            "DEBUG:cmdstanpy:input tempfile: /tmp/tmp09dakauk/8gbgdug6.json\n",
            "DEBUG:cmdstanpy:input tempfile: /tmp/tmp09dakauk/pe0ezpe5.json\n",
            "DEBUG:cmdstanpy:idx 0\n",
            "DEBUG:cmdstanpy:running CmdStan, num_threads: None\n",
            "DEBUG:cmdstanpy:CmdStan args: ['/usr/local/lib/python3.8/dist-packages/prophet/stan_model/prophet_model.bin', 'random', 'seed=64637', 'data', 'file=/tmp/tmp09dakauk/8gbgdug6.json', 'init=/tmp/tmp09dakauk/pe0ezpe5.json', 'output', 'file=/tmp/tmp09dakauk/prophet_modelm8k4n6bv/prophet_model-20230216094710.csv', 'method=optimize', 'algorithm=lbfgs', 'iter=10000']\n",
            "09:47:10 - cmdstanpy - INFO - Chain [1] start processing\n",
            "INFO:cmdstanpy:Chain [1] start processing\n",
            "09:47:10 - cmdstanpy - INFO - Chain [1] done processing\n",
            "INFO:cmdstanpy:Chain [1] done processing\n"
          ]
        },
        {
          "output_type": "stream",
          "name": "stdout",
          "text": [
            "Model Number: 1027 with model MetricMotif in generation 8 of 10\n",
            "Model Number: 1028 with model MetricMotif in generation 8 of 10\n",
            "Model Number: 1029 with model ARIMA in generation 8 of 10\n",
            "Model Number: 1030 with model LastValueNaive in generation 8 of 10\n",
            "Model Number: 1031 with model MultivariateMotif in generation 8 of 10\n",
            "Model Number: 1032 with model ARIMA in generation 8 of 10\n",
            "Model Number: 1033 with model NVAR in generation 8 of 10\n",
            "Template Eval Error: Exception('Transformer BTCD failed on fit') in model 1033: NVAR\n",
            "Model Number: 1034 with model NVAR in generation 8 of 10\n",
            "Model Number: 1035 with model SectionalMotif in generation 8 of 10\n",
            "Model Number: 1036 with model ETS in generation 8 of 10\n",
            "Model Number: 1037 with model MetricMotif in generation 8 of 10\n",
            "Model Number: 1038 with model MultivariateRegression in generation 8 of 10\n"
          ]
        },
        {
          "output_type": "stream",
          "name": "stderr",
          "text": [
            "[Parallel(n_jobs=-2)]: Using backend SequentialBackend with 1 concurrent workers.\n",
            "[Parallel(n_jobs=-2)]: Done 200 out of 200 | elapsed:    0.4s finished\n",
            "[Parallel(n_jobs=1)]: Using backend SequentialBackend with 1 concurrent workers.\n",
            "[Parallel(n_jobs=1)]: Done 200 out of 200 | elapsed:    0.0s finished\n",
            "[Parallel(n_jobs=1)]: Using backend SequentialBackend with 1 concurrent workers.\n",
            "[Parallel(n_jobs=1)]: Done 200 out of 200 | elapsed:    0.0s finished\n",
            "[Parallel(n_jobs=1)]: Using backend SequentialBackend with 1 concurrent workers.\n",
            "[Parallel(n_jobs=1)]: Done 200 out of 200 | elapsed:    0.0s finished\n",
            "[Parallel(n_jobs=1)]: Using backend SequentialBackend with 1 concurrent workers.\n",
            "[Parallel(n_jobs=1)]: Done 200 out of 200 | elapsed:    0.0s finished\n",
            "[Parallel(n_jobs=1)]: Using backend SequentialBackend with 1 concurrent workers.\n",
            "[Parallel(n_jobs=1)]: Done 200 out of 200 | elapsed:    0.0s finished\n",
            "[Parallel(n_jobs=1)]: Using backend SequentialBackend with 1 concurrent workers.\n",
            "[Parallel(n_jobs=1)]: Done 200 out of 200 | elapsed:    0.0s finished\n",
            "[Parallel(n_jobs=1)]: Using backend SequentialBackend with 1 concurrent workers.\n",
            "[Parallel(n_jobs=1)]: Done 200 out of 200 | elapsed:    0.0s finished\n"
          ]
        },
        {
          "output_type": "stream",
          "name": "stdout",
          "text": [
            "Model Number: 1039 with model UnobservedComponents in generation 8 of 10\n"
          ]
        },
        {
          "output_type": "stream",
          "name": "stderr",
          "text": [
            "[Parallel(n_jobs=1)]: Using backend SequentialBackend with 1 concurrent workers.\n",
            "[Parallel(n_jobs=1)]: Done 200 out of 200 | elapsed:    0.0s finished\n",
            "[Parallel(n_jobs=1)]: Using backend SequentialBackend with 1 concurrent workers.\n",
            "[Parallel(n_jobs=1)]: Done 200 out of 200 | elapsed:    0.0s finished\n",
            "[Parallel(n_jobs=1)]: Using backend SequentialBackend with 1 concurrent workers.\n",
            "[Parallel(n_jobs=1)]: Done 200 out of 200 | elapsed:    0.0s finished\n",
            "INFO:prophet:Disabling yearly seasonality. Run prophet with yearly_seasonality=True to override this.\n",
            "INFO:prophet:Disabling daily seasonality. Run prophet with daily_seasonality=True to override this.\n",
            "DEBUG:cmdstanpy:input tempfile: /tmp/tmp09dakauk/oyjuy3z5.json\n",
            "DEBUG:cmdstanpy:input tempfile: /tmp/tmp09dakauk/q4bc96fe.json\n",
            "DEBUG:cmdstanpy:idx 0\n",
            "DEBUG:cmdstanpy:running CmdStan, num_threads: None\n",
            "DEBUG:cmdstanpy:CmdStan args: ['/usr/local/lib/python3.8/dist-packages/prophet/stan_model/prophet_model.bin', 'random', 'seed=43174', 'data', 'file=/tmp/tmp09dakauk/oyjuy3z5.json', 'init=/tmp/tmp09dakauk/q4bc96fe.json', 'output', 'file=/tmp/tmp09dakauk/prophet_modelhv_kw56c/prophet_model-20230216094715.csv', 'method=optimize', 'algorithm=lbfgs', 'iter=10000']\n",
            "09:47:15 - cmdstanpy - INFO - Chain [1] start processing\n",
            "INFO:cmdstanpy:Chain [1] start processing\n"
          ]
        },
        {
          "output_type": "stream",
          "name": "stdout",
          "text": [
            "Model Number: 1040 with model FBProphet in generation 8 of 10\n"
          ]
        },
        {
          "output_type": "stream",
          "name": "stderr",
          "text": [
            "09:47:16 - cmdstanpy - INFO - Chain [1] done processing\n",
            "INFO:cmdstanpy:Chain [1] done processing\n"
          ]
        },
        {
          "output_type": "stream",
          "name": "stdout",
          "text": [
            "Model Number: 1041 with model DatepartRegression in generation 8 of 10\n",
            "Model Number: 1042 with model MultivariateMotif in generation 8 of 10\n",
            "Model Number: 1043 with model DatepartRegression in generation 8 of 10\n",
            "Model Number: 1044 with model SeasonalNaive in generation 8 of 10\n",
            "Model Number: 1045 with model AverageValueNaive in generation 8 of 10\n",
            "Model Number: 1046 with model DatepartRegression in generation 8 of 10\n",
            "Template Eval Error: Exception('Transformer Cointegration failed on fit') in model 1046: DatepartRegression\n",
            "Model Number: 1047 with model Theta in generation 8 of 10\n",
            "Model Number: 1048 with model Theta in generation 8 of 10\n",
            "Model Number: 1049 with model DatepartRegression in generation 8 of 10\n",
            "Model Number: 1050 with model WindowRegression in generation 8 of 10\n"
          ]
        },
        {
          "output_type": "stream",
          "name": "stderr",
          "text": [
            "/usr/local/lib/python3.8/dist-packages/sklearn/neural_network/_multilayer_perceptron.py:549: ConvergenceWarning:\n",
            "\n",
            "lbfgs failed to converge (status=1):\n",
            "STOP: TOTAL NO. of ITERATIONS REACHED LIMIT.\n",
            "\n",
            "Increase the number of iterations (max_iter) or scale the data as shown in:\n",
            "    https://scikit-learn.org/stable/modules/preprocessing.html\n",
            "\n"
          ]
        },
        {
          "output_type": "stream",
          "name": "stdout",
          "text": [
            "Model Number: 1051 with model UnobservedComponents in generation 8 of 10\n",
            "Model Number: 1052 with model SectionalMotif in generation 8 of 10\n",
            "Template Eval Error: ValueError('kth(=100) out of bounds (14)') in model 1052: SectionalMotif\n",
            "Model Number: 1053 with model ETS in generation 8 of 10\n",
            "Model Number: 1054 with model MultivariateMotif in generation 8 of 10\n",
            "Model Number: 1055 with model MultivariateRegression in generation 8 of 10\n",
            "Model Number: 1056 with model UnobservedComponents in generation 8 of 10\n",
            "Model Number: 1057 with model SeasonalNaive in generation 8 of 10\n",
            "Model Number: 1058 with model AverageValueNaive in generation 8 of 10\n",
            "Model Number: 1059 with model DatepartRegression in generation 8 of 10\n",
            "[LibLinear][LibLinear][LibLinear][LibLinear][LibLinear][LibLinear][LibLinear]"
          ]
        },
        {
          "output_type": "stream",
          "name": "stderr",
          "text": [
            "/usr/local/lib/python3.8/dist-packages/sklearn/svm/_base.py:1206: ConvergenceWarning:\n",
            "\n",
            "Liblinear failed to converge, increase the number of iterations.\n",
            "\n",
            "/usr/local/lib/python3.8/dist-packages/sklearn/svm/_base.py:1206: ConvergenceWarning:\n",
            "\n",
            "Liblinear failed to converge, increase the number of iterations.\n",
            "\n",
            "/usr/local/lib/python3.8/dist-packages/sklearn/svm/_base.py:1206: ConvergenceWarning:\n",
            "\n",
            "Liblinear failed to converge, increase the number of iterations.\n",
            "\n",
            "/usr/local/lib/python3.8/dist-packages/sklearn/svm/_base.py:1206: ConvergenceWarning:\n",
            "\n",
            "Liblinear failed to converge, increase the number of iterations.\n",
            "\n",
            "/usr/local/lib/python3.8/dist-packages/sklearn/svm/_base.py:1206: ConvergenceWarning:\n",
            "\n",
            "Liblinear failed to converge, increase the number of iterations.\n",
            "\n",
            "/usr/local/lib/python3.8/dist-packages/sklearn/svm/_base.py:1206: ConvergenceWarning:\n",
            "\n",
            "Liblinear failed to converge, increase the number of iterations.\n",
            "\n",
            "/usr/local/lib/python3.8/dist-packages/sklearn/svm/_base.py:1206: ConvergenceWarning:\n",
            "\n",
            "Liblinear failed to converge, increase the number of iterations.\n",
            "\n",
            "/usr/local/lib/python3.8/dist-packages/sklearn/svm/_base.py:1206: ConvergenceWarning:\n",
            "\n",
            "Liblinear failed to converge, increase the number of iterations.\n",
            "\n",
            "/usr/local/lib/python3.8/dist-packages/sklearn/svm/_base.py:1206: ConvergenceWarning:\n",
            "\n",
            "Liblinear failed to converge, increase the number of iterations.\n",
            "\n"
          ]
        },
        {
          "output_type": "stream",
          "name": "stdout",
          "text": [
            "[LibLinear][LibLinear][LibLinear][LibLinear][LibLinear][LibLinear][LibLinear][LibLinear][LibLinear][LibLinear]"
          ]
        },
        {
          "output_type": "stream",
          "name": "stderr",
          "text": [
            "/usr/local/lib/python3.8/dist-packages/sklearn/svm/_base.py:1206: ConvergenceWarning:\n",
            "\n",
            "Liblinear failed to converge, increase the number of iterations.\n",
            "\n",
            "/usr/local/lib/python3.8/dist-packages/sklearn/svm/_base.py:1206: ConvergenceWarning:\n",
            "\n",
            "Liblinear failed to converge, increase the number of iterations.\n",
            "\n",
            "/usr/local/lib/python3.8/dist-packages/sklearn/svm/_base.py:1206: ConvergenceWarning:\n",
            "\n",
            "Liblinear failed to converge, increase the number of iterations.\n",
            "\n",
            "/usr/local/lib/python3.8/dist-packages/sklearn/svm/_base.py:1206: ConvergenceWarning:\n",
            "\n",
            "Liblinear failed to converge, increase the number of iterations.\n",
            "\n",
            "/usr/local/lib/python3.8/dist-packages/sklearn/svm/_base.py:1206: ConvergenceWarning:\n",
            "\n",
            "Liblinear failed to converge, increase the number of iterations.\n",
            "\n",
            "/usr/local/lib/python3.8/dist-packages/sklearn/svm/_base.py:1206: ConvergenceWarning:\n",
            "\n",
            "Liblinear failed to converge, increase the number of iterations.\n",
            "\n",
            "/usr/local/lib/python3.8/dist-packages/sklearn/svm/_base.py:1206: ConvergenceWarning:\n",
            "\n",
            "Liblinear failed to converge, increase the number of iterations.\n",
            "\n",
            "/usr/local/lib/python3.8/dist-packages/sklearn/svm/_base.py:1206: ConvergenceWarning:\n",
            "\n",
            "Liblinear failed to converge, increase the number of iterations.\n",
            "\n",
            "/usr/local/lib/python3.8/dist-packages/sklearn/svm/_base.py:1206: ConvergenceWarning:\n",
            "\n",
            "Liblinear failed to converge, increase the number of iterations.\n",
            "\n",
            "/usr/local/lib/python3.8/dist-packages/sklearn/svm/_base.py:1206: ConvergenceWarning:\n",
            "\n",
            "Liblinear failed to converge, increase the number of iterations.\n",
            "\n"
          ]
        },
        {
          "output_type": "stream",
          "name": "stdout",
          "text": [
            "[LibLinear][LibLinear][LibLinear][LibLinear][LibLinear][LibLinear][LibLinear][LibLinear][LibLinear][LibLinear]"
          ]
        },
        {
          "output_type": "stream",
          "name": "stderr",
          "text": [
            "/usr/local/lib/python3.8/dist-packages/sklearn/svm/_base.py:1206: ConvergenceWarning:\n",
            "\n",
            "Liblinear failed to converge, increase the number of iterations.\n",
            "\n",
            "/usr/local/lib/python3.8/dist-packages/sklearn/svm/_base.py:1206: ConvergenceWarning:\n",
            "\n",
            "Liblinear failed to converge, increase the number of iterations.\n",
            "\n",
            "/usr/local/lib/python3.8/dist-packages/sklearn/svm/_base.py:1206: ConvergenceWarning:\n",
            "\n",
            "Liblinear failed to converge, increase the number of iterations.\n",
            "\n",
            "/usr/local/lib/python3.8/dist-packages/sklearn/svm/_base.py:1206: ConvergenceWarning:\n",
            "\n",
            "Liblinear failed to converge, increase the number of iterations.\n",
            "\n",
            "/usr/local/lib/python3.8/dist-packages/sklearn/svm/_base.py:1206: ConvergenceWarning:\n",
            "\n",
            "Liblinear failed to converge, increase the number of iterations.\n",
            "\n",
            "/usr/local/lib/python3.8/dist-packages/sklearn/svm/_base.py:1206: ConvergenceWarning:\n",
            "\n",
            "Liblinear failed to converge, increase the number of iterations.\n",
            "\n",
            "/usr/local/lib/python3.8/dist-packages/sklearn/svm/_base.py:1206: ConvergenceWarning:\n",
            "\n",
            "Liblinear failed to converge, increase the number of iterations.\n",
            "\n",
            "/usr/local/lib/python3.8/dist-packages/sklearn/svm/_base.py:1206: ConvergenceWarning:\n",
            "\n",
            "Liblinear failed to converge, increase the number of iterations.\n",
            "\n",
            "/usr/local/lib/python3.8/dist-packages/sklearn/svm/_base.py:1206: ConvergenceWarning:\n",
            "\n",
            "Liblinear failed to converge, increase the number of iterations.\n",
            "\n",
            "/usr/local/lib/python3.8/dist-packages/sklearn/svm/_base.py:1206: ConvergenceWarning:\n",
            "\n",
            "Liblinear failed to converge, increase the number of iterations.\n",
            "\n"
          ]
        },
        {
          "output_type": "stream",
          "name": "stdout",
          "text": [
            "[LibLinear][LibLinear][LibLinear][LibLinear][LibLinear][LibLinear][LibLinear][LibLinear][LibLinear][LibLinear][LibLinear]"
          ]
        },
        {
          "output_type": "stream",
          "name": "stderr",
          "text": [
            "/usr/local/lib/python3.8/dist-packages/sklearn/svm/_base.py:1206: ConvergenceWarning:\n",
            "\n",
            "Liblinear failed to converge, increase the number of iterations.\n",
            "\n",
            "/usr/local/lib/python3.8/dist-packages/sklearn/svm/_base.py:1206: ConvergenceWarning:\n",
            "\n",
            "Liblinear failed to converge, increase the number of iterations.\n",
            "\n",
            "/usr/local/lib/python3.8/dist-packages/sklearn/svm/_base.py:1206: ConvergenceWarning:\n",
            "\n",
            "Liblinear failed to converge, increase the number of iterations.\n",
            "\n",
            "/usr/local/lib/python3.8/dist-packages/sklearn/svm/_base.py:1206: ConvergenceWarning:\n",
            "\n",
            "Liblinear failed to converge, increase the number of iterations.\n",
            "\n",
            "/usr/local/lib/python3.8/dist-packages/sklearn/svm/_base.py:1206: ConvergenceWarning:\n",
            "\n",
            "Liblinear failed to converge, increase the number of iterations.\n",
            "\n",
            "/usr/local/lib/python3.8/dist-packages/sklearn/svm/_base.py:1206: ConvergenceWarning:\n",
            "\n",
            "Liblinear failed to converge, increase the number of iterations.\n",
            "\n",
            "/usr/local/lib/python3.8/dist-packages/sklearn/svm/_base.py:1206: ConvergenceWarning:\n",
            "\n",
            "Liblinear failed to converge, increase the number of iterations.\n",
            "\n",
            "/usr/local/lib/python3.8/dist-packages/sklearn/svm/_base.py:1206: ConvergenceWarning:\n",
            "\n",
            "Liblinear failed to converge, increase the number of iterations.\n",
            "\n",
            "/usr/local/lib/python3.8/dist-packages/sklearn/svm/_base.py:1206: ConvergenceWarning:\n",
            "\n",
            "Liblinear failed to converge, increase the number of iterations.\n",
            "\n",
            "/usr/local/lib/python3.8/dist-packages/sklearn/svm/_base.py:1206: ConvergenceWarning:\n",
            "\n",
            "Liblinear failed to converge, increase the number of iterations.\n",
            "\n"
          ]
        },
        {
          "output_type": "stream",
          "name": "stdout",
          "text": [
            "[LibLinear][LibLinear][LibLinear][LibLinear][LibLinear][LibLinear][LibLinear][LibLinear][LibLinear][LibLinear]"
          ]
        },
        {
          "output_type": "stream",
          "name": "stderr",
          "text": [
            "/usr/local/lib/python3.8/dist-packages/sklearn/svm/_base.py:1206: ConvergenceWarning:\n",
            "\n",
            "Liblinear failed to converge, increase the number of iterations.\n",
            "\n",
            "/usr/local/lib/python3.8/dist-packages/sklearn/svm/_base.py:1206: ConvergenceWarning:\n",
            "\n",
            "Liblinear failed to converge, increase the number of iterations.\n",
            "\n",
            "/usr/local/lib/python3.8/dist-packages/sklearn/svm/_base.py:1206: ConvergenceWarning:\n",
            "\n",
            "Liblinear failed to converge, increase the number of iterations.\n",
            "\n",
            "/usr/local/lib/python3.8/dist-packages/sklearn/svm/_base.py:1206: ConvergenceWarning:\n",
            "\n",
            "Liblinear failed to converge, increase the number of iterations.\n",
            "\n",
            "/usr/local/lib/python3.8/dist-packages/sklearn/svm/_base.py:1206: ConvergenceWarning:\n",
            "\n",
            "Liblinear failed to converge, increase the number of iterations.\n",
            "\n",
            "/usr/local/lib/python3.8/dist-packages/sklearn/svm/_base.py:1206: ConvergenceWarning:\n",
            "\n",
            "Liblinear failed to converge, increase the number of iterations.\n",
            "\n",
            "/usr/local/lib/python3.8/dist-packages/sklearn/svm/_base.py:1206: ConvergenceWarning:\n",
            "\n",
            "Liblinear failed to converge, increase the number of iterations.\n",
            "\n",
            "/usr/local/lib/python3.8/dist-packages/sklearn/svm/_base.py:1206: ConvergenceWarning:\n",
            "\n",
            "Liblinear failed to converge, increase the number of iterations.\n",
            "\n",
            "/usr/local/lib/python3.8/dist-packages/sklearn/svm/_base.py:1206: ConvergenceWarning:\n",
            "\n",
            "Liblinear failed to converge, increase the number of iterations.\n",
            "\n",
            "/usr/local/lib/python3.8/dist-packages/sklearn/svm/_base.py:1206: ConvergenceWarning:\n",
            "\n",
            "Liblinear failed to converge, increase the number of iterations.\n",
            "\n"
          ]
        },
        {
          "output_type": "stream",
          "name": "stdout",
          "text": [
            "[LibLinear][LibLinear]Model Number: 1060 with model Theta in generation 8 of 10\n"
          ]
        },
        {
          "output_type": "stream",
          "name": "stderr",
          "text": [
            "/usr/local/lib/python3.8/dist-packages/sklearn/svm/_base.py:1206: ConvergenceWarning:\n",
            "\n",
            "Liblinear failed to converge, increase the number of iterations.\n",
            "\n"
          ]
        },
        {
          "output_type": "stream",
          "name": "stdout",
          "text": [
            "Model Number: 1061 with model UnobservedComponents in generation 8 of 10\n",
            "Template Eval Error: ValueError(\"regression_type='User' but no future_regressor supplied\") in model 1061: UnobservedComponents\n",
            "Model Number: 1062 with model NVAR in generation 8 of 10\n",
            "Model Number: 1063 with model LastValueNaive in generation 8 of 10\n",
            "Model Number: 1064 with model NVAR in generation 8 of 10\n",
            "Model Number: 1065 with model GLM in generation 8 of 10\n",
            "Template Eval Error: ValueError('NaN, inf or invalid value detected in weights, estimation infeasible.') in model 1065: GLM\n",
            "Model Number: 1066 with model ARIMA in generation 8 of 10\n",
            "Template Eval Error: ValueError(\"regression_type='User' but future_regressor not supplied\") in model 1066: ARIMA\n",
            "Model Number: 1067 with model LastValueNaive in generation 8 of 10\n",
            "Model Number: 1068 with model GLS in generation 8 of 10\n"
          ]
        },
        {
          "output_type": "stream",
          "name": "stderr",
          "text": [
            "/usr/local/lib/python3.8/dist-packages/statsmodels/genmod/families/links.py:517: RuntimeWarning:\n",
            "\n",
            "overflow encountered in exp\n",
            "\n",
            "/usr/local/lib/python3.8/dist-packages/statsmodels/genmod/families/family.py:1227: RuntimeWarning:\n",
            "\n",
            "divide by zero encountered in true_divide\n",
            "\n",
            "/usr/local/lib/python3.8/dist-packages/statsmodels/genmod/families/family.py:1227: RuntimeWarning:\n",
            "\n",
            "overflow encountered in true_divide\n",
            "\n",
            "/usr/local/lib/python3.8/dist-packages/statsmodels/genmod/families/family.py:1231: RuntimeWarning:\n",
            "\n",
            "divide by zero encountered in log\n",
            "\n",
            "/usr/local/lib/python3.8/dist-packages/statsmodels/genmod/families/family.py:1231: RuntimeWarning:\n",
            "\n",
            "invalid value encountered in log\n",
            "\n",
            "/usr/local/lib/python3.8/dist-packages/numpy/core/fromnumeric.py:86: RuntimeWarning:\n",
            "\n",
            "invalid value encountered in reduce\n",
            "\n",
            "/usr/local/lib/python3.8/dist-packages/statsmodels/genmod/families/varfuncs.py:265: RuntimeWarning:\n",
            "\n",
            "overflow encountered in square\n",
            "\n",
            "/usr/local/lib/python3.8/dist-packages/statsmodels/genmod/families/family.py:134: RuntimeWarning:\n",
            "\n",
            "invalid value encountered in multiply\n",
            "\n",
            "/usr/local/lib/python3.8/dist-packages/statsmodels/genmod/generalized_linear_model.py:1198: RuntimeWarning:\n",
            "\n",
            "invalid value encountered in multiply\n",
            "\n"
          ]
        },
        {
          "output_type": "stream",
          "name": "stdout",
          "text": [
            "Model Number: 1069 with model DatepartRegression in generation 8 of 10\n",
            "Model Number: 1070 with model ARIMA in generation 8 of 10\n",
            "Template Eval Error: ValueError(\"regression_type='User' but future_regressor not supplied\") in model 1070: ARIMA\n",
            "Model Number: 1071 with model Theta in generation 8 of 10\n",
            "Model Number: 1072 with model ARIMA in generation 8 of 10\n",
            "Template Eval Error: Exception('Transformer Detrend failed on fit') in model 1072: ARIMA\n",
            "Model Number: 1073 with model MultivariateRegression in generation 8 of 10\n"
          ]
        },
        {
          "output_type": "stream",
          "name": "stderr",
          "text": [
            "[Parallel(n_jobs=-2)]: Using backend SequentialBackend with 1 concurrent workers.\n",
            "[Parallel(n_jobs=-2)]: Done 200 out of 200 | elapsed:    0.4s finished\n",
            "[Parallel(n_jobs=1)]: Using backend SequentialBackend with 1 concurrent workers.\n",
            "[Parallel(n_jobs=1)]: Done 200 out of 200 | elapsed:    0.0s finished\n",
            "[Parallel(n_jobs=1)]: Using backend SequentialBackend with 1 concurrent workers.\n",
            "[Parallel(n_jobs=1)]: Done 200 out of 200 | elapsed:    0.0s finished\n",
            "[Parallel(n_jobs=1)]: Using backend SequentialBackend with 1 concurrent workers.\n",
            "[Parallel(n_jobs=1)]: Done 200 out of 200 | elapsed:    0.0s finished\n",
            "[Parallel(n_jobs=1)]: Using backend SequentialBackend with 1 concurrent workers.\n",
            "[Parallel(n_jobs=1)]: Done 200 out of 200 | elapsed:    0.0s finished\n",
            "[Parallel(n_jobs=1)]: Using backend SequentialBackend with 1 concurrent workers.\n",
            "[Parallel(n_jobs=1)]: Done 200 out of 200 | elapsed:    0.0s finished\n",
            "[Parallel(n_jobs=1)]: Using backend SequentialBackend with 1 concurrent workers.\n",
            "[Parallel(n_jobs=1)]: Done 200 out of 200 | elapsed:    0.0s finished\n",
            "[Parallel(n_jobs=1)]: Using backend SequentialBackend with 1 concurrent workers.\n",
            "[Parallel(n_jobs=1)]: Done 200 out of 200 | elapsed:    0.0s finished\n",
            "[Parallel(n_jobs=1)]: Using backend SequentialBackend with 1 concurrent workers.\n",
            "[Parallel(n_jobs=1)]: Done 200 out of 200 | elapsed:    0.0s finished\n",
            "[Parallel(n_jobs=1)]: Using backend SequentialBackend with 1 concurrent workers.\n",
            "[Parallel(n_jobs=1)]: Done 200 out of 200 | elapsed:    0.0s finished\n",
            "[Parallel(n_jobs=1)]: Using backend SequentialBackend with 1 concurrent workers.\n",
            "[Parallel(n_jobs=1)]: Done 200 out of 200 | elapsed:    0.0s finished\n"
          ]
        },
        {
          "output_type": "stream",
          "name": "stdout",
          "text": [
            "Model Number: 1074 with model SectionalMotif in generation 8 of 10\n",
            "Template Eval Error: Exception('Transformer Cointegration failed on fit') in model 1074: SectionalMotif\n",
            "Model Number: 1075 with model WindowRegression in generation 8 of 10\n",
            "Model Number: 1076 with model ETS in generation 8 of 10\n",
            "Model Number: 1077 with model AverageValueNaive in generation 8 of 10\n"
          ]
        },
        {
          "output_type": "stream",
          "name": "stderr",
          "text": [
            "/usr/local/lib/python3.8/dist-packages/sklearn/neural_network/_multilayer_perceptron.py:549: ConvergenceWarning:\n",
            "\n",
            "lbfgs failed to converge (status=1):\n",
            "STOP: TOTAL NO. of ITERATIONS REACHED LIMIT.\n",
            "\n",
            "Increase the number of iterations (max_iter) or scale the data as shown in:\n",
            "    https://scikit-learn.org/stable/modules/preprocessing.html\n",
            "\n"
          ]
        },
        {
          "output_type": "stream",
          "name": "stdout",
          "text": [
            "Model Number: 1078 with model SeasonalNaive in generation 8 of 10\n",
            "Model Number: 1079 with model MultivariateRegression in generation 8 of 10\n",
            "Model Number: 1080 with model SectionalMotif in generation 8 of 10\n",
            "Template Eval Error: ValueError('kth(=100) out of bounds (14)') in model 1080: SectionalMotif\n",
            "Model Number: 1081 with model SeasonalNaive in generation 8 of 10\n",
            "Model Number: 1082 with model SeasonalNaive in generation 8 of 10\n",
            "Model Number: 1083 with model MetricMotif in generation 8 of 10\n",
            "Model Number: 1084 with model LastValueNaive in generation 8 of 10\n",
            "Model Number: 1085 with model NVAR in generation 8 of 10\n",
            "Model Number: 1086 with model SeasonalNaive in generation 8 of 10\n",
            "New Generation: 9 of 10\n",
            "Model Number: 1087 with model Theta in generation 9 of 10\n",
            "Model Number: 1088 with model WindowRegression in generation 9 of 10\n",
            "Template Eval Error: ValueError('`min_samples` may not be larger than number of samples: n_samples = 80.') in model 1088: WindowRegression\n",
            "Model Number: 1089 with model MetricMotif in generation 9 of 10\n",
            "Model Number: 1090 with model SeasonalNaive in generation 9 of 10\n",
            "Model Number: 1091 with model LastValueNaive in generation 9 of 10\n",
            "Model Number: 1092 with model SeasonalNaive in generation 9 of 10\n",
            "Model Number: 1093 with model SectionalMotif in generation 9 of 10\n",
            "Model Number: 1094 with model FBProphet in generation 9 of 10\n"
          ]
        },
        {
          "output_type": "stream",
          "name": "stderr",
          "text": [
            "INFO:prophet:Disabling yearly seasonality. Run prophet with yearly_seasonality=True to override this.\n",
            "INFO:prophet:Disabling daily seasonality. Run prophet with daily_seasonality=True to override this.\n",
            "DEBUG:cmdstanpy:input tempfile: /tmp/tmp09dakauk/3eqmr_mu.json\n",
            "DEBUG:cmdstanpy:input tempfile: /tmp/tmp09dakauk/oaacn__k.json\n",
            "DEBUG:cmdstanpy:idx 0\n",
            "DEBUG:cmdstanpy:running CmdStan, num_threads: None\n",
            "DEBUG:cmdstanpy:CmdStan args: ['/usr/local/lib/python3.8/dist-packages/prophet/stan_model/prophet_model.bin', 'random', 'seed=98166', 'data', 'file=/tmp/tmp09dakauk/3eqmr_mu.json', 'init=/tmp/tmp09dakauk/oaacn__k.json', 'output', 'file=/tmp/tmp09dakauk/prophet_model6_npy3et/prophet_model-20230216094728.csv', 'method=optimize', 'algorithm=lbfgs', 'iter=10000']\n",
            "09:47:28 - cmdstanpy - INFO - Chain [1] start processing\n",
            "INFO:cmdstanpy:Chain [1] start processing\n",
            "09:47:28 - cmdstanpy - INFO - Chain [1] done processing\n",
            "INFO:cmdstanpy:Chain [1] done processing\n"
          ]
        },
        {
          "output_type": "stream",
          "name": "stdout",
          "text": [
            "Model Number: 1095 with model LastValueNaive in generation 9 of 10\n",
            "Model Number: 1096 with model MetricMotif in generation 9 of 10\n",
            "Model Number: 1097 with model ETS in generation 9 of 10\n",
            "Model Number: 1098 with model ARIMA in generation 9 of 10\n",
            "Model Number: 1099 with model DatepartRegression in generation 9 of 10\n",
            "Model Number: 1100 with model MultivariateRegression in generation 9 of 10\n",
            "Template Eval Error: KeyError('model') in model 1100: MultivariateRegression\n",
            "Model Number: 1101 with model DatepartRegression in generation 9 of 10\n",
            "Model Number: 1102 with model AverageValueNaive in generation 9 of 10\n"
          ]
        },
        {
          "output_type": "stream",
          "name": "stderr",
          "text": [
            "/usr/local/lib/python3.8/dist-packages/sklearn/linear_model/_coordinate_descent.py:647: ConvergenceWarning:\n",
            "\n",
            "Objective did not converge. You might want to increase the number of iterations, check the scale of the features or consider increasing regularisation. Duality gap: 2.311e-01, tolerance: 6.861e-05\n",
            "\n"
          ]
        },
        {
          "output_type": "stream",
          "name": "stdout",
          "text": [
            "Model Number: 1103 with model Theta in generation 9 of 10\n",
            "Model Number: 1104 with model WindowRegression in generation 9 of 10\n",
            "Template Eval Error: ValueError('Model WindowRegression returned NaN for one or more series. fail_on_forecast_nan=True') in model 1104: WindowRegression\n",
            "Model Number: 1105 with model ETS in generation 9 of 10\n",
            "Template Eval Error: Exception('Transformer BTCD failed on fit') in model 1105: ETS\n",
            "Model Number: 1106 with model GLM in generation 9 of 10\n"
          ]
        },
        {
          "output_type": "stream",
          "name": "stderr",
          "text": [
            "/usr/local/lib/python3.8/dist-packages/sklearn/neighbors/_regression.py:470: UserWarning:\n",
            "\n",
            "One or more samples have no neighbors within specified radius; predicting NaN.\n",
            "\n"
          ]
        },
        {
          "output_type": "stream",
          "name": "stdout",
          "text": [
            "Model Number: 1107 with model ETS in generation 9 of 10\n",
            "Model Number: 1108 with model UnobservedComponents in generation 9 of 10\n"
          ]
        },
        {
          "output_type": "stream",
          "name": "stderr",
          "text": [
            "INFO:prophet:Disabling yearly seasonality. Run prophet with yearly_seasonality=True to override this.\n",
            "INFO:prophet:Disabling daily seasonality. Run prophet with daily_seasonality=True to override this.\n",
            "DEBUG:cmdstanpy:input tempfile: /tmp/tmp09dakauk/dpymioxs.json\n",
            "DEBUG:cmdstanpy:input tempfile: /tmp/tmp09dakauk/jx3qhzzc.json\n",
            "DEBUG:cmdstanpy:idx 0\n"
          ]
        },
        {
          "output_type": "stream",
          "name": "stdout",
          "text": [
            "Model Number: 1109 with model FBProphet in generation 9 of 10\n"
          ]
        },
        {
          "output_type": "stream",
          "name": "stderr",
          "text": [
            "DEBUG:cmdstanpy:running CmdStan, num_threads: None\n",
            "DEBUG:cmdstanpy:CmdStan args: ['/usr/local/lib/python3.8/dist-packages/prophet/stan_model/prophet_model.bin', 'random', 'seed=54082', 'data', 'file=/tmp/tmp09dakauk/dpymioxs.json', 'init=/tmp/tmp09dakauk/jx3qhzzc.json', 'output', 'file=/tmp/tmp09dakauk/prophet_modelzvv0e96t/prophet_model-20230216094731.csv', 'method=optimize', 'algorithm=lbfgs', 'iter=10000']\n",
            "09:47:31 - cmdstanpy - INFO - Chain [1] start processing\n",
            "INFO:cmdstanpy:Chain [1] start processing\n",
            "09:47:31 - cmdstanpy - INFO - Chain [1] done processing\n",
            "INFO:cmdstanpy:Chain [1] done processing\n",
            "09:47:31 - cmdstanpy - ERROR - Chain [1] error: error during processing Communication error on send\n",
            "ERROR:cmdstanpy:Chain [1] error: error during processing Communication error on send\n",
            "WARNING:prophet.models:Optimization terminated abnormally. Falling back to Newton.\n",
            "DEBUG:cmdstanpy:input tempfile: /tmp/tmp09dakauk/do67jdxe.json\n",
            "DEBUG:cmdstanpy:input tempfile: /tmp/tmp09dakauk/z31oviyk.json\n",
            "DEBUG:cmdstanpy:idx 0\n",
            "DEBUG:cmdstanpy:running CmdStan, num_threads: None\n",
            "DEBUG:cmdstanpy:CmdStan args: ['/usr/local/lib/python3.8/dist-packages/prophet/stan_model/prophet_model.bin', 'random', 'seed=84314', 'data', 'file=/tmp/tmp09dakauk/do67jdxe.json', 'init=/tmp/tmp09dakauk/z31oviyk.json', 'output', 'file=/tmp/tmp09dakauk/prophet_model6tkuxdr9/prophet_model-20230216094731.csv', 'method=optimize', 'algorithm=newton', 'iter=10000']\n",
            "09:47:31 - cmdstanpy - INFO - Chain [1] start processing\n",
            "INFO:cmdstanpy:Chain [1] start processing\n",
            "09:47:32 - cmdstanpy - INFO - Chain [1] done processing\n",
            "INFO:cmdstanpy:Chain [1] done processing\n",
            "INFO:prophet:Disabling yearly seasonality. Run prophet with yearly_seasonality=True to override this.\n",
            "INFO:prophet:Disabling daily seasonality. Run prophet with daily_seasonality=True to override this.\n",
            "DEBUG:cmdstanpy:input tempfile: /tmp/tmp09dakauk/x70e_u9t.json\n",
            "DEBUG:cmdstanpy:input tempfile: /tmp/tmp09dakauk/i_axopfs.json\n",
            "DEBUG:cmdstanpy:idx 0\n",
            "DEBUG:cmdstanpy:running CmdStan, num_threads: None\n",
            "DEBUG:cmdstanpy:CmdStan args: ['/usr/local/lib/python3.8/dist-packages/prophet/stan_model/prophet_model.bin', 'random', 'seed=88062', 'data', 'file=/tmp/tmp09dakauk/x70e_u9t.json', 'init=/tmp/tmp09dakauk/i_axopfs.json', 'output', 'file=/tmp/tmp09dakauk/prophet_modeld7b1_xvt/prophet_model-20230216094732.csv', 'method=optimize', 'algorithm=newton', 'iter=10000']\n",
            "09:47:32 - cmdstanpy - INFO - Chain [1] start processing\n",
            "INFO:cmdstanpy:Chain [1] start processing\n"
          ]
        },
        {
          "output_type": "stream",
          "name": "stdout",
          "text": [
            "Model Number: 1110 with model FBProphet in generation 9 of 10\n"
          ]
        },
        {
          "output_type": "stream",
          "name": "stderr",
          "text": [
            "09:47:33 - cmdstanpy - INFO - Chain [1] done processing\n",
            "INFO:cmdstanpy:Chain [1] done processing\n"
          ]
        },
        {
          "output_type": "stream",
          "name": "stdout",
          "text": [
            "Model Number: 1111 with model DatepartRegression in generation 9 of 10\n",
            "Model Number: 1112 with model ARIMA in generation 9 of 10\n",
            "Model Number: 1113 with model UnobservedComponents in generation 9 of 10\n",
            "Model Number: 1114 with model SeasonalNaive in generation 9 of 10\n",
            "Model Number: 1115 with model NVAR in generation 9 of 10\n",
            "Model Number: 1116 with model UnobservedComponents in generation 9 of 10\n",
            "Model Number: 1117 with model DatepartRegression in generation 9 of 10\n",
            "Model Number: 1118 with model UnobservedComponents in generation 9 of 10\n",
            "Template Eval Error: Exception('Transformer BTCD failed on fit') in model 1118: UnobservedComponents\n",
            "Model Number: 1119 with model MultivariateRegression in generation 9 of 10\n",
            "Model Number: 1120 with model ETS in generation 9 of 10\n",
            "Model Number: 1121 with model NVAR in generation 9 of 10\n",
            "Model Number: 1122 with model MultivariateMotif in generation 9 of 10\n",
            "Model Number: 1123 with model FBProphet in generation 9 of 10\n"
          ]
        },
        {
          "output_type": "stream",
          "name": "stderr",
          "text": [
            "INFO:prophet:Disabling yearly seasonality. Run prophet with yearly_seasonality=True to override this.\n",
            "INFO:prophet:Disabling daily seasonality. Run prophet with daily_seasonality=True to override this.\n",
            "DEBUG:cmdstanpy:input tempfile: /tmp/tmp09dakauk/hbstgbzv.json\n",
            "DEBUG:cmdstanpy:input tempfile: /tmp/tmp09dakauk/s0lc852v.json\n",
            "DEBUG:cmdstanpy:idx 0\n",
            "DEBUG:cmdstanpy:running CmdStan, num_threads: None\n",
            "DEBUG:cmdstanpy:CmdStan args: ['/usr/local/lib/python3.8/dist-packages/prophet/stan_model/prophet_model.bin', 'random', 'seed=64876', 'data', 'file=/tmp/tmp09dakauk/hbstgbzv.json', 'init=/tmp/tmp09dakauk/s0lc852v.json', 'output', 'file=/tmp/tmp09dakauk/prophet_modeltkb2cyho/prophet_model-20230216094737.csv', 'method=optimize', 'algorithm=lbfgs', 'iter=10000']\n",
            "09:47:37 - cmdstanpy - INFO - Chain [1] start processing\n",
            "INFO:cmdstanpy:Chain [1] start processing\n",
            "09:47:37 - cmdstanpy - INFO - Chain [1] done processing\n",
            "INFO:cmdstanpy:Chain [1] done processing\n"
          ]
        },
        {
          "output_type": "stream",
          "name": "stdout",
          "text": [
            "Model Number: 1124 with model MetricMotif in generation 9 of 10\n",
            "Model Number: 1125 with model SeasonalNaive in generation 9 of 10\n",
            "Model Number: 1126 with model MultivariateRegression in generation 9 of 10\n",
            "Template Eval Error: LinAlgError('Matrix is not positive definite') in model 1126: MultivariateRegression\n",
            "Model Number: 1127 with model NVAR in generation 9 of 10\n",
            "Model Number: 1128 with model MultivariateMotif in generation 9 of 10\n",
            "Model Number: 1129 with model Theta in generation 9 of 10\n"
          ]
        },
        {
          "output_type": "stream",
          "name": "stderr",
          "text": [
            "/usr/local/lib/python3.8/dist-packages/sklearn/preprocessing/_data.py:3253: RuntimeWarning:\n",
            "\n",
            "divide by zero encountered in log\n",
            "\n"
          ]
        },
        {
          "output_type": "stream",
          "name": "stdout",
          "text": [
            "Model Number: 1130 with model ConstantNaive in generation 9 of 10\n",
            "Model Number: 1131 with model UnobservedComponents in generation 9 of 10\n",
            "Model Number: 1132 with model NVAR in generation 9 of 10\n",
            "Model Number: 1133 with model AverageValueNaive in generation 9 of 10\n",
            "Model Number: 1134 with model ARIMA in generation 9 of 10\n",
            "Template Eval Error: Exception('Transformer Cointegration failed on fit') in model 1134: ARIMA\n",
            "Model Number: 1135 with model DatepartRegression in generation 9 of 10\n",
            "Template Eval Error: Exception('Transformer BTCD failed on fit') in model 1135: DatepartRegression\n",
            "Model Number: 1136 with model MetricMotif in generation 9 of 10\n",
            "Model Number: 1137 with model GLM in generation 9 of 10\n",
            "Template Eval Error: ValueError('regression_type=user and no future_regressor passed') in model 1137: GLM\n",
            "Model Number: 1138 with model ConstantNaive in generation 9 of 10\n",
            "Template Eval Error: Exception('Transformer Cointegration failed on fit') in model 1138: ConstantNaive\n",
            "Model Number: 1139 with model MetricMotif in generation 9 of 10\n",
            "Model Number: 1140 with model Theta in generation 9 of 10\n",
            "Model Number: 1141 with model LastValueNaive in generation 9 of 10\n",
            "Model Number: 1142 with model WindowRegression in generation 9 of 10\n",
            "Model Number: 1143 with model SectionalMotif in generation 9 of 10\n",
            "Model Number: 1144 with model ConstantNaive in generation 9 of 10\n",
            "Model Number: 1145 with model LastValueNaive in generation 9 of 10\n",
            "Model Number: 1146 with model MetricMotif in generation 9 of 10\n"
          ]
        },
        {
          "output_type": "stream",
          "name": "stderr",
          "text": [
            "/usr/local/lib/python3.8/dist-packages/sklearn/neural_network/_multilayer_perceptron.py:549: ConvergenceWarning:\n",
            "\n",
            "lbfgs failed to converge (status=1):\n",
            "STOP: TOTAL NO. of ITERATIONS REACHED LIMIT.\n",
            "\n",
            "Increase the number of iterations (max_iter) or scale the data as shown in:\n",
            "    https://scikit-learn.org/stable/modules/preprocessing.html\n",
            "\n"
          ]
        },
        {
          "output_type": "stream",
          "name": "stdout",
          "text": [
            "Model Number: 1147 with model AverageValueNaive in generation 9 of 10\n",
            "Model Number: 1148 with model SectionalMotif in generation 9 of 10\n",
            "Template Eval Error: Exception('Transformer BTCD failed on fit') in model 1148: SectionalMotif\n",
            "Model Number: 1149 with model UnivariateMotif in generation 9 of 10\n",
            "Model Number: 1150 with model UnobservedComponents in generation 9 of 10\n",
            "Model Number: 1151 with model WindowRegression in generation 9 of 10\n",
            "Model Number: 1152 with model MultivariateRegression in generation 9 of 10\n",
            "Template Eval Error: ValueError(\"regression_type='User' but not future_regressor supplied.\") in model 1152: MultivariateRegression\n",
            "Model Number: 1153 with model NVAR in generation 9 of 10\n",
            "Model Number: 1154 with model UnobservedComponents in generation 9 of 10\n",
            "Model Number: 1155 with model MultivariateRegression in generation 9 of 10\n",
            "Model Number: 1156 with model MetricMotif in generation 9 of 10\n",
            "Model Number: 1157 with model ARIMA in generation 9 of 10\n",
            "Model Number: 1158 with model MultivariateMotif in generation 9 of 10\n",
            "Model Number: 1159 with model SectionalMotif in generation 9 of 10\n",
            "Model Number: 1160 with model SectionalMotif in generation 9 of 10\n",
            "Template Eval Error: Exception('Transformer BTCD failed on fit') in model 1160: SectionalMotif\n",
            "Model Number: 1161 with model SeasonalNaive in generation 9 of 10\n",
            "Model Number: 1162 with model SeasonalNaive in generation 9 of 10\n"
          ]
        },
        {
          "output_type": "stream",
          "name": "stderr",
          "text": [
            "/usr/local/lib/python3.8/dist-packages/autots/tools/probabilistic.py:67: RuntimeWarning:\n",
            "\n",
            "invalid value encountered in true_divide\n",
            "\n",
            "/usr/local/lib/python3.8/dist-packages/autots/tools/probabilistic.py:68: RuntimeWarning:\n",
            "\n",
            "divide by zero encountered in true_divide\n",
            "\n",
            "/usr/local/lib/python3.8/dist-packages/sklearn/preprocessing/_data.py:3253: RuntimeWarning:\n",
            "\n",
            "divide by zero encountered in log\n",
            "\n",
            "/usr/local/lib/python3.8/dist-packages/autots/tools/probabilistic.py:67: RuntimeWarning:\n",
            "\n",
            "invalid value encountered in true_divide\n",
            "\n",
            "/usr/local/lib/python3.8/dist-packages/autots/tools/probabilistic.py:68: RuntimeWarning:\n",
            "\n",
            "divide by zero encountered in true_divide\n",
            "\n",
            "/usr/local/lib/python3.8/dist-packages/sklearn/preprocessing/_data.py:3196: RuntimeWarning:\n",
            "\n",
            "divide by zero encountered in power\n",
            "\n",
            "/usr/local/lib/python3.8/dist-packages/sklearn/preprocessing/_data.py:3196: RuntimeWarning:\n",
            "\n",
            "divide by zero encountered in power\n",
            "\n",
            "/usr/local/lib/python3.8/dist-packages/sklearn/preprocessing/_data.py:3196: RuntimeWarning:\n",
            "\n",
            "divide by zero encountered in power\n",
            "\n"
          ]
        },
        {
          "output_type": "stream",
          "name": "stdout",
          "text": [
            "Model Number: 1163 with model Theta in generation 9 of 10\n",
            "Model Number: 1164 with model DatepartRegression in generation 9 of 10\n",
            "Template Eval Error: ValueError(\"regression_type='User' but no future_regressor passed\") in model 1164: DatepartRegression\n",
            "Model Number: 1165 with model ETS in generation 9 of 10\n",
            "Model Number: 1166 with model MetricMotif in generation 9 of 10\n",
            "Model Number: 1167 with model NVAR in generation 9 of 10\n",
            "Model Number: 1168 with model Theta in generation 9 of 10\n",
            "HolidayTransformer: no anomalies detected.\n",
            "Model Number: 1169 with model MetricMotif in generation 9 of 10\n",
            "Model Number: 1170 with model LastValueNaive in generation 9 of 10\n",
            "Model Number: 1171 with model MultivariateRegression in generation 9 of 10\n",
            "Template Eval Error: ValueError(\"regression_type='User' but not future_regressor supplied.\") in model 1171: MultivariateRegression\n",
            "Model Number: 1172 with model ETS in generation 9 of 10\n",
            "Model Number: 1173 with model UnobservedComponents in generation 9 of 10\n",
            "Model Number: 1174 with model Theta in generation 9 of 10\n",
            "Model Number: 1175 with model SectionalMotif in generation 9 of 10\n",
            "Model Number: 1176 with model Theta in generation 9 of 10\n",
            "Model Number: 1177 with model Theta in generation 9 of 10\n",
            "Model Number: 1178 with model LastValueNaive in generation 9 of 10\n",
            "Model Number: 1179 with model NVAR in generation 9 of 10\n",
            "Model Number: 1180 with model MetricMotif in generation 9 of 10\n",
            "Model Number: 1181 with model GLS in generation 9 of 10\n",
            "Model Number: 1182 with model NVAR in generation 9 of 10\n",
            "Model Number: 1183 with model MultivariateRegression in generation 9 of 10\n",
            "Model Number: 1184 with model LastValueNaive in generation 9 of 10\n",
            "Model Number: 1185 with model Theta in generation 9 of 10\n",
            "Model Number: 1186 with model SectionalMotif in generation 9 of 10\n",
            "New Generation: 10 of 10\n",
            "Model Number: 1187 with model SeasonalNaive in generation 10 of 10\n",
            "Model Number: 1188 with model DatepartRegression in generation 10 of 10\n",
            "Template Eval Error: ValueError('Model DatepartRegression returned NaN for one or more series. fail_on_forecast_nan=True') in model 1188: DatepartRegression\n",
            "Model Number: 1189 with model DatepartRegression in generation 10 of 10\n"
          ]
        },
        {
          "output_type": "stream",
          "name": "stderr",
          "text": [
            "/usr/local/lib/python3.8/dist-packages/sklearn/neighbors/_regression.py:470: UserWarning:\n",
            "\n",
            "One or more samples have no neighbors within specified radius; predicting NaN.\n",
            "\n"
          ]
        },
        {
          "output_type": "stream",
          "name": "stdout",
          "text": [
            "Model Number: 1190 with model LastValueNaive in generation 10 of 10\n",
            "Model Number: 1191 with model ETS in generation 10 of 10\n",
            "Model Number: 1192 with model MetricMotif in generation 10 of 10\n",
            "Model Number: 1193 with model Theta in generation 10 of 10\n",
            "Model Number: 1194 with model ARIMA in generation 10 of 10\n",
            "Template Eval Error: ValueError(\"regression_type='User' but future_regressor not supplied\") in model 1194: ARIMA\n",
            "Model Number: 1195 with model Theta in generation 10 of 10\n",
            "Model Number: 1196 with model NVAR in generation 10 of 10\n",
            "Model Number: 1197 with model LastValueNaive in generation 10 of 10\n",
            "Model Number: 1198 with model ARIMA in generation 10 of 10\n",
            "Model Number: 1199 with model WindowRegression in generation 10 of 10\n"
          ]
        },
        {
          "output_type": "stream",
          "name": "stderr",
          "text": [
            "/usr/local/lib/python3.8/dist-packages/sklearn/neural_network/_multilayer_perceptron.py:549: ConvergenceWarning:\n",
            "\n",
            "lbfgs failed to converge (status=1):\n",
            "STOP: TOTAL NO. of ITERATIONS REACHED LIMIT.\n",
            "\n",
            "Increase the number of iterations (max_iter) or scale the data as shown in:\n",
            "    https://scikit-learn.org/stable/modules/preprocessing.html\n",
            "\n",
            "[Parallel(n_jobs=-2)]: Using backend SequentialBackend with 1 concurrent workers.\n"
          ]
        },
        {
          "output_type": "stream",
          "name": "stdout",
          "text": [
            "Model Number: 1200 with model MultivariateRegression in generation 10 of 10\n"
          ]
        },
        {
          "output_type": "stream",
          "name": "stderr",
          "text": [
            "[Parallel(n_jobs=-2)]: Done 200 out of 200 | elapsed:    0.4s finished\n",
            "[Parallel(n_jobs=1)]: Using backend SequentialBackend with 1 concurrent workers.\n",
            "[Parallel(n_jobs=1)]: Done 200 out of 200 | elapsed:    0.0s finished\n",
            "[Parallel(n_jobs=1)]: Using backend SequentialBackend with 1 concurrent workers.\n",
            "[Parallel(n_jobs=1)]: Done 200 out of 200 | elapsed:    0.0s finished\n",
            "[Parallel(n_jobs=1)]: Using backend SequentialBackend with 1 concurrent workers.\n",
            "[Parallel(n_jobs=1)]: Done 200 out of 200 | elapsed:    0.0s finished\n",
            "[Parallel(n_jobs=1)]: Using backend SequentialBackend with 1 concurrent workers.\n",
            "[Parallel(n_jobs=1)]: Done 200 out of 200 | elapsed:    0.0s finished\n",
            "[Parallel(n_jobs=1)]: Using backend SequentialBackend with 1 concurrent workers.\n",
            "[Parallel(n_jobs=1)]: Done 200 out of 200 | elapsed:    0.0s finished\n",
            "[Parallel(n_jobs=1)]: Using backend SequentialBackend with 1 concurrent workers.\n",
            "[Parallel(n_jobs=1)]: Done 200 out of 200 | elapsed:    0.0s finished\n",
            "[Parallel(n_jobs=1)]: Using backend SequentialBackend with 1 concurrent workers.\n",
            "[Parallel(n_jobs=1)]: Done 200 out of 200 | elapsed:    0.0s finished\n",
            "[Parallel(n_jobs=1)]: Using backend SequentialBackend with 1 concurrent workers.\n",
            "[Parallel(n_jobs=1)]: Done 200 out of 200 | elapsed:    0.0s finished\n",
            "[Parallel(n_jobs=1)]: Using backend SequentialBackend with 1 concurrent workers.\n",
            "[Parallel(n_jobs=1)]: Done 200 out of 200 | elapsed:    0.0s finished\n",
            "[Parallel(n_jobs=1)]: Using backend SequentialBackend with 1 concurrent workers.\n",
            "[Parallel(n_jobs=1)]: Done 200 out of 200 | elapsed:    0.0s finished\n"
          ]
        },
        {
          "output_type": "stream",
          "name": "stdout",
          "text": [
            "Model Number: 1201 with model MetricMotif in generation 10 of 10\n",
            "Model Number: 1202 with model Theta in generation 10 of 10\n",
            "Model Number: 1203 with model NVAR in generation 10 of 10\n",
            "Model Number: 1204 with model MetricMotif in generation 10 of 10\n",
            "Model Number: 1205 with model WindowRegression in generation 10 of 10\n",
            "Template Eval Error: KeyError('model') in model 1205: WindowRegression\n",
            "Model Number: 1206 with model MetricMotif in generation 10 of 10\n",
            "Template Eval Error: TypeError(\"'NoneType' object is not subscriptable\") in model 1206: MetricMotif\n",
            "Model Number: 1207 with model ARIMA in generation 10 of 10\n",
            "Model Number: 1208 with model UnobservedComponents in generation 10 of 10\n",
            "Model Number: 1209 with model UnobservedComponents in generation 10 of 10\n",
            "Model Number: 1210 with model NVAR in generation 10 of 10\n",
            "Model Number: 1211 with model UnobservedComponents in generation 10 of 10\n",
            "Model Number: 1212 with model ARIMA in generation 10 of 10\n",
            "Model Number: 1213 with model ARIMA in generation 10 of 10\n",
            "Model Number: 1214 with model NVAR in generation 10 of 10\n",
            "Model Number: 1215 with model UnobservedComponents in generation 10 of 10\n",
            "Model Number: 1216 with model SectionalMotif in generation 10 of 10\n",
            "Model Number: 1217 with model UnivariateMotif in generation 10 of 10\n",
            "Model Number: 1218 with model Theta in generation 10 of 10\n",
            "Model Number: 1219 with model NVAR in generation 10 of 10\n",
            "Model Number: 1220 with model SectionalMotif in generation 10 of 10\n",
            "Model Number: 1221 with model DatepartRegression in generation 10 of 10\n",
            "HolidayTransformer: no anomalies detected.\n"
          ]
        },
        {
          "output_type": "stream",
          "name": "stderr",
          "text": [
            "/usr/local/lib/python3.8/dist-packages/sklearn/preprocessing/_data.py:3253: RuntimeWarning:\n",
            "\n",
            "divide by zero encountered in log\n",
            "\n",
            "/usr/local/lib/python3.8/dist-packages/sklearn/preprocessing/_data.py:3196: RuntimeWarning:\n",
            "\n",
            "divide by zero encountered in power\n",
            "\n",
            "/usr/local/lib/python3.8/dist-packages/sklearn/preprocessing/_data.py:3196: RuntimeWarning:\n",
            "\n",
            "divide by zero encountered in power\n",
            "\n",
            "/usr/local/lib/python3.8/dist-packages/sklearn/preprocessing/_data.py:3196: RuntimeWarning:\n",
            "\n",
            "divide by zero encountered in power\n",
            "\n"
          ]
        },
        {
          "output_type": "stream",
          "name": "stdout",
          "text": [
            "Epoch 1/50\n",
            "11/11 [==============================] - 6s 10ms/step - loss: 0.1983\n",
            "Epoch 2/50\n",
            "11/11 [==============================] - 0s 8ms/step - loss: 0.0830\n",
            "Epoch 3/50\n",
            "11/11 [==============================] - 0s 9ms/step - loss: 0.0737\n",
            "Epoch 4/50\n",
            "11/11 [==============================] - 0s 8ms/step - loss: 0.0608\n",
            "Epoch 5/50\n",
            "11/11 [==============================] - 0s 7ms/step - loss: 0.0568\n",
            "Epoch 6/50\n",
            "11/11 [==============================] - 0s 8ms/step - loss: 0.0505\n",
            "Epoch 7/50\n",
            "11/11 [==============================] - 0s 8ms/step - loss: 0.0540\n",
            "Epoch 8/50\n",
            "11/11 [==============================] - 0s 7ms/step - loss: 0.0466\n",
            "Epoch 9/50\n",
            "11/11 [==============================] - 0s 8ms/step - loss: 0.0464\n",
            "Epoch 10/50\n",
            "11/11 [==============================] - 0s 7ms/step - loss: 0.0500\n",
            "Epoch 11/50\n",
            "11/11 [==============================] - 0s 8ms/step - loss: 0.0465\n",
            "Epoch 12/50\n",
            "11/11 [==============================] - 0s 8ms/step - loss: 0.0441\n",
            "Epoch 13/50\n",
            "11/11 [==============================] - 0s 7ms/step - loss: 0.0418\n",
            "Epoch 14/50\n",
            "11/11 [==============================] - 0s 9ms/step - loss: 0.0377\n",
            "Epoch 15/50\n",
            "11/11 [==============================] - 0s 8ms/step - loss: 0.0447\n",
            "Epoch 16/50\n",
            "11/11 [==============================] - 0s 8ms/step - loss: 0.0391\n",
            "Epoch 17/50\n",
            "11/11 [==============================] - 0s 10ms/step - loss: 0.0389\n",
            "Epoch 18/50\n",
            "11/11 [==============================] - 0s 7ms/step - loss: 0.0339\n",
            "Epoch 19/50\n",
            "11/11 [==============================] - 0s 8ms/step - loss: 0.0388\n",
            "Epoch 20/50\n",
            "11/11 [==============================] - 0s 9ms/step - loss: 0.0341\n",
            "Epoch 21/50\n",
            "11/11 [==============================] - 0s 8ms/step - loss: 0.0339\n",
            "Epoch 22/50\n",
            "11/11 [==============================] - 0s 8ms/step - loss: 0.0359\n",
            "Epoch 23/50\n",
            "11/11 [==============================] - 0s 7ms/step - loss: 0.0316\n",
            "Epoch 24/50\n",
            "11/11 [==============================] - 0s 11ms/step - loss: 0.0361\n",
            "Epoch 25/50\n",
            "11/11 [==============================] - 0s 10ms/step - loss: 0.0283\n",
            "Epoch 26/50\n",
            "11/11 [==============================] - 0s 10ms/step - loss: 0.0344\n",
            "Epoch 27/50\n",
            "11/11 [==============================] - 0s 9ms/step - loss: 0.0324\n",
            "Epoch 28/50\n",
            "11/11 [==============================] - 0s 10ms/step - loss: 0.0321\n",
            "Epoch 29/50\n",
            "11/11 [==============================] - 0s 9ms/step - loss: 0.0301\n",
            "Epoch 30/50\n",
            "11/11 [==============================] - 0s 14ms/step - loss: 0.0325\n",
            "Epoch 31/50\n",
            "11/11 [==============================] - 0s 13ms/step - loss: 0.0321\n",
            "Epoch 32/50\n",
            "11/11 [==============================] - 0s 14ms/step - loss: 0.0345\n",
            "Epoch 33/50\n",
            "11/11 [==============================] - 0s 15ms/step - loss: 0.0287\n",
            "Epoch 34/50\n",
            "11/11 [==============================] - 0s 12ms/step - loss: 0.0275\n",
            "Epoch 35/50\n",
            "11/11 [==============================] - 0s 13ms/step - loss: 0.0318\n",
            "Epoch 36/50\n",
            "11/11 [==============================] - 0s 13ms/step - loss: 0.0269\n",
            "Epoch 37/50\n",
            "11/11 [==============================] - 0s 12ms/step - loss: 0.0307\n",
            "Epoch 38/50\n",
            "11/11 [==============================] - 0s 13ms/step - loss: 0.0214\n",
            "Epoch 39/50\n",
            "11/11 [==============================] - 0s 10ms/step - loss: 0.0323\n",
            "Epoch 40/50\n",
            "11/11 [==============================] - 0s 11ms/step - loss: 0.0272\n",
            "Epoch 41/50\n",
            "11/11 [==============================] - 0s 9ms/step - loss: 0.0267\n",
            "Epoch 42/50\n",
            "11/11 [==============================] - 0s 10ms/step - loss: 0.0274\n",
            "Epoch 43/50\n",
            "11/11 [==============================] - 0s 13ms/step - loss: 0.0264\n",
            "Epoch 44/50\n",
            "11/11 [==============================] - 0s 11ms/step - loss: 0.0297\n",
            "Epoch 45/50\n",
            "11/11 [==============================] - 0s 10ms/step - loss: 0.0254\n",
            "Epoch 46/50\n",
            "11/11 [==============================] - 0s 10ms/step - loss: 0.0278\n",
            "Epoch 47/50\n",
            "11/11 [==============================] - 0s 10ms/step - loss: 0.0243\n",
            "Epoch 48/50\n",
            "11/11 [==============================] - 0s 11ms/step - loss: 0.0295\n",
            "Epoch 49/50\n",
            "11/11 [==============================] - 0s 9ms/step - loss: 0.0255\n",
            "Epoch 50/50\n",
            "11/11 [==============================] - 0s 10ms/step - loss: 0.0269\n",
            "1/1 [==============================] - 2s 2s/step\n",
            "Model Number: 1222 with model LastValueNaive in generation 10 of 10\n",
            "Model Number: 1223 with model ARIMA in generation 10 of 10\n",
            "Model Number: 1224 with model WindowRegression in generation 10 of 10\n",
            "Epoch 1/50\n",
            "9/9 [==============================] - 10s 182ms/step - loss: 0.0771\n",
            "Epoch 2/50\n",
            "9/9 [==============================] - 1s 133ms/step - loss: 0.0302\n",
            "Epoch 3/50\n",
            "9/9 [==============================] - 1s 135ms/step - loss: 0.0165\n",
            "Epoch 4/50\n",
            "9/9 [==============================] - 1s 123ms/step - loss: 0.0057\n",
            "Epoch 5/50\n",
            "9/9 [==============================] - 1s 122ms/step - loss: 0.0035\n",
            "Epoch 6/50\n",
            "9/9 [==============================] - 1s 122ms/step - loss: 0.0023\n",
            "Epoch 7/50\n",
            "9/9 [==============================] - 1s 138ms/step - loss: 0.0020\n",
            "Epoch 8/50\n",
            "9/9 [==============================] - 1s 131ms/step - loss: 0.0018\n",
            "Epoch 9/50\n",
            "9/9 [==============================] - 1s 139ms/step - loss: 0.0023\n",
            "Epoch 10/50\n",
            "9/9 [==============================] - 2s 212ms/step - loss: 0.0013\n",
            "Epoch 11/50\n",
            "9/9 [==============================] - 2s 176ms/step - loss: 8.5318e-04\n",
            "Epoch 12/50\n",
            "9/9 [==============================] - 1s 133ms/step - loss: 5.7034e-04\n",
            "Epoch 13/50\n",
            "9/9 [==============================] - 1s 123ms/step - loss: 5.5444e-04\n",
            "Epoch 14/50\n",
            "9/9 [==============================] - 1s 132ms/step - loss: 4.3069e-04\n",
            "Epoch 15/50\n",
            "9/9 [==============================] - 1s 125ms/step - loss: 5.3831e-04\n",
            "Epoch 16/50\n",
            "9/9 [==============================] - 1s 128ms/step - loss: 6.3590e-04\n",
            "Epoch 17/50\n",
            "9/9 [==============================] - 1s 126ms/step - loss: 4.3303e-04\n",
            "Epoch 18/50\n",
            "9/9 [==============================] - 1s 122ms/step - loss: 4.6679e-04\n",
            "Epoch 19/50\n",
            "9/9 [==============================] - 1s 138ms/step - loss: 6.0675e-04\n",
            "Epoch 20/50\n",
            "9/9 [==============================] - 2s 198ms/step - loss: 4.3110e-04\n",
            "Epoch 21/50\n",
            "9/9 [==============================] - 2s 195ms/step - loss: 4.9457e-04\n",
            "Epoch 22/50\n",
            "9/9 [==============================] - 1s 133ms/step - loss: 4.9658e-04\n",
            "Epoch 23/50\n",
            "9/9 [==============================] - 1s 132ms/step - loss: 4.6213e-04\n",
            "Epoch 24/50\n",
            "9/9 [==============================] - 1s 133ms/step - loss: 4.5903e-04\n",
            "Epoch 25/50\n",
            "9/9 [==============================] - 1s 129ms/step - loss: 5.3719e-04\n",
            "Epoch 26/50\n",
            "9/9 [==============================] - 1s 123ms/step - loss: 4.7382e-04\n",
            "Epoch 27/50\n",
            "9/9 [==============================] - 1s 121ms/step - loss: 4.1720e-04\n",
            "Epoch 28/50\n",
            "9/9 [==============================] - 1s 124ms/step - loss: 4.4034e-04\n",
            "Epoch 29/50\n",
            "9/9 [==============================] - 1s 128ms/step - loss: 3.5000e-04\n",
            "Epoch 30/50\n",
            "9/9 [==============================] - 1s 159ms/step - loss: 3.0924e-04\n",
            "Epoch 31/50\n",
            "9/9 [==============================] - 2s 217ms/step - loss: 3.5536e-04\n",
            "Epoch 32/50\n",
            "9/9 [==============================] - 1s 148ms/step - loss: 4.1434e-04\n",
            "Epoch 33/50\n",
            "9/9 [==============================] - 1s 129ms/step - loss: 2.9167e-04\n",
            "Epoch 34/50\n",
            "9/9 [==============================] - 1s 138ms/step - loss: 2.4917e-04\n",
            "Epoch 35/50\n",
            "9/9 [==============================] - 1s 129ms/step - loss: 2.4745e-04\n",
            "Epoch 36/50\n",
            "9/9 [==============================] - 1s 138ms/step - loss: 6.0185e-04\n",
            "Epoch 37/50\n",
            "9/9 [==============================] - 1s 125ms/step - loss: 4.5007e-04\n",
            "Epoch 38/50\n",
            "9/9 [==============================] - 1s 124ms/step - loss: 3.1325e-04\n",
            "Epoch 39/50\n",
            "9/9 [==============================] - 1s 129ms/step - loss: 4.6629e-04\n",
            "Epoch 40/50\n",
            "9/9 [==============================] - 1s 166ms/step - loss: 4.9570e-04\n",
            "Epoch 41/50\n",
            "9/9 [==============================] - 2s 196ms/step - loss: 4.1865e-04\n",
            "Epoch 42/50\n",
            "9/9 [==============================] - 1s 140ms/step - loss: 3.2662e-04\n",
            "Epoch 43/50\n",
            "9/9 [==============================] - 1s 155ms/step - loss: 3.0114e-04\n",
            "Epoch 44/50\n",
            "9/9 [==============================] - 1s 126ms/step - loss: 3.1095e-04\n",
            "Epoch 45/50\n",
            "9/9 [==============================] - 1s 124ms/step - loss: 3.3900e-04\n",
            "Epoch 46/50\n",
            "9/9 [==============================] - 1s 130ms/step - loss: 2.5832e-04\n",
            "Epoch 47/50\n",
            "9/9 [==============================] - 1s 125ms/step - loss: 2.5666e-04\n",
            "Epoch 48/50\n",
            "9/9 [==============================] - 1s 137ms/step - loss: 2.4003e-04\n",
            "Epoch 49/50\n",
            "9/9 [==============================] - 1s 124ms/step - loss: 3.0595e-04\n",
            "Epoch 50/50\n",
            "9/9 [==============================] - 1s 160ms/step - loss: 3.5210e-04\n",
            "1/1 [==============================] - 1s 1s/step\n",
            "Model Number: 1225 with model Theta in generation 10 of 10\n",
            "Model Number: 1226 with model SeasonalNaive in generation 10 of 10\n",
            "Model Number: 1227 with model MetricMotif in generation 10 of 10\n",
            "Model Number: 1228 with model AverageValueNaive in generation 10 of 10\n",
            "Model Number: 1229 with model ETS in generation 10 of 10\n",
            "Model Number: 1230 with model UnivariateMotif in generation 10 of 10\n",
            "Model Number: 1231 with model SeasonalNaive in generation 10 of 10\n"
          ]
        },
        {
          "output_type": "stream",
          "name": "stderr",
          "text": [
            "/usr/local/lib/python3.8/dist-packages/sklearn/neural_network/_multilayer_perceptron.py:549: ConvergenceWarning:\n",
            "\n",
            "lbfgs failed to converge (status=1):\n",
            "STOP: TOTAL NO. of ITERATIONS REACHED LIMIT.\n",
            "\n",
            "Increase the number of iterations (max_iter) or scale the data as shown in:\n",
            "    https://scikit-learn.org/stable/modules/preprocessing.html\n",
            "\n"
          ]
        },
        {
          "output_type": "stream",
          "name": "stdout",
          "text": [
            "Model Number: 1232 with model ARIMA in generation 10 of 10\n",
            "Template Eval Error: ValueError(\"regression_type='User' but future_regressor not supplied\") in model 1232: ARIMA\n",
            "Model Number: 1233 with model UnobservedComponents in generation 10 of 10\n",
            "Model Number: 1234 with model LastValueNaive in generation 10 of 10\n",
            "Model Number: 1235 with model SeasonalNaive in generation 10 of 10\n",
            "Model Number: 1236 with model UnobservedComponents in generation 10 of 10\n",
            "Model Number: 1237 with model NVAR in generation 10 of 10\n",
            "Model Number: 1238 with model MultivariateRegression in generation 10 of 10\n"
          ]
        },
        {
          "output_type": "stream",
          "name": "stderr",
          "text": [
            "[Parallel(n_jobs=-2)]: Using backend SequentialBackend with 1 concurrent workers.\n",
            "[Parallel(n_jobs=-2)]: Done 200 out of 200 | elapsed:    0.4s finished\n",
            "[Parallel(n_jobs=1)]: Using backend SequentialBackend with 1 concurrent workers.\n",
            "[Parallel(n_jobs=1)]: Done 200 out of 200 | elapsed:    0.0s finished\n",
            "[Parallel(n_jobs=1)]: Using backend SequentialBackend with 1 concurrent workers.\n",
            "[Parallel(n_jobs=1)]: Done 200 out of 200 | elapsed:    0.0s finished\n",
            "[Parallel(n_jobs=1)]: Using backend SequentialBackend with 1 concurrent workers.\n",
            "[Parallel(n_jobs=1)]: Done 200 out of 200 | elapsed:    0.0s finished\n",
            "[Parallel(n_jobs=1)]: Using backend SequentialBackend with 1 concurrent workers.\n",
            "[Parallel(n_jobs=1)]: Done 200 out of 200 | elapsed:    0.0s finished\n",
            "[Parallel(n_jobs=1)]: Using backend SequentialBackend with 1 concurrent workers.\n",
            "[Parallel(n_jobs=1)]: Done 200 out of 200 | elapsed:    0.0s finished\n",
            "[Parallel(n_jobs=1)]: Using backend SequentialBackend with 1 concurrent workers.\n",
            "[Parallel(n_jobs=1)]: Done 200 out of 200 | elapsed:    0.0s finished\n",
            "[Parallel(n_jobs=1)]: Using backend SequentialBackend with 1 concurrent workers.\n"
          ]
        },
        {
          "output_type": "stream",
          "name": "stdout",
          "text": [
            "Model Number: 1239 with model ConstantNaive in generation 10 of 10\n"
          ]
        },
        {
          "output_type": "stream",
          "name": "stderr",
          "text": [
            "[Parallel(n_jobs=1)]: Done 200 out of 200 | elapsed:    0.0s finished\n",
            "[Parallel(n_jobs=1)]: Using backend SequentialBackend with 1 concurrent workers.\n",
            "[Parallel(n_jobs=1)]: Done 200 out of 200 | elapsed:    0.0s finished\n",
            "[Parallel(n_jobs=1)]: Using backend SequentialBackend with 1 concurrent workers.\n",
            "[Parallel(n_jobs=1)]: Done 200 out of 200 | elapsed:    0.0s finished\n",
            "[Parallel(n_jobs=1)]: Using backend SequentialBackend with 1 concurrent workers.\n",
            "[Parallel(n_jobs=1)]: Done 200 out of 200 | elapsed:    0.0s finished\n"
          ]
        },
        {
          "output_type": "stream",
          "name": "stdout",
          "text": [
            "Model Number: 1240 with model MetricMotif in generation 10 of 10\n",
            "Model Number: 1241 with model NVAR in generation 10 of 10\n",
            "Model Number: 1242 with model ARIMA in generation 10 of 10\n",
            "Model Number: 1243 with model SeasonalNaive in generation 10 of 10\n",
            "Model Number: 1244 with model Theta in generation 10 of 10\n",
            "Model Number: 1245 with model DatepartRegression in generation 10 of 10\n",
            "HolidayTransformer: no anomalies detected.\n",
            "Model Number: 1246 with model NVAR in generation 10 of 10\n",
            "Model Number: 1247 with model SeasonalNaive in generation 10 of 10\n",
            "Model Number: 1248 with model MultivariateMotif in generation 10 of 10\n",
            "Model Number: 1249 with model WindowRegression in generation 10 of 10\n",
            "Model Number: 1250 with model MetricMotif in generation 10 of 10\n",
            "Model Number: 1251 with model SeasonalNaive in generation 10 of 10\n"
          ]
        },
        {
          "output_type": "stream",
          "name": "stderr",
          "text": [
            "/usr/local/lib/python3.8/dist-packages/sklearn/neural_network/_multilayer_perceptron.py:549: ConvergenceWarning:\n",
            "\n",
            "lbfgs failed to converge (status=1):\n",
            "STOP: TOTAL NO. of ITERATIONS REACHED LIMIT.\n",
            "\n",
            "Increase the number of iterations (max_iter) or scale the data as shown in:\n",
            "    https://scikit-learn.org/stable/modules/preprocessing.html\n",
            "\n"
          ]
        },
        {
          "output_type": "stream",
          "name": "stdout",
          "text": [
            "Model Number: 1252 with model MultivariateRegression in generation 10 of 10\n",
            "Template Eval Error: ValueError(\"regression_type='User' but not future_regressor supplied.\") in model 1252: MultivariateRegression\n",
            "Model Number: 1253 with model MultivariateRegression in generation 10 of 10\n"
          ]
        },
        {
          "output_type": "stream",
          "name": "stderr",
          "text": [
            "[Parallel(n_jobs=-2)]: Using backend SequentialBackend with 1 concurrent workers.\n",
            "[Parallel(n_jobs=-2)]: Done 200 out of 200 | elapsed:    0.5s finished\n",
            "[Parallel(n_jobs=1)]: Using backend SequentialBackend with 1 concurrent workers.\n",
            "[Parallel(n_jobs=1)]: Done 200 out of 200 | elapsed:    0.0s finished\n",
            "[Parallel(n_jobs=1)]: Using backend SequentialBackend with 1 concurrent workers.\n",
            "[Parallel(n_jobs=1)]: Done 200 out of 200 | elapsed:    0.0s finished\n",
            "[Parallel(n_jobs=1)]: Using backend SequentialBackend with 1 concurrent workers.\n",
            "[Parallel(n_jobs=1)]: Done 200 out of 200 | elapsed:    0.0s finished\n",
            "[Parallel(n_jobs=1)]: Using backend SequentialBackend with 1 concurrent workers.\n",
            "[Parallel(n_jobs=1)]: Done 200 out of 200 | elapsed:    0.0s finished\n",
            "[Parallel(n_jobs=1)]: Using backend SequentialBackend with 1 concurrent workers.\n",
            "[Parallel(n_jobs=1)]: Done 200 out of 200 | elapsed:    0.0s finished\n",
            "[Parallel(n_jobs=1)]: Using backend SequentialBackend with 1 concurrent workers.\n",
            "[Parallel(n_jobs=1)]: Done 200 out of 200 | elapsed:    0.0s finished\n",
            "[Parallel(n_jobs=1)]: Using backend SequentialBackend with 1 concurrent workers.\n",
            "[Parallel(n_jobs=1)]: Done 200 out of 200 | elapsed:    0.0s finished\n",
            "[Parallel(n_jobs=1)]: Using backend SequentialBackend with 1 concurrent workers.\n",
            "[Parallel(n_jobs=1)]: Done 200 out of 200 | elapsed:    0.0s finished\n",
            "[Parallel(n_jobs=1)]: Using backend SequentialBackend with 1 concurrent workers.\n",
            "[Parallel(n_jobs=1)]: Done 200 out of 200 | elapsed:    0.0s finished\n",
            "[Parallel(n_jobs=1)]: Using backend SequentialBackend with 1 concurrent workers.\n",
            "[Parallel(n_jobs=1)]: Done 200 out of 200 | elapsed:    0.0s finished\n"
          ]
        },
        {
          "output_type": "stream",
          "name": "stdout",
          "text": [
            "Model Number: 1254 with model UnobservedComponents in generation 10 of 10\n",
            "HolidayTransformer: no anomalies detected.\n",
            "Template Eval Error: ValueError(\"regression_type='User' but no future_regressor supplied\") in model 1254: UnobservedComponents\n",
            "Model Number: 1255 with model UnivariateMotif in generation 10 of 10\n",
            "Model Number: 1256 with model DatepartRegression in generation 10 of 10\n",
            "Model Number: 1257 with model Theta in generation 10 of 10\n",
            "Model Number: 1258 with model NVAR in generation 10 of 10\n",
            "Model Number: 1259 with model UnobservedComponents in generation 10 of 10\n",
            "Template Eval Error: ValueError(\"regression_type='User' but no future_regressor supplied\") in model 1259: UnobservedComponents\n",
            "Model Number: 1260 with model FBProphet in generation 10 of 10\n"
          ]
        },
        {
          "output_type": "stream",
          "name": "stderr",
          "text": [
            "INFO:prophet:Disabling yearly seasonality. Run prophet with yearly_seasonality=True to override this.\n",
            "INFO:prophet:Disabling daily seasonality. Run prophet with daily_seasonality=True to override this.\n",
            "DEBUG:cmdstanpy:input tempfile: /tmp/tmp09dakauk/lg05m_kv.json\n",
            "DEBUG:cmdstanpy:input tempfile: /tmp/tmp09dakauk/gl78kphw.json\n",
            "DEBUG:cmdstanpy:idx 0\n",
            "DEBUG:cmdstanpy:running CmdStan, num_threads: None\n",
            "DEBUG:cmdstanpy:CmdStan args: ['/usr/local/lib/python3.8/dist-packages/prophet/stan_model/prophet_model.bin', 'random', 'seed=38333', 'data', 'file=/tmp/tmp09dakauk/lg05m_kv.json', 'init=/tmp/tmp09dakauk/gl78kphw.json', 'output', 'file=/tmp/tmp09dakauk/prophet_modely0hz1xhq/prophet_model-20230216094956.csv', 'method=optimize', 'algorithm=lbfgs', 'iter=10000']\n",
            "09:49:56 - cmdstanpy - INFO - Chain [1] start processing\n",
            "INFO:cmdstanpy:Chain [1] start processing\n",
            "09:49:56 - cmdstanpy - INFO - Chain [1] done processing\n",
            "INFO:cmdstanpy:Chain [1] done processing\n"
          ]
        },
        {
          "output_type": "stream",
          "name": "stdout",
          "text": [
            "Model Number: 1261 with model SeasonalNaive in generation 10 of 10\n",
            "Model Number: 1262 with model Ensemble in generation 11 of Ensembles\n",
            "Model Number: 1263 with model Ensemble in generation 11 of Ensembles\n",
            "Model Number: 1264 with model Ensemble in generation 11 of Ensembles\n",
            "HolidayTransformer: no anomalies detected.\n"
          ]
        },
        {
          "output_type": "stream",
          "name": "stderr",
          "text": [
            "/usr/local/lib/python3.8/dist-packages/sklearn/preprocessing/_data.py:3253: RuntimeWarning:\n",
            "\n",
            "divide by zero encountered in log\n",
            "\n",
            "/usr/local/lib/python3.8/dist-packages/autots/tools/probabilistic.py:67: RuntimeWarning:\n",
            "\n",
            "invalid value encountered in true_divide\n",
            "\n",
            "/usr/local/lib/python3.8/dist-packages/autots/tools/probabilistic.py:68: RuntimeWarning:\n",
            "\n",
            "divide by zero encountered in true_divide\n",
            "\n",
            "/usr/local/lib/python3.8/dist-packages/sklearn/preprocessing/_data.py:3196: RuntimeWarning:\n",
            "\n",
            "divide by zero encountered in power\n",
            "\n",
            "/usr/local/lib/python3.8/dist-packages/sklearn/preprocessing/_data.py:3196: RuntimeWarning:\n",
            "\n",
            "divide by zero encountered in power\n",
            "\n",
            "/usr/local/lib/python3.8/dist-packages/sklearn/preprocessing/_data.py:3196: RuntimeWarning:\n",
            "\n",
            "divide by zero encountered in power\n",
            "\n",
            "/usr/local/lib/python3.8/dist-packages/sklearn/linear_model/_ridge.py:157: LinAlgWarning:\n",
            "\n",
            "Ill-conditioned matrix (rcond=7.7081e-25): result may not be accurate.\n",
            "\n"
          ]
        },
        {
          "output_type": "stream",
          "name": "stdout",
          "text": [
            "Model Number: 1265 with model Ensemble in generation 11 of Ensembles\n",
            "HolidayTransformer: no anomalies detected.\n"
          ]
        },
        {
          "output_type": "stream",
          "name": "stderr",
          "text": [
            "/usr/local/lib/python3.8/dist-packages/sklearn/preprocessing/_data.py:3253: RuntimeWarning:\n",
            "\n",
            "divide by zero encountered in log\n",
            "\n",
            "/usr/local/lib/python3.8/dist-packages/autots/tools/probabilistic.py:67: RuntimeWarning:\n",
            "\n",
            "invalid value encountered in true_divide\n",
            "\n",
            "/usr/local/lib/python3.8/dist-packages/autots/tools/probabilistic.py:68: RuntimeWarning:\n",
            "\n",
            "divide by zero encountered in true_divide\n",
            "\n",
            "/usr/local/lib/python3.8/dist-packages/sklearn/preprocessing/_data.py:3196: RuntimeWarning:\n",
            "\n",
            "divide by zero encountered in power\n",
            "\n",
            "/usr/local/lib/python3.8/dist-packages/sklearn/preprocessing/_data.py:3196: RuntimeWarning:\n",
            "\n",
            "divide by zero encountered in power\n",
            "\n",
            "/usr/local/lib/python3.8/dist-packages/sklearn/preprocessing/_data.py:3196: RuntimeWarning:\n",
            "\n",
            "divide by zero encountered in power\n",
            "\n",
            "/usr/local/lib/python3.8/dist-packages/sklearn/linear_model/_ridge.py:157: LinAlgWarning:\n",
            "\n",
            "Ill-conditioned matrix (rcond=7.7081e-25): result may not be accurate.\n",
            "\n"
          ]
        },
        {
          "output_type": "stream",
          "name": "stdout",
          "text": [
            "Model Number: 1266 with model Ensemble in generation 11 of Ensembles\n"
          ]
        },
        {
          "output_type": "stream",
          "name": "stderr",
          "text": [
            "/usr/local/lib/python3.8/dist-packages/sklearn/linear_model/_ridge.py:157: LinAlgWarning:\n",
            "\n",
            "Ill-conditioned matrix (rcond=7.7081e-25): result may not be accurate.\n",
            "\n"
          ]
        },
        {
          "output_type": "stream",
          "name": "stdout",
          "text": [
            "HolidayTransformer: no anomalies detected.\n",
            "Model Number: 1267 with model Ensemble in generation 11 of Ensembles\n"
          ]
        },
        {
          "output_type": "stream",
          "name": "stderr",
          "text": [
            "/usr/local/lib/python3.8/dist-packages/sklearn/linear_model/_ridge.py:157: LinAlgWarning:\n",
            "\n",
            "Ill-conditioned matrix (rcond=7.7081e-25): result may not be accurate.\n",
            "\n"
          ]
        },
        {
          "output_type": "stream",
          "name": "stdout",
          "text": [
            "HolidayTransformer: no anomalies detected.\n"
          ]
        },
        {
          "output_type": "stream",
          "name": "stderr",
          "text": [
            "[Parallel(n_jobs=-2)]: Using backend SequentialBackend with 1 concurrent workers.\n",
            "[Parallel(n_jobs=-2)]: Done 200 out of 200 | elapsed:    0.4s finished\n",
            "[Parallel(n_jobs=1)]: Using backend SequentialBackend with 1 concurrent workers.\n",
            "[Parallel(n_jobs=1)]: Done 200 out of 200 | elapsed:    0.0s finished\n",
            "[Parallel(n_jobs=1)]: Using backend SequentialBackend with 1 concurrent workers.\n",
            "[Parallel(n_jobs=1)]: Done 200 out of 200 | elapsed:    0.0s finished\n",
            "[Parallel(n_jobs=1)]: Using backend SequentialBackend with 1 concurrent workers.\n",
            "[Parallel(n_jobs=1)]: Done 200 out of 200 | elapsed:    0.0s finished\n",
            "[Parallel(n_jobs=1)]: Using backend SequentialBackend with 1 concurrent workers.\n",
            "[Parallel(n_jobs=1)]: Done 200 out of 200 | elapsed:    0.0s finished\n",
            "[Parallel(n_jobs=1)]: Using backend SequentialBackend with 1 concurrent workers.\n",
            "[Parallel(n_jobs=1)]: Done 200 out of 200 | elapsed:    0.0s finished\n",
            "[Parallel(n_jobs=1)]: Using backend SequentialBackend with 1 concurrent workers.\n",
            "[Parallel(n_jobs=1)]: Done 200 out of 200 | elapsed:    0.0s finished\n",
            "[Parallel(n_jobs=1)]: Using backend SequentialBackend with 1 concurrent workers.\n",
            "[Parallel(n_jobs=1)]: Done 200 out of 200 | elapsed:    0.0s finished\n",
            "[Parallel(n_jobs=1)]: Using backend SequentialBackend with 1 concurrent workers.\n",
            "[Parallel(n_jobs=1)]: Done 200 out of 200 | elapsed:    0.0s finished\n",
            "[Parallel(n_jobs=1)]: Using backend SequentialBackend with 1 concurrent workers.\n",
            "[Parallel(n_jobs=1)]: Done 200 out of 200 | elapsed:    0.0s finished\n",
            "[Parallel(n_jobs=1)]: Using backend SequentialBackend with 1 concurrent workers.\n",
            "[Parallel(n_jobs=1)]: Done 200 out of 200 | elapsed:    0.0s finished\n"
          ]
        },
        {
          "output_type": "stream",
          "name": "stdout",
          "text": [
            "Model Number: 1268 with model Ensemble in generation 11 of Ensembles\n",
            "Model Number: 1269 with model Ensemble in generation 11 of Ensembles\n",
            "Validation Round: 1\n",
            "Model Number: 1 of 179 with model Ensemble for Validation 1\n"
          ]
        },
        {
          "output_type": "stream",
          "name": "stderr",
          "text": [
            "/usr/local/lib/python3.8/dist-packages/sklearn/linear_model/_ridge.py:157: LinAlgWarning:\n",
            "\n",
            "Ill-conditioned matrix (rcond=8.3253e-25): result may not be accurate.\n",
            "\n"
          ]
        },
        {
          "output_type": "stream",
          "name": "stdout",
          "text": [
            "HolidayTransformer: no anomalies detected.\n",
            "📈 1 - Ensemble with avg smape 9.95: \n",
            "Model Number: 2 of 179 with model Ensemble for Validation 1\n",
            "📈 2 - Ensemble with avg smape 9.64: \n",
            "Model Number: 3 of 179 with model Ensemble for Validation 1\n",
            "3 - Ensemble with avg smape 9.64: \n",
            "Model Number: 4 of 179 with model NVAR for Validation 1\n",
            "4 - NVAR with avg smape 9.64: \n",
            "Model Number: 5 of 179 with model NVAR for Validation 1\n",
            "5 - NVAR with avg smape 9.64: \n",
            "Model Number: 6 of 179 with model NVAR for Validation 1\n",
            "6 - NVAR with avg smape 9.64: \n",
            "Model Number: 7 of 179 with model Ensemble for Validation 1\n"
          ]
        },
        {
          "output_type": "stream",
          "name": "stderr",
          "text": [
            "/usr/local/lib/python3.8/dist-packages/sklearn/linear_model/_ridge.py:157: LinAlgWarning:\n",
            "\n",
            "Ill-conditioned matrix (rcond=8.3253e-25): result may not be accurate.\n",
            "\n"
          ]
        },
        {
          "output_type": "stream",
          "name": "stdout",
          "text": [
            "HolidayTransformer: no anomalies detected.\n"
          ]
        },
        {
          "output_type": "stream",
          "name": "stderr",
          "text": [
            "[Parallel(n_jobs=-2)]: Using backend SequentialBackend with 1 concurrent workers.\n",
            "[Parallel(n_jobs=-2)]: Done 200 out of 200 | elapsed:    0.4s finished\n",
            "[Parallel(n_jobs=1)]: Using backend SequentialBackend with 1 concurrent workers.\n",
            "[Parallel(n_jobs=1)]: Done 200 out of 200 | elapsed:    0.0s finished\n",
            "[Parallel(n_jobs=1)]: Using backend SequentialBackend with 1 concurrent workers.\n",
            "[Parallel(n_jobs=1)]: Done 200 out of 200 | elapsed:    0.0s finished\n",
            "[Parallel(n_jobs=1)]: Using backend SequentialBackend with 1 concurrent workers.\n",
            "[Parallel(n_jobs=1)]: Done 200 out of 200 | elapsed:    0.0s finished\n",
            "[Parallel(n_jobs=1)]: Using backend SequentialBackend with 1 concurrent workers.\n",
            "[Parallel(n_jobs=1)]: Done 200 out of 200 | elapsed:    0.0s finished\n",
            "[Parallel(n_jobs=1)]: Using backend SequentialBackend with 1 concurrent workers.\n",
            "[Parallel(n_jobs=1)]: Done 200 out of 200 | elapsed:    0.0s finished\n",
            "[Parallel(n_jobs=1)]: Using backend SequentialBackend with 1 concurrent workers.\n",
            "[Parallel(n_jobs=1)]: Done 200 out of 200 | elapsed:    0.0s finished\n",
            "[Parallel(n_jobs=1)]: Using backend SequentialBackend with 1 concurrent workers.\n",
            "[Parallel(n_jobs=1)]: Done 200 out of 200 | elapsed:    0.0s finished\n",
            "[Parallel(n_jobs=1)]: Using backend SequentialBackend with 1 concurrent workers.\n",
            "[Parallel(n_jobs=1)]: Done 200 out of 200 | elapsed:    0.0s finished\n",
            "[Parallel(n_jobs=1)]: Using backend SequentialBackend with 1 concurrent workers.\n",
            "[Parallel(n_jobs=1)]: Done 200 out of 200 | elapsed:    0.0s finished\n",
            "[Parallel(n_jobs=1)]: Using backend SequentialBackend with 1 concurrent workers.\n",
            "[Parallel(n_jobs=1)]: Done 200 out of 200 | elapsed:    0.0s finished\n"
          ]
        },
        {
          "output_type": "stream",
          "name": "stdout",
          "text": [
            "7 - Ensemble with avg smape 10.87: \n",
            "Model Number: 8 of 179 with model ARIMA for Validation 1\n",
            "📈 8 - ARIMA with avg smape 4.37: \n",
            "Model Number: 9 of 179 with model ARIMA for Validation 1\n",
            "9 - ARIMA with avg smape 4.37: \n",
            "Model Number: 10 of 179 with model NVAR for Validation 1\n",
            "10 - NVAR with avg smape 5.29: \n",
            "Model Number: 11 of 179 with model NVAR for Validation 1\n",
            "11 - NVAR with avg smape 5.29: \n",
            "Model Number: 12 of 179 with model NVAR for Validation 1\n",
            "12 - NVAR with avg smape 5.29: \n",
            "Model Number: 13 of 179 with model NVAR for Validation 1\n",
            "13 - NVAR with avg smape 5.29: \n",
            "Model Number: 14 of 179 with model NVAR for Validation 1\n",
            "14 - NVAR with avg smape 5.29: \n",
            "Model Number: 15 of 179 with model NVAR for Validation 1\n",
            "15 - NVAR with avg smape 5.29: \n",
            "Model Number: 16 of 179 with model DatepartRegression for Validation 1\n",
            "16 - DatepartRegression with avg smape 16.89: \n",
            "Model Number: 17 of 179 with model DatepartRegression for Validation 1\n",
            "HolidayTransformer: no anomalies detected.\n"
          ]
        },
        {
          "output_type": "stream",
          "name": "stderr",
          "text": [
            "/usr/local/lib/python3.8/dist-packages/sklearn/linear_model/_ridge.py:157: LinAlgWarning:\n",
            "\n",
            "Ill-conditioned matrix (rcond=8.3253e-25): result may not be accurate.\n",
            "\n"
          ]
        },
        {
          "output_type": "stream",
          "name": "stdout",
          "text": [
            "17 - DatepartRegression with avg smape 16.89: \n",
            "Model Number: 18 of 179 with model DatepartRegression for Validation 1\n",
            "18 - DatepartRegression with avg smape 16.89: \n",
            "Model Number: 19 of 179 with model ARIMA for Validation 1\n",
            "📈 19 - ARIMA with avg smape 4.04: \n",
            "Model Number: 20 of 179 with model ARIMA for Validation 1\n",
            "20 - ARIMA with avg smape 4.71: \n",
            "Model Number: 21 of 179 with model ARIMA for Validation 1\n",
            "21 - ARIMA with avg smape 4.37: \n",
            "Model Number: 22 of 179 with model ARIMA for Validation 1\n",
            "22 - ARIMA with avg smape 4.37: \n",
            "Model Number: 23 of 179 with model ARIMA for Validation 1\n",
            "23 - ARIMA with avg smape 4.71: \n",
            "Model Number: 24 of 179 with model ARIMA for Validation 1\n",
            "24 - ARIMA with avg smape 4.28: \n",
            "Model Number: 25 of 179 with model ARIMA for Validation 1\n",
            "25 - ARIMA with avg smape 4.05: \n",
            "Model Number: 26 of 179 with model Ensemble for Validation 1\n",
            "26 - Ensemble with avg smape 11.11: \n",
            "Model Number: 27 of 179 with model Ensemble for Validation 1\n",
            "27 - Ensemble with avg smape 10.98: \n",
            "Model Number: 28 of 179 with model Ensemble for Validation 1\n",
            "HolidayTransformer: no anomalies detected.\n"
          ]
        },
        {
          "output_type": "stream",
          "name": "stderr",
          "text": [
            "/usr/local/lib/python3.8/dist-packages/sklearn/preprocessing/_data.py:3253: RuntimeWarning:\n",
            "\n",
            "divide by zero encountered in log\n",
            "\n",
            "/usr/local/lib/python3.8/dist-packages/autots/tools/probabilistic.py:67: RuntimeWarning:\n",
            "\n",
            "invalid value encountered in true_divide\n",
            "\n",
            "/usr/local/lib/python3.8/dist-packages/autots/tools/probabilistic.py:68: RuntimeWarning:\n",
            "\n",
            "divide by zero encountered in true_divide\n",
            "\n",
            "/usr/local/lib/python3.8/dist-packages/sklearn/preprocessing/_data.py:3196: RuntimeWarning:\n",
            "\n",
            "divide by zero encountered in power\n",
            "\n",
            "/usr/local/lib/python3.8/dist-packages/sklearn/preprocessing/_data.py:3196: RuntimeWarning:\n",
            "\n",
            "divide by zero encountered in power\n",
            "\n",
            "/usr/local/lib/python3.8/dist-packages/sklearn/preprocessing/_data.py:3196: RuntimeWarning:\n",
            "\n",
            "divide by zero encountered in power\n",
            "\n",
            "/usr/local/lib/python3.8/dist-packages/sklearn/linear_model/_ridge.py:157: LinAlgWarning:\n",
            "\n",
            "Ill-conditioned matrix (rcond=8.3253e-25): result may not be accurate.\n",
            "\n"
          ]
        },
        {
          "output_type": "stream",
          "name": "stdout",
          "text": [
            "28 - Ensemble with avg smape 16.01: \n",
            "Model Number: 29 of 179 with model MultivariateRegression for Validation 1\n"
          ]
        },
        {
          "output_type": "stream",
          "name": "stderr",
          "text": [
            "[Parallel(n_jobs=-2)]: Using backend SequentialBackend with 1 concurrent workers.\n",
            "[Parallel(n_jobs=-2)]: Done 200 out of 200 | elapsed:    0.4s finished\n",
            "[Parallel(n_jobs=1)]: Using backend SequentialBackend with 1 concurrent workers.\n",
            "[Parallel(n_jobs=1)]: Done 200 out of 200 | elapsed:    0.0s finished\n",
            "[Parallel(n_jobs=1)]: Using backend SequentialBackend with 1 concurrent workers.\n",
            "[Parallel(n_jobs=1)]: Done 200 out of 200 | elapsed:    0.0s finished\n",
            "[Parallel(n_jobs=1)]: Using backend SequentialBackend with 1 concurrent workers.\n",
            "[Parallel(n_jobs=1)]: Done 200 out of 200 | elapsed:    0.0s finished\n",
            "[Parallel(n_jobs=1)]: Using backend SequentialBackend with 1 concurrent workers.\n",
            "[Parallel(n_jobs=1)]: Done 200 out of 200 | elapsed:    0.0s finished\n",
            "[Parallel(n_jobs=1)]: Using backend SequentialBackend with 1 concurrent workers.\n",
            "[Parallel(n_jobs=1)]: Done 200 out of 200 | elapsed:    0.0s finished\n",
            "[Parallel(n_jobs=1)]: Using backend SequentialBackend with 1 concurrent workers.\n",
            "[Parallel(n_jobs=1)]: Done 200 out of 200 | elapsed:    0.0s finished\n",
            "[Parallel(n_jobs=1)]: Using backend SequentialBackend with 1 concurrent workers.\n",
            "[Parallel(n_jobs=1)]: Done 200 out of 200 | elapsed:    0.0s finished\n",
            "[Parallel(n_jobs=1)]: Using backend SequentialBackend with 1 concurrent workers.\n",
            "[Parallel(n_jobs=1)]: Done 200 out of 200 | elapsed:    0.0s finished\n",
            "[Parallel(n_jobs=1)]: Using backend SequentialBackend with 1 concurrent workers.\n",
            "[Parallel(n_jobs=1)]: Done 200 out of 200 | elapsed:    0.0s finished\n",
            "[Parallel(n_jobs=1)]: Using backend SequentialBackend with 1 concurrent workers.\n",
            "[Parallel(n_jobs=1)]: Done 200 out of 200 | elapsed:    0.0s finished\n"
          ]
        },
        {
          "output_type": "stream",
          "name": "stdout",
          "text": [
            "📈 29 - MultivariateRegression with avg smape 1.38: \n",
            "Model Number: 30 of 179 with model MultivariateRegression for Validation 1\n"
          ]
        },
        {
          "output_type": "stream",
          "name": "stderr",
          "text": [
            "[Parallel(n_jobs=-2)]: Using backend SequentialBackend with 1 concurrent workers.\n",
            "[Parallel(n_jobs=-2)]: Done 200 out of 200 | elapsed:    0.4s finished\n",
            "[Parallel(n_jobs=1)]: Using backend SequentialBackend with 1 concurrent workers.\n",
            "[Parallel(n_jobs=1)]: Done 200 out of 200 | elapsed:    0.0s finished\n",
            "[Parallel(n_jobs=1)]: Using backend SequentialBackend with 1 concurrent workers.\n",
            "[Parallel(n_jobs=1)]: Done 200 out of 200 | elapsed:    0.0s finished\n",
            "[Parallel(n_jobs=1)]: Using backend SequentialBackend with 1 concurrent workers.\n",
            "[Parallel(n_jobs=1)]: Done 200 out of 200 | elapsed:    0.0s finished\n",
            "[Parallel(n_jobs=1)]: Using backend SequentialBackend with 1 concurrent workers.\n",
            "[Parallel(n_jobs=1)]: Done 200 out of 200 | elapsed:    0.0s finished\n",
            "[Parallel(n_jobs=1)]: Using backend SequentialBackend with 1 concurrent workers.\n",
            "[Parallel(n_jobs=1)]: Done 200 out of 200 | elapsed:    0.0s finished\n",
            "[Parallel(n_jobs=1)]: Using backend SequentialBackend with 1 concurrent workers.\n",
            "[Parallel(n_jobs=1)]: Done 200 out of 200 | elapsed:    0.0s finished\n",
            "[Parallel(n_jobs=1)]: Using backend SequentialBackend with 1 concurrent workers.\n",
            "[Parallel(n_jobs=1)]: Done 200 out of 200 | elapsed:    0.0s finished\n",
            "[Parallel(n_jobs=1)]: Using backend SequentialBackend with 1 concurrent workers.\n",
            "[Parallel(n_jobs=1)]: Done 200 out of 200 | elapsed:    0.0s finished\n",
            "[Parallel(n_jobs=1)]: Using backend SequentialBackend with 1 concurrent workers.\n",
            "[Parallel(n_jobs=1)]: Done 200 out of 200 | elapsed:    0.0s finished\n",
            "[Parallel(n_jobs=1)]: Using backend SequentialBackend with 1 concurrent workers.\n",
            "[Parallel(n_jobs=1)]: Done 200 out of 200 | elapsed:    0.0s finished\n"
          ]
        },
        {
          "output_type": "stream",
          "name": "stdout",
          "text": [
            "30 - MultivariateRegression with avg smape 1.62: \n",
            "Model Number: 31 of 179 with model UnobservedComponents for Validation 1\n",
            "31 - UnobservedComponents with avg smape 18.92: \n",
            "Model Number: 32 of 179 with model UnobservedComponents for Validation 1\n",
            "32 - UnobservedComponents with avg smape 18.92: \n",
            "Model Number: 33 of 179 with model MetricMotif for Validation 1\n",
            "33 - MetricMotif with avg smape 12.85: \n",
            "Model Number: 34 of 179 with model Theta for Validation 1\n",
            "34 - Theta with avg smape 2.51: \n",
            "Model Number: 35 of 179 with model Theta for Validation 1\n",
            "35 - Theta with avg smape 2.57: \n",
            "Model Number: 36 of 179 with model MultivariateRegression for Validation 1\n"
          ]
        },
        {
          "output_type": "stream",
          "name": "stderr",
          "text": [
            "[Parallel(n_jobs=-2)]: Using backend SequentialBackend with 1 concurrent workers.\n",
            "[Parallel(n_jobs=-2)]: Done 200 out of 200 | elapsed:    0.4s finished\n",
            "[Parallel(n_jobs=1)]: Using backend SequentialBackend with 1 concurrent workers.\n",
            "[Parallel(n_jobs=1)]: Done 200 out of 200 | elapsed:    0.0s finished\n",
            "[Parallel(n_jobs=1)]: Using backend SequentialBackend with 1 concurrent workers.\n",
            "[Parallel(n_jobs=1)]: Done 200 out of 200 | elapsed:    0.0s finished\n",
            "[Parallel(n_jobs=1)]: Using backend SequentialBackend with 1 concurrent workers.\n",
            "[Parallel(n_jobs=1)]: Done 200 out of 200 | elapsed:    0.0s finished\n",
            "[Parallel(n_jobs=1)]: Using backend SequentialBackend with 1 concurrent workers.\n",
            "[Parallel(n_jobs=1)]: Done 200 out of 200 | elapsed:    0.0s finished\n",
            "[Parallel(n_jobs=1)]: Using backend SequentialBackend with 1 concurrent workers.\n",
            "[Parallel(n_jobs=1)]: Done 200 out of 200 | elapsed:    0.0s finished\n",
            "[Parallel(n_jobs=1)]: Using backend SequentialBackend with 1 concurrent workers.\n",
            "[Parallel(n_jobs=1)]: Done 200 out of 200 | elapsed:    0.0s finished\n"
          ]
        },
        {
          "output_type": "stream",
          "name": "stdout",
          "text": [
            "36 - MultivariateRegression with avg smape 3.32: \n",
            "Model Number: 37 of 179 with model MetricMotif for Validation 1\n"
          ]
        },
        {
          "output_type": "stream",
          "name": "stderr",
          "text": [
            "[Parallel(n_jobs=1)]: Using backend SequentialBackend with 1 concurrent workers.\n",
            "[Parallel(n_jobs=1)]: Done 200 out of 200 | elapsed:    0.0s finished\n",
            "[Parallel(n_jobs=1)]: Using backend SequentialBackend with 1 concurrent workers.\n",
            "[Parallel(n_jobs=1)]: Done 200 out of 200 | elapsed:    0.0s finished\n",
            "[Parallel(n_jobs=1)]: Using backend SequentialBackend with 1 concurrent workers.\n",
            "[Parallel(n_jobs=1)]: Done 200 out of 200 | elapsed:    0.0s finished\n",
            "[Parallel(n_jobs=1)]: Using backend SequentialBackend with 1 concurrent workers.\n",
            "[Parallel(n_jobs=1)]: Done 200 out of 200 | elapsed:    0.0s finished\n"
          ]
        },
        {
          "output_type": "stream",
          "name": "stdout",
          "text": [
            "37 - MetricMotif with avg smape 15.13: \n",
            "Model Number: 38 of 179 with model MetricMotif for Validation 1\n",
            "38 - MetricMotif with avg smape 13.23: \n",
            "Model Number: 39 of 179 with model SeasonalNaive for Validation 1\n",
            "39 - SeasonalNaive with avg smape 27.79: \n",
            "Model Number: 40 of 179 with model MetricMotif for Validation 1\n",
            "40 - MetricMotif with avg smape 10.32: \n",
            "Model Number: 41 of 179 with model SeasonalNaive for Validation 1\n",
            "41 - SeasonalNaive with avg smape 21.07: \n",
            "Model Number: 42 of 179 with model SectionalMotif for Validation 1\n",
            "42 - SectionalMotif with avg smape 5.69: \n",
            "Model Number: 43 of 179 with model UnobservedComponents for Validation 1\n",
            "43 - UnobservedComponents with avg smape 20.63: \n",
            "Model Number: 44 of 179 with model DatepartRegression for Validation 1\n",
            "HolidayTransformer: no anomalies detected.\n",
            "44 - DatepartRegression with avg smape 16.49: \n",
            "Model Number: 45 of 179 with model UnobservedComponents for Validation 1\n",
            "📈 45 - UnobservedComponents with avg smape 1.18: \n",
            "Model Number: 46 of 179 with model SeasonalNaive for Validation 1\n",
            "46 - SeasonalNaive with avg smape 27.78: \n",
            "Model Number: 47 of 179 with model SeasonalNaive for Validation 1\n",
            "47 - SeasonalNaive with avg smape 27.78: \n",
            "Model Number: 48 of 179 with model SeasonalNaive for Validation 1\n",
            "48 - SeasonalNaive with avg smape 25.04: \n",
            "Model Number: 49 of 179 with model SeasonalNaive for Validation 1\n",
            "49 - SeasonalNaive with avg smape 14.99: \n",
            "Model Number: 50 of 179 with model MetricMotif for Validation 1\n",
            "50 - MetricMotif with avg smape 8.01: \n",
            "Model Number: 51 of 179 with model UnobservedComponents for Validation 1\n",
            "51 - UnobservedComponents with avg smape 20.27: \n",
            "Model Number: 52 of 179 with model SeasonalNaive for Validation 1\n",
            "52 - SeasonalNaive with avg smape 27.64: \n",
            "Model Number: 53 of 179 with model DatepartRegression for Validation 1\n",
            "53 - DatepartRegression with avg smape 16.51: \n",
            "Model Number: 54 of 179 with model DatepartRegression for Validation 1\n",
            "54 - DatepartRegression with avg smape 16.51: \n",
            "Model Number: 55 of 179 with model SectionalMotif for Validation 1\n",
            "55 - SectionalMotif with avg smape 5.8: \n",
            "Model Number: 56 of 179 with model DatepartRegression for Validation 1\n",
            "56 - DatepartRegression with avg smape 16.41: \n",
            "Model Number: 57 of 179 with model DatepartRegression for Validation 1\n",
            "57 - DatepartRegression with avg smape 16.41: \n",
            "Model Number: 58 of 179 with model UnobservedComponents for Validation 1\n",
            "58 - UnobservedComponents with avg smape 1.18: \n",
            "Model Number: 59 of 179 with model Theta for Validation 1\n",
            "59 - Theta with avg smape 11.43: \n",
            "Model Number: 60 of 179 with model Theta for Validation 1\n",
            "60 - Theta with avg smape 2.19: \n",
            "Model Number: 61 of 179 with model Theta for Validation 1\n",
            "61 - Theta with avg smape 2.33: \n",
            "Model Number: 62 of 179 with model Theta for Validation 1\n",
            "62 - Theta with avg smape 2.19: \n",
            "Model Number: 63 of 179 with model Theta for Validation 1\n",
            "63 - Theta with avg smape 11.18: \n",
            "Model Number: 64 of 179 with model MetricMotif for Validation 1\n",
            "64 - MetricMotif with avg smape 12.8: \n",
            "Model Number: 65 of 179 with model UnobservedComponents for Validation 1\n",
            "65 - UnobservedComponents with avg smape 1.29: \n",
            "Model Number: 66 of 179 with model MetricMotif for Validation 1\n",
            "66 - MetricMotif with avg smape 11.21: \n",
            "Model Number: 67 of 179 with model LastValueNaive for Validation 1\n",
            "📈 67 - LastValueNaive with avg smape 1.07: \n",
            "Model Number: 68 of 179 with model LastValueNaive for Validation 1\n",
            "68 - LastValueNaive with avg smape 1.07: \n",
            "Model Number: 69 of 179 with model ETS for Validation 1\n",
            "69 - ETS with avg smape 1.67: \n",
            "Model Number: 70 of 179 with model ETS for Validation 1\n",
            "70 - ETS with avg smape 1.67: \n",
            "Model Number: 71 of 179 with model ETS for Validation 1\n",
            "71 - ETS with avg smape 1.67: \n",
            "Model Number: 72 of 179 with model WindowRegression for Validation 1\n",
            "72 - WindowRegression with avg smape 9.77: \n",
            "Model Number: 73 of 179 with model MetricMotif for Validation 1\n"
          ]
        },
        {
          "output_type": "stream",
          "name": "stderr",
          "text": [
            "/usr/local/lib/python3.8/dist-packages/sklearn/neural_network/_multilayer_perceptron.py:549: ConvergenceWarning:\n",
            "\n",
            "lbfgs failed to converge (status=2):\n",
            "ABNORMAL_TERMINATION_IN_LNSRCH.\n",
            "\n",
            "Increase the number of iterations (max_iter) or scale the data as shown in:\n",
            "    https://scikit-learn.org/stable/modules/preprocessing.html\n",
            "\n"
          ]
        },
        {
          "output_type": "stream",
          "name": "stdout",
          "text": [
            "73 - MetricMotif with avg smape 11.15: \n",
            "Model Number: 74 of 179 with model MetricMotif for Validation 1\n",
            "74 - MetricMotif with avg smape 12.26: \n",
            "Model Number: 75 of 179 with model UnobservedComponents for Validation 1\n",
            "75 - UnobservedComponents with avg smape 20.82: \n",
            "Model Number: 76 of 179 with model SeasonalNaive for Validation 1\n",
            "76 - SeasonalNaive with avg smape 27.64: \n",
            "Model Number: 77 of 179 with model SeasonalNaive for Validation 1\n",
            "77 - SeasonalNaive with avg smape 27.01: \n",
            "Model Number: 78 of 179 with model Theta for Validation 1\n",
            "78 - Theta with avg smape 1.34: \n",
            "Model Number: 79 of 179 with model Theta for Validation 1\n",
            "79 - Theta with avg smape 1.34: \n",
            "Model Number: 80 of 179 with model WindowRegression for Validation 1\n"
          ]
        },
        {
          "output_type": "stream",
          "name": "stderr",
          "text": [
            "/usr/local/lib/python3.8/dist-packages/sklearn/neural_network/_multilayer_perceptron.py:549: ConvergenceWarning:\n",
            "\n",
            "lbfgs failed to converge (status=1):\n",
            "STOP: TOTAL NO. of ITERATIONS REACHED LIMIT.\n",
            "\n",
            "Increase the number of iterations (max_iter) or scale the data as shown in:\n",
            "    https://scikit-learn.org/stable/modules/preprocessing.html\n",
            "\n"
          ]
        },
        {
          "output_type": "stream",
          "name": "stdout",
          "text": [
            "80 - WindowRegression with avg smape 10.08: \n",
            "Model Number: 81 of 179 with model WindowRegression for Validation 1\n"
          ]
        },
        {
          "output_type": "stream",
          "name": "stderr",
          "text": [
            "/usr/local/lib/python3.8/dist-packages/sklearn/neural_network/_multilayer_perceptron.py:549: ConvergenceWarning:\n",
            "\n",
            "lbfgs failed to converge (status=1):\n",
            "STOP: TOTAL NO. of ITERATIONS REACHED LIMIT.\n",
            "\n",
            "Increase the number of iterations (max_iter) or scale the data as shown in:\n",
            "    https://scikit-learn.org/stable/modules/preprocessing.html\n",
            "\n"
          ]
        },
        {
          "output_type": "stream",
          "name": "stdout",
          "text": [
            "81 - WindowRegression with avg smape 10.08: \n",
            "Model Number: 82 of 179 with model WindowRegression for Validation 1\n",
            "82 - WindowRegression with avg smape 10.08: \n",
            "Model Number: 83 of 179 with model AverageValueNaive for Validation 1\n",
            "83 - AverageValueNaive with avg smape 1.81: \n",
            "Model Number: 84 of 179 with model SectionalMotif for Validation 1\n"
          ]
        },
        {
          "output_type": "stream",
          "name": "stderr",
          "text": [
            "/usr/local/lib/python3.8/dist-packages/sklearn/neural_network/_multilayer_perceptron.py:549: ConvergenceWarning:\n",
            "\n",
            "lbfgs failed to converge (status=1):\n",
            "STOP: TOTAL NO. of ITERATIONS REACHED LIMIT.\n",
            "\n",
            "Increase the number of iterations (max_iter) or scale the data as shown in:\n",
            "    https://scikit-learn.org/stable/modules/preprocessing.html\n",
            "\n"
          ]
        },
        {
          "output_type": "stream",
          "name": "stdout",
          "text": [
            "84 - SectionalMotif with avg smape 6.64: \n",
            "Model Number: 85 of 179 with model AverageValueNaive for Validation 1\n",
            "85 - AverageValueNaive with avg smape 2.7: \n",
            "Model Number: 86 of 179 with model DatepartRegression for Validation 1\n",
            "86 - DatepartRegression with avg smape 16.63: \n",
            "Model Number: 87 of 179 with model UnobservedComponents for Validation 1\n",
            "87 - UnobservedComponents with avg smape 4.33: \n",
            "Model Number: 88 of 179 with model LastValueNaive for Validation 1\n",
            "88 - LastValueNaive with avg smape 2.62: \n",
            "Model Number: 89 of 179 with model LastValueNaive for Validation 1\n",
            "89 - LastValueNaive with avg smape 2.62: \n",
            "Model Number: 90 of 179 with model LastValueNaive for Validation 1\n",
            "90 - LastValueNaive with avg smape 2.62: \n",
            "Model Number: 91 of 179 with model AverageValueNaive for Validation 1\n",
            "91 - AverageValueNaive with avg smape 2.7: \n",
            "Model Number: 92 of 179 with model MultivariateRegression for Validation 1\n"
          ]
        },
        {
          "output_type": "stream",
          "name": "stderr",
          "text": [
            "[Parallel(n_jobs=-2)]: Using backend SequentialBackend with 1 concurrent workers.\n",
            "[Parallel(n_jobs=-2)]: Done 200 out of 200 | elapsed:    0.4s finished\n",
            "[Parallel(n_jobs=1)]: Using backend SequentialBackend with 1 concurrent workers.\n",
            "[Parallel(n_jobs=1)]: Done 200 out of 200 | elapsed:    0.0s finished\n",
            "[Parallel(n_jobs=1)]: Using backend SequentialBackend with 1 concurrent workers.\n",
            "[Parallel(n_jobs=1)]: Done 200 out of 200 | elapsed:    0.0s finished\n",
            "[Parallel(n_jobs=1)]: Using backend SequentialBackend with 1 concurrent workers.\n",
            "[Parallel(n_jobs=1)]: Done 200 out of 200 | elapsed:    0.0s finished\n",
            "[Parallel(n_jobs=1)]: Using backend SequentialBackend with 1 concurrent workers.\n",
            "[Parallel(n_jobs=1)]: Done 200 out of 200 | elapsed:    0.0s finished\n",
            "[Parallel(n_jobs=1)]: Using backend SequentialBackend with 1 concurrent workers.\n",
            "[Parallel(n_jobs=1)]: Done 200 out of 200 | elapsed:    0.0s finished\n",
            "[Parallel(n_jobs=1)]: Using backend SequentialBackend with 1 concurrent workers.\n",
            "[Parallel(n_jobs=1)]: Done 200 out of 200 | elapsed:    0.0s finished\n",
            "[Parallel(n_jobs=1)]: Using backend SequentialBackend with 1 concurrent workers.\n",
            "[Parallel(n_jobs=1)]: Done 200 out of 200 | elapsed:    0.0s finished\n",
            "[Parallel(n_jobs=1)]: Using backend SequentialBackend with 1 concurrent workers.\n",
            "[Parallel(n_jobs=1)]: Done 200 out of 200 | elapsed:    0.0s finished\n",
            "[Parallel(n_jobs=1)]: Using backend SequentialBackend with 1 concurrent workers.\n",
            "[Parallel(n_jobs=1)]: Done 200 out of 200 | elapsed:    0.0s finished\n",
            "[Parallel(n_jobs=1)]: Using backend SequentialBackend with 1 concurrent workers.\n",
            "[Parallel(n_jobs=1)]: Done 200 out of 200 | elapsed:    0.0s finished\n"
          ]
        },
        {
          "output_type": "stream",
          "name": "stdout",
          "text": [
            "92 - MultivariateRegression with avg smape 1.42: \n",
            "Model Number: 93 of 179 with model LastValueNaive for Validation 1\n",
            "93 - LastValueNaive with avg smape 3.36: \n",
            "Model Number: 94 of 179 with model LastValueNaive for Validation 1\n",
            "94 - LastValueNaive with avg smape 1.29: \n",
            "Model Number: 95 of 179 with model LastValueNaive for Validation 1\n",
            "95 - LastValueNaive with avg smape 1.29: \n",
            "Model Number: 96 of 179 with model LastValueNaive for Validation 1\n",
            "96 - LastValueNaive with avg smape 1.29: \n",
            "Model Number: 97 of 179 with model MultivariateRegression for Validation 1\n",
            "97 - MultivariateRegression with avg smape 1.33: \n",
            "Model Number: 98 of 179 with model UnivariateMotif for Validation 1\n",
            "98 - UnivariateMotif with avg smape 8.23: \n",
            "Model Number: 99 of 179 with model SectionalMotif for Validation 1\n",
            "99 - SectionalMotif with avg smape 9.11: \n",
            "Model Number: 100 of 179 with model SectionalMotif for Validation 1\n",
            "100 - SectionalMotif with avg smape 9.11: \n",
            "Model Number: 101 of 179 with model SectionalMotif for Validation 1\n",
            "101 - SectionalMotif with avg smape 9.11: \n",
            "Model Number: 102 of 179 with model SectionalMotif for Validation 1\n",
            "102 - SectionalMotif with avg smape 9.11: \n",
            "Model Number: 103 of 179 with model SectionalMotif for Validation 1\n",
            "103 - SectionalMotif with avg smape 9.11: \n",
            "Model Number: 104 of 179 with model UnivariateMotif for Validation 1\n",
            "104 - UnivariateMotif with avg smape 7.6: \n",
            "Model Number: 105 of 179 with model ConstantNaive for Validation 1\n",
            "105 - ConstantNaive with avg smape 9.88: \n",
            "Model Number: 106 of 179 with model AverageValueNaive for Validation 1\n",
            "106 - AverageValueNaive with avg smape 1.1: \n",
            "Model Number: 107 of 179 with model ETS for Validation 1\n",
            "107 - ETS with avg smape 2.62: \n",
            "Model Number: 108 of 179 with model SectionalMotif for Validation 1\n",
            "108 - SectionalMotif with avg smape 4.28: \n",
            "Model Number: 109 of 179 with model WindowRegression for Validation 1\n",
            "109 - WindowRegression with avg smape 10.34: \n",
            "Model Number: 110 of 179 with model ETS for Validation 1\n",
            "110 - ETS with avg smape 2.94: \n",
            "Model Number: 111 of 179 with model ETS for Validation 1\n",
            "111 - ETS with avg smape 2.94: \n",
            "Model Number: 112 of 179 with model MultivariateRegression for Validation 1\n",
            "112 - MultivariateRegression with avg smape 1.94: \n",
            "Model Number: 113 of 179 with model ETS for Validation 1\n",
            "113 - ETS with avg smape 1.28: \n",
            "Model Number: 114 of 179 with model ETS for Validation 1\n",
            "114 - ETS with avg smape 2.12: \n",
            "Model Number: 115 of 179 with model ETS for Validation 1\n"
          ]
        },
        {
          "output_type": "stream",
          "name": "stderr",
          "text": [
            "INFO:prophet:Disabling yearly seasonality. Run prophet with yearly_seasonality=True to override this.\n",
            "INFO:prophet:Disabling daily seasonality. Run prophet with daily_seasonality=True to override this.\n"
          ]
        },
        {
          "output_type": "stream",
          "name": "stdout",
          "text": [
            "115 - ETS with avg smape 1.29: \n",
            "Model Number: 116 of 179 with model FBProphet for Validation 1\n"
          ]
        },
        {
          "output_type": "stream",
          "name": "stderr",
          "text": [
            "DEBUG:cmdstanpy:input tempfile: /tmp/tmp09dakauk/q7azho1p.json\n",
            "DEBUG:cmdstanpy:input tempfile: /tmp/tmp09dakauk/odwx8jqs.json\n",
            "DEBUG:cmdstanpy:idx 0\n",
            "DEBUG:cmdstanpy:running CmdStan, num_threads: None\n",
            "DEBUG:cmdstanpy:CmdStan args: ['/usr/local/lib/python3.8/dist-packages/prophet/stan_model/prophet_model.bin', 'random', 'seed=59754', 'data', 'file=/tmp/tmp09dakauk/q7azho1p.json', 'init=/tmp/tmp09dakauk/odwx8jqs.json', 'output', 'file=/tmp/tmp09dakauk/prophet_model1649haeq/prophet_model-20230216095048.csv', 'method=optimize', 'algorithm=lbfgs', 'iter=10000']\n",
            "09:50:48 - cmdstanpy - INFO - Chain [1] start processing\n",
            "INFO:cmdstanpy:Chain [1] start processing\n",
            "09:50:48 - cmdstanpy - INFO - Chain [1] done processing\n",
            "INFO:cmdstanpy:Chain [1] done processing\n"
          ]
        },
        {
          "output_type": "stream",
          "name": "stdout",
          "text": [
            "116 - FBProphet with avg smape 1.55: \n",
            "Model Number: 117 of 179 with model MultivariateMotif for Validation 1\n",
            "117 - MultivariateMotif with avg smape 2.28: \n",
            "Model Number: 118 of 179 with model WindowRegression for Validation 1\n",
            "118 - WindowRegression with avg smape 5.56: \n",
            "Model Number: 119 of 179 with model AverageValueNaive for Validation 1\n",
            "119 - AverageValueNaive with avg smape 1.16: \n",
            "Model Number: 120 of 179 with model AverageValueNaive for Validation 1\n",
            "120 - AverageValueNaive with avg smape 1.15: \n",
            "Model Number: 121 of 179 with model AverageValueNaive for Validation 1\n"
          ]
        },
        {
          "output_type": "stream",
          "name": "stderr",
          "text": [
            "INFO:prophet:Disabling yearly seasonality. Run prophet with yearly_seasonality=True to override this.\n",
            "INFO:prophet:Disabling daily seasonality. Run prophet with daily_seasonality=True to override this.\n",
            "DEBUG:cmdstanpy:input tempfile: /tmp/tmp09dakauk/sluhbhgs.json\n"
          ]
        },
        {
          "output_type": "stream",
          "name": "stdout",
          "text": [
            "121 - AverageValueNaive with avg smape 1.11: \n",
            "Model Number: 122 of 179 with model FBProphet for Validation 1\n"
          ]
        },
        {
          "output_type": "stream",
          "name": "stderr",
          "text": [
            "DEBUG:cmdstanpy:input tempfile: /tmp/tmp09dakauk/pp674ghe.json\n",
            "DEBUG:cmdstanpy:idx 0\n",
            "DEBUG:cmdstanpy:running CmdStan, num_threads: None\n",
            "DEBUG:cmdstanpy:CmdStan args: ['/usr/local/lib/python3.8/dist-packages/prophet/stan_model/prophet_model.bin', 'random', 'seed=22', 'data', 'file=/tmp/tmp09dakauk/sluhbhgs.json', 'init=/tmp/tmp09dakauk/pp674ghe.json', 'output', 'file=/tmp/tmp09dakauk/prophet_modelxo4rgoul/prophet_model-20230216095052.csv', 'method=optimize', 'algorithm=lbfgs', 'iter=10000']\n",
            "09:50:52 - cmdstanpy - INFO - Chain [1] start processing\n",
            "INFO:cmdstanpy:Chain [1] start processing\n",
            "09:50:52 - cmdstanpy - INFO - Chain [1] done processing\n",
            "INFO:cmdstanpy:Chain [1] done processing\n"
          ]
        },
        {
          "output_type": "stream",
          "name": "stdout",
          "text": [
            "122 - FBProphet with avg smape 1.34: \n",
            "Model Number: 123 of 179 with model MultivariateMotif for Validation 1\n",
            "123 - MultivariateMotif with avg smape 30.86: \n",
            "Model Number: 124 of 179 with model MultivariateMotif for Validation 1\n",
            "124 - MultivariateMotif with avg smape 30.86: \n",
            "Model Number: 125 of 179 with model UnivariateMotif for Validation 1\n",
            "125 - UnivariateMotif with avg smape 1.53: \n",
            "Model Number: 126 of 179 with model MultivariateRegression for Validation 1\n"
          ]
        },
        {
          "output_type": "stream",
          "name": "stderr",
          "text": [
            "[Parallel(n_jobs=-2)]: Using backend SequentialBackend with 1 concurrent workers.\n",
            "[Parallel(n_jobs=-2)]: Done 200 out of 200 | elapsed:    0.3s finished\n",
            "[Parallel(n_jobs=1)]: Using backend SequentialBackend with 1 concurrent workers.\n",
            "[Parallel(n_jobs=1)]: Done 200 out of 200 | elapsed:    0.0s finished\n",
            "[Parallel(n_jobs=1)]: Using backend SequentialBackend with 1 concurrent workers.\n",
            "[Parallel(n_jobs=1)]: Done 200 out of 200 | elapsed:    0.0s finished\n",
            "[Parallel(n_jobs=1)]: Using backend SequentialBackend with 1 concurrent workers.\n",
            "[Parallel(n_jobs=1)]: Done 200 out of 200 | elapsed:    0.0s finished\n",
            "[Parallel(n_jobs=1)]: Using backend SequentialBackend with 1 concurrent workers.\n",
            "[Parallel(n_jobs=1)]: Done 200 out of 200 | elapsed:    0.0s finished\n",
            "[Parallel(n_jobs=1)]: Using backend SequentialBackend with 1 concurrent workers.\n",
            "[Parallel(n_jobs=1)]: Done 200 out of 200 | elapsed:    0.0s finished\n",
            "[Parallel(n_jobs=1)]: Using backend SequentialBackend with 1 concurrent workers.\n",
            "[Parallel(n_jobs=1)]: Done 200 out of 200 | elapsed:    0.0s finished\n",
            "[Parallel(n_jobs=1)]: Using backend SequentialBackend with 1 concurrent workers.\n",
            "[Parallel(n_jobs=1)]: Done 200 out of 200 | elapsed:    0.0s finished\n",
            "[Parallel(n_jobs=1)]: Using backend SequentialBackend with 1 concurrent workers.\n"
          ]
        },
        {
          "output_type": "stream",
          "name": "stdout",
          "text": [
            "126 - MultivariateRegression with avg smape 1.63: \n",
            "Model Number: 127 of 179 with model UnivariateMotif for Validation 1\n"
          ]
        },
        {
          "output_type": "stream",
          "name": "stderr",
          "text": [
            "[Parallel(n_jobs=1)]: Done 200 out of 200 | elapsed:    0.0s finished\n",
            "[Parallel(n_jobs=1)]: Using backend SequentialBackend with 1 concurrent workers.\n",
            "[Parallel(n_jobs=1)]: Done 200 out of 200 | elapsed:    0.0s finished\n",
            "[Parallel(n_jobs=1)]: Using backend SequentialBackend with 1 concurrent workers.\n",
            "[Parallel(n_jobs=1)]: Done 200 out of 200 | elapsed:    0.0s finished\n"
          ]
        },
        {
          "output_type": "stream",
          "name": "stdout",
          "text": [
            "127 - UnivariateMotif with avg smape 9.69: \n",
            "Model Number: 128 of 179 with model UnivariateMotif for Validation 1\n",
            "128 - UnivariateMotif with avg smape 9.69: \n",
            "Model Number: 129 of 179 with model WindowRegression for Validation 1\n"
          ]
        },
        {
          "output_type": "stream",
          "name": "stderr",
          "text": [
            "/usr/local/lib/python3.8/dist-packages/sklearn/neural_network/_multilayer_perceptron.py:549: ConvergenceWarning:\n",
            "\n",
            "lbfgs failed to converge (status=1):\n",
            "STOP: TOTAL NO. of ITERATIONS REACHED LIMIT.\n",
            "\n",
            "Increase the number of iterations (max_iter) or scale the data as shown in:\n",
            "    https://scikit-learn.org/stable/modules/preprocessing.html\n",
            "\n"
          ]
        },
        {
          "output_type": "stream",
          "name": "stdout",
          "text": [
            "129 - WindowRegression with avg smape 34.02: \n",
            "Model Number: 130 of 179 with model WindowRegression for Validation 1\n"
          ]
        },
        {
          "output_type": "stream",
          "name": "stderr",
          "text": [
            "/usr/local/lib/python3.8/dist-packages/sklearn/neural_network/_multilayer_perceptron.py:549: ConvergenceWarning:\n",
            "\n",
            "lbfgs failed to converge (status=1):\n",
            "STOP: TOTAL NO. of ITERATIONS REACHED LIMIT.\n",
            "\n",
            "Increase the number of iterations (max_iter) or scale the data as shown in:\n",
            "    https://scikit-learn.org/stable/modules/preprocessing.html\n",
            "\n"
          ]
        },
        {
          "output_type": "stream",
          "name": "stdout",
          "text": [
            "130 - WindowRegression with avg smape 1.19: \n",
            "Model Number: 131 of 179 with model WindowRegression for Validation 1\n",
            "131 - WindowRegression with avg smape 1.19: \n",
            "Model Number: 132 of 179 with model AverageValueNaive for Validation 1\n",
            "132 - AverageValueNaive with avg smape 1.57: \n",
            "Model Number: 133 of 179 with model AverageValueNaive for Validation 1\n"
          ]
        },
        {
          "output_type": "stream",
          "name": "stderr",
          "text": [
            "/usr/local/lib/python3.8/dist-packages/sklearn/neural_network/_multilayer_perceptron.py:549: ConvergenceWarning:\n",
            "\n",
            "lbfgs failed to converge (status=1):\n",
            "STOP: TOTAL NO. of ITERATIONS REACHED LIMIT.\n",
            "\n",
            "Increase the number of iterations (max_iter) or scale the data as shown in:\n",
            "    https://scikit-learn.org/stable/modules/preprocessing.html\n",
            "\n"
          ]
        },
        {
          "output_type": "stream",
          "name": "stdout",
          "text": [
            "133 - AverageValueNaive with avg smape 1.55: \n",
            "Model Number: 134 of 179 with model MultivariateRegression for Validation 1\n",
            "134 - MultivariateRegression with avg smape 1.64: \n",
            "Model Number: 135 of 179 with model MultivariateMotif for Validation 1\n",
            "135 - MultivariateMotif with avg smape 17.3: \n",
            "Model Number: 136 of 179 with model MultivariateMotif for Validation 1\n",
            "136 - MultivariateMotif with avg smape 23.53: \n",
            "Model Number: 137 of 179 with model MultivariateMotif for Validation 1\n",
            "137 - MultivariateMotif with avg smape 23.53: \n",
            "Model Number: 138 of 179 with model MultivariateMotif for Validation 1\n",
            "138 - MultivariateMotif with avg smape 23.53: \n",
            "Model Number: 139 of 179 with model MultivariateRegression for Validation 1\n",
            "139 - MultivariateRegression with avg smape 1.94: \n",
            "Model Number: 140 of 179 with model MultivariateMotif for Validation 1\n"
          ]
        },
        {
          "output_type": "stream",
          "name": "stderr",
          "text": [
            "INFO:prophet:Disabling yearly seasonality. Run prophet with yearly_seasonality=True to override this.\n",
            "INFO:prophet:Disabling daily seasonality. Run prophet with daily_seasonality=True to override this.\n",
            "DEBUG:cmdstanpy:input tempfile: /tmp/tmp09dakauk/00panb67.json\n",
            "DEBUG:cmdstanpy:input tempfile: /tmp/tmp09dakauk/kmnoja72.json\n",
            "DEBUG:cmdstanpy:idx 0\n",
            "DEBUG:cmdstanpy:running CmdStan, num_threads: None\n",
            "DEBUG:cmdstanpy:CmdStan args: ['/usr/local/lib/python3.8/dist-packages/prophet/stan_model/prophet_model.bin', 'random', 'seed=95461', 'data', 'file=/tmp/tmp09dakauk/00panb67.json', 'init=/tmp/tmp09dakauk/kmnoja72.json', 'output', 'file=/tmp/tmp09dakauk/prophet_modelp56j4qs4/prophet_model-20230216095057.csv', 'method=optimize', 'algorithm=newton', 'iter=10000']\n",
            "09:50:57 - cmdstanpy - INFO - Chain [1] start processing\n",
            "INFO:cmdstanpy:Chain [1] start processing\n"
          ]
        },
        {
          "output_type": "stream",
          "name": "stdout",
          "text": [
            "140 - MultivariateMotif with avg smape 15.65: \n",
            "Model Number: 141 of 179 with model FBProphet for Validation 1\n"
          ]
        },
        {
          "output_type": "stream",
          "name": "stderr",
          "text": [
            "09:50:58 - cmdstanpy - INFO - Chain [1] done processing\n",
            "INFO:cmdstanpy:Chain [1] done processing\n",
            "INFO:prophet:Disabling yearly seasonality. Run prophet with yearly_seasonality=True to override this.\n",
            "INFO:prophet:Disabling daily seasonality. Run prophet with daily_seasonality=True to override this.\n",
            "DEBUG:cmdstanpy:input tempfile: /tmp/tmp09dakauk/zw7nzj7w.json\n",
            "DEBUG:cmdstanpy:input tempfile: /tmp/tmp09dakauk/5_iflh0f.json\n",
            "DEBUG:cmdstanpy:idx 0\n",
            "DEBUG:cmdstanpy:running CmdStan, num_threads: None\n",
            "DEBUG:cmdstanpy:CmdStan args: ['/usr/local/lib/python3.8/dist-packages/prophet/stan_model/prophet_model.bin', 'random', 'seed=32613', 'data', 'file=/tmp/tmp09dakauk/zw7nzj7w.json', 'init=/tmp/tmp09dakauk/5_iflh0f.json', 'output', 'file=/tmp/tmp09dakauk/prophet_model9yykq9mm/prophet_model-20230216095058.csv', 'method=optimize', 'algorithm=newton', 'iter=10000']\n",
            "09:50:58 - cmdstanpy - INFO - Chain [1] start processing\n",
            "INFO:cmdstanpy:Chain [1] start processing\n"
          ]
        },
        {
          "output_type": "stream",
          "name": "stdout",
          "text": [
            "141 - FBProphet with avg smape 2.89: \n",
            "Model Number: 142 of 179 with model FBProphet for Validation 1\n"
          ]
        },
        {
          "output_type": "stream",
          "name": "stderr",
          "text": [
            "09:50:58 - cmdstanpy - INFO - Chain [1] done processing\n",
            "INFO:cmdstanpy:Chain [1] done processing\n"
          ]
        },
        {
          "output_type": "stream",
          "name": "stdout",
          "text": [
            "142 - FBProphet with avg smape 2.89: \n",
            "Model Number: 143 of 179 with model ConstantNaive for Validation 1\n",
            "143 - ConstantNaive with avg smape 8.81: \n",
            "Model Number: 144 of 179 with model MultivariateMotif for Validation 1\n",
            "144 - MultivariateMotif with avg smape 16.88: \n",
            "Model Number: 145 of 179 with model UnivariateMotif for Validation 1\n",
            "145 - UnivariateMotif with avg smape 9.7: \n",
            "Model Number: 146 of 179 with model GLS for Validation 1\n",
            "146 - GLS with avg smape 1.5: \n",
            "Model Number: 147 of 179 with model GLM for Validation 1\n"
          ]
        },
        {
          "output_type": "stream",
          "name": "stderr",
          "text": [
            "INFO:prophet:Disabling yearly seasonality. Run prophet with yearly_seasonality=True to override this.\n",
            "INFO:prophet:Disabling daily seasonality. Run prophet with daily_seasonality=True to override this.\n",
            "DEBUG:cmdstanpy:input tempfile: /tmp/tmp09dakauk/upakv6n0.json\n",
            "DEBUG:cmdstanpy:input tempfile: /tmp/tmp09dakauk/fdcn1qpk.json\n",
            "DEBUG:cmdstanpy:idx 0\n",
            "DEBUG:cmdstanpy:running CmdStan, num_threads: None\n",
            "DEBUG:cmdstanpy:CmdStan args: ['/usr/local/lib/python3.8/dist-packages/prophet/stan_model/prophet_model.bin', 'random', 'seed=18080', 'data', 'file=/tmp/tmp09dakauk/upakv6n0.json', 'init=/tmp/tmp09dakauk/fdcn1qpk.json', 'output', 'file=/tmp/tmp09dakauk/prophet_modeltbxc2jjt/prophet_model-20230216095059.csv', 'method=optimize', 'algorithm=lbfgs', 'iter=10000']\n",
            "09:50:59 - cmdstanpy - INFO - Chain [1] start processing\n",
            "INFO:cmdstanpy:Chain [1] start processing\n"
          ]
        },
        {
          "output_type": "stream",
          "name": "stdout",
          "text": [
            "147 - GLM with avg smape 16.42: \n",
            "Model Number: 148 of 179 with model FBProphet for Validation 1\n"
          ]
        },
        {
          "output_type": "stream",
          "name": "stderr",
          "text": [
            "09:51:00 - cmdstanpy - INFO - Chain [1] done processing\n",
            "INFO:cmdstanpy:Chain [1] done processing\n"
          ]
        },
        {
          "output_type": "stream",
          "name": "stdout",
          "text": [
            "148 - FBProphet with avg smape 1.45: \n",
            "Model Number: 149 of 179 with model GLS for Validation 1\n",
            "149 - GLS with avg smape 1.29: \n",
            "Model Number: 150 of 179 with model UnivariateMotif for Validation 1\n",
            "150 - UnivariateMotif with avg smape 6.46: \n",
            "Model Number: 151 of 179 with model UnivariateMotif for Validation 1\n"
          ]
        },
        {
          "output_type": "stream",
          "name": "stderr",
          "text": [
            "INFO:prophet:Disabling yearly seasonality. Run prophet with yearly_seasonality=True to override this.\n"
          ]
        },
        {
          "output_type": "stream",
          "name": "stdout",
          "text": [
            "151 - UnivariateMotif with avg smape 10.84: \n",
            "Model Number: 152 of 179 with model FBProphet for Validation 1\n"
          ]
        },
        {
          "output_type": "stream",
          "name": "stderr",
          "text": [
            "INFO:prophet:Disabling daily seasonality. Run prophet with daily_seasonality=True to override this.\n",
            "DEBUG:cmdstanpy:input tempfile: /tmp/tmp09dakauk/0vlf1gw9.json\n",
            "DEBUG:cmdstanpy:input tempfile: /tmp/tmp09dakauk/nqm6og0q.json\n",
            "DEBUG:cmdstanpy:idx 0\n",
            "DEBUG:cmdstanpy:running CmdStan, num_threads: None\n",
            "DEBUG:cmdstanpy:CmdStan args: ['/usr/local/lib/python3.8/dist-packages/prophet/stan_model/prophet_model.bin', 'random', 'seed=91782', 'data', 'file=/tmp/tmp09dakauk/0vlf1gw9.json', 'init=/tmp/tmp09dakauk/nqm6og0q.json', 'output', 'file=/tmp/tmp09dakauk/prophet_modelvo935rug/prophet_model-20230216095101.csv', 'method=optimize', 'algorithm=newton', 'iter=10000']\n",
            "09:51:01 - cmdstanpy - INFO - Chain [1] start processing\n",
            "INFO:cmdstanpy:Chain [1] start processing\n",
            "09:51:01 - cmdstanpy - INFO - Chain [1] done processing\n",
            "INFO:cmdstanpy:Chain [1] done processing\n"
          ]
        },
        {
          "output_type": "stream",
          "name": "stdout",
          "text": [
            "152 - FBProphet with avg smape 7.6: \n",
            "Model Number: 153 of 179 with model UnivariateMotif for Validation 1\n"
          ]
        },
        {
          "output_type": "stream",
          "name": "stderr",
          "text": [
            "INFO:prophet:Disabling yearly seasonality. Run prophet with yearly_seasonality=True to override this.\n",
            "INFO:prophet:Disabling daily seasonality. Run prophet with daily_seasonality=True to override this.\n"
          ]
        },
        {
          "output_type": "stream",
          "name": "stdout",
          "text": [
            "153 - UnivariateMotif with avg smape 24.66: \n",
            "Model Number: 154 of 179 with model FBProphet for Validation 1\n"
          ]
        },
        {
          "output_type": "stream",
          "name": "stderr",
          "text": [
            "DEBUG:cmdstanpy:input tempfile: /tmp/tmp09dakauk/ry3k_moz.json\n",
            "DEBUG:cmdstanpy:input tempfile: /tmp/tmp09dakauk/37qt9uq2.json\n",
            "DEBUG:cmdstanpy:idx 0\n",
            "DEBUG:cmdstanpy:running CmdStan, num_threads: None\n",
            "DEBUG:cmdstanpy:CmdStan args: ['/usr/local/lib/python3.8/dist-packages/prophet/stan_model/prophet_model.bin', 'random', 'seed=52386', 'data', 'file=/tmp/tmp09dakauk/ry3k_moz.json', 'init=/tmp/tmp09dakauk/37qt9uq2.json', 'output', 'file=/tmp/tmp09dakauk/prophet_modelqcj596yz/prophet_model-20230216095102.csv', 'method=optimize', 'algorithm=lbfgs', 'iter=10000']\n",
            "09:51:02 - cmdstanpy - INFO - Chain [1] start processing\n",
            "INFO:cmdstanpy:Chain [1] start processing\n",
            "09:51:02 - cmdstanpy - INFO - Chain [1] done processing\n",
            "INFO:cmdstanpy:Chain [1] done processing\n",
            "INFO:prophet:Disabling yearly seasonality. Run prophet with yearly_seasonality=True to override this.\n",
            "INFO:prophet:Disabling daily seasonality. Run prophet with daily_seasonality=True to override this.\n",
            "DEBUG:cmdstanpy:input tempfile: /tmp/tmp09dakauk/76o0hx12.json\n",
            "DEBUG:cmdstanpy:input tempfile: /tmp/tmp09dakauk/oakth6ag.json\n",
            "DEBUG:cmdstanpy:idx 0\n",
            "DEBUG:cmdstanpy:running CmdStan, num_threads: None\n",
            "DEBUG:cmdstanpy:CmdStan args: ['/usr/local/lib/python3.8/dist-packages/prophet/stan_model/prophet_model.bin', 'random', 'seed=24328', 'data', 'file=/tmp/tmp09dakauk/76o0hx12.json', 'init=/tmp/tmp09dakauk/oakth6ag.json', 'output', 'file=/tmp/tmp09dakauk/prophet_model0voe4f2w/prophet_model-20230216095102.csv', 'method=optimize', 'algorithm=newton', 'iter=10000']\n",
            "09:51:02 - cmdstanpy - INFO - Chain [1] start processing\n",
            "INFO:cmdstanpy:Chain [1] start processing\n"
          ]
        },
        {
          "output_type": "stream",
          "name": "stdout",
          "text": [
            "154 - FBProphet with avg smape 1.16: \n",
            "Model Number: 155 of 179 with model FBProphet for Validation 1\n"
          ]
        },
        {
          "output_type": "stream",
          "name": "stderr",
          "text": [
            "09:51:02 - cmdstanpy - INFO - Chain [1] done processing\n",
            "INFO:cmdstanpy:Chain [1] done processing\n"
          ]
        },
        {
          "output_type": "stream",
          "name": "stdout",
          "text": [
            "155 - FBProphet with avg smape 2.13: \n",
            "Model Number: 156 of 179 with model GLS for Validation 1\n",
            "156 - GLS with avg smape 1.15: \n",
            "Model Number: 157 of 179 with model GLS for Validation 1\n"
          ]
        },
        {
          "output_type": "stream",
          "name": "stderr",
          "text": [
            "INFO:prophet:Disabling yearly seasonality. Run prophet with yearly_seasonality=True to override this.\n",
            "INFO:prophet:Disabling daily seasonality. Run prophet with daily_seasonality=True to override this.\n",
            "DEBUG:cmdstanpy:input tempfile: /tmp/tmp09dakauk/nuxtw3re.json\n"
          ]
        },
        {
          "output_type": "stream",
          "name": "stdout",
          "text": [
            "157 - GLS with avg smape 1.14: \n",
            "Model Number: 158 of 179 with model FBProphet for Validation 1\n"
          ]
        },
        {
          "output_type": "stream",
          "name": "stderr",
          "text": [
            "DEBUG:cmdstanpy:input tempfile: /tmp/tmp09dakauk/0fhk365z.json\n",
            "DEBUG:cmdstanpy:idx 0\n",
            "DEBUG:cmdstanpy:running CmdStan, num_threads: None\n",
            "DEBUG:cmdstanpy:CmdStan args: ['/usr/local/lib/python3.8/dist-packages/prophet/stan_model/prophet_model.bin', 'random', 'seed=71314', 'data', 'file=/tmp/tmp09dakauk/nuxtw3re.json', 'init=/tmp/tmp09dakauk/0fhk365z.json', 'output', 'file=/tmp/tmp09dakauk/prophet_model219jow6w/prophet_model-20230216095103.csv', 'method=optimize', 'algorithm=lbfgs', 'iter=10000']\n",
            "09:51:03 - cmdstanpy - INFO - Chain [1] start processing\n",
            "INFO:cmdstanpy:Chain [1] start processing\n",
            "09:51:03 - cmdstanpy - INFO - Chain [1] done processing\n",
            "INFO:cmdstanpy:Chain [1] done processing\n"
          ]
        },
        {
          "output_type": "stream",
          "name": "stdout",
          "text": [
            "158 - FBProphet with avg smape 5.15: \n",
            "Model Number: 159 of 179 with model GLM for Validation 1\n",
            "Template Eval Error: ValueError('The first guess on the deviance function returned a nan.  This could be a boundary  problem and should be reported.') in model 159: GLM\n",
            "Model Number: 160 of 179 with model GLS for Validation 1\n"
          ]
        },
        {
          "output_type": "stream",
          "name": "stderr",
          "text": [
            "/usr/local/lib/python3.8/dist-packages/statsmodels/genmod/families/family.py:1231: RuntimeWarning:\n",
            "\n",
            "invalid value encountered in log\n",
            "\n"
          ]
        },
        {
          "output_type": "stream",
          "name": "stdout",
          "text": [
            "160 - GLS with avg smape 1.24: \n",
            "Model Number: 161 of 179 with model ConstantNaive for Validation 1\n",
            "161 - ConstantNaive with avg smape 8.81: \n",
            "Model Number: 162 of 179 with model GLS for Validation 1\n",
            "162 - GLS with avg smape 1.83: \n",
            "Model Number: 163 of 179 with model ConstantNaive for Validation 1\n",
            "163 - ConstantNaive with avg smape 6.3: \n",
            "Model Number: 164 of 179 with model GLS for Validation 1\n",
            "164 - GLS with avg smape 1.74: \n",
            "Model Number: 165 of 179 with model GLS for Validation 1\n",
            "165 - GLS with avg smape 1.74: \n",
            "Model Number: 166 of 179 with model GLS for Validation 1\n",
            "166 - GLS with avg smape 2.37: \n",
            "Model Number: 167 of 179 with model GLM for Validation 1\n",
            "167 - GLM with avg smape 15.71: \n",
            "Model Number: 168 of 179 with model GLM for Validation 1\n",
            "168 - GLM with avg smape 5.45: \n",
            "Model Number: 169 of 179 with model ConstantNaive for Validation 1\n",
            "169 - ConstantNaive with avg smape 11.54: \n",
            "Model Number: 170 of 179 with model ConstantNaive for Validation 1\n",
            "170 - ConstantNaive with avg smape 1.19: \n",
            "Model Number: 171 of 179 with model ConstantNaive for Validation 1\n",
            "171 - ConstantNaive with avg smape 3.37: \n",
            "Model Number: 172 of 179 with model ConstantNaive for Validation 1\n",
            "172 - ConstantNaive with avg smape 3.37: \n",
            "Model Number: 173 of 179 with model GLM for Validation 1\n",
            "173 - GLM with avg smape 10.89: \n",
            "Model Number: 174 of 179 with model ConstantNaive for Validation 1\n",
            "174 - ConstantNaive with avg smape 6.53: \n",
            "Model Number: 175 of 179 with model GLM for Validation 1\n",
            "175 - GLM with avg smape 16.35: \n",
            "Model Number: 176 of 179 with model GLM for Validation 1\n"
          ]
        },
        {
          "output_type": "stream",
          "name": "stderr",
          "text": [
            "/usr/local/lib/python3.8/dist-packages/statsmodels/genmod/families/links.py:188: RuntimeWarning:\n",
            "\n",
            "overflow encountered in exp\n",
            "\n",
            "/usr/local/lib/python3.8/dist-packages/statsmodels/genmod/families/links.py:188: RuntimeWarning:\n",
            "\n",
            "overflow encountered in exp\n",
            "\n"
          ]
        },
        {
          "output_type": "stream",
          "name": "stdout",
          "text": [
            "176 - GLM with avg smape 16.35: \n",
            "Model Number: 177 of 179 with model GLM for Validation 1\n",
            "177 - GLM with avg smape 19.29: \n",
            "Model Number: 178 of 179 with model GLM for Validation 1\n",
            "178 - GLM with avg smape 19.29: \n",
            "Model Number: 179 of 179 with model Ensemble for Validation 1\n",
            "HolidayTransformer: no anomalies detected.\n"
          ]
        },
        {
          "output_type": "stream",
          "name": "stderr",
          "text": [
            "/usr/local/lib/python3.8/dist-packages/sklearn/preprocessing/_data.py:3253: RuntimeWarning:\n",
            "\n",
            "divide by zero encountered in log\n",
            "\n",
            "/usr/local/lib/python3.8/dist-packages/autots/tools/probabilistic.py:67: RuntimeWarning:\n",
            "\n",
            "invalid value encountered in true_divide\n",
            "\n",
            "/usr/local/lib/python3.8/dist-packages/autots/tools/probabilistic.py:68: RuntimeWarning:\n",
            "\n",
            "divide by zero encountered in true_divide\n",
            "\n",
            "/usr/local/lib/python3.8/dist-packages/sklearn/preprocessing/_data.py:3196: RuntimeWarning:\n",
            "\n",
            "divide by zero encountered in power\n",
            "\n",
            "/usr/local/lib/python3.8/dist-packages/sklearn/preprocessing/_data.py:3196: RuntimeWarning:\n",
            "\n",
            "divide by zero encountered in power\n",
            "\n",
            "/usr/local/lib/python3.8/dist-packages/sklearn/preprocessing/_data.py:3196: RuntimeWarning:\n",
            "\n",
            "divide by zero encountered in power\n",
            "\n",
            "/usr/local/lib/python3.8/dist-packages/sklearn/linear_model/_ridge.py:157: LinAlgWarning:\n",
            "\n",
            "Ill-conditioned matrix (rcond=8.3253e-25): result may not be accurate.\n",
            "\n"
          ]
        },
        {
          "output_type": "stream",
          "name": "stdout",
          "text": [
            "179 - Ensemble with avg smape nan: \n",
            "Validation Round: 2\n",
            "Model Number: 1 of 179 with model Ensemble for Validation 2\n"
          ]
        },
        {
          "output_type": "stream",
          "name": "stderr",
          "text": [
            "/usr/local/lib/python3.8/dist-packages/sklearn/linear_model/_ridge.py:157: LinAlgWarning:\n",
            "\n",
            "Ill-conditioned matrix (rcond=8.90724e-25): result may not be accurate.\n",
            "\n"
          ]
        },
        {
          "output_type": "stream",
          "name": "stdout",
          "text": [
            "HolidayTransformer: no anomalies detected.\n",
            "📈 1 - Ensemble with avg smape 11.01: \n",
            "Model Number: 2 of 179 with model Ensemble for Validation 2\n",
            "2 - Ensemble with avg smape 18.2: \n",
            "Model Number: 3 of 179 with model Ensemble for Validation 2\n",
            "3 - Ensemble with avg smape 18.31: \n",
            "Model Number: 4 of 179 with model NVAR for Validation 2\n",
            "4 - NVAR with avg smape 18.2: \n",
            "Model Number: 5 of 179 with model NVAR for Validation 2\n",
            "5 - NVAR with avg smape 18.2: \n",
            "Model Number: 6 of 179 with model NVAR for Validation 2\n",
            "6 - NVAR with avg smape 18.55: \n",
            "Model Number: 7 of 179 with model Ensemble for Validation 2\n"
          ]
        },
        {
          "output_type": "stream",
          "name": "stderr",
          "text": [
            "/usr/local/lib/python3.8/dist-packages/sklearn/linear_model/_ridge.py:157: LinAlgWarning:\n",
            "\n",
            "Ill-conditioned matrix (rcond=8.90724e-25): result may not be accurate.\n",
            "\n"
          ]
        },
        {
          "output_type": "stream",
          "name": "stdout",
          "text": [
            "HolidayTransformer: no anomalies detected.\n"
          ]
        },
        {
          "output_type": "stream",
          "name": "stderr",
          "text": [
            "[Parallel(n_jobs=-2)]: Using backend SequentialBackend with 1 concurrent workers.\n",
            "[Parallel(n_jobs=-2)]: Done 200 out of 200 | elapsed:    0.4s finished\n",
            "[Parallel(n_jobs=1)]: Using backend SequentialBackend with 1 concurrent workers.\n",
            "[Parallel(n_jobs=1)]: Done 200 out of 200 | elapsed:    0.0s finished\n",
            "[Parallel(n_jobs=1)]: Using backend SequentialBackend with 1 concurrent workers.\n",
            "[Parallel(n_jobs=1)]: Done 200 out of 200 | elapsed:    0.0s finished\n",
            "[Parallel(n_jobs=1)]: Using backend SequentialBackend with 1 concurrent workers.\n",
            "[Parallel(n_jobs=1)]: Done 200 out of 200 | elapsed:    0.0s finished\n",
            "[Parallel(n_jobs=1)]: Using backend SequentialBackend with 1 concurrent workers.\n",
            "[Parallel(n_jobs=1)]: Done 200 out of 200 | elapsed:    0.0s finished\n",
            "[Parallel(n_jobs=1)]: Using backend SequentialBackend with 1 concurrent workers.\n",
            "[Parallel(n_jobs=1)]: Done 200 out of 200 | elapsed:    0.0s finished\n",
            "[Parallel(n_jobs=1)]: Using backend SequentialBackend with 1 concurrent workers.\n",
            "[Parallel(n_jobs=1)]: Done 200 out of 200 | elapsed:    0.0s finished\n",
            "[Parallel(n_jobs=1)]: Using backend SequentialBackend with 1 concurrent workers.\n",
            "[Parallel(n_jobs=1)]: Done 200 out of 200 | elapsed:    0.0s finished\n",
            "[Parallel(n_jobs=1)]: Using backend SequentialBackend with 1 concurrent workers.\n",
            "[Parallel(n_jobs=1)]: Done 200 out of 200 | elapsed:    0.0s finished\n",
            "[Parallel(n_jobs=1)]: Using backend SequentialBackend with 1 concurrent workers.\n",
            "[Parallel(n_jobs=1)]: Done 200 out of 200 | elapsed:    0.0s finished\n",
            "[Parallel(n_jobs=1)]: Using backend SequentialBackend with 1 concurrent workers.\n",
            "[Parallel(n_jobs=1)]: Done 200 out of 200 | elapsed:    0.0s finished\n"
          ]
        },
        {
          "output_type": "stream",
          "name": "stdout",
          "text": [
            "📈 7 - Ensemble with avg smape 7.89: \n",
            "Model Number: 8 of 179 with model ARIMA for Validation 2\n",
            "8 - ARIMA with avg smape 8.81: \n",
            "Model Number: 9 of 179 with model ARIMA for Validation 2\n",
            "9 - ARIMA with avg smape 8.77: \n",
            "Model Number: 10 of 179 with model NVAR for Validation 2\n",
            "10 - NVAR with avg smape 9.1: \n",
            "Model Number: 11 of 179 with model NVAR for Validation 2\n",
            "11 - NVAR with avg smape 9.1: \n",
            "Model Number: 12 of 179 with model NVAR for Validation 2\n",
            "12 - NVAR with avg smape 9.1: \n",
            "Model Number: 13 of 179 with model NVAR for Validation 2\n",
            "13 - NVAR with avg smape 9.1: \n",
            "Model Number: 14 of 179 with model NVAR for Validation 2\n",
            "14 - NVAR with avg smape 9.1: \n",
            "Model Number: 15 of 179 with model NVAR for Validation 2\n",
            "15 - NVAR with avg smape 9.1: \n",
            "Model Number: 16 of 179 with model DatepartRegression for Validation 2\n",
            "📈 16 - DatepartRegression with avg smape 7.09: \n",
            "Model Number: 17 of 179 with model DatepartRegression for Validation 2\n",
            "HolidayTransformer: no anomalies detected.\n"
          ]
        },
        {
          "output_type": "stream",
          "name": "stderr",
          "text": [
            "/usr/local/lib/python3.8/dist-packages/sklearn/linear_model/_ridge.py:157: LinAlgWarning:\n",
            "\n",
            "Ill-conditioned matrix (rcond=8.90724e-25): result may not be accurate.\n",
            "\n"
          ]
        },
        {
          "output_type": "stream",
          "name": "stdout",
          "text": [
            "17 - DatepartRegression with avg smape 7.09: \n",
            "Model Number: 18 of 179 with model DatepartRegression for Validation 2\n",
            "18 - DatepartRegression with avg smape 7.09: \n",
            "Model Number: 19 of 179 with model ARIMA for Validation 2\n",
            "19 - ARIMA with avg smape 8.77: \n",
            "Model Number: 20 of 179 with model ARIMA for Validation 2\n",
            "20 - ARIMA with avg smape 9.13: \n",
            "Model Number: 21 of 179 with model ARIMA for Validation 2\n",
            "21 - ARIMA with avg smape 8.81: \n",
            "Model Number: 22 of 179 with model ARIMA for Validation 2\n",
            "22 - ARIMA with avg smape 8.81: \n",
            "Model Number: 23 of 179 with model ARIMA for Validation 2\n",
            "23 - ARIMA with avg smape 8.81: \n",
            "Model Number: 24 of 179 with model ARIMA for Validation 2\n",
            "24 - ARIMA with avg smape 7.34: \n",
            "Model Number: 25 of 179 with model ARIMA for Validation 2\n",
            "25 - ARIMA with avg smape 7.8: \n",
            "Model Number: 26 of 179 with model Ensemble for Validation 2\n",
            "26 - Ensemble with avg smape 9.66: \n",
            "Model Number: 27 of 179 with model Ensemble for Validation 2\n",
            "27 - Ensemble with avg smape 9.84: \n",
            "Model Number: 28 of 179 with model Ensemble for Validation 2\n",
            "HolidayTransformer: no anomalies detected.\n"
          ]
        },
        {
          "output_type": "stream",
          "name": "stderr",
          "text": [
            "/usr/local/lib/python3.8/dist-packages/sklearn/preprocessing/_data.py:3253: RuntimeWarning:\n",
            "\n",
            "divide by zero encountered in log\n",
            "\n",
            "/usr/local/lib/python3.8/dist-packages/autots/tools/probabilistic.py:67: RuntimeWarning:\n",
            "\n",
            "invalid value encountered in true_divide\n",
            "\n",
            "/usr/local/lib/python3.8/dist-packages/autots/tools/probabilistic.py:68: RuntimeWarning:\n",
            "\n",
            "divide by zero encountered in true_divide\n",
            "\n",
            "/usr/local/lib/python3.8/dist-packages/sklearn/preprocessing/_data.py:3196: RuntimeWarning:\n",
            "\n",
            "divide by zero encountered in power\n",
            "\n",
            "/usr/local/lib/python3.8/dist-packages/sklearn/preprocessing/_data.py:3196: RuntimeWarning:\n",
            "\n",
            "divide by zero encountered in power\n",
            "\n",
            "/usr/local/lib/python3.8/dist-packages/sklearn/preprocessing/_data.py:3196: RuntimeWarning:\n",
            "\n",
            "divide by zero encountered in power\n",
            "\n",
            "/usr/local/lib/python3.8/dist-packages/sklearn/linear_model/_ridge.py:157: LinAlgWarning:\n",
            "\n",
            "Ill-conditioned matrix (rcond=8.90724e-25): result may not be accurate.\n",
            "\n"
          ]
        },
        {
          "output_type": "stream",
          "name": "stdout",
          "text": [
            "📈 28 - Ensemble with avg smape 5.61: \n",
            "Model Number: 29 of 179 with model MultivariateRegression for Validation 2\n"
          ]
        },
        {
          "output_type": "stream",
          "name": "stderr",
          "text": [
            "[Parallel(n_jobs=-2)]: Using backend SequentialBackend with 1 concurrent workers.\n",
            "[Parallel(n_jobs=-2)]: Done 200 out of 200 | elapsed:    0.4s finished\n",
            "[Parallel(n_jobs=1)]: Using backend SequentialBackend with 1 concurrent workers.\n",
            "[Parallel(n_jobs=1)]: Done 200 out of 200 | elapsed:    0.0s finished\n",
            "[Parallel(n_jobs=1)]: Using backend SequentialBackend with 1 concurrent workers.\n",
            "[Parallel(n_jobs=1)]: Done 200 out of 200 | elapsed:    0.0s finished\n",
            "[Parallel(n_jobs=1)]: Using backend SequentialBackend with 1 concurrent workers.\n",
            "[Parallel(n_jobs=1)]: Done 200 out of 200 | elapsed:    0.0s finished\n",
            "[Parallel(n_jobs=1)]: Using backend SequentialBackend with 1 concurrent workers.\n",
            "[Parallel(n_jobs=1)]: Done 200 out of 200 | elapsed:    0.0s finished\n",
            "[Parallel(n_jobs=1)]: Using backend SequentialBackend with 1 concurrent workers.\n",
            "[Parallel(n_jobs=1)]: Done 200 out of 200 | elapsed:    0.0s finished\n",
            "[Parallel(n_jobs=1)]: Using backend SequentialBackend with 1 concurrent workers.\n",
            "[Parallel(n_jobs=1)]: Done 200 out of 200 | elapsed:    0.0s finished\n",
            "[Parallel(n_jobs=1)]: Using backend SequentialBackend with 1 concurrent workers.\n",
            "[Parallel(n_jobs=1)]: Done 200 out of 200 | elapsed:    0.0s finished\n",
            "[Parallel(n_jobs=1)]: Using backend SequentialBackend with 1 concurrent workers.\n",
            "[Parallel(n_jobs=1)]: Done 200 out of 200 | elapsed:    0.0s finished\n",
            "[Parallel(n_jobs=1)]: Using backend SequentialBackend with 1 concurrent workers.\n",
            "[Parallel(n_jobs=1)]: Done 200 out of 200 | elapsed:    0.0s finished\n",
            "[Parallel(n_jobs=1)]: Using backend SequentialBackend with 1 concurrent workers.\n",
            "[Parallel(n_jobs=1)]: Done 200 out of 200 | elapsed:    0.0s finished\n"
          ]
        },
        {
          "output_type": "stream",
          "name": "stdout",
          "text": [
            "29 - MultivariateRegression with avg smape 7.62: \n",
            "Model Number: 30 of 179 with model MultivariateRegression for Validation 2\n"
          ]
        },
        {
          "output_type": "stream",
          "name": "stderr",
          "text": [
            "[Parallel(n_jobs=-2)]: Using backend SequentialBackend with 1 concurrent workers.\n",
            "[Parallel(n_jobs=-2)]: Done 200 out of 200 | elapsed:    0.4s finished\n",
            "[Parallel(n_jobs=1)]: Using backend SequentialBackend with 1 concurrent workers.\n",
            "[Parallel(n_jobs=1)]: Done 200 out of 200 | elapsed:    0.0s finished\n",
            "[Parallel(n_jobs=1)]: Using backend SequentialBackend with 1 concurrent workers.\n",
            "[Parallel(n_jobs=1)]: Done 200 out of 200 | elapsed:    0.0s finished\n",
            "[Parallel(n_jobs=1)]: Using backend SequentialBackend with 1 concurrent workers.\n",
            "[Parallel(n_jobs=1)]: Done 200 out of 200 | elapsed:    0.0s finished\n",
            "[Parallel(n_jobs=1)]: Using backend SequentialBackend with 1 concurrent workers.\n",
            "[Parallel(n_jobs=1)]: Done 200 out of 200 | elapsed:    0.0s finished\n",
            "[Parallel(n_jobs=1)]: Using backend SequentialBackend with 1 concurrent workers.\n",
            "[Parallel(n_jobs=1)]: Done 200 out of 200 | elapsed:    0.0s finished\n",
            "[Parallel(n_jobs=1)]: Using backend SequentialBackend with 1 concurrent workers.\n",
            "[Parallel(n_jobs=1)]: Done 200 out of 200 | elapsed:    0.0s finished\n",
            "[Parallel(n_jobs=1)]: Using backend SequentialBackend with 1 concurrent workers.\n",
            "[Parallel(n_jobs=1)]: Done 200 out of 200 | elapsed:    0.0s finished\n",
            "[Parallel(n_jobs=1)]: Using backend SequentialBackend with 1 concurrent workers.\n",
            "[Parallel(n_jobs=1)]: Done 200 out of 200 | elapsed:    0.0s finished\n",
            "[Parallel(n_jobs=1)]: Using backend SequentialBackend with 1 concurrent workers.\n",
            "[Parallel(n_jobs=1)]: Done 200 out of 200 | elapsed:    0.0s finished\n",
            "[Parallel(n_jobs=1)]: Using backend SequentialBackend with 1 concurrent workers.\n",
            "[Parallel(n_jobs=1)]: Done 200 out of 200 | elapsed:    0.0s finished\n"
          ]
        },
        {
          "output_type": "stream",
          "name": "stdout",
          "text": [
            "30 - MultivariateRegression with avg smape 6.32: \n",
            "Model Number: 31 of 179 with model UnobservedComponents for Validation 2\n",
            "31 - UnobservedComponents with avg smape 5.63: \n",
            "Model Number: 32 of 179 with model UnobservedComponents for Validation 2\n",
            "📈 32 - UnobservedComponents with avg smape 5.38: \n",
            "Model Number: 33 of 179 with model MetricMotif for Validation 2\n",
            "33 - MetricMotif with avg smape 13.43: \n",
            "Model Number: 34 of 179 with model Theta for Validation 2\n",
            "34 - Theta with avg smape 11.04: \n",
            "Model Number: 35 of 179 with model Theta for Validation 2\n",
            "35 - Theta with avg smape 10.68: \n",
            "Model Number: 36 of 179 with model MultivariateRegression for Validation 2\n"
          ]
        },
        {
          "output_type": "stream",
          "name": "stderr",
          "text": [
            "[Parallel(n_jobs=-2)]: Using backend SequentialBackend with 1 concurrent workers.\n",
            "[Parallel(n_jobs=-2)]: Done 200 out of 200 | elapsed:    0.4s finished\n",
            "[Parallel(n_jobs=1)]: Using backend SequentialBackend with 1 concurrent workers.\n",
            "[Parallel(n_jobs=1)]: Done 200 out of 200 | elapsed:    0.0s finished\n",
            "[Parallel(n_jobs=1)]: Using backend SequentialBackend with 1 concurrent workers.\n",
            "[Parallel(n_jobs=1)]: Done 200 out of 200 | elapsed:    0.0s finished\n",
            "[Parallel(n_jobs=1)]: Using backend SequentialBackend with 1 concurrent workers.\n",
            "[Parallel(n_jobs=1)]: Done 200 out of 200 | elapsed:    0.0s finished\n",
            "[Parallel(n_jobs=1)]: Using backend SequentialBackend with 1 concurrent workers.\n",
            "[Parallel(n_jobs=1)]: Done 200 out of 200 | elapsed:    0.0s finished\n",
            "[Parallel(n_jobs=1)]: Using backend SequentialBackend with 1 concurrent workers.\n",
            "[Parallel(n_jobs=1)]: Done 200 out of 200 | elapsed:    0.0s finished\n",
            "[Parallel(n_jobs=1)]: Using backend SequentialBackend with 1 concurrent workers.\n",
            "[Parallel(n_jobs=1)]: Done 200 out of 200 | elapsed:    0.0s finished\n",
            "[Parallel(n_jobs=1)]: Using backend SequentialBackend with 1 concurrent workers.\n",
            "[Parallel(n_jobs=1)]: Done 200 out of 200 | elapsed:    0.0s finished\n",
            "[Parallel(n_jobs=1)]: Using backend SequentialBackend with 1 concurrent workers.\n",
            "[Parallel(n_jobs=1)]: Done 200 out of 200 | elapsed:    0.0s finished\n",
            "[Parallel(n_jobs=1)]: Using backend SequentialBackend with 1 concurrent workers.\n",
            "[Parallel(n_jobs=1)]: Done 200 out of 200 | elapsed:    0.0s finished\n",
            "[Parallel(n_jobs=1)]: Using backend SequentialBackend with 1 concurrent workers.\n",
            "[Parallel(n_jobs=1)]: Done 200 out of 200 | elapsed:    0.0s finished\n"
          ]
        },
        {
          "output_type": "stream",
          "name": "stdout",
          "text": [
            "36 - MultivariateRegression with avg smape 10.78: \n",
            "Model Number: 37 of 179 with model MetricMotif for Validation 2\n",
            "37 - MetricMotif with avg smape 15.63: \n",
            "Model Number: 38 of 179 with model MetricMotif for Validation 2\n",
            "38 - MetricMotif with avg smape 13.46: \n",
            "Model Number: 39 of 179 with model SeasonalNaive for Validation 2\n",
            "39 - SeasonalNaive with avg smape 27.96: \n",
            "Model Number: 40 of 179 with model MetricMotif for Validation 2\n",
            "40 - MetricMotif with avg smape 13.65: \n",
            "Model Number: 41 of 179 with model SeasonalNaive for Validation 2\n",
            "41 - SeasonalNaive with avg smape 27.11: \n",
            "Model Number: 42 of 179 with model SectionalMotif for Validation 2\n",
            "42 - SectionalMotif with avg smape 7.44: \n",
            "Model Number: 43 of 179 with model UnobservedComponents for Validation 2\n",
            "43 - UnobservedComponents with avg smape 7.09: \n",
            "Model Number: 44 of 179 with model DatepartRegression for Validation 2\n",
            "HolidayTransformer: no anomalies detected.\n",
            "44 - DatepartRegression with avg smape 6.85: \n",
            "Model Number: 45 of 179 with model UnobservedComponents for Validation 2\n",
            "45 - UnobservedComponents with avg smape 6.61: \n",
            "Model Number: 46 of 179 with model SeasonalNaive for Validation 2\n",
            "46 - SeasonalNaive with avg smape 27.98: \n",
            "Model Number: 47 of 179 with model SeasonalNaive for Validation 2\n",
            "47 - SeasonalNaive with avg smape 27.98: \n",
            "Model Number: 48 of 179 with model SeasonalNaive for Validation 2\n",
            "48 - SeasonalNaive with avg smape 27.76: \n",
            "Model Number: 49 of 179 with model SeasonalNaive for Validation 2\n",
            "49 - SeasonalNaive with avg smape 21.71: \n",
            "Model Number: 50 of 179 with model MetricMotif for Validation 2\n",
            "50 - MetricMotif with avg smape 8.32: \n",
            "Model Number: 51 of 179 with model UnobservedComponents for Validation 2\n",
            "51 - UnobservedComponents with avg smape 7.01: \n",
            "Model Number: 52 of 179 with model SeasonalNaive for Validation 2\n",
            "52 - SeasonalNaive with avg smape 27.42: \n",
            "Model Number: 53 of 179 with model DatepartRegression for Validation 2\n",
            "53 - DatepartRegression with avg smape 6.81: \n",
            "Model Number: 54 of 179 with model DatepartRegression for Validation 2\n",
            "54 - DatepartRegression with avg smape 6.81: \n",
            "Model Number: 55 of 179 with model SectionalMotif for Validation 2\n",
            "55 - SectionalMotif with avg smape 7.33: \n",
            "Model Number: 56 of 179 with model DatepartRegression for Validation 2\n",
            "56 - DatepartRegression with avg smape 6.81: \n",
            "Model Number: 57 of 179 with model DatepartRegression for Validation 2\n",
            "57 - DatepartRegression with avg smape 6.81: \n",
            "Model Number: 58 of 179 with model UnobservedComponents for Validation 2\n",
            "📈 58 - UnobservedComponents with avg smape 3.07: \n",
            "Model Number: 59 of 179 with model Theta for Validation 2\n",
            "59 - Theta with avg smape 4.48: \n",
            "Model Number: 60 of 179 with model Theta for Validation 2\n",
            "60 - Theta with avg smape 10.61: \n",
            "Model Number: 61 of 179 with model Theta for Validation 2\n",
            "61 - Theta with avg smape 10.77: \n",
            "Model Number: 62 of 179 with model Theta for Validation 2\n",
            "62 - Theta with avg smape 10.61: \n",
            "Model Number: 63 of 179 with model Theta for Validation 2\n",
            "63 - Theta with avg smape 4.44: \n",
            "Model Number: 64 of 179 with model MetricMotif for Validation 2\n",
            "64 - MetricMotif with avg smape 11.48: \n",
            "Model Number: 65 of 179 with model UnobservedComponents for Validation 2\n",
            "65 - UnobservedComponents with avg smape 3.99: \n",
            "Model Number: 66 of 179 with model MetricMotif for Validation 2\n",
            "66 - MetricMotif with avg smape 11.42: \n",
            "Model Number: 67 of 179 with model LastValueNaive for Validation 2\n",
            "📈 67 - LastValueNaive with avg smape 2.9: \n",
            "Model Number: 68 of 179 with model LastValueNaive for Validation 2\n",
            "68 - LastValueNaive with avg smape 2.9: \n",
            "Model Number: 69 of 179 with model ETS for Validation 2\n",
            "69 - ETS with avg smape 7.25: \n",
            "Model Number: 70 of 179 with model ETS for Validation 2\n",
            "70 - ETS with avg smape 7.25: \n",
            "Model Number: 71 of 179 with model ETS for Validation 2\n",
            "71 - ETS with avg smape 7.25: \n",
            "Model Number: 72 of 179 with model WindowRegression for Validation 2\n",
            "72 - WindowRegression with avg smape 13.1: \n",
            "Model Number: 73 of 179 with model MetricMotif for Validation 2\n"
          ]
        },
        {
          "output_type": "stream",
          "name": "stderr",
          "text": [
            "/usr/local/lib/python3.8/dist-packages/sklearn/neural_network/_multilayer_perceptron.py:549: ConvergenceWarning:\n",
            "\n",
            "lbfgs failed to converge (status=1):\n",
            "STOP: TOTAL NO. of ITERATIONS REACHED LIMIT.\n",
            "\n",
            "Increase the number of iterations (max_iter) or scale the data as shown in:\n",
            "    https://scikit-learn.org/stable/modules/preprocessing.html\n",
            "\n"
          ]
        },
        {
          "output_type": "stream",
          "name": "stdout",
          "text": [
            "73 - MetricMotif with avg smape 12.32: \n",
            "Model Number: 74 of 179 with model MetricMotif for Validation 2\n",
            "74 - MetricMotif with avg smape 13.6: \n",
            "Model Number: 75 of 179 with model UnobservedComponents for Validation 2\n",
            "75 - UnobservedComponents with avg smape 6.98: \n",
            "Model Number: 76 of 179 with model SeasonalNaive for Validation 2\n",
            "76 - SeasonalNaive with avg smape 27.43: \n",
            "Model Number: 77 of 179 with model SeasonalNaive for Validation 2\n",
            "77 - SeasonalNaive with avg smape 26.42: \n",
            "Model Number: 78 of 179 with model Theta for Validation 2\n",
            "78 - Theta with avg smape 5.75: \n",
            "Model Number: 79 of 179 with model Theta for Validation 2\n",
            "79 - Theta with avg smape 5.75: \n",
            "Model Number: 80 of 179 with model WindowRegression for Validation 2\n"
          ]
        },
        {
          "output_type": "stream",
          "name": "stderr",
          "text": [
            "/usr/local/lib/python3.8/dist-packages/sklearn/neural_network/_multilayer_perceptron.py:549: ConvergenceWarning:\n",
            "\n",
            "lbfgs failed to converge (status=1):\n",
            "STOP: TOTAL NO. of ITERATIONS REACHED LIMIT.\n",
            "\n",
            "Increase the number of iterations (max_iter) or scale the data as shown in:\n",
            "    https://scikit-learn.org/stable/modules/preprocessing.html\n",
            "\n"
          ]
        },
        {
          "output_type": "stream",
          "name": "stdout",
          "text": [
            "80 - WindowRegression with avg smape 15.09: \n",
            "Model Number: 81 of 179 with model WindowRegression for Validation 2\n"
          ]
        },
        {
          "output_type": "stream",
          "name": "stderr",
          "text": [
            "/usr/local/lib/python3.8/dist-packages/sklearn/neural_network/_multilayer_perceptron.py:549: ConvergenceWarning:\n",
            "\n",
            "lbfgs failed to converge (status=1):\n",
            "STOP: TOTAL NO. of ITERATIONS REACHED LIMIT.\n",
            "\n",
            "Increase the number of iterations (max_iter) or scale the data as shown in:\n",
            "    https://scikit-learn.org/stable/modules/preprocessing.html\n",
            "\n"
          ]
        },
        {
          "output_type": "stream",
          "name": "stdout",
          "text": [
            "81 - WindowRegression with avg smape 15.09: \n",
            "Model Number: 82 of 179 with model WindowRegression for Validation 2\n",
            "82 - WindowRegression with avg smape 15.09: \n",
            "Model Number: 83 of 179 with model AverageValueNaive for Validation 2\n",
            "83 - AverageValueNaive with avg smape 18.39: \n",
            "Model Number: 84 of 179 with model SectionalMotif for Validation 2\n"
          ]
        },
        {
          "output_type": "stream",
          "name": "stderr",
          "text": [
            "/usr/local/lib/python3.8/dist-packages/sklearn/neural_network/_multilayer_perceptron.py:549: ConvergenceWarning:\n",
            "\n",
            "lbfgs failed to converge (status=1):\n",
            "STOP: TOTAL NO. of ITERATIONS REACHED LIMIT.\n",
            "\n",
            "Increase the number of iterations (max_iter) or scale the data as shown in:\n",
            "    https://scikit-learn.org/stable/modules/preprocessing.html\n",
            "\n"
          ]
        },
        {
          "output_type": "stream",
          "name": "stdout",
          "text": [
            "84 - SectionalMotif with avg smape 7.1: \n",
            "Model Number: 85 of 179 with model AverageValueNaive for Validation 2\n",
            "85 - AverageValueNaive with avg smape 11.09: \n",
            "Model Number: 86 of 179 with model DatepartRegression for Validation 2\n",
            "86 - DatepartRegression with avg smape 7.15: \n",
            "Model Number: 87 of 179 with model UnobservedComponents for Validation 2\n",
            "87 - UnobservedComponents with avg smape 7.17: \n",
            "Model Number: 88 of 179 with model LastValueNaive for Validation 2\n",
            "88 - LastValueNaive with avg smape 24.26: \n",
            "Model Number: 89 of 179 with model LastValueNaive for Validation 2\n",
            "89 - LastValueNaive with avg smape 24.26: \n",
            "Model Number: 90 of 179 with model LastValueNaive for Validation 2\n",
            "90 - LastValueNaive with avg smape 24.26: \n",
            "Model Number: 91 of 179 with model AverageValueNaive for Validation 2\n",
            "91 - AverageValueNaive with avg smape 11.09: \n",
            "Model Number: 92 of 179 with model MultivariateRegression for Validation 2\n"
          ]
        },
        {
          "output_type": "stream",
          "name": "stderr",
          "text": [
            "[Parallel(n_jobs=-2)]: Using backend SequentialBackend with 1 concurrent workers.\n",
            "[Parallel(n_jobs=-2)]: Done 200 out of 200 | elapsed:    0.4s finished\n",
            "[Parallel(n_jobs=1)]: Using backend SequentialBackend with 1 concurrent workers.\n",
            "[Parallel(n_jobs=1)]: Done 200 out of 200 | elapsed:    0.0s finished\n",
            "[Parallel(n_jobs=1)]: Using backend SequentialBackend with 1 concurrent workers.\n",
            "[Parallel(n_jobs=1)]: Done 200 out of 200 | elapsed:    0.0s finished\n",
            "[Parallel(n_jobs=1)]: Using backend SequentialBackend with 1 concurrent workers.\n",
            "[Parallel(n_jobs=1)]: Done 200 out of 200 | elapsed:    0.0s finished\n",
            "[Parallel(n_jobs=1)]: Using backend SequentialBackend with 1 concurrent workers.\n",
            "[Parallel(n_jobs=1)]: Done 200 out of 200 | elapsed:    0.0s finished\n",
            "[Parallel(n_jobs=1)]: Using backend SequentialBackend with 1 concurrent workers.\n",
            "[Parallel(n_jobs=1)]: Done 200 out of 200 | elapsed:    0.0s finished\n",
            "[Parallel(n_jobs=1)]: Using backend SequentialBackend with 1 concurrent workers.\n",
            "[Parallel(n_jobs=1)]: Done 200 out of 200 | elapsed:    0.0s finished\n",
            "[Parallel(n_jobs=1)]: Using backend SequentialBackend with 1 concurrent workers.\n",
            "[Parallel(n_jobs=1)]: Done 200 out of 200 | elapsed:    0.0s finished\n",
            "[Parallel(n_jobs=1)]: Using backend SequentialBackend with 1 concurrent workers.\n",
            "[Parallel(n_jobs=1)]: Done 200 out of 200 | elapsed:    0.0s finished\n",
            "[Parallel(n_jobs=1)]: Using backend SequentialBackend with 1 concurrent workers.\n",
            "[Parallel(n_jobs=1)]: Done 200 out of 200 | elapsed:    0.0s finished\n",
            "[Parallel(n_jobs=1)]: Using backend SequentialBackend with 1 concurrent workers.\n",
            "[Parallel(n_jobs=1)]: Done 200 out of 200 | elapsed:    0.0s finished\n"
          ]
        },
        {
          "output_type": "stream",
          "name": "stdout",
          "text": [
            "92 - MultivariateRegression with avg smape 8.85: \n",
            "Model Number: 93 of 179 with model LastValueNaive for Validation 2\n",
            "📈 93 - LastValueNaive with avg smape 2.6: \n",
            "Model Number: 94 of 179 with model LastValueNaive for Validation 2\n",
            "94 - LastValueNaive with avg smape 5.59: \n",
            "Model Number: 95 of 179 with model LastValueNaive for Validation 2\n",
            "95 - LastValueNaive with avg smape 5.59: \n",
            "Model Number: 96 of 179 with model LastValueNaive for Validation 2\n",
            "96 - LastValueNaive with avg smape 5.59: \n",
            "Model Number: 97 of 179 with model MultivariateRegression for Validation 2\n",
            "97 - MultivariateRegression with avg smape 12.67: \n",
            "Model Number: 98 of 179 with model UnivariateMotif for Validation 2\n",
            "98 - UnivariateMotif with avg smape 5.77: \n",
            "Model Number: 99 of 179 with model SectionalMotif for Validation 2\n",
            "99 - SectionalMotif with avg smape 4.6: \n",
            "Model Number: 100 of 179 with model SectionalMotif for Validation 2\n",
            "100 - SectionalMotif with avg smape 4.6: \n",
            "Model Number: 101 of 179 with model SectionalMotif for Validation 2\n",
            "101 - SectionalMotif with avg smape 4.68: \n",
            "Model Number: 102 of 179 with model SectionalMotif for Validation 2\n",
            "102 - SectionalMotif with avg smape 4.68: \n",
            "Model Number: 103 of 179 with model SectionalMotif for Validation 2\n",
            "103 - SectionalMotif with avg smape 4.6: \n",
            "Model Number: 104 of 179 with model UnivariateMotif for Validation 2\n",
            "104 - UnivariateMotif with avg smape 6.39: \n",
            "Model Number: 105 of 179 with model ConstantNaive for Validation 2\n",
            "105 - ConstantNaive with avg smape 7.1: \n",
            "Model Number: 106 of 179 with model AverageValueNaive for Validation 2\n",
            "📈 106 - AverageValueNaive with avg smape 1.93: \n",
            "Model Number: 107 of 179 with model ETS for Validation 2\n",
            "107 - ETS with avg smape 24.26: \n",
            "Model Number: 108 of 179 with model SectionalMotif for Validation 2\n",
            "108 - SectionalMotif with avg smape 7.17: \n",
            "Model Number: 109 of 179 with model WindowRegression for Validation 2\n",
            "109 - WindowRegression with avg smape 13.46: \n",
            "Model Number: 110 of 179 with model ETS for Validation 2\n",
            "110 - ETS with avg smape 12.07: \n",
            "Model Number: 111 of 179 with model ETS for Validation 2\n",
            "111 - ETS with avg smape 12.07: \n",
            "Model Number: 112 of 179 with model MultivariateRegression for Validation 2\n",
            "112 - MultivariateRegression with avg smape 6.05: \n",
            "Model Number: 113 of 179 with model ETS for Validation 2\n",
            "113 - ETS with avg smape 5.62: \n",
            "Model Number: 114 of 179 with model ETS for Validation 2\n",
            "114 - ETS with avg smape 11.38: \n",
            "Model Number: 115 of 179 with model ETS for Validation 2\n"
          ]
        },
        {
          "output_type": "stream",
          "name": "stderr",
          "text": [
            "INFO:prophet:Disabling yearly seasonality. Run prophet with yearly_seasonality=True to override this.\n",
            "INFO:prophet:Disabling daily seasonality. Run prophet with daily_seasonality=True to override this.\n",
            "DEBUG:cmdstanpy:input tempfile: /tmp/tmp09dakauk/mkgfq0o7.json\n"
          ]
        },
        {
          "output_type": "stream",
          "name": "stdout",
          "text": [
            "115 - ETS with avg smape 5.59: \n",
            "Model Number: 116 of 179 with model FBProphet for Validation 2\n"
          ]
        },
        {
          "output_type": "stream",
          "name": "stderr",
          "text": [
            "DEBUG:cmdstanpy:input tempfile: /tmp/tmp09dakauk/aacd09p7.json\n",
            "DEBUG:cmdstanpy:idx 0\n",
            "DEBUG:cmdstanpy:running CmdStan, num_threads: None\n",
            "DEBUG:cmdstanpy:CmdStan args: ['/usr/local/lib/python3.8/dist-packages/prophet/stan_model/prophet_model.bin', 'random', 'seed=35799', 'data', 'file=/tmp/tmp09dakauk/mkgfq0o7.json', 'init=/tmp/tmp09dakauk/aacd09p7.json', 'output', 'file=/tmp/tmp09dakauk/prophet_modelypm6z4u2/prophet_model-20230216095154.csv', 'method=optimize', 'algorithm=lbfgs', 'iter=10000']\n",
            "09:51:54 - cmdstanpy - INFO - Chain [1] start processing\n",
            "INFO:cmdstanpy:Chain [1] start processing\n",
            "09:51:54 - cmdstanpy - INFO - Chain [1] done processing\n",
            "INFO:cmdstanpy:Chain [1] done processing\n"
          ]
        },
        {
          "output_type": "stream",
          "name": "stdout",
          "text": [
            "116 - FBProphet with avg smape 4.96: \n",
            "Model Number: 117 of 179 with model MultivariateMotif for Validation 2\n",
            "117 - MultivariateMotif with avg smape 6.54: \n",
            "Model Number: 118 of 179 with model WindowRegression for Validation 2\n",
            "118 - WindowRegression with avg smape 14.17: \n",
            "Model Number: 119 of 179 with model AverageValueNaive for Validation 2\n",
            "119 - AverageValueNaive with avg smape 5.53: \n",
            "Model Number: 120 of 179 with model AverageValueNaive for Validation 2\n",
            "120 - AverageValueNaive with avg smape 5.54: \n",
            "Model Number: 121 of 179 with model AverageValueNaive for Validation 2\n"
          ]
        },
        {
          "output_type": "stream",
          "name": "stderr",
          "text": [
            "INFO:prophet:Disabling yearly seasonality. Run prophet with yearly_seasonality=True to override this.\n",
            "INFO:prophet:Disabling daily seasonality. Run prophet with daily_seasonality=True to override this.\n",
            "DEBUG:cmdstanpy:input tempfile: /tmp/tmp09dakauk/975q9zh3.json\n",
            "DEBUG:cmdstanpy:input tempfile: /tmp/tmp09dakauk/aq_byc_u.json\n"
          ]
        },
        {
          "output_type": "stream",
          "name": "stdout",
          "text": [
            "121 - AverageValueNaive with avg smape 5.28: \n",
            "Model Number: 122 of 179 with model FBProphet for Validation 2\n"
          ]
        },
        {
          "output_type": "stream",
          "name": "stderr",
          "text": [
            "DEBUG:cmdstanpy:idx 0\n",
            "DEBUG:cmdstanpy:running CmdStan, num_threads: None\n",
            "DEBUG:cmdstanpy:CmdStan args: ['/usr/local/lib/python3.8/dist-packages/prophet/stan_model/prophet_model.bin', 'random', 'seed=87465', 'data', 'file=/tmp/tmp09dakauk/975q9zh3.json', 'init=/tmp/tmp09dakauk/aq_byc_u.json', 'output', 'file=/tmp/tmp09dakauk/prophet_modelstexydtx/prophet_model-20230216095158.csv', 'method=optimize', 'algorithm=lbfgs', 'iter=10000']\n",
            "09:51:58 - cmdstanpy - INFO - Chain [1] start processing\n",
            "INFO:cmdstanpy:Chain [1] start processing\n",
            "09:51:58 - cmdstanpy - INFO - Chain [1] done processing\n",
            "INFO:cmdstanpy:Chain [1] done processing\n"
          ]
        },
        {
          "output_type": "stream",
          "name": "stdout",
          "text": [
            "122 - FBProphet with avg smape 8.72: \n",
            "Model Number: 123 of 179 with model MultivariateMotif for Validation 2\n",
            "123 - MultivariateMotif with avg smape 27.53: \n",
            "Model Number: 124 of 179 with model MultivariateMotif for Validation 2\n",
            "124 - MultivariateMotif with avg smape 27.53: \n",
            "Model Number: 125 of 179 with model UnivariateMotif for Validation 2\n",
            "125 - UnivariateMotif with avg smape 4.3: \n",
            "Model Number: 126 of 179 with model MultivariateRegression for Validation 2\n"
          ]
        },
        {
          "output_type": "stream",
          "name": "stderr",
          "text": [
            "[Parallel(n_jobs=-2)]: Using backend SequentialBackend with 1 concurrent workers.\n",
            "[Parallel(n_jobs=-2)]: Done 200 out of 200 | elapsed:    0.3s finished\n",
            "[Parallel(n_jobs=1)]: Using backend SequentialBackend with 1 concurrent workers.\n",
            "[Parallel(n_jobs=1)]: Done 200 out of 200 | elapsed:    0.0s finished\n",
            "[Parallel(n_jobs=1)]: Using backend SequentialBackend with 1 concurrent workers.\n",
            "[Parallel(n_jobs=1)]: Done 200 out of 200 | elapsed:    0.0s finished\n",
            "[Parallel(n_jobs=1)]: Using backend SequentialBackend with 1 concurrent workers.\n",
            "[Parallel(n_jobs=1)]: Done 200 out of 200 | elapsed:    0.0s finished\n",
            "[Parallel(n_jobs=1)]: Using backend SequentialBackend with 1 concurrent workers.\n",
            "[Parallel(n_jobs=1)]: Done 200 out of 200 | elapsed:    0.0s finished\n",
            "[Parallel(n_jobs=1)]: Using backend SequentialBackend with 1 concurrent workers.\n",
            "[Parallel(n_jobs=1)]: Done 200 out of 200 | elapsed:    0.0s finished\n",
            "[Parallel(n_jobs=1)]: Using backend SequentialBackend with 1 concurrent workers.\n",
            "[Parallel(n_jobs=1)]: Done 200 out of 200 | elapsed:    0.0s finished\n",
            "[Parallel(n_jobs=1)]: Using backend SequentialBackend with 1 concurrent workers.\n",
            "[Parallel(n_jobs=1)]: Done 200 out of 200 | elapsed:    0.0s finished\n",
            "[Parallel(n_jobs=1)]: Using backend SequentialBackend with 1 concurrent workers.\n",
            "[Parallel(n_jobs=1)]: Done 200 out of 200 | elapsed:    0.0s finished\n",
            "[Parallel(n_jobs=1)]: Using backend SequentialBackend with 1 concurrent workers.\n",
            "[Parallel(n_jobs=1)]: Done 200 out of 200 | elapsed:    0.0s finished\n",
            "[Parallel(n_jobs=1)]: Using backend SequentialBackend with 1 concurrent workers.\n",
            "[Parallel(n_jobs=1)]: Done 200 out of 200 | elapsed:    0.0s finished\n"
          ]
        },
        {
          "output_type": "stream",
          "name": "stdout",
          "text": [
            "126 - MultivariateRegression with avg smape 6.92: \n",
            "Model Number: 127 of 179 with model UnivariateMotif for Validation 2\n",
            "127 - UnivariateMotif with avg smape 25.78: \n",
            "Model Number: 128 of 179 with model UnivariateMotif for Validation 2\n",
            "128 - UnivariateMotif with avg smape 25.78: \n",
            "Model Number: 129 of 179 with model WindowRegression for Validation 2\n"
          ]
        },
        {
          "output_type": "stream",
          "name": "stderr",
          "text": [
            "/usr/local/lib/python3.8/dist-packages/sklearn/neural_network/_multilayer_perceptron.py:549: ConvergenceWarning:\n",
            "\n",
            "lbfgs failed to converge (status=1):\n",
            "STOP: TOTAL NO. of ITERATIONS REACHED LIMIT.\n",
            "\n",
            "Increase the number of iterations (max_iter) or scale the data as shown in:\n",
            "    https://scikit-learn.org/stable/modules/preprocessing.html\n",
            "\n"
          ]
        },
        {
          "output_type": "stream",
          "name": "stdout",
          "text": [
            "129 - WindowRegression with avg smape 13.31: \n",
            "Model Number: 130 of 179 with model WindowRegression for Validation 2\n"
          ]
        },
        {
          "output_type": "stream",
          "name": "stderr",
          "text": [
            "/usr/local/lib/python3.8/dist-packages/sklearn/neural_network/_multilayer_perceptron.py:549: ConvergenceWarning:\n",
            "\n",
            "lbfgs failed to converge (status=1):\n",
            "STOP: TOTAL NO. of ITERATIONS REACHED LIMIT.\n",
            "\n",
            "Increase the number of iterations (max_iter) or scale the data as shown in:\n",
            "    https://scikit-learn.org/stable/modules/preprocessing.html\n",
            "\n"
          ]
        },
        {
          "output_type": "stream",
          "name": "stdout",
          "text": [
            "130 - WindowRegression with avg smape 6.16: \n",
            "Model Number: 131 of 179 with model WindowRegression for Validation 2\n",
            "131 - WindowRegression with avg smape 6.19: \n",
            "Model Number: 132 of 179 with model AverageValueNaive for Validation 2\n",
            "132 - AverageValueNaive with avg smape 6.07: \n",
            "Model Number: 133 of 179 with model AverageValueNaive for Validation 2\n"
          ]
        },
        {
          "output_type": "stream",
          "name": "stderr",
          "text": [
            "/usr/local/lib/python3.8/dist-packages/sklearn/neural_network/_multilayer_perceptron.py:549: ConvergenceWarning:\n",
            "\n",
            "lbfgs failed to converge (status=1):\n",
            "STOP: TOTAL NO. of ITERATIONS REACHED LIMIT.\n",
            "\n",
            "Increase the number of iterations (max_iter) or scale the data as shown in:\n",
            "    https://scikit-learn.org/stable/modules/preprocessing.html\n",
            "\n"
          ]
        },
        {
          "output_type": "stream",
          "name": "stdout",
          "text": [
            "133 - AverageValueNaive with avg smape 6.07: \n",
            "Model Number: 134 of 179 with model MultivariateRegression for Validation 2\n",
            "134 - MultivariateRegression with avg smape 5.98: \n",
            "Model Number: 135 of 179 with model MultivariateMotif for Validation 2\n",
            "135 - MultivariateMotif with avg smape 9.4: \n",
            "Model Number: 136 of 179 with model MultivariateMotif for Validation 2\n",
            "136 - MultivariateMotif with avg smape 9.42: \n",
            "Model Number: 137 of 179 with model MultivariateMotif for Validation 2\n",
            "137 - MultivariateMotif with avg smape 8.77: \n",
            "Model Number: 138 of 179 with model MultivariateMotif for Validation 2\n",
            "138 - MultivariateMotif with avg smape 8.77: \n",
            "Model Number: 139 of 179 with model MultivariateRegression for Validation 2\n",
            "139 - MultivariateRegression with avg smape 6.05: \n",
            "Model Number: 140 of 179 with model MultivariateMotif for Validation 2\n"
          ]
        },
        {
          "output_type": "stream",
          "name": "stderr",
          "text": [
            "INFO:prophet:Disabling yearly seasonality. Run prophet with yearly_seasonality=True to override this.\n",
            "INFO:prophet:Disabling daily seasonality. Run prophet with daily_seasonality=True to override this.\n",
            "DEBUG:cmdstanpy:input tempfile: /tmp/tmp09dakauk/x1o90e1b.json\n",
            "DEBUG:cmdstanpy:input tempfile: /tmp/tmp09dakauk/b6idp4ah.json\n",
            "DEBUG:cmdstanpy:idx 0\n",
            "DEBUG:cmdstanpy:running CmdStan, num_threads: None\n",
            "DEBUG:cmdstanpy:CmdStan args: ['/usr/local/lib/python3.8/dist-packages/prophet/stan_model/prophet_model.bin', 'random', 'seed=75742', 'data', 'file=/tmp/tmp09dakauk/x1o90e1b.json', 'init=/tmp/tmp09dakauk/b6idp4ah.json', 'output', 'file=/tmp/tmp09dakauk/prophet_modelqw44pl5m/prophet_model-20230216095203.csv', 'method=optimize', 'algorithm=newton', 'iter=10000']\n",
            "09:52:03 - cmdstanpy - INFO - Chain [1] start processing\n",
            "INFO:cmdstanpy:Chain [1] start processing\n"
          ]
        },
        {
          "output_type": "stream",
          "name": "stdout",
          "text": [
            "140 - MultivariateMotif with avg smape 8.61: \n",
            "Model Number: 141 of 179 with model FBProphet for Validation 2\n"
          ]
        },
        {
          "output_type": "stream",
          "name": "stderr",
          "text": [
            "09:52:04 - cmdstanpy - INFO - Chain [1] done processing\n",
            "INFO:cmdstanpy:Chain [1] done processing\n",
            "INFO:prophet:Disabling yearly seasonality. Run prophet with yearly_seasonality=True to override this.\n",
            "INFO:prophet:Disabling daily seasonality. Run prophet with daily_seasonality=True to override this.\n",
            "DEBUG:cmdstanpy:input tempfile: /tmp/tmp09dakauk/pdc1byn0.json\n",
            "DEBUG:cmdstanpy:input tempfile: /tmp/tmp09dakauk/uoja_g03.json\n",
            "DEBUG:cmdstanpy:idx 0\n",
            "DEBUG:cmdstanpy:running CmdStan, num_threads: None\n",
            "DEBUG:cmdstanpy:CmdStan args: ['/usr/local/lib/python3.8/dist-packages/prophet/stan_model/prophet_model.bin', 'random', 'seed=70809', 'data', 'file=/tmp/tmp09dakauk/pdc1byn0.json', 'init=/tmp/tmp09dakauk/uoja_g03.json', 'output', 'file=/tmp/tmp09dakauk/prophet_modeluqqaavm0/prophet_model-20230216095204.csv', 'method=optimize', 'algorithm=newton', 'iter=10000']\n",
            "09:52:04 - cmdstanpy - INFO - Chain [1] start processing\n",
            "INFO:cmdstanpy:Chain [1] start processing\n"
          ]
        },
        {
          "output_type": "stream",
          "name": "stdout",
          "text": [
            "141 - FBProphet with avg smape 2.61: \n",
            "Model Number: 142 of 179 with model FBProphet for Validation 2\n"
          ]
        },
        {
          "output_type": "stream",
          "name": "stderr",
          "text": [
            "09:52:04 - cmdstanpy - INFO - Chain [1] done processing\n",
            "INFO:cmdstanpy:Chain [1] done processing\n"
          ]
        },
        {
          "output_type": "stream",
          "name": "stdout",
          "text": [
            "142 - FBProphet with avg smape 2.61: \n",
            "Model Number: 143 of 179 with model ConstantNaive for Validation 2\n",
            "143 - ConstantNaive with avg smape 6.51: \n",
            "Model Number: 144 of 179 with model MultivariateMotif for Validation 2\n",
            "144 - MultivariateMotif with avg smape 11.21: \n",
            "Model Number: 145 of 179 with model UnivariateMotif for Validation 2\n",
            "145 - UnivariateMotif with avg smape 25.13: \n",
            "Model Number: 146 of 179 with model GLS for Validation 2\n",
            "146 - GLS with avg smape 5.18: \n",
            "Model Number: 147 of 179 with model GLM for Validation 2\n"
          ]
        },
        {
          "output_type": "stream",
          "name": "stderr",
          "text": [
            "INFO:prophet:Disabling yearly seasonality. Run prophet with yearly_seasonality=True to override this.\n",
            "INFO:prophet:Disabling daily seasonality. Run prophet with daily_seasonality=True to override this.\n"
          ]
        },
        {
          "output_type": "stream",
          "name": "stdout",
          "text": [
            "147 - GLM with avg smape 27.5: \n",
            "Model Number: 148 of 179 with model FBProphet for Validation 2\n"
          ]
        },
        {
          "output_type": "stream",
          "name": "stderr",
          "text": [
            "DEBUG:cmdstanpy:input tempfile: /tmp/tmp09dakauk/kt8nvfb9.json\n",
            "DEBUG:cmdstanpy:input tempfile: /tmp/tmp09dakauk/880ek1a0.json\n",
            "DEBUG:cmdstanpy:idx 0\n",
            "DEBUG:cmdstanpy:running CmdStan, num_threads: None\n",
            "DEBUG:cmdstanpy:CmdStan args: ['/usr/local/lib/python3.8/dist-packages/prophet/stan_model/prophet_model.bin', 'random', 'seed=51274', 'data', 'file=/tmp/tmp09dakauk/kt8nvfb9.json', 'init=/tmp/tmp09dakauk/880ek1a0.json', 'output', 'file=/tmp/tmp09dakauk/prophet_model_h1bmrtj/prophet_model-20230216095205.csv', 'method=optimize', 'algorithm=lbfgs', 'iter=10000']\n",
            "09:52:05 - cmdstanpy - INFO - Chain [1] start processing\n",
            "INFO:cmdstanpy:Chain [1] start processing\n",
            "09:52:05 - cmdstanpy - INFO - Chain [1] done processing\n",
            "INFO:cmdstanpy:Chain [1] done processing\n"
          ]
        },
        {
          "output_type": "stream",
          "name": "stdout",
          "text": [
            "148 - FBProphet with avg smape 4.55: \n",
            "Model Number: 149 of 179 with model GLS for Validation 2\n",
            "149 - GLS with avg smape 5.59: \n",
            "Model Number: 150 of 179 with model UnivariateMotif for Validation 2\n",
            "150 - UnivariateMotif with avg smape 3.56: \n",
            "Model Number: 151 of 179 with model UnivariateMotif for Validation 2\n"
          ]
        },
        {
          "output_type": "stream",
          "name": "stderr",
          "text": [
            "INFO:prophet:Disabling yearly seasonality. Run prophet with yearly_seasonality=True to override this.\n"
          ]
        },
        {
          "output_type": "stream",
          "name": "stdout",
          "text": [
            "151 - UnivariateMotif with avg smape 24.21: \n",
            "Model Number: 152 of 179 with model FBProphet for Validation 2\n"
          ]
        },
        {
          "output_type": "stream",
          "name": "stderr",
          "text": [
            "INFO:prophet:Disabling daily seasonality. Run prophet with daily_seasonality=True to override this.\n",
            "DEBUG:cmdstanpy:input tempfile: /tmp/tmp09dakauk/njfxwafb.json\n",
            "DEBUG:cmdstanpy:input tempfile: /tmp/tmp09dakauk/a945mau6.json\n",
            "DEBUG:cmdstanpy:idx 0\n",
            "DEBUG:cmdstanpy:running CmdStan, num_threads: None\n",
            "DEBUG:cmdstanpy:CmdStan args: ['/usr/local/lib/python3.8/dist-packages/prophet/stan_model/prophet_model.bin', 'random', 'seed=58546', 'data', 'file=/tmp/tmp09dakauk/njfxwafb.json', 'init=/tmp/tmp09dakauk/a945mau6.json', 'output', 'file=/tmp/tmp09dakauk/prophet_modeljskn78ty/prophet_model-20230216095206.csv', 'method=optimize', 'algorithm=newton', 'iter=10000']\n",
            "09:52:06 - cmdstanpy - INFO - Chain [1] start processing\n",
            "INFO:cmdstanpy:Chain [1] start processing\n",
            "09:52:06 - cmdstanpy - INFO - Chain [1] done processing\n",
            "INFO:cmdstanpy:Chain [1] done processing\n"
          ]
        },
        {
          "output_type": "stream",
          "name": "stdout",
          "text": [
            "152 - FBProphet with avg smape 10.56: \n",
            "Model Number: 153 of 179 with model UnivariateMotif for Validation 2\n"
          ]
        },
        {
          "output_type": "stream",
          "name": "stderr",
          "text": [
            "INFO:prophet:Disabling yearly seasonality. Run prophet with yearly_seasonality=True to override this.\n",
            "INFO:prophet:Disabling daily seasonality. Run prophet with daily_seasonality=True to override this.\n"
          ]
        },
        {
          "output_type": "stream",
          "name": "stdout",
          "text": [
            "153 - UnivariateMotif with avg smape 10.76: \n",
            "Model Number: 154 of 179 with model FBProphet for Validation 2\n"
          ]
        },
        {
          "output_type": "stream",
          "name": "stderr",
          "text": [
            "DEBUG:cmdstanpy:input tempfile: /tmp/tmp09dakauk/s7igngbd.json\n",
            "DEBUG:cmdstanpy:input tempfile: /tmp/tmp09dakauk/kqi0ylx8.json\n",
            "DEBUG:cmdstanpy:idx 0\n",
            "DEBUG:cmdstanpy:running CmdStan, num_threads: None\n",
            "DEBUG:cmdstanpy:CmdStan args: ['/usr/local/lib/python3.8/dist-packages/prophet/stan_model/prophet_model.bin', 'random', 'seed=12595', 'data', 'file=/tmp/tmp09dakauk/s7igngbd.json', 'init=/tmp/tmp09dakauk/kqi0ylx8.json', 'output', 'file=/tmp/tmp09dakauk/prophet_modelnb9752uh/prophet_model-20230216095207.csv', 'method=optimize', 'algorithm=lbfgs', 'iter=10000']\n",
            "09:52:07 - cmdstanpy - INFO - Chain [1] start processing\n",
            "INFO:cmdstanpy:Chain [1] start processing\n",
            "09:52:07 - cmdstanpy - INFO - Chain [1] done processing\n",
            "INFO:cmdstanpy:Chain [1] done processing\n",
            "INFO:prophet:Disabling yearly seasonality. Run prophet with yearly_seasonality=True to override this.\n",
            "INFO:prophet:Disabling daily seasonality. Run prophet with daily_seasonality=True to override this.\n",
            "DEBUG:cmdstanpy:input tempfile: /tmp/tmp09dakauk/lzzli9zf.json\n",
            "DEBUG:cmdstanpy:input tempfile: /tmp/tmp09dakauk/3fex5yht.json\n",
            "DEBUG:cmdstanpy:idx 0\n",
            "DEBUG:cmdstanpy:running CmdStan, num_threads: None\n",
            "DEBUG:cmdstanpy:CmdStan args: ['/usr/local/lib/python3.8/dist-packages/prophet/stan_model/prophet_model.bin', 'random', 'seed=46263', 'data', 'file=/tmp/tmp09dakauk/lzzli9zf.json', 'init=/tmp/tmp09dakauk/3fex5yht.json', 'output', 'file=/tmp/tmp09dakauk/prophet_modeluw82upc3/prophet_model-20230216095207.csv', 'method=optimize', 'algorithm=newton', 'iter=10000']\n",
            "09:52:07 - cmdstanpy - INFO - Chain [1] start processing\n",
            "INFO:cmdstanpy:Chain [1] start processing\n"
          ]
        },
        {
          "output_type": "stream",
          "name": "stdout",
          "text": [
            "154 - FBProphet with avg smape 5.13: \n",
            "Model Number: 155 of 179 with model FBProphet for Validation 2\n"
          ]
        },
        {
          "output_type": "stream",
          "name": "stderr",
          "text": [
            "09:52:08 - cmdstanpy - INFO - Chain [1] done processing\n",
            "INFO:cmdstanpy:Chain [1] done processing\n"
          ]
        },
        {
          "output_type": "stream",
          "name": "stdout",
          "text": [
            "155 - FBProphet with avg smape 15.33: \n",
            "Model Number: 156 of 179 with model GLS for Validation 2\n",
            "156 - GLS with avg smape 5.78: \n",
            "Model Number: 157 of 179 with model GLS for Validation 2\n"
          ]
        },
        {
          "output_type": "stream",
          "name": "stderr",
          "text": [
            "INFO:prophet:Disabling yearly seasonality. Run prophet with yearly_seasonality=True to override this.\n",
            "INFO:prophet:Disabling daily seasonality. Run prophet with daily_seasonality=True to override this.\n",
            "DEBUG:cmdstanpy:input tempfile: /tmp/tmp09dakauk/1ll1dcf7.json\n",
            "DEBUG:cmdstanpy:input tempfile: /tmp/tmp09dakauk/niw9_jag.json\n"
          ]
        },
        {
          "output_type": "stream",
          "name": "stdout",
          "text": [
            "157 - GLS with avg smape 5.78: \n",
            "Model Number: 158 of 179 with model FBProphet for Validation 2\n"
          ]
        },
        {
          "output_type": "stream",
          "name": "stderr",
          "text": [
            "DEBUG:cmdstanpy:idx 0\n",
            "DEBUG:cmdstanpy:running CmdStan, num_threads: None\n",
            "DEBUG:cmdstanpy:CmdStan args: ['/usr/local/lib/python3.8/dist-packages/prophet/stan_model/prophet_model.bin', 'random', 'seed=29889', 'data', 'file=/tmp/tmp09dakauk/1ll1dcf7.json', 'init=/tmp/tmp09dakauk/niw9_jag.json', 'output', 'file=/tmp/tmp09dakauk/prophet_model9spx8y75/prophet_model-20230216095208.csv', 'method=optimize', 'algorithm=lbfgs', 'iter=10000']\n",
            "09:52:08 - cmdstanpy - INFO - Chain [1] start processing\n",
            "INFO:cmdstanpy:Chain [1] start processing\n",
            "09:52:09 - cmdstanpy - INFO - Chain [1] done processing\n",
            "INFO:cmdstanpy:Chain [1] done processing\n",
            "/usr/local/lib/python3.8/dist-packages/statsmodels/genmod/families/family.py:1231: RuntimeWarning:\n",
            "\n",
            "invalid value encountered in log\n",
            "\n"
          ]
        },
        {
          "output_type": "stream",
          "name": "stdout",
          "text": [
            "158 - FBProphet with avg smape 2.06: \n",
            "Model Number: 159 of 179 with model GLM for Validation 2\n",
            "Template Eval Error: ValueError('The first guess on the deviance function returned a nan.  This could be a boundary  problem and should be reported.') in model 159: GLM\n",
            "Model Number: 160 of 179 with model GLS for Validation 2\n",
            "160 - GLS with avg smape 7.59: \n",
            "Model Number: 161 of 179 with model ConstantNaive for Validation 2\n",
            "161 - ConstantNaive with avg smape 6.51: \n",
            "Model Number: 162 of 179 with model GLS for Validation 2\n",
            "162 - GLS with avg smape 3.96: \n",
            "Model Number: 163 of 179 with model ConstantNaive for Validation 2\n",
            "163 - ConstantNaive with avg smape 21.35: \n",
            "Model Number: 164 of 179 with model GLS for Validation 2\n",
            "164 - GLS with avg smape 4.32: \n",
            "Model Number: 165 of 179 with model GLS for Validation 2\n",
            "165 - GLS with avg smape 4.32: \n",
            "Model Number: 166 of 179 with model GLS for Validation 2\n",
            "166 - GLS with avg smape 3.57: \n",
            "Model Number: 167 of 179 with model GLM for Validation 2\n",
            "167 - GLM with avg smape 24.36: \n",
            "Model Number: 168 of 179 with model GLM for Validation 2\n",
            "168 - GLM with avg smape 6.4: \n",
            "Model Number: 169 of 179 with model ConstantNaive for Validation 2\n",
            "169 - ConstantNaive with avg smape 9.1: \n",
            "Model Number: 170 of 179 with model ConstantNaive for Validation 2\n",
            "170 - ConstantNaive with avg smape 5.44: \n",
            "Model Number: 171 of 179 with model ConstantNaive for Validation 2\n",
            "171 - ConstantNaive with avg smape 3.89: \n",
            "Model Number: 172 of 179 with model ConstantNaive for Validation 2\n",
            "172 - ConstantNaive with avg smape 3.89: \n",
            "Model Number: 173 of 179 with model GLM for Validation 2\n",
            "173 - GLM with avg smape 7.56: \n",
            "Model Number: 174 of 179 with model ConstantNaive for Validation 2\n",
            "174 - ConstantNaive with avg smape 9.32: \n",
            "Model Number: 175 of 179 with model GLM for Validation 2\n",
            "175 - GLM with avg smape 14.79: \n",
            "Model Number: 176 of 179 with model GLM for Validation 2\n"
          ]
        },
        {
          "output_type": "stream",
          "name": "stderr",
          "text": [
            "/usr/local/lib/python3.8/dist-packages/statsmodels/genmod/families/links.py:188: RuntimeWarning:\n",
            "\n",
            "overflow encountered in exp\n",
            "\n",
            "/usr/local/lib/python3.8/dist-packages/statsmodels/genmod/families/links.py:188: RuntimeWarning:\n",
            "\n",
            "overflow encountered in exp\n",
            "\n"
          ]
        },
        {
          "output_type": "stream",
          "name": "stdout",
          "text": [
            "176 - GLM with avg smape 14.79: \n",
            "Model Number: 177 of 179 with model GLM for Validation 2\n",
            "177 - GLM with avg smape 15.31: \n",
            "Model Number: 178 of 179 with model GLM for Validation 2\n",
            "178 - GLM with avg smape 15.31: \n",
            "Model Number: 179 of 179 with model Ensemble for Validation 2\n",
            "HolidayTransformer: no anomalies detected.\n"
          ]
        },
        {
          "output_type": "stream",
          "name": "stderr",
          "text": [
            "/usr/local/lib/python3.8/dist-packages/sklearn/preprocessing/_data.py:3253: RuntimeWarning:\n",
            "\n",
            "divide by zero encountered in log\n",
            "\n",
            "/usr/local/lib/python3.8/dist-packages/autots/tools/probabilistic.py:67: RuntimeWarning:\n",
            "\n",
            "invalid value encountered in true_divide\n",
            "\n",
            "/usr/local/lib/python3.8/dist-packages/autots/tools/probabilistic.py:68: RuntimeWarning:\n",
            "\n",
            "divide by zero encountered in true_divide\n",
            "\n",
            "/usr/local/lib/python3.8/dist-packages/sklearn/preprocessing/_data.py:3196: RuntimeWarning:\n",
            "\n",
            "divide by zero encountered in power\n",
            "\n",
            "/usr/local/lib/python3.8/dist-packages/sklearn/preprocessing/_data.py:3196: RuntimeWarning:\n",
            "\n",
            "divide by zero encountered in power\n",
            "\n",
            "/usr/local/lib/python3.8/dist-packages/sklearn/preprocessing/_data.py:3196: RuntimeWarning:\n",
            "\n",
            "divide by zero encountered in power\n",
            "\n",
            "/usr/local/lib/python3.8/dist-packages/sklearn/linear_model/_ridge.py:157: LinAlgWarning:\n",
            "\n",
            "Ill-conditioned matrix (rcond=8.90724e-25): result may not be accurate.\n",
            "\n"
          ]
        },
        {
          "output_type": "stream",
          "name": "stdout",
          "text": [
            "179 - Ensemble with avg smape nan: \n",
            "Validation Round: 3\n",
            "Model Number: 1 of 179 with model Ensemble for Validation 3\n"
          ]
        },
        {
          "output_type": "stream",
          "name": "stderr",
          "text": [
            "/usr/local/lib/python3.8/dist-packages/sklearn/linear_model/_ridge.py:157: LinAlgWarning:\n",
            "\n",
            "Ill-conditioned matrix (rcond=9.55285e-25): result may not be accurate.\n",
            "\n"
          ]
        },
        {
          "output_type": "stream",
          "name": "stdout",
          "text": [
            "📈 1 - Ensemble with avg smape 8.54: \n",
            "Model Number: 2 of 179 with model Ensemble for Validation 3\n",
            "📈 2 - Ensemble with avg smape 7.59: \n",
            "Model Number: 3 of 179 with model Ensemble for Validation 3\n",
            "3 - Ensemble with avg smape 7.59: \n",
            "Model Number: 4 of 179 with model NVAR for Validation 3\n",
            "4 - NVAR with avg smape 7.59: \n",
            "Model Number: 5 of 179 with model NVAR for Validation 3\n",
            "5 - NVAR with avg smape 7.59: \n",
            "Model Number: 6 of 179 with model NVAR for Validation 3\n",
            "6 - NVAR with avg smape 7.59: \n",
            "Model Number: 7 of 179 with model Ensemble for Validation 3\n"
          ]
        },
        {
          "output_type": "stream",
          "name": "stderr",
          "text": [
            "/usr/local/lib/python3.8/dist-packages/sklearn/linear_model/_ridge.py:157: LinAlgWarning:\n",
            "\n",
            "Ill-conditioned matrix (rcond=9.55285e-25): result may not be accurate.\n",
            "\n",
            "[Parallel(n_jobs=-2)]: Using backend SequentialBackend with 1 concurrent workers.\n",
            "[Parallel(n_jobs=-2)]: Done 200 out of 200 | elapsed:    0.4s finished\n",
            "[Parallel(n_jobs=1)]: Using backend SequentialBackend with 1 concurrent workers.\n",
            "[Parallel(n_jobs=1)]: Done 200 out of 200 | elapsed:    0.0s finished\n",
            "[Parallel(n_jobs=1)]: Using backend SequentialBackend with 1 concurrent workers.\n",
            "[Parallel(n_jobs=1)]: Done 200 out of 200 | elapsed:    0.0s finished\n",
            "[Parallel(n_jobs=1)]: Using backend SequentialBackend with 1 concurrent workers.\n",
            "[Parallel(n_jobs=1)]: Done 200 out of 200 | elapsed:    0.0s finished\n",
            "[Parallel(n_jobs=1)]: Using backend SequentialBackend with 1 concurrent workers.\n",
            "[Parallel(n_jobs=1)]: Done 200 out of 200 | elapsed:    0.0s finished\n",
            "[Parallel(n_jobs=1)]: Using backend SequentialBackend with 1 concurrent workers.\n",
            "[Parallel(n_jobs=1)]: Done 200 out of 200 | elapsed:    0.0s finished\n",
            "[Parallel(n_jobs=1)]: Using backend SequentialBackend with 1 concurrent workers.\n",
            "[Parallel(n_jobs=1)]: Done 200 out of 200 | elapsed:    0.0s finished\n",
            "[Parallel(n_jobs=1)]: Using backend SequentialBackend with 1 concurrent workers.\n",
            "[Parallel(n_jobs=1)]: Done 200 out of 200 | elapsed:    0.0s finished\n",
            "[Parallel(n_jobs=1)]: Using backend SequentialBackend with 1 concurrent workers.\n",
            "[Parallel(n_jobs=1)]: Done 200 out of 200 | elapsed:    0.0s finished\n",
            "[Parallel(n_jobs=1)]: Using backend SequentialBackend with 1 concurrent workers.\n",
            "[Parallel(n_jobs=1)]: Done 200 out of 200 | elapsed:    0.0s finished\n",
            "[Parallel(n_jobs=1)]: Using backend SequentialBackend with 1 concurrent workers.\n",
            "[Parallel(n_jobs=1)]: Done 200 out of 200 | elapsed:    0.0s finished\n"
          ]
        },
        {
          "output_type": "stream",
          "name": "stdout",
          "text": [
            "7 - Ensemble with avg smape 9.21: \n",
            "Model Number: 8 of 179 with model ARIMA for Validation 3\n",
            "8 - ARIMA with avg smape 8.34: \n",
            "Model Number: 9 of 179 with model ARIMA for Validation 3\n",
            "9 - ARIMA with avg smape 8.34: \n",
            "Model Number: 10 of 179 with model NVAR for Validation 3\n",
            "📈 10 - NVAR with avg smape 7.21: \n",
            "Model Number: 11 of 179 with model NVAR for Validation 3\n",
            "11 - NVAR with avg smape 7.21: \n",
            "Model Number: 12 of 179 with model NVAR for Validation 3\n",
            "12 - NVAR with avg smape 7.21: \n",
            "Model Number: 13 of 179 with model NVAR for Validation 3\n",
            "13 - NVAR with avg smape 7.21: \n",
            "Model Number: 14 of 179 with model NVAR for Validation 3\n",
            "14 - NVAR with avg smape 7.21: \n",
            "Model Number: 15 of 179 with model NVAR for Validation 3\n",
            "15 - NVAR with avg smape 7.21: \n",
            "Model Number: 16 of 179 with model DatepartRegression for Validation 3\n",
            "16 - DatepartRegression with avg smape 9.76: \n",
            "Model Number: 17 of 179 with model DatepartRegression for Validation 3\n"
          ]
        },
        {
          "output_type": "stream",
          "name": "stderr",
          "text": [
            "/usr/local/lib/python3.8/dist-packages/sklearn/linear_model/_ridge.py:157: LinAlgWarning:\n",
            "\n",
            "Ill-conditioned matrix (rcond=9.55285e-25): result may not be accurate.\n",
            "\n"
          ]
        },
        {
          "output_type": "stream",
          "name": "stdout",
          "text": [
            "17 - DatepartRegression with avg smape 9.74: \n",
            "Model Number: 18 of 179 with model DatepartRegression for Validation 3\n",
            "18 - DatepartRegression with avg smape 9.76: \n",
            "Model Number: 19 of 179 with model ARIMA for Validation 3\n",
            "19 - ARIMA with avg smape 8.34: \n",
            "Model Number: 20 of 179 with model ARIMA for Validation 3\n",
            "20 - ARIMA with avg smape 7.21: \n",
            "Model Number: 21 of 179 with model ARIMA for Validation 3\n",
            "21 - ARIMA with avg smape 7.59: \n",
            "Model Number: 22 of 179 with model ARIMA for Validation 3\n",
            "22 - ARIMA with avg smape 7.21: \n",
            "Model Number: 23 of 179 with model ARIMA for Validation 3\n",
            "23 - ARIMA with avg smape 7.59: \n",
            "Model Number: 24 of 179 with model ARIMA for Validation 3\n",
            "24 - ARIMA with avg smape 8.96: \n",
            "Model Number: 25 of 179 with model ARIMA for Validation 3\n",
            "25 - ARIMA with avg smape 8.72: \n",
            "Model Number: 26 of 179 with model Ensemble for Validation 3\n",
            "26 - Ensemble with avg smape 9.51: \n",
            "Model Number: 27 of 179 with model Ensemble for Validation 3\n",
            "27 - Ensemble with avg smape 9.51: \n",
            "Model Number: 28 of 179 with model Ensemble for Validation 3\n"
          ]
        },
        {
          "output_type": "stream",
          "name": "stderr",
          "text": [
            "/usr/local/lib/python3.8/dist-packages/sklearn/linear_model/_ridge.py:157: LinAlgWarning:\n",
            "\n",
            "Ill-conditioned matrix (rcond=9.55285e-25): result may not be accurate.\n",
            "\n"
          ]
        },
        {
          "output_type": "stream",
          "name": "stdout",
          "text": [
            "28 - Ensemble with avg smape 9.77: \n",
            "Model Number: 29 of 179 with model MultivariateRegression for Validation 3\n"
          ]
        },
        {
          "output_type": "stream",
          "name": "stderr",
          "text": [
            "[Parallel(n_jobs=-2)]: Using backend SequentialBackend with 1 concurrent workers.\n",
            "[Parallel(n_jobs=-2)]: Done 200 out of 200 | elapsed:    0.4s finished\n",
            "[Parallel(n_jobs=1)]: Using backend SequentialBackend with 1 concurrent workers.\n",
            "[Parallel(n_jobs=1)]: Done 200 out of 200 | elapsed:    0.0s finished\n",
            "[Parallel(n_jobs=1)]: Using backend SequentialBackend with 1 concurrent workers.\n",
            "[Parallel(n_jobs=1)]: Done 200 out of 200 | elapsed:    0.0s finished\n",
            "[Parallel(n_jobs=1)]: Using backend SequentialBackend with 1 concurrent workers.\n",
            "[Parallel(n_jobs=1)]: Done 200 out of 200 | elapsed:    0.0s finished\n",
            "[Parallel(n_jobs=1)]: Using backend SequentialBackend with 1 concurrent workers.\n",
            "[Parallel(n_jobs=1)]: Done 200 out of 200 | elapsed:    0.0s finished\n",
            "[Parallel(n_jobs=1)]: Using backend SequentialBackend with 1 concurrent workers.\n",
            "[Parallel(n_jobs=1)]: Done 200 out of 200 | elapsed:    0.0s finished\n",
            "[Parallel(n_jobs=1)]: Using backend SequentialBackend with 1 concurrent workers.\n",
            "[Parallel(n_jobs=1)]: Done 200 out of 200 | elapsed:    0.0s finished\n",
            "[Parallel(n_jobs=1)]: Using backend SequentialBackend with 1 concurrent workers.\n",
            "[Parallel(n_jobs=1)]: Done 200 out of 200 | elapsed:    0.0s finished\n",
            "[Parallel(n_jobs=1)]: Using backend SequentialBackend with 1 concurrent workers.\n",
            "[Parallel(n_jobs=1)]: Done 200 out of 200 | elapsed:    0.0s finished\n",
            "[Parallel(n_jobs=1)]: Using backend SequentialBackend with 1 concurrent workers.\n",
            "[Parallel(n_jobs=1)]: Done 200 out of 200 | elapsed:    0.0s finished\n",
            "[Parallel(n_jobs=1)]: Using backend SequentialBackend with 1 concurrent workers.\n",
            "[Parallel(n_jobs=1)]: Done 200 out of 200 | elapsed:    0.0s finished\n"
          ]
        },
        {
          "output_type": "stream",
          "name": "stdout",
          "text": [
            "29 - MultivariateRegression with avg smape 10.12: \n",
            "Model Number: 30 of 179 with model MultivariateRegression for Validation 3\n"
          ]
        },
        {
          "output_type": "stream",
          "name": "stderr",
          "text": [
            "[Parallel(n_jobs=-2)]: Using backend SequentialBackend with 1 concurrent workers.\n",
            "[Parallel(n_jobs=-2)]: Done 200 out of 200 | elapsed:    0.4s finished\n",
            "[Parallel(n_jobs=1)]: Using backend SequentialBackend with 1 concurrent workers.\n",
            "[Parallel(n_jobs=1)]: Done 200 out of 200 | elapsed:    0.0s finished\n",
            "[Parallel(n_jobs=1)]: Using backend SequentialBackend with 1 concurrent workers.\n",
            "[Parallel(n_jobs=1)]: Done 200 out of 200 | elapsed:    0.0s finished\n",
            "[Parallel(n_jobs=1)]: Using backend SequentialBackend with 1 concurrent workers.\n",
            "[Parallel(n_jobs=1)]: Done 200 out of 200 | elapsed:    0.0s finished\n",
            "[Parallel(n_jobs=1)]: Using backend SequentialBackend with 1 concurrent workers.\n",
            "[Parallel(n_jobs=1)]: Done 200 out of 200 | elapsed:    0.0s finished\n",
            "[Parallel(n_jobs=1)]: Using backend SequentialBackend with 1 concurrent workers.\n",
            "[Parallel(n_jobs=1)]: Done 200 out of 200 | elapsed:    0.0s finished\n",
            "[Parallel(n_jobs=1)]: Using backend SequentialBackend with 1 concurrent workers.\n",
            "[Parallel(n_jobs=1)]: Done 200 out of 200 | elapsed:    0.0s finished\n",
            "[Parallel(n_jobs=1)]: Using backend SequentialBackend with 1 concurrent workers.\n",
            "[Parallel(n_jobs=1)]: Done 200 out of 200 | elapsed:    0.0s finished\n",
            "[Parallel(n_jobs=1)]: Using backend SequentialBackend with 1 concurrent workers.\n",
            "[Parallel(n_jobs=1)]: Done 200 out of 200 | elapsed:    0.0s finished\n",
            "[Parallel(n_jobs=1)]: Using backend SequentialBackend with 1 concurrent workers.\n",
            "[Parallel(n_jobs=1)]: Done 200 out of 200 | elapsed:    0.0s finished\n",
            "[Parallel(n_jobs=1)]: Using backend SequentialBackend with 1 concurrent workers.\n",
            "[Parallel(n_jobs=1)]: Done 200 out of 200 | elapsed:    0.0s finished\n"
          ]
        },
        {
          "output_type": "stream",
          "name": "stdout",
          "text": [
            "30 - MultivariateRegression with avg smape 9.95: \n",
            "Model Number: 31 of 179 with model UnobservedComponents for Validation 3\n",
            "31 - UnobservedComponents with avg smape 10.46: \n",
            "Model Number: 32 of 179 with model UnobservedComponents for Validation 3\n",
            "32 - UnobservedComponents with avg smape 10.32: \n",
            "Model Number: 33 of 179 with model MetricMotif for Validation 3\n",
            "33 - MetricMotif with avg smape 10.77: \n",
            "Model Number: 34 of 179 with model Theta for Validation 3\n",
            "34 - Theta with avg smape 8.67: \n",
            "Model Number: 35 of 179 with model Theta for Validation 3\n",
            "35 - Theta with avg smape 8.8: \n",
            "Model Number: 36 of 179 with model MultivariateRegression for Validation 3\n"
          ]
        },
        {
          "output_type": "stream",
          "name": "stderr",
          "text": [
            "[Parallel(n_jobs=-2)]: Using backend SequentialBackend with 1 concurrent workers.\n",
            "[Parallel(n_jobs=-2)]: Done 200 out of 200 | elapsed:    0.6s finished\n",
            "[Parallel(n_jobs=1)]: Using backend SequentialBackend with 1 concurrent workers.\n",
            "[Parallel(n_jobs=1)]: Done 200 out of 200 | elapsed:    0.0s finished\n",
            "[Parallel(n_jobs=1)]: Using backend SequentialBackend with 1 concurrent workers.\n",
            "[Parallel(n_jobs=1)]: Done 200 out of 200 | elapsed:    0.0s finished\n",
            "[Parallel(n_jobs=1)]: Using backend SequentialBackend with 1 concurrent workers.\n",
            "[Parallel(n_jobs=1)]: Done 200 out of 200 | elapsed:    0.0s finished\n",
            "[Parallel(n_jobs=1)]: Using backend SequentialBackend with 1 concurrent workers.\n",
            "[Parallel(n_jobs=1)]: Done 200 out of 200 | elapsed:    0.0s finished\n",
            "[Parallel(n_jobs=1)]: Using backend SequentialBackend with 1 concurrent workers.\n",
            "[Parallel(n_jobs=1)]: Done 200 out of 200 | elapsed:    0.0s finished\n",
            "[Parallel(n_jobs=1)]: Using backend SequentialBackend with 1 concurrent workers.\n",
            "[Parallel(n_jobs=1)]: Done 200 out of 200 | elapsed:    0.0s finished\n",
            "[Parallel(n_jobs=1)]: Using backend SequentialBackend with 1 concurrent workers.\n",
            "[Parallel(n_jobs=1)]: Done 200 out of 200 | elapsed:    0.0s finished\n",
            "[Parallel(n_jobs=1)]: Using backend SequentialBackend with 1 concurrent workers.\n",
            "[Parallel(n_jobs=1)]: Done 200 out of 200 | elapsed:    0.0s finished\n",
            "[Parallel(n_jobs=1)]: Using backend SequentialBackend with 1 concurrent workers.\n",
            "[Parallel(n_jobs=1)]: Done 200 out of 200 | elapsed:    0.0s finished\n",
            "[Parallel(n_jobs=1)]: Using backend SequentialBackend with 1 concurrent workers.\n"
          ]
        },
        {
          "output_type": "stream",
          "name": "stdout",
          "text": [
            "36 - MultivariateRegression with avg smape 11.85: \n",
            "Model Number: 37 of 179 with model MetricMotif for Validation 3\n"
          ]
        },
        {
          "output_type": "stream",
          "name": "stderr",
          "text": [
            "[Parallel(n_jobs=1)]: Done 200 out of 200 | elapsed:    0.0s finished\n"
          ]
        },
        {
          "output_type": "stream",
          "name": "stdout",
          "text": [
            "37 - MetricMotif with avg smape 11.79: \n",
            "Model Number: 38 of 179 with model MetricMotif for Validation 3\n",
            "38 - MetricMotif with avg smape 10.91: \n",
            "Model Number: 39 of 179 with model SeasonalNaive for Validation 3\n",
            "39 - SeasonalNaive with avg smape 10.05: \n",
            "Model Number: 40 of 179 with model MetricMotif for Validation 3\n",
            "40 - MetricMotif with avg smape 11.84: \n",
            "Model Number: 41 of 179 with model SeasonalNaive for Validation 3\n",
            "41 - SeasonalNaive with avg smape 11.19: \n",
            "Model Number: 42 of 179 with model SectionalMotif for Validation 3\n",
            "42 - SectionalMotif with avg smape 9.86: \n",
            "Model Number: 43 of 179 with model UnobservedComponents for Validation 3\n",
            "43 - UnobservedComponents with avg smape 10.54: \n",
            "Model Number: 44 of 179 with model DatepartRegression for Validation 3\n",
            "HolidayTransformer: no anomalies detected.\n",
            "44 - DatepartRegression with avg smape 10.43: \n",
            "Model Number: 45 of 179 with model UnobservedComponents for Validation 3\n",
            "45 - UnobservedComponents with avg smape 10.86: \n",
            "Model Number: 46 of 179 with model SeasonalNaive for Validation 3\n",
            "46 - SeasonalNaive with avg smape 10.02: \n",
            "Model Number: 47 of 179 with model SeasonalNaive for Validation 3\n",
            "47 - SeasonalNaive with avg smape 10.02: \n",
            "Model Number: 48 of 179 with model SeasonalNaive for Validation 3\n",
            "48 - SeasonalNaive with avg smape 10.23: \n",
            "Model Number: 49 of 179 with model SeasonalNaive for Validation 3\n",
            "49 - SeasonalNaive with avg smape 11.29: \n",
            "Model Number: 50 of 179 with model MetricMotif for Validation 3\n",
            "50 - MetricMotif with avg smape 11.71: \n",
            "Model Number: 51 of 179 with model UnobservedComponents for Validation 3\n",
            "51 - UnobservedComponents with avg smape 10.46: \n",
            "Model Number: 52 of 179 with model SeasonalNaive for Validation 3\n",
            "52 - SeasonalNaive with avg smape 10.25: \n",
            "Model Number: 53 of 179 with model DatepartRegression for Validation 3\n",
            "53 - DatepartRegression with avg smape 10.38: \n",
            "Model Number: 54 of 179 with model DatepartRegression for Validation 3\n",
            "54 - DatepartRegression with avg smape 10.38: \n",
            "Model Number: 55 of 179 with model SectionalMotif for Validation 3\n",
            "55 - SectionalMotif with avg smape 10.08: \n",
            "Model Number: 56 of 179 with model DatepartRegression for Validation 3\n",
            "56 - DatepartRegression with avg smape 10.34: \n",
            "Model Number: 57 of 179 with model DatepartRegression for Validation 3\n",
            "57 - DatepartRegression with avg smape 10.34: \n",
            "Model Number: 58 of 179 with model UnobservedComponents for Validation 3\n",
            "📈 58 - UnobservedComponents with avg smape 3.33: \n",
            "Model Number: 59 of 179 with model Theta for Validation 3\n",
            "59 - Theta with avg smape 10.77: \n",
            "Model Number: 60 of 179 with model Theta for Validation 3\n",
            "60 - Theta with avg smape 8.44: \n",
            "Model Number: 61 of 179 with model Theta for Validation 3\n",
            "61 - Theta with avg smape 8.62: \n",
            "Model Number: 62 of 179 with model Theta for Validation 3\n",
            "62 - Theta with avg smape 8.44: \n",
            "Model Number: 63 of 179 with model Theta for Validation 3\n",
            "63 - Theta with avg smape 10.77: \n",
            "Model Number: 64 of 179 with model MetricMotif for Validation 3\n",
            "64 - MetricMotif with avg smape 11.36: \n",
            "Model Number: 65 of 179 with model UnobservedComponents for Validation 3\n",
            "📈 65 - UnobservedComponents with avg smape 3.32: \n",
            "Model Number: 66 of 179 with model MetricMotif for Validation 3\n",
            "66 - MetricMotif with avg smape 11.33: \n",
            "Model Number: 67 of 179 with model LastValueNaive for Validation 3\n",
            "67 - LastValueNaive with avg smape 7.38: \n",
            "Model Number: 68 of 179 with model LastValueNaive for Validation 3\n",
            "68 - LastValueNaive with avg smape 7.38: \n",
            "Model Number: 69 of 179 with model ETS for Validation 3\n",
            "69 - ETS with avg smape 12.25: \n",
            "Model Number: 70 of 179 with model ETS for Validation 3\n",
            "70 - ETS with avg smape 12.25: \n",
            "Model Number: 71 of 179 with model ETS for Validation 3\n",
            "71 - ETS with avg smape 12.25: \n",
            "Model Number: 72 of 179 with model WindowRegression for Validation 3\n",
            "72 - WindowRegression with avg smape 10.93: \n",
            "Model Number: 73 of 179 with model MetricMotif for Validation 3\n"
          ]
        },
        {
          "output_type": "stream",
          "name": "stderr",
          "text": [
            "/usr/local/lib/python3.8/dist-packages/sklearn/neural_network/_multilayer_perceptron.py:549: ConvergenceWarning:\n",
            "\n",
            "lbfgs failed to converge (status=1):\n",
            "STOP: TOTAL NO. of ITERATIONS REACHED LIMIT.\n",
            "\n",
            "Increase the number of iterations (max_iter) or scale the data as shown in:\n",
            "    https://scikit-learn.org/stable/modules/preprocessing.html\n",
            "\n"
          ]
        },
        {
          "output_type": "stream",
          "name": "stdout",
          "text": [
            "73 - MetricMotif with avg smape 11.79: \n",
            "Model Number: 74 of 179 with model MetricMotif for Validation 3\n",
            "74 - MetricMotif with avg smape 11.67: \n",
            "Model Number: 75 of 179 with model UnobservedComponents for Validation 3\n",
            "75 - UnobservedComponents with avg smape 10.26: \n",
            "Model Number: 76 of 179 with model SeasonalNaive for Validation 3\n",
            "76 - SeasonalNaive with avg smape 10.27: \n",
            "Model Number: 77 of 179 with model SeasonalNaive for Validation 3\n",
            "77 - SeasonalNaive with avg smape 11.09: \n",
            "Model Number: 78 of 179 with model Theta for Validation 3\n",
            "78 - Theta with avg smape 10.63: \n",
            "Model Number: 79 of 179 with model Theta for Validation 3\n",
            "79 - Theta with avg smape 10.63: \n",
            "Model Number: 80 of 179 with model WindowRegression for Validation 3\n"
          ]
        },
        {
          "output_type": "stream",
          "name": "stderr",
          "text": [
            "/usr/local/lib/python3.8/dist-packages/sklearn/neural_network/_multilayer_perceptron.py:549: ConvergenceWarning:\n",
            "\n",
            "lbfgs failed to converge (status=1):\n",
            "STOP: TOTAL NO. of ITERATIONS REACHED LIMIT.\n",
            "\n",
            "Increase the number of iterations (max_iter) or scale the data as shown in:\n",
            "    https://scikit-learn.org/stable/modules/preprocessing.html\n",
            "\n"
          ]
        },
        {
          "output_type": "stream",
          "name": "stdout",
          "text": [
            "80 - WindowRegression with avg smape 10.12: \n",
            "Model Number: 81 of 179 with model WindowRegression for Validation 3\n"
          ]
        },
        {
          "output_type": "stream",
          "name": "stderr",
          "text": [
            "/usr/local/lib/python3.8/dist-packages/sklearn/neural_network/_multilayer_perceptron.py:549: ConvergenceWarning:\n",
            "\n",
            "lbfgs failed to converge (status=1):\n",
            "STOP: TOTAL NO. of ITERATIONS REACHED LIMIT.\n",
            "\n",
            "Increase the number of iterations (max_iter) or scale the data as shown in:\n",
            "    https://scikit-learn.org/stable/modules/preprocessing.html\n",
            "\n"
          ]
        },
        {
          "output_type": "stream",
          "name": "stdout",
          "text": [
            "81 - WindowRegression with avg smape 10.12: \n",
            "Model Number: 82 of 179 with model WindowRegression for Validation 3\n"
          ]
        },
        {
          "output_type": "stream",
          "name": "stderr",
          "text": [
            "/usr/local/lib/python3.8/dist-packages/sklearn/neural_network/_multilayer_perceptron.py:549: ConvergenceWarning:\n",
            "\n",
            "lbfgs failed to converge (status=1):\n",
            "STOP: TOTAL NO. of ITERATIONS REACHED LIMIT.\n",
            "\n",
            "Increase the number of iterations (max_iter) or scale the data as shown in:\n",
            "    https://scikit-learn.org/stable/modules/preprocessing.html\n",
            "\n"
          ]
        },
        {
          "output_type": "stream",
          "name": "stdout",
          "text": [
            "82 - WindowRegression with avg smape 10.12: \n",
            "Model Number: 83 of 179 with model AverageValueNaive for Validation 3\n",
            "83 - AverageValueNaive with avg smape 11.81: \n",
            "Model Number: 84 of 179 with model SectionalMotif for Validation 3\n",
            "84 - SectionalMotif with avg smape 15.69: \n",
            "Model Number: 85 of 179 with model AverageValueNaive for Validation 3\n",
            "85 - AverageValueNaive with avg smape 9.3: \n",
            "Model Number: 86 of 179 with model DatepartRegression for Validation 3\n",
            "86 - DatepartRegression with avg smape 10.49: \n",
            "Model Number: 87 of 179 with model UnobservedComponents for Validation 3\n",
            "87 - UnobservedComponents with avg smape 11.56: \n",
            "Model Number: 88 of 179 with model LastValueNaive for Validation 3\n",
            "88 - LastValueNaive with avg smape 12.57: \n",
            "Model Number: 89 of 179 with model LastValueNaive for Validation 3\n",
            "89 - LastValueNaive with avg smape 12.57: \n",
            "Model Number: 90 of 179 with model LastValueNaive for Validation 3\n",
            "90 - LastValueNaive with avg smape 12.57: \n",
            "Model Number: 91 of 179 with model AverageValueNaive for Validation 3\n",
            "91 - AverageValueNaive with avg smape 9.3: \n",
            "Model Number: 92 of 179 with model MultivariateRegression for Validation 3\n"
          ]
        },
        {
          "output_type": "stream",
          "name": "stderr",
          "text": [
            "[Parallel(n_jobs=-2)]: Using backend SequentialBackend with 1 concurrent workers.\n",
            "[Parallel(n_jobs=-2)]: Done 200 out of 200 | elapsed:    0.4s finished\n",
            "[Parallel(n_jobs=1)]: Using backend SequentialBackend with 1 concurrent workers.\n",
            "[Parallel(n_jobs=1)]: Done 200 out of 200 | elapsed:    0.0s finished\n",
            "[Parallel(n_jobs=1)]: Using backend SequentialBackend with 1 concurrent workers.\n",
            "[Parallel(n_jobs=1)]: Done 200 out of 200 | elapsed:    0.0s finished\n",
            "[Parallel(n_jobs=1)]: Using backend SequentialBackend with 1 concurrent workers.\n",
            "[Parallel(n_jobs=1)]: Done 200 out of 200 | elapsed:    0.0s finished\n",
            "[Parallel(n_jobs=1)]: Using backend SequentialBackend with 1 concurrent workers.\n",
            "[Parallel(n_jobs=1)]: Done 200 out of 200 | elapsed:    0.0s finished\n",
            "[Parallel(n_jobs=1)]: Using backend SequentialBackend with 1 concurrent workers.\n",
            "[Parallel(n_jobs=1)]: Done 200 out of 200 | elapsed:    0.0s finished\n",
            "[Parallel(n_jobs=1)]: Using backend SequentialBackend with 1 concurrent workers.\n",
            "[Parallel(n_jobs=1)]: Done 200 out of 200 | elapsed:    0.0s finished\n",
            "[Parallel(n_jobs=1)]: Using backend SequentialBackend with 1 concurrent workers.\n"
          ]
        },
        {
          "output_type": "stream",
          "name": "stdout",
          "text": [
            "92 - MultivariateRegression with avg smape 10.3: \n",
            "Model Number: 93 of 179 with model LastValueNaive for Validation 3\n"
          ]
        },
        {
          "output_type": "stream",
          "name": "stderr",
          "text": [
            "[Parallel(n_jobs=1)]: Done 200 out of 200 | elapsed:    0.0s finished\n",
            "[Parallel(n_jobs=1)]: Using backend SequentialBackend with 1 concurrent workers.\n",
            "[Parallel(n_jobs=1)]: Done 200 out of 200 | elapsed:    0.0s finished\n",
            "[Parallel(n_jobs=1)]: Using backend SequentialBackend with 1 concurrent workers.\n",
            "[Parallel(n_jobs=1)]: Done 200 out of 200 | elapsed:    0.0s finished\n",
            "[Parallel(n_jobs=1)]: Using backend SequentialBackend with 1 concurrent workers.\n",
            "[Parallel(n_jobs=1)]: Done 200 out of 200 | elapsed:    0.0s finished\n"
          ]
        },
        {
          "output_type": "stream",
          "name": "stdout",
          "text": [
            "93 - LastValueNaive with avg smape 9.11: \n",
            "Model Number: 94 of 179 with model LastValueNaive for Validation 3\n",
            "94 - LastValueNaive with avg smape 10.16: \n",
            "Model Number: 95 of 179 with model LastValueNaive for Validation 3\n",
            "95 - LastValueNaive with avg smape 10.16: \n",
            "Model Number: 96 of 179 with model LastValueNaive for Validation 3\n",
            "96 - LastValueNaive with avg smape 10.16: \n",
            "Model Number: 97 of 179 with model MultivariateRegression for Validation 3\n",
            "97 - MultivariateRegression with avg smape 13.45: \n",
            "Model Number: 98 of 179 with model UnivariateMotif for Validation 3\n",
            "98 - UnivariateMotif with avg smape 9.66: \n",
            "Model Number: 99 of 179 with model SectionalMotif for Validation 3\n",
            "99 - SectionalMotif with avg smape 9.68: \n",
            "Model Number: 100 of 179 with model SectionalMotif for Validation 3\n",
            "100 - SectionalMotif with avg smape 9.68: \n",
            "Model Number: 101 of 179 with model SectionalMotif for Validation 3\n",
            "101 - SectionalMotif with avg smape 9.93: \n",
            "Model Number: 102 of 179 with model SectionalMotif for Validation 3\n",
            "102 - SectionalMotif with avg smape 9.93: \n",
            "Model Number: 103 of 179 with model SectionalMotif for Validation 3\n",
            "103 - SectionalMotif with avg smape 9.68: \n",
            "Model Number: 104 of 179 with model UnivariateMotif for Validation 3\n",
            "104 - UnivariateMotif with avg smape 9.54: \n",
            "Model Number: 105 of 179 with model ConstantNaive for Validation 3\n",
            "105 - ConstantNaive with avg smape 10.81: \n",
            "Model Number: 106 of 179 with model AverageValueNaive for Validation 3\n",
            "106 - AverageValueNaive with avg smape 9.44: \n",
            "Model Number: 107 of 179 with model ETS for Validation 3\n",
            "107 - ETS with avg smape 12.57: \n",
            "Model Number: 108 of 179 with model SectionalMotif for Validation 3\n",
            "108 - SectionalMotif with avg smape 10.68: \n",
            "Model Number: 109 of 179 with model WindowRegression for Validation 3\n",
            "109 - WindowRegression with avg smape 12.44: \n",
            "Model Number: 110 of 179 with model ETS for Validation 3\n",
            "110 - ETS with avg smape 8.57: \n",
            "Model Number: 111 of 179 with model ETS for Validation 3\n",
            "111 - ETS with avg smape 8.56: \n",
            "Model Number: 112 of 179 with model MultivariateRegression for Validation 3\n",
            "112 - MultivariateRegression with avg smape 13.24: \n",
            "Model Number: 113 of 179 with model ETS for Validation 3\n",
            "113 - ETS with avg smape 10.19: \n",
            "Model Number: 114 of 179 with model ETS for Validation 3\n",
            "114 - ETS with avg smape 8.22: \n",
            "Model Number: 115 of 179 with model ETS for Validation 3\n"
          ]
        },
        {
          "output_type": "stream",
          "name": "stderr",
          "text": [
            "INFO:prophet:Disabling yearly seasonality. Run prophet with yearly_seasonality=True to override this.\n"
          ]
        },
        {
          "output_type": "stream",
          "name": "stdout",
          "text": [
            "115 - ETS with avg smape 10.16: \n",
            "Model Number: 116 of 179 with model FBProphet for Validation 3\n"
          ]
        },
        {
          "output_type": "stream",
          "name": "stderr",
          "text": [
            "INFO:prophet:Disabling daily seasonality. Run prophet with daily_seasonality=True to override this.\n",
            "DEBUG:cmdstanpy:input tempfile: /tmp/tmp09dakauk/85kx61b5.json\n",
            "DEBUG:cmdstanpy:input tempfile: /tmp/tmp09dakauk/mwv9_zyh.json\n",
            "DEBUG:cmdstanpy:idx 0\n",
            "DEBUG:cmdstanpy:running CmdStan, num_threads: None\n",
            "DEBUG:cmdstanpy:CmdStan args: ['/usr/local/lib/python3.8/dist-packages/prophet/stan_model/prophet_model.bin', 'random', 'seed=56472', 'data', 'file=/tmp/tmp09dakauk/85kx61b5.json', 'init=/tmp/tmp09dakauk/mwv9_zyh.json', 'output', 'file=/tmp/tmp09dakauk/prophet_modelrdm51a1y/prophet_model-20230216095253.csv', 'method=optimize', 'algorithm=lbfgs', 'iter=10000']\n",
            "09:52:53 - cmdstanpy - INFO - Chain [1] start processing\n",
            "INFO:cmdstanpy:Chain [1] start processing\n",
            "09:52:53 - cmdstanpy - INFO - Chain [1] done processing\n",
            "INFO:cmdstanpy:Chain [1] done processing\n"
          ]
        },
        {
          "output_type": "stream",
          "name": "stdout",
          "text": [
            "116 - FBProphet with avg smape 9.38: \n",
            "Model Number: 117 of 179 with model MultivariateMotif for Validation 3\n",
            "117 - MultivariateMotif with avg smape 8.87: \n",
            "Model Number: 118 of 179 with model WindowRegression for Validation 3\n",
            "118 - WindowRegression with avg smape 9.16: \n",
            "Model Number: 119 of 179 with model AverageValueNaive for Validation 3\n",
            "119 - AverageValueNaive with avg smape 10.48: \n",
            "Model Number: 120 of 179 with model AverageValueNaive for Validation 3\n",
            "120 - AverageValueNaive with avg smape 11.05: \n",
            "Model Number: 121 of 179 with model AverageValueNaive for Validation 3\n"
          ]
        },
        {
          "output_type": "stream",
          "name": "stderr",
          "text": [
            "INFO:prophet:Disabling yearly seasonality. Run prophet with yearly_seasonality=True to override this.\n",
            "INFO:prophet:Disabling daily seasonality. Run prophet with daily_seasonality=True to override this.\n",
            "DEBUG:cmdstanpy:input tempfile: /tmp/tmp09dakauk/cyzkz8xr.json\n",
            "DEBUG:cmdstanpy:input tempfile: /tmp/tmp09dakauk/7_iqpbng.json\n"
          ]
        },
        {
          "output_type": "stream",
          "name": "stdout",
          "text": [
            "121 - AverageValueNaive with avg smape 10.39: \n",
            "Model Number: 122 of 179 with model FBProphet for Validation 3\n"
          ]
        },
        {
          "output_type": "stream",
          "name": "stderr",
          "text": [
            "DEBUG:cmdstanpy:idx 0\n",
            "DEBUG:cmdstanpy:running CmdStan, num_threads: None\n",
            "DEBUG:cmdstanpy:CmdStan args: ['/usr/local/lib/python3.8/dist-packages/prophet/stan_model/prophet_model.bin', 'random', 'seed=86248', 'data', 'file=/tmp/tmp09dakauk/cyzkz8xr.json', 'init=/tmp/tmp09dakauk/7_iqpbng.json', 'output', 'file=/tmp/tmp09dakauk/prophet_model7eow2mp3/prophet_model-20230216095258.csv', 'method=optimize', 'algorithm=lbfgs', 'iter=10000']\n",
            "09:52:58 - cmdstanpy - INFO - Chain [1] start processing\n",
            "INFO:cmdstanpy:Chain [1] start processing\n",
            "09:52:58 - cmdstanpy - INFO - Chain [1] done processing\n",
            "INFO:cmdstanpy:Chain [1] done processing\n"
          ]
        },
        {
          "output_type": "stream",
          "name": "stdout",
          "text": [
            "122 - FBProphet with avg smape 17.05: \n",
            "Model Number: 123 of 179 with model MultivariateMotif for Validation 3\n",
            "123 - MultivariateMotif with avg smape 8.5: \n",
            "Model Number: 124 of 179 with model MultivariateMotif for Validation 3\n",
            "124 - MultivariateMotif with avg smape 8.51: \n",
            "Model Number: 125 of 179 with model UnivariateMotif for Validation 3\n",
            "125 - UnivariateMotif with avg smape 9.77: \n",
            "Model Number: 126 of 179 with model MultivariateRegression for Validation 3\n"
          ]
        },
        {
          "output_type": "stream",
          "name": "stderr",
          "text": [
            "[Parallel(n_jobs=-2)]: Using backend SequentialBackend with 1 concurrent workers.\n",
            "[Parallel(n_jobs=-2)]: Done 200 out of 200 | elapsed:    0.3s finished\n",
            "[Parallel(n_jobs=1)]: Using backend SequentialBackend with 1 concurrent workers.\n",
            "[Parallel(n_jobs=1)]: Done 200 out of 200 | elapsed:    0.0s finished\n",
            "[Parallel(n_jobs=1)]: Using backend SequentialBackend with 1 concurrent workers.\n",
            "[Parallel(n_jobs=1)]: Done 200 out of 200 | elapsed:    0.0s finished\n",
            "[Parallel(n_jobs=1)]: Using backend SequentialBackend with 1 concurrent workers.\n",
            "[Parallel(n_jobs=1)]: Done 200 out of 200 | elapsed:    0.0s finished\n",
            "[Parallel(n_jobs=1)]: Using backend SequentialBackend with 1 concurrent workers.\n",
            "[Parallel(n_jobs=1)]: Done 200 out of 200 | elapsed:    0.0s finished\n",
            "[Parallel(n_jobs=1)]: Using backend SequentialBackend with 1 concurrent workers.\n",
            "[Parallel(n_jobs=1)]: Done 200 out of 200 | elapsed:    0.0s finished\n",
            "[Parallel(n_jobs=1)]: Using backend SequentialBackend with 1 concurrent workers.\n",
            "[Parallel(n_jobs=1)]: Done 200 out of 200 | elapsed:    0.0s finished\n",
            "[Parallel(n_jobs=1)]: Using backend SequentialBackend with 1 concurrent workers.\n",
            "[Parallel(n_jobs=1)]: Done 200 out of 200 | elapsed:    0.0s finished\n",
            "[Parallel(n_jobs=1)]: Using backend SequentialBackend with 1 concurrent workers.\n",
            "[Parallel(n_jobs=1)]: Done 200 out of 200 | elapsed:    0.0s finished\n",
            "[Parallel(n_jobs=1)]: Using backend SequentialBackend with 1 concurrent workers.\n",
            "[Parallel(n_jobs=1)]: Done 200 out of 200 | elapsed:    0.0s finished\n",
            "[Parallel(n_jobs=1)]: Using backend SequentialBackend with 1 concurrent workers.\n",
            "[Parallel(n_jobs=1)]: Done 200 out of 200 | elapsed:    0.0s finished\n"
          ]
        },
        {
          "output_type": "stream",
          "name": "stdout",
          "text": [
            "126 - MultivariateRegression with avg smape 9.01: \n",
            "Model Number: 127 of 179 with model UnivariateMotif for Validation 3\n",
            "127 - UnivariateMotif with avg smape 11.5: \n",
            "Model Number: 128 of 179 with model UnivariateMotif for Validation 3\n",
            "128 - UnivariateMotif with avg smape 11.5: \n",
            "Model Number: 129 of 179 with model WindowRegression for Validation 3\n"
          ]
        },
        {
          "output_type": "stream",
          "name": "stderr",
          "text": [
            "/usr/local/lib/python3.8/dist-packages/sklearn/neural_network/_multilayer_perceptron.py:549: ConvergenceWarning:\n",
            "\n",
            "lbfgs failed to converge (status=1):\n",
            "STOP: TOTAL NO. of ITERATIONS REACHED LIMIT.\n",
            "\n",
            "Increase the number of iterations (max_iter) or scale the data as shown in:\n",
            "    https://scikit-learn.org/stable/modules/preprocessing.html\n",
            "\n"
          ]
        },
        {
          "output_type": "stream",
          "name": "stdout",
          "text": [
            "129 - WindowRegression with avg smape 10.64: \n",
            "Model Number: 130 of 179 with model WindowRegression for Validation 3\n"
          ]
        },
        {
          "output_type": "stream",
          "name": "stderr",
          "text": [
            "/usr/local/lib/python3.8/dist-packages/sklearn/neural_network/_multilayer_perceptron.py:549: ConvergenceWarning:\n",
            "\n",
            "lbfgs failed to converge (status=1):\n",
            "STOP: TOTAL NO. of ITERATIONS REACHED LIMIT.\n",
            "\n",
            "Increase the number of iterations (max_iter) or scale the data as shown in:\n",
            "    https://scikit-learn.org/stable/modules/preprocessing.html\n",
            "\n"
          ]
        },
        {
          "output_type": "stream",
          "name": "stdout",
          "text": [
            "130 - WindowRegression with avg smape 11.25: \n",
            "Model Number: 131 of 179 with model WindowRegression for Validation 3\n",
            "131 - WindowRegression with avg smape 11.27: \n",
            "Model Number: 132 of 179 with model AverageValueNaive for Validation 3\n",
            "132 - AverageValueNaive with avg smape 10.99: \n",
            "Model Number: 133 of 179 with model AverageValueNaive for Validation 3\n"
          ]
        },
        {
          "output_type": "stream",
          "name": "stderr",
          "text": [
            "/usr/local/lib/python3.8/dist-packages/sklearn/neural_network/_multilayer_perceptron.py:549: ConvergenceWarning:\n",
            "\n",
            "lbfgs failed to converge (status=1):\n",
            "STOP: TOTAL NO. of ITERATIONS REACHED LIMIT.\n",
            "\n",
            "Increase the number of iterations (max_iter) or scale the data as shown in:\n",
            "    https://scikit-learn.org/stable/modules/preprocessing.html\n",
            "\n"
          ]
        },
        {
          "output_type": "stream",
          "name": "stdout",
          "text": [
            "133 - AverageValueNaive with avg smape 11.02: \n",
            "Model Number: 134 of 179 with model MultivariateRegression for Validation 3\n",
            "134 - MultivariateRegression with avg smape 9.09: \n",
            "Model Number: 135 of 179 with model MultivariateMotif for Validation 3\n",
            "135 - MultivariateMotif with avg smape 9.03: \n",
            "Model Number: 136 of 179 with model MultivariateMotif for Validation 3\n",
            "136 - MultivariateMotif with avg smape 9.47: \n",
            "Model Number: 137 of 179 with model MultivariateMotif for Validation 3\n",
            "137 - MultivariateMotif with avg smape 9.47: \n",
            "Model Number: 138 of 179 with model MultivariateMotif for Validation 3\n",
            "138 - MultivariateMotif with avg smape 9.47: \n",
            "Model Number: 139 of 179 with model MultivariateRegression for Validation 3\n",
            "139 - MultivariateRegression with avg smape 10.84: \n",
            "Model Number: 140 of 179 with model MultivariateMotif for Validation 3\n"
          ]
        },
        {
          "output_type": "stream",
          "name": "stderr",
          "text": [
            "INFO:prophet:Disabling yearly seasonality. Run prophet with yearly_seasonality=True to override this.\n",
            "INFO:prophet:Disabling daily seasonality. Run prophet with daily_seasonality=True to override this.\n"
          ]
        },
        {
          "output_type": "stream",
          "name": "stdout",
          "text": [
            "140 - MultivariateMotif with avg smape 9.14: \n",
            "Model Number: 141 of 179 with model FBProphet for Validation 3\n"
          ]
        },
        {
          "output_type": "stream",
          "name": "stderr",
          "text": [
            "DEBUG:cmdstanpy:input tempfile: /tmp/tmp09dakauk/9ltiq51r.json\n",
            "DEBUG:cmdstanpy:input tempfile: /tmp/tmp09dakauk/f_qzdgbc.json\n",
            "DEBUG:cmdstanpy:idx 0\n",
            "DEBUG:cmdstanpy:running CmdStan, num_threads: None\n",
            "DEBUG:cmdstanpy:CmdStan args: ['/usr/local/lib/python3.8/dist-packages/prophet/stan_model/prophet_model.bin', 'random', 'seed=64736', 'data', 'file=/tmp/tmp09dakauk/9ltiq51r.json', 'init=/tmp/tmp09dakauk/f_qzdgbc.json', 'output', 'file=/tmp/tmp09dakauk/prophet_modelraypy1ru/prophet_model-20230216095305.csv', 'method=optimize', 'algorithm=newton', 'iter=10000']\n",
            "09:53:05 - cmdstanpy - INFO - Chain [1] start processing\n",
            "INFO:cmdstanpy:Chain [1] start processing\n",
            "09:53:05 - cmdstanpy - INFO - Chain [1] done processing\n",
            "INFO:cmdstanpy:Chain [1] done processing\n",
            "INFO:prophet:Disabling yearly seasonality. Run prophet with yearly_seasonality=True to override this.\n",
            "INFO:prophet:Disabling daily seasonality. Run prophet with daily_seasonality=True to override this.\n",
            "DEBUG:cmdstanpy:input tempfile: /tmp/tmp09dakauk/7j5m5zni.json\n",
            "DEBUG:cmdstanpy:input tempfile: /tmp/tmp09dakauk/v39bcvom.json\n",
            "DEBUG:cmdstanpy:idx 0\n",
            "DEBUG:cmdstanpy:running CmdStan, num_threads: None\n",
            "DEBUG:cmdstanpy:CmdStan args: ['/usr/local/lib/python3.8/dist-packages/prophet/stan_model/prophet_model.bin', 'random', 'seed=69348', 'data', 'file=/tmp/tmp09dakauk/7j5m5zni.json', 'init=/tmp/tmp09dakauk/v39bcvom.json', 'output', 'file=/tmp/tmp09dakauk/prophet_modelkt87wmys/prophet_model-20230216095306.csv', 'method=optimize', 'algorithm=newton', 'iter=10000']\n",
            "09:53:06 - cmdstanpy - INFO - Chain [1] start processing\n",
            "INFO:cmdstanpy:Chain [1] start processing\n"
          ]
        },
        {
          "output_type": "stream",
          "name": "stdout",
          "text": [
            "141 - FBProphet with avg smape 13.02: \n",
            "Model Number: 142 of 179 with model FBProphet for Validation 3\n"
          ]
        },
        {
          "output_type": "stream",
          "name": "stderr",
          "text": [
            "09:53:06 - cmdstanpy - INFO - Chain [1] done processing\n",
            "INFO:cmdstanpy:Chain [1] done processing\n"
          ]
        },
        {
          "output_type": "stream",
          "name": "stdout",
          "text": [
            "142 - FBProphet with avg smape 13.02: \n",
            "Model Number: 143 of 179 with model ConstantNaive for Validation 3\n",
            "143 - ConstantNaive with avg smape 10.37: \n",
            "Model Number: 144 of 179 with model MultivariateMotif for Validation 3\n",
            "144 - MultivariateMotif with avg smape 9.44: \n",
            "Model Number: 145 of 179 with model UnivariateMotif for Validation 3\n",
            "145 - UnivariateMotif with avg smape 11.8: \n",
            "Model Number: 146 of 179 with model GLS for Validation 3\n",
            "146 - GLS with avg smape 11.16: \n",
            "Model Number: 147 of 179 with model GLM for Validation 3\n"
          ]
        },
        {
          "output_type": "stream",
          "name": "stderr",
          "text": [
            "INFO:prophet:Disabling yearly seasonality. Run prophet with yearly_seasonality=True to override this.\n"
          ]
        },
        {
          "output_type": "stream",
          "name": "stdout",
          "text": [
            "147 - GLM with avg smape 12.21: \n",
            "Model Number: 148 of 179 with model FBProphet for Validation 3\n"
          ]
        },
        {
          "output_type": "stream",
          "name": "stderr",
          "text": [
            "INFO:prophet:Disabling daily seasonality. Run prophet with daily_seasonality=True to override this.\n",
            "DEBUG:cmdstanpy:input tempfile: /tmp/tmp09dakauk/y7jkz826.json\n",
            "DEBUG:cmdstanpy:input tempfile: /tmp/tmp09dakauk/4oye2r6q.json\n",
            "DEBUG:cmdstanpy:idx 0\n",
            "DEBUG:cmdstanpy:running CmdStan, num_threads: None\n",
            "DEBUG:cmdstanpy:CmdStan args: ['/usr/local/lib/python3.8/dist-packages/prophet/stan_model/prophet_model.bin', 'random', 'seed=21873', 'data', 'file=/tmp/tmp09dakauk/y7jkz826.json', 'init=/tmp/tmp09dakauk/4oye2r6q.json', 'output', 'file=/tmp/tmp09dakauk/prophet_modelm47ejhgt/prophet_model-20230216095307.csv', 'method=optimize', 'algorithm=lbfgs', 'iter=10000']\n",
            "09:53:07 - cmdstanpy - INFO - Chain [1] start processing\n",
            "INFO:cmdstanpy:Chain [1] start processing\n",
            "09:53:07 - cmdstanpy - INFO - Chain [1] done processing\n",
            "INFO:cmdstanpy:Chain [1] done processing\n"
          ]
        },
        {
          "output_type": "stream",
          "name": "stdout",
          "text": [
            "148 - FBProphet with avg smape 10.03: \n",
            "Model Number: 149 of 179 with model GLS for Validation 3\n",
            "149 - GLS with avg smape 10.16: \n",
            "Model Number: 150 of 179 with model UnivariateMotif for Validation 3\n",
            "150 - UnivariateMotif with avg smape 10.66: \n",
            "Model Number: 151 of 179 with model UnivariateMotif for Validation 3\n",
            "151 - UnivariateMotif with avg smape 11.46: \n",
            "Model Number: 152 of 179 with model FBProphet for Validation 3"
          ]
        },
        {
          "output_type": "stream",
          "name": "stderr",
          "text": [
            "INFO:prophet:Disabling yearly seasonality. Run prophet with yearly_seasonality=True to override this.\n",
            "INFO:prophet:Disabling daily seasonality. Run prophet with daily_seasonality=True to override this.\n"
          ]
        },
        {
          "output_type": "stream",
          "name": "stdout",
          "text": [
            "\n"
          ]
        },
        {
          "output_type": "stream",
          "name": "stderr",
          "text": [
            "DEBUG:cmdstanpy:input tempfile: /tmp/tmp09dakauk/8fzdf6jb.json\n",
            "DEBUG:cmdstanpy:input tempfile: /tmp/tmp09dakauk/_693ct35.json\n",
            "DEBUG:cmdstanpy:idx 0\n",
            "DEBUG:cmdstanpy:running CmdStan, num_threads: None\n",
            "DEBUG:cmdstanpy:CmdStan args: ['/usr/local/lib/python3.8/dist-packages/prophet/stan_model/prophet_model.bin', 'random', 'seed=43531', 'data', 'file=/tmp/tmp09dakauk/8fzdf6jb.json', 'init=/tmp/tmp09dakauk/_693ct35.json', 'output', 'file=/tmp/tmp09dakauk/prophet_modelpbeqaw9c/prophet_model-20230216095307.csv', 'method=optimize', 'algorithm=newton', 'iter=10000']\n",
            "09:53:07 - cmdstanpy - INFO - Chain [1] start processing\n",
            "INFO:cmdstanpy:Chain [1] start processing\n",
            "09:53:08 - cmdstanpy - INFO - Chain [1] done processing\n",
            "INFO:cmdstanpy:Chain [1] done processing\n"
          ]
        },
        {
          "output_type": "stream",
          "name": "stdout",
          "text": [
            "152 - FBProphet with avg smape 8.07: \n",
            "Model Number: 153 of 179 with model UnivariateMotif for Validation 3\n"
          ]
        },
        {
          "output_type": "stream",
          "name": "stderr",
          "text": [
            "INFO:prophet:Disabling yearly seasonality. Run prophet with yearly_seasonality=True to override this.\n",
            "INFO:prophet:Disabling daily seasonality. Run prophet with daily_seasonality=True to override this.\n",
            "DEBUG:cmdstanpy:input tempfile: /tmp/tmp09dakauk/cn9qwwg6.json\n",
            "DEBUG:cmdstanpy:input tempfile: /tmp/tmp09dakauk/1lsheq6h.json\n",
            "DEBUG:cmdstanpy:idx 0\n",
            "DEBUG:cmdstanpy:running CmdStan, num_threads: None\n",
            "DEBUG:cmdstanpy:CmdStan args: ['/usr/local/lib/python3.8/dist-packages/prophet/stan_model/prophet_model.bin', 'random', 'seed=69710', 'data', 'file=/tmp/tmp09dakauk/cn9qwwg6.json', 'init=/tmp/tmp09dakauk/1lsheq6h.json', 'output', 'file=/tmp/tmp09dakauk/prophet_model5vs3w3z7/prophet_model-20230216095308.csv', 'method=optimize', 'algorithm=lbfgs', 'iter=10000']\n",
            "09:53:08 - cmdstanpy - INFO - Chain [1] start processing\n",
            "INFO:cmdstanpy:Chain [1] start processing\n"
          ]
        },
        {
          "output_type": "stream",
          "name": "stdout",
          "text": [
            "153 - UnivariateMotif with avg smape 10.03: \n",
            "Model Number: 154 of 179 with model FBProphet for Validation 3\n"
          ]
        },
        {
          "output_type": "stream",
          "name": "stderr",
          "text": [
            "09:53:08 - cmdstanpy - INFO - Chain [1] done processing\n",
            "INFO:cmdstanpy:Chain [1] done processing\n",
            "INFO:prophet:Disabling yearly seasonality. Run prophet with yearly_seasonality=True to override this.\n",
            "INFO:prophet:Disabling daily seasonality. Run prophet with daily_seasonality=True to override this.\n",
            "DEBUG:cmdstanpy:input tempfile: /tmp/tmp09dakauk/22_y1gho.json\n",
            "DEBUG:cmdstanpy:input tempfile: /tmp/tmp09dakauk/ac_nb1w9.json\n",
            "DEBUG:cmdstanpy:idx 0\n",
            "DEBUG:cmdstanpy:running CmdStan, num_threads: None\n",
            "DEBUG:cmdstanpy:CmdStan args: ['/usr/local/lib/python3.8/dist-packages/prophet/stan_model/prophet_model.bin', 'random', 'seed=24683', 'data', 'file=/tmp/tmp09dakauk/22_y1gho.json', 'init=/tmp/tmp09dakauk/ac_nb1w9.json', 'output', 'file=/tmp/tmp09dakauk/prophet_model0tim1syw/prophet_model-20230216095308.csv', 'method=optimize', 'algorithm=newton', 'iter=10000']\n",
            "09:53:08 - cmdstanpy - INFO - Chain [1] start processing\n",
            "INFO:cmdstanpy:Chain [1] start processing\n"
          ]
        },
        {
          "output_type": "stream",
          "name": "stdout",
          "text": [
            "154 - FBProphet with avg smape 10.98: \n",
            "Model Number: 155 of 179 with model FBProphet for Validation 3\n"
          ]
        },
        {
          "output_type": "stream",
          "name": "stderr",
          "text": [
            "09:53:09 - cmdstanpy - INFO - Chain [1] done processing\n",
            "INFO:cmdstanpy:Chain [1] done processing\n"
          ]
        },
        {
          "output_type": "stream",
          "name": "stdout",
          "text": [
            "155 - FBProphet with avg smape 11.63: \n",
            "Model Number: 156 of 179 with model GLS for Validation 3\n",
            "156 - GLS with avg smape 11.34: \n",
            "Model Number: 157 of 179 with model GLS for Validation 3\n"
          ]
        },
        {
          "output_type": "stream",
          "name": "stderr",
          "text": [
            "INFO:prophet:Disabling yearly seasonality. Run prophet with yearly_seasonality=True to override this.\n",
            "INFO:prophet:Disabling daily seasonality. Run prophet with daily_seasonality=True to override this.\n"
          ]
        },
        {
          "output_type": "stream",
          "name": "stdout",
          "text": [
            "157 - GLS with avg smape 11.34: \n",
            "Model Number: 158 of 179 with model FBProphet for Validation 3\n"
          ]
        },
        {
          "output_type": "stream",
          "name": "stderr",
          "text": [
            "DEBUG:cmdstanpy:input tempfile: /tmp/tmp09dakauk/wnc64haw.json\n",
            "DEBUG:cmdstanpy:input tempfile: /tmp/tmp09dakauk/7r4utege.json\n",
            "DEBUG:cmdstanpy:idx 0\n",
            "DEBUG:cmdstanpy:running CmdStan, num_threads: None\n",
            "DEBUG:cmdstanpy:CmdStan args: ['/usr/local/lib/python3.8/dist-packages/prophet/stan_model/prophet_model.bin', 'random', 'seed=18666', 'data', 'file=/tmp/tmp09dakauk/wnc64haw.json', 'init=/tmp/tmp09dakauk/7r4utege.json', 'output', 'file=/tmp/tmp09dakauk/prophet_model594bqbqr/prophet_model-20230216095309.csv', 'method=optimize', 'algorithm=lbfgs', 'iter=10000']\n",
            "09:53:09 - cmdstanpy - INFO - Chain [1] start processing\n",
            "INFO:cmdstanpy:Chain [1] start processing\n",
            "09:53:10 - cmdstanpy - INFO - Chain [1] done processing\n",
            "INFO:cmdstanpy:Chain [1] done processing\n"
          ]
        },
        {
          "output_type": "stream",
          "name": "stdout",
          "text": [
            "158 - FBProphet with avg smape 10.36: \n",
            "Model Number: 159 of 179 with model GLM for Validation 3\n",
            "159 - GLM with avg smape 8.26: \n",
            "Model Number: 160 of 179 with model GLS for Validation 3\n",
            "160 - GLS with avg smape 11.9: \n",
            "Model Number: 161 of 179 with model ConstantNaive for Validation 3\n",
            "161 - ConstantNaive with avg smape 10.37: \n",
            "Model Number: 162 of 179 with model GLS for Validation 3\n",
            "162 - GLS with avg smape 10.65: \n",
            "Model Number: 163 of 179 with model ConstantNaive for Validation 3\n",
            "163 - ConstantNaive with avg smape 11.75: \n",
            "Model Number: 164 of 179 with model GLS for Validation 3\n",
            "164 - GLS with avg smape 11.04: \n",
            "Model Number: 165 of 179 with model GLS for Validation 3\n",
            "165 - GLS with avg smape 11.04: \n",
            "Model Number: 166 of 179 with model GLS for Validation 3\n",
            "166 - GLS with avg smape 10.69: \n",
            "Model Number: 167 of 179 with model GLM for Validation 3\n",
            "167 - GLM with avg smape 13.18: \n",
            "Model Number: 168 of 179 with model GLM for Validation 3\n",
            "168 - GLM with avg smape 15.72: \n",
            "Model Number: 169 of 179 with model ConstantNaive for Validation 3\n",
            "169 - ConstantNaive with avg smape 9.9: \n",
            "Model Number: 170 of 179 with model ConstantNaive for Validation 3\n",
            "170 - ConstantNaive with avg smape 8.19: \n",
            "Model Number: 171 of 179 with model ConstantNaive for Validation 3\n",
            "171 - ConstantNaive with avg smape 11.19: \n",
            "Model Number: 172 of 179 with model ConstantNaive for Validation 3\n",
            "172 - ConstantNaive with avg smape 11.19: \n",
            "Model Number: 173 of 179 with model GLM for Validation 3\n",
            "173 - GLM with avg smape 13.57: \n",
            "Model Number: 174 of 179 with model ConstantNaive for Validation 3\n",
            "174 - ConstantNaive with avg smape 8.54: \n",
            "Model Number: 175 of 179 with model GLM for Validation 3\n",
            "175 - GLM with avg smape 8.02: \n",
            "Model Number: 176 of 179 with model GLM for Validation 3\n"
          ]
        },
        {
          "output_type": "stream",
          "name": "stderr",
          "text": [
            "/usr/local/lib/python3.8/dist-packages/statsmodels/genmod/families/links.py:188: RuntimeWarning:\n",
            "\n",
            "overflow encountered in exp\n",
            "\n",
            "/usr/local/lib/python3.8/dist-packages/statsmodels/genmod/families/links.py:188: RuntimeWarning:\n",
            "\n",
            "overflow encountered in exp\n",
            "\n"
          ]
        },
        {
          "output_type": "stream",
          "name": "stdout",
          "text": [
            "176 - GLM with avg smape 8.02: \n",
            "Model Number: 177 of 179 with model GLM for Validation 3\n",
            "177 - GLM with avg smape 8.28: \n",
            "Model Number: 178 of 179 with model GLM for Validation 3\n",
            "178 - GLM with avg smape 8.28: \n",
            "Model Number: 179 of 179 with model Ensemble for Validation 3\n"
          ]
        },
        {
          "output_type": "stream",
          "name": "stderr",
          "text": [
            "/usr/local/lib/python3.8/dist-packages/sklearn/linear_model/_ridge.py:157: LinAlgWarning:\n",
            "\n",
            "Ill-conditioned matrix (rcond=9.55285e-25): result may not be accurate.\n",
            "\n"
          ]
        },
        {
          "output_type": "stream",
          "name": "stdout",
          "text": [
            "179 - Ensemble with avg smape 9.61: \n",
            "Model Number: 1807 with model Ensemble in generation 12 of Ensembles\n",
            "Model Number: 1808 with model Ensemble in generation 12 of Ensembles\n",
            "Model Number: 1809 with model Ensemble in generation 12 of Ensembles\n",
            "HolidayTransformer: no anomalies detected.\n"
          ]
        },
        {
          "output_type": "stream",
          "name": "stderr",
          "text": [
            "/usr/local/lib/python3.8/dist-packages/sklearn/preprocessing/_data.py:3253: RuntimeWarning:\n",
            "\n",
            "divide by zero encountered in log\n",
            "\n",
            "/usr/local/lib/python3.8/dist-packages/autots/tools/probabilistic.py:67: RuntimeWarning:\n",
            "\n",
            "invalid value encountered in true_divide\n",
            "\n",
            "/usr/local/lib/python3.8/dist-packages/autots/tools/probabilistic.py:68: RuntimeWarning:\n",
            "\n",
            "divide by zero encountered in true_divide\n",
            "\n",
            "/usr/local/lib/python3.8/dist-packages/sklearn/preprocessing/_data.py:3196: RuntimeWarning:\n",
            "\n",
            "divide by zero encountered in power\n",
            "\n",
            "/usr/local/lib/python3.8/dist-packages/sklearn/preprocessing/_data.py:3196: RuntimeWarning:\n",
            "\n",
            "divide by zero encountered in power\n",
            "\n",
            "/usr/local/lib/python3.8/dist-packages/sklearn/preprocessing/_data.py:3196: RuntimeWarning:\n",
            "\n",
            "divide by zero encountered in power\n",
            "\n",
            "/usr/local/lib/python3.8/dist-packages/sklearn/linear_model/_ridge.py:157: LinAlgWarning:\n",
            "\n",
            "Ill-conditioned matrix (rcond=7.7081e-25): result may not be accurate.\n",
            "\n"
          ]
        },
        {
          "output_type": "stream",
          "name": "stdout",
          "text": [
            "Model Number: 1810 with model Ensemble in generation 12 of Ensembles\n",
            "HolidayTransformer: no anomalies detected.\n"
          ]
        },
        {
          "output_type": "stream",
          "name": "stderr",
          "text": [
            "/usr/local/lib/python3.8/dist-packages/sklearn/preprocessing/_data.py:3253: RuntimeWarning:\n",
            "\n",
            "divide by zero encountered in log\n",
            "\n",
            "/usr/local/lib/python3.8/dist-packages/autots/tools/probabilistic.py:67: RuntimeWarning:\n",
            "\n",
            "invalid value encountered in true_divide\n",
            "\n",
            "/usr/local/lib/python3.8/dist-packages/autots/tools/probabilistic.py:68: RuntimeWarning:\n",
            "\n",
            "divide by zero encountered in true_divide\n",
            "\n",
            "/usr/local/lib/python3.8/dist-packages/sklearn/preprocessing/_data.py:3196: RuntimeWarning:\n",
            "\n",
            "divide by zero encountered in power\n",
            "\n",
            "/usr/local/lib/python3.8/dist-packages/sklearn/preprocessing/_data.py:3196: RuntimeWarning:\n",
            "\n",
            "divide by zero encountered in power\n",
            "\n",
            "/usr/local/lib/python3.8/dist-packages/sklearn/preprocessing/_data.py:3196: RuntimeWarning:\n",
            "\n",
            "divide by zero encountered in power\n",
            "\n",
            "/usr/local/lib/python3.8/dist-packages/sklearn/linear_model/_ridge.py:157: LinAlgWarning:\n",
            "\n",
            "Ill-conditioned matrix (rcond=7.7081e-25): result may not be accurate.\n",
            "\n"
          ]
        },
        {
          "output_type": "stream",
          "name": "stdout",
          "text": [
            "Model Number: 1811 with model Ensemble in generation 12 of Ensembles\n",
            "Model Number: 1812 with model Ensemble in generation 12 of Ensembles\n"
          ]
        },
        {
          "output_type": "stream",
          "name": "stderr",
          "text": [
            "INFO:prophet:Disabling yearly seasonality. Run prophet with yearly_seasonality=True to override this.\n",
            "INFO:prophet:Disabling daily seasonality. Run prophet with daily_seasonality=True to override this.\n",
            "DEBUG:cmdstanpy:input tempfile: /tmp/tmp09dakauk/thgx2t2r.json\n",
            "DEBUG:cmdstanpy:input tempfile: /tmp/tmp09dakauk/r926mw9u.json\n",
            "DEBUG:cmdstanpy:idx 0\n",
            "DEBUG:cmdstanpy:running CmdStan, num_threads: None\n",
            "DEBUG:cmdstanpy:CmdStan args: ['/usr/local/lib/python3.8/dist-packages/prophet/stan_model/prophet_model.bin', 'random', 'seed=90747', 'data', 'file=/tmp/tmp09dakauk/thgx2t2r.json', 'init=/tmp/tmp09dakauk/r926mw9u.json', 'output', 'file=/tmp/tmp09dakauk/prophet_models2ypc5hl/prophet_model-20230216095330.csv', 'method=optimize', 'algorithm=lbfgs', 'iter=10000']\n",
            "09:53:30 - cmdstanpy - INFO - Chain [1] start processing\n",
            "INFO:cmdstanpy:Chain [1] start processing\n",
            "09:53:31 - cmdstanpy - INFO - Chain [1] done processing\n",
            "INFO:cmdstanpy:Chain [1] done processing\n"
          ]
        },
        {
          "output_type": "stream",
          "name": "stdout",
          "text": [
            "Model Number: 1813 with model Ensemble in generation 12 of Ensembles\n",
            "Model Number: 1814 with model Ensemble in generation 12 of Ensembles\n",
            "Validation Round: 1\n",
            "Model Number: 1 of 8 with model Ensemble for Validation 1\n",
            "📈 1 - Ensemble with avg smape 1.14: \n",
            "Model Number: 2 of 8 with model Ensemble for Validation 1\n",
            "📈 2 - Ensemble with avg smape 1.06: \n",
            "Model Number: 3 of 8 with model Ensemble for Validation 1\n",
            "HolidayTransformer: no anomalies detected.\n"
          ]
        },
        {
          "output_type": "stream",
          "name": "stderr",
          "text": [
            "/usr/local/lib/python3.8/dist-packages/sklearn/preprocessing/_data.py:3253: RuntimeWarning:\n",
            "\n",
            "divide by zero encountered in log\n",
            "\n",
            "/usr/local/lib/python3.8/dist-packages/autots/tools/probabilistic.py:67: RuntimeWarning:\n",
            "\n",
            "invalid value encountered in true_divide\n",
            "\n",
            "/usr/local/lib/python3.8/dist-packages/autots/tools/probabilistic.py:68: RuntimeWarning:\n",
            "\n",
            "divide by zero encountered in true_divide\n",
            "\n",
            "/usr/local/lib/python3.8/dist-packages/sklearn/preprocessing/_data.py:3196: RuntimeWarning:\n",
            "\n",
            "divide by zero encountered in power\n",
            "\n",
            "/usr/local/lib/python3.8/dist-packages/sklearn/preprocessing/_data.py:3196: RuntimeWarning:\n",
            "\n",
            "divide by zero encountered in power\n",
            "\n",
            "/usr/local/lib/python3.8/dist-packages/sklearn/preprocessing/_data.py:3196: RuntimeWarning:\n",
            "\n",
            "divide by zero encountered in power\n",
            "\n",
            "/usr/local/lib/python3.8/dist-packages/sklearn/linear_model/_ridge.py:157: LinAlgWarning:\n",
            "\n",
            "Ill-conditioned matrix (rcond=8.3253e-25): result may not be accurate.\n",
            "\n"
          ]
        },
        {
          "output_type": "stream",
          "name": "stdout",
          "text": [
            "3 - Ensemble with avg smape nan: \n",
            "Model Number: 4 of 8 with model Ensemble for Validation 1\n",
            "HolidayTransformer: no anomalies detected.\n"
          ]
        },
        {
          "output_type": "stream",
          "name": "stderr",
          "text": [
            "/usr/local/lib/python3.8/dist-packages/sklearn/preprocessing/_data.py:3253: RuntimeWarning:\n",
            "\n",
            "divide by zero encountered in log\n",
            "\n",
            "/usr/local/lib/python3.8/dist-packages/autots/tools/probabilistic.py:67: RuntimeWarning:\n",
            "\n",
            "invalid value encountered in true_divide\n",
            "\n",
            "/usr/local/lib/python3.8/dist-packages/autots/tools/probabilistic.py:68: RuntimeWarning:\n",
            "\n",
            "divide by zero encountered in true_divide\n",
            "\n",
            "/usr/local/lib/python3.8/dist-packages/sklearn/preprocessing/_data.py:3196: RuntimeWarning:\n",
            "\n",
            "divide by zero encountered in power\n",
            "\n",
            "/usr/local/lib/python3.8/dist-packages/sklearn/preprocessing/_data.py:3196: RuntimeWarning:\n",
            "\n",
            "divide by zero encountered in power\n",
            "\n",
            "/usr/local/lib/python3.8/dist-packages/sklearn/preprocessing/_data.py:3196: RuntimeWarning:\n",
            "\n",
            "divide by zero encountered in power\n",
            "\n",
            "/usr/local/lib/python3.8/dist-packages/sklearn/linear_model/_ridge.py:157: LinAlgWarning:\n",
            "\n",
            "Ill-conditioned matrix (rcond=8.3253e-25): result may not be accurate.\n",
            "\n"
          ]
        },
        {
          "output_type": "stream",
          "name": "stdout",
          "text": [
            "4 - Ensemble with avg smape 1.07: \n",
            "Model Number: 5 of 8 with model Ensemble for Validation 1\n",
            "📈 5 - Ensemble with avg smape 1.03: \n",
            "Model Number: 6 of 8 with model Ensemble for Validation 1\n"
          ]
        },
        {
          "output_type": "stream",
          "name": "stderr",
          "text": [
            "INFO:prophet:Disabling yearly seasonality. Run prophet with yearly_seasonality=True to override this.\n",
            "INFO:prophet:Disabling daily seasonality. Run prophet with daily_seasonality=True to override this.\n",
            "DEBUG:cmdstanpy:input tempfile: /tmp/tmp09dakauk/1yxxr2ea.json\n",
            "DEBUG:cmdstanpy:input tempfile: /tmp/tmp09dakauk/wudedm4r.json\n",
            "DEBUG:cmdstanpy:idx 0\n",
            "DEBUG:cmdstanpy:running CmdStan, num_threads: None\n",
            "DEBUG:cmdstanpy:CmdStan args: ['/usr/local/lib/python3.8/dist-packages/prophet/stan_model/prophet_model.bin', 'random', 'seed=87818', 'data', 'file=/tmp/tmp09dakauk/1yxxr2ea.json', 'init=/tmp/tmp09dakauk/wudedm4r.json', 'output', 'file=/tmp/tmp09dakauk/prophet_modelmxw_kv8k/prophet_model-20230216095350.csv', 'method=optimize', 'algorithm=lbfgs', 'iter=10000']\n",
            "09:53:50 - cmdstanpy - INFO - Chain [1] start processing\n",
            "INFO:cmdstanpy:Chain [1] start processing\n",
            "09:53:51 - cmdstanpy - INFO - Chain [1] done processing\n",
            "INFO:cmdstanpy:Chain [1] done processing\n"
          ]
        },
        {
          "output_type": "stream",
          "name": "stdout",
          "text": [
            "6 - Ensemble with avg smape 1.15: \n",
            "Model Number: 7 of 8 with model Ensemble for Validation 1\n",
            "7 - Ensemble with avg smape 1.09: \n",
            "Model Number: 8 of 8 with model Ensemble for Validation 1\n",
            "8 - Ensemble with avg smape 1.1: \n",
            "Validation Round: 2\n",
            "Model Number: 1 of 8 with model Ensemble for Validation 2\n",
            "📈 1 - Ensemble with avg smape 1.95: \n",
            "Model Number: 2 of 8 with model Ensemble for Validation 2\n",
            "📈 2 - Ensemble with avg smape 1.61: \n",
            "Model Number: 3 of 8 with model Ensemble for Validation 2\n",
            "HolidayTransformer: no anomalies detected.\n"
          ]
        },
        {
          "output_type": "stream",
          "name": "stderr",
          "text": [
            "/usr/local/lib/python3.8/dist-packages/sklearn/preprocessing/_data.py:3253: RuntimeWarning:\n",
            "\n",
            "divide by zero encountered in log\n",
            "\n",
            "/usr/local/lib/python3.8/dist-packages/autots/tools/probabilistic.py:67: RuntimeWarning:\n",
            "\n",
            "invalid value encountered in true_divide\n",
            "\n",
            "/usr/local/lib/python3.8/dist-packages/autots/tools/probabilistic.py:68: RuntimeWarning:\n",
            "\n",
            "divide by zero encountered in true_divide\n",
            "\n",
            "/usr/local/lib/python3.8/dist-packages/sklearn/preprocessing/_data.py:3196: RuntimeWarning:\n",
            "\n",
            "divide by zero encountered in power\n",
            "\n",
            "/usr/local/lib/python3.8/dist-packages/sklearn/preprocessing/_data.py:3196: RuntimeWarning:\n",
            "\n",
            "divide by zero encountered in power\n",
            "\n",
            "/usr/local/lib/python3.8/dist-packages/sklearn/preprocessing/_data.py:3196: RuntimeWarning:\n",
            "\n",
            "divide by zero encountered in power\n",
            "\n",
            "/usr/local/lib/python3.8/dist-packages/sklearn/linear_model/_ridge.py:157: LinAlgWarning:\n",
            "\n",
            "Ill-conditioned matrix (rcond=8.90724e-25): result may not be accurate.\n",
            "\n"
          ]
        },
        {
          "output_type": "stream",
          "name": "stdout",
          "text": [
            "3 - Ensemble with avg smape nan: \n",
            "Model Number: 4 of 8 with model Ensemble for Validation 2\n",
            "HolidayTransformer: no anomalies detected.\n"
          ]
        },
        {
          "output_type": "stream",
          "name": "stderr",
          "text": [
            "/usr/local/lib/python3.8/dist-packages/sklearn/preprocessing/_data.py:3253: RuntimeWarning:\n",
            "\n",
            "divide by zero encountered in log\n",
            "\n",
            "/usr/local/lib/python3.8/dist-packages/autots/tools/probabilistic.py:67: RuntimeWarning:\n",
            "\n",
            "invalid value encountered in true_divide\n",
            "\n",
            "/usr/local/lib/python3.8/dist-packages/autots/tools/probabilistic.py:68: RuntimeWarning:\n",
            "\n",
            "divide by zero encountered in true_divide\n",
            "\n",
            "/usr/local/lib/python3.8/dist-packages/sklearn/preprocessing/_data.py:3196: RuntimeWarning:\n",
            "\n",
            "divide by zero encountered in power\n",
            "\n",
            "/usr/local/lib/python3.8/dist-packages/sklearn/preprocessing/_data.py:3196: RuntimeWarning:\n",
            "\n",
            "divide by zero encountered in power\n",
            "\n",
            "/usr/local/lib/python3.8/dist-packages/sklearn/preprocessing/_data.py:3196: RuntimeWarning:\n",
            "\n",
            "divide by zero encountered in power\n",
            "\n",
            "/usr/local/lib/python3.8/dist-packages/sklearn/linear_model/_ridge.py:157: LinAlgWarning:\n",
            "\n",
            "Ill-conditioned matrix (rcond=8.90724e-25): result may not be accurate.\n",
            "\n"
          ]
        },
        {
          "output_type": "stream",
          "name": "stdout",
          "text": [
            "4 - Ensemble with avg smape 3.19: \n",
            "Model Number: 5 of 8 with model Ensemble for Validation 2\n",
            "5 - Ensemble with avg smape 1.76: \n",
            "Model Number: 6 of 8 with model Ensemble for Validation 2\n"
          ]
        },
        {
          "output_type": "stream",
          "name": "stderr",
          "text": [
            "INFO:prophet:Disabling yearly seasonality. Run prophet with yearly_seasonality=True to override this.\n",
            "INFO:prophet:Disabling daily seasonality. Run prophet with daily_seasonality=True to override this.\n",
            "DEBUG:cmdstanpy:input tempfile: /tmp/tmp09dakauk/hwft6cu6.json\n",
            "DEBUG:cmdstanpy:input tempfile: /tmp/tmp09dakauk/qw6bg1_x.json\n",
            "DEBUG:cmdstanpy:idx 0\n",
            "DEBUG:cmdstanpy:running CmdStan, num_threads: None\n",
            "DEBUG:cmdstanpy:CmdStan args: ['/usr/local/lib/python3.8/dist-packages/prophet/stan_model/prophet_model.bin', 'random', 'seed=51584', 'data', 'file=/tmp/tmp09dakauk/hwft6cu6.json', 'init=/tmp/tmp09dakauk/qw6bg1_x.json', 'output', 'file=/tmp/tmp09dakauk/prophet_modelikl7300u/prophet_model-20230216095411.csv', 'method=optimize', 'algorithm=lbfgs', 'iter=10000']\n",
            "09:54:11 - cmdstanpy - INFO - Chain [1] start processing\n",
            "INFO:cmdstanpy:Chain [1] start processing\n",
            "09:54:12 - cmdstanpy - INFO - Chain [1] done processing\n",
            "INFO:cmdstanpy:Chain [1] done processing\n"
          ]
        },
        {
          "output_type": "stream",
          "name": "stdout",
          "text": [
            "6 - Ensemble with avg smape 1.84: \n",
            "Model Number: 7 of 8 with model Ensemble for Validation 2\n",
            "7 - Ensemble with avg smape 2.99: \n",
            "Model Number: 8 of 8 with model Ensemble for Validation 2\n",
            "8 - Ensemble with avg smape 3.01: \n",
            "Validation Round: 3\n",
            "Model Number: 1 of 8 with model Ensemble for Validation 3\n",
            "📈 1 - Ensemble with avg smape 4.65: \n",
            "Model Number: 2 of 8 with model Ensemble for Validation 3\n",
            "2 - Ensemble with avg smape 7.39: \n",
            "Model Number: 3 of 8 with model Ensemble for Validation 3\n"
          ]
        },
        {
          "output_type": "stream",
          "name": "stderr",
          "text": [
            "/usr/local/lib/python3.8/dist-packages/sklearn/linear_model/_ridge.py:157: LinAlgWarning:\n",
            "\n",
            "Ill-conditioned matrix (rcond=9.55285e-25): result may not be accurate.\n",
            "\n"
          ]
        },
        {
          "output_type": "stream",
          "name": "stdout",
          "text": [
            "3 - Ensemble with avg smape 5.36: \n",
            "Model Number: 4 of 8 with model Ensemble for Validation 3\n"
          ]
        },
        {
          "output_type": "stream",
          "name": "stderr",
          "text": [
            "/usr/local/lib/python3.8/dist-packages/sklearn/linear_model/_ridge.py:157: LinAlgWarning:\n",
            "\n",
            "Ill-conditioned matrix (rcond=9.55285e-25): result may not be accurate.\n",
            "\n"
          ]
        },
        {
          "output_type": "stream",
          "name": "stdout",
          "text": [
            "4 - Ensemble with avg smape 7.37: \n",
            "Model Number: 5 of 8 with model Ensemble for Validation 3\n",
            "5 - Ensemble with avg smape 6.67: \n",
            "Model Number: 6 of 8 with model Ensemble for Validation 3\n"
          ]
        },
        {
          "output_type": "stream",
          "name": "stderr",
          "text": [
            "INFO:prophet:Disabling yearly seasonality. Run prophet with yearly_seasonality=True to override this.\n",
            "INFO:prophet:Disabling daily seasonality. Run prophet with daily_seasonality=True to override this.\n",
            "DEBUG:cmdstanpy:input tempfile: /tmp/tmp09dakauk/ribv39eg.json\n",
            "DEBUG:cmdstanpy:input tempfile: /tmp/tmp09dakauk/8j712l6m.json\n",
            "DEBUG:cmdstanpy:idx 0\n",
            "DEBUG:cmdstanpy:running CmdStan, num_threads: None\n",
            "DEBUG:cmdstanpy:CmdStan args: ['/usr/local/lib/python3.8/dist-packages/prophet/stan_model/prophet_model.bin', 'random', 'seed=4067', 'data', 'file=/tmp/tmp09dakauk/ribv39eg.json', 'init=/tmp/tmp09dakauk/8j712l6m.json', 'output', 'file=/tmp/tmp09dakauk/prophet_modelq0o7hn98/prophet_model-20230216095430.csv', 'method=optimize', 'algorithm=lbfgs', 'iter=10000']\n",
            "09:54:30 - cmdstanpy - INFO - Chain [1] start processing\n",
            "INFO:cmdstanpy:Chain [1] start processing\n",
            "09:54:31 - cmdstanpy - INFO - Chain [1] done processing\n",
            "INFO:cmdstanpy:Chain [1] done processing\n"
          ]
        },
        {
          "output_type": "stream",
          "name": "stdout",
          "text": [
            "6 - Ensemble with avg smape 8.46: \n",
            "Model Number: 7 of 8 with model Ensemble for Validation 3\n",
            "7 - Ensemble with avg smape 7.31: \n",
            "Model Number: 8 of 8 with model Ensemble for Validation 3\n",
            "8 - Ensemble with avg smape 7.45: \n",
            "                   Close\n",
            "2023-02-16  24398.577654\n",
            "2023-02-17  25417.483679\n",
            "2023-02-18  25953.923684\n",
            "2023-02-19  26381.595459\n",
            "2023-02-20  26918.035464\n",
            "2023-02-21  27345.707239\n",
            "2023-02-22  27882.147244\n",
            "2023-02-23  28309.819019\n",
            "2023-02-24  28846.259023\n",
            "2023-02-25  29273.930799\n"
          ]
        }
      ]
    },
    {
      "cell_type": "markdown",
      "source": [
        "Jadi inilah cara kita menggunakan pembelajaran mesin (*machine learning*) untuk memprediksi harga mata uang kripto apapun dengan menggunakan bahasa pemrograman Python.\n"
      ],
      "metadata": {
        "id": "ooMJ5AHlrdM2"
      }
    },
    {
      "cell_type": "markdown",
      "source": [
        "Jual beli menghasilkan perubahan harga mata uang kripto apa pun, tetapi tren jual beli bergantung pada banyak faktor. Menggunakan pembelajaran mesin (*machine learning*) untuk prediksi harga mata uang kripto hanya dapat berfungsi dalam situasi di mana harga berubah karena harga historis yang dilihat orang sebelum membeli dan menjual mata uang kripto mereka.\n"
      ],
      "metadata": {
        "id": "iTCPAwYGryNp"
      }
    }
  ]
}