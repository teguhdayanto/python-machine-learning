{
  "cells": [
    {
      "cell_type": "markdown",
      "source": [
        "# Menghitung Harga Jual Mobil Bekas Pak Mukidi\n"
      ],
      "metadata": {
        "id": "eDsAULD0RZbf"
      }
    },
    {
      "cell_type": "markdown",
      "source": [
        "Suatu hari, Pak Mukidi ingin menjual mobilnya yang sudah lama tidak dipakai. Agar cepat terjual dan tidak mengalami kerugian yg banyak, maka harga jual mobil tidak boleh terlalu mahal maupun terlalu murah. Maka dari itu, Pak Mukidi meminta bantuan kita untuk menentukan harga jual yang cocok untuk mobil tersebut. Kita diberikan suatu data set penjualan mobil (file cars_data.csv). Data set ini dapat digunakan untuk menentukan harga jual mobil Pak Mukidi yang cocok.\n"
      ],
      "metadata": {
        "id": "zQMe1PSnRqS8"
      }
    },
    {
      "cell_type": "markdown",
      "source": [
        "Terdapat tiga unsur utama pada dataset ini, yaitu:\n",
        "\n",
        "* Spesifikasi dari suatu mobil, dalam hal ini adalah jenis karakteristiknya (fuel-type, num-of-doors, body-style, dll).\n",
        "* Symbolling adalah nilai rating dari insurance risk pada setiap mobil. Besarnya nilai rating sesuai dengan sejauh mana mobil lebih berisiko dibanding harga yang ditunjukkan. Nilai +3 mengindikasikan bahwa mobil tersebut sangat berisiko, sebaliknya -3 berarti sangat aman.\n",
        "* Normalized-loss merepresentasikan rata-rata kerugian/loss dari mobil yang diasuransikan per tahunnya. Nilai tersebut sudah dinormalisasi, sehingga berkisar antara 65 hingga 256.\n"
      ],
      "metadata": {
        "id": "t3YREQzmSCZ2"
      }
    },
    {
      "cell_type": "markdown",
      "source": [
        "Untuk dapat menganalisa data dan mengaplikasikan model machine learning, maka kita harus melakukan pembersihan data terlebih dahulu:\n",
        "\n",
        "* Import data pada Jupyter Notebook (Google Colab) dan tampilkan 20 data awal pada dataframe\n",
        "* Kolom/atribut mana saja yang mengandung missing value (i.e NaN)\n",
        "* Ubah missing value pada setiap kolomnya (step 2) menjadi nol (0)\n",
        "* Ubah tipe data horsepower menjadi integer\n"
      ],
      "metadata": {
        "id": "Ys__g9P2SU_3"
      }
    },
    {
      "cell_type": "markdown",
      "source": [
        "Jika data sudah bersih, maka selanjutnya dapat mengaplikasikan model machine learning pada data set.\n",
        "\n",
        "Untuk mengetahui fitur-fitur apa saja yang mempengaruhi harga mobil, maka lakukan:\n",
        "\n",
        "* Plot highway-mpg VS price menggunakan scatter plot\n",
        "* Plot horse-power VS price menggunakan scatter plot\n",
        "* Plot curb-weight VS price menggunakan scatter plot\n",
        "\n",
        "Lakukan train-test-split menggunakan tiga fitur pada step 1, di mana output/keluarannya adalah harga mobil\n",
        "\n",
        "Setelah memisahkan data training dengan data test, prediksi data dengan cara:\n",
        "\n",
        "* Gunakan model machine learning (e.g. regresi linear)\n",
        "* Berapa akurasi prediksi dari model machine learning yang dihasilkan? (semakin besar akurasi yang didapat, semakin besar point Anda). Hint: jika perlu, lakukan normalisasi data, atur parameter model, dll.\n",
        "\n",
        "Jika spesifikasi mobil milik Mukidi adalah seperti berikut: highway-mpg = 32, curb-weight = 2328, horse-power = 85, maka, berdasarkan model machine learning yang telah kita buat, berapa harga jual mobil Pak Mukidi?\n"
      ],
      "metadata": {
        "id": "8-EJvjZ6Spyh"
      }
    },
    {
      "cell_type": "code",
      "execution_count": 1,
      "metadata": {
        "id": "7wkcBWOBZVYF"
      },
      "outputs": [],
      "source": [
        "# import library yang diperlukan\n",
        "\n",
        "import pandas as pd\n",
        "import numpy as np\n"
      ]
    },
    {
      "cell_type": "code",
      "execution_count": 3,
      "metadata": {
        "colab": {
          "base_uri": "https://localhost:8080/",
          "height": 857
        },
        "id": "EmZDMWwAZVYI",
        "outputId": "74444237-f556-4a69-b855-60a6adf58b65"
      },
      "outputs": [
        {
          "output_type": "execute_result",
          "data": {
            "text/plain": [
              "    symboling  normalized-losses         make fuel-type aspiration  \\\n",
              "0           3                NaN  alfa-romero       gas        std   \n",
              "1           3                NaN  alfa-romero       gas        std   \n",
              "2           1                NaN  alfa-romero       gas        std   \n",
              "3           2              164.0         audi       gas        std   \n",
              "4           2              164.0         audi       gas        std   \n",
              "5           2                NaN         audi       gas        std   \n",
              "6           1              158.0         audi       gas        std   \n",
              "7           1                NaN         audi       gas        std   \n",
              "8           1              158.0         audi       gas      turbo   \n",
              "9           2              192.0          bmw       gas        std   \n",
              "10          0              192.0          bmw       gas        std   \n",
              "11          0              188.0          bmw       gas        std   \n",
              "12          0              188.0          bmw       gas        std   \n",
              "13          1                NaN          bmw       gas        std   \n",
              "14          0                NaN          bmw       gas        std   \n",
              "15          0                NaN          bmw       gas        std   \n",
              "16          0                NaN          bmw       gas        std   \n",
              "17          2              121.0    chevrolet       gas        std   \n",
              "18          1               98.0    chevrolet       gas        std   \n",
              "19          0               81.0    chevrolet       gas        std   \n",
              "\n",
              "   num-of-doors   body-style drive-wheels engine-location  wheel-base  ...  \\\n",
              "0           two  convertible          rwd           front        88.6  ...   \n",
              "1           two  convertible          rwd           front        88.6  ...   \n",
              "2           two    hatchback          rwd           front        94.5  ...   \n",
              "3          four        sedan          fwd           front        99.8  ...   \n",
              "4          four        sedan          4wd           front        99.4  ...   \n",
              "5           two        sedan          fwd           front        99.8  ...   \n",
              "6          four        sedan          fwd           front       105.8  ...   \n",
              "7          four        wagon          fwd           front       105.8  ...   \n",
              "8          four        sedan          fwd           front       105.8  ...   \n",
              "9           two        sedan          rwd           front       101.2  ...   \n",
              "10         four        sedan          rwd           front       101.2  ...   \n",
              "11          two        sedan          rwd           front       101.2  ...   \n",
              "12         four        sedan          rwd           front       101.2  ...   \n",
              "13         four        sedan          rwd           front       103.5  ...   \n",
              "14         four        sedan          rwd           front       103.5  ...   \n",
              "15          two        sedan          rwd           front       103.5  ...   \n",
              "16         four        sedan          rwd           front       110.0  ...   \n",
              "17          two    hatchback          fwd           front        88.4  ...   \n",
              "18          two    hatchback          fwd           front        94.5  ...   \n",
              "19         four        sedan          fwd           front        94.5  ...   \n",
              "\n",
              "    engine-size  fuel-system  bore  stroke compression-ratio horsepower  \\\n",
              "0           130         mpfi  3.47    2.68               9.0      111.0   \n",
              "1           130         mpfi  3.47    2.68               9.0      111.0   \n",
              "2           152         mpfi  2.68    3.47               9.0      154.0   \n",
              "3           109         mpfi  3.19    3.40              10.0      102.0   \n",
              "4           136         mpfi  3.19    3.40               8.0      115.0   \n",
              "5           136         mpfi  3.19    3.40               8.5      110.0   \n",
              "6           136         mpfi  3.19    3.40               8.5      110.0   \n",
              "7           136         mpfi  3.19    3.40               8.5      110.0   \n",
              "8           131         mpfi  3.13    3.40               8.3      140.0   \n",
              "9           108         mpfi  3.50    2.80               8.8      101.0   \n",
              "10          108         mpfi  3.50    2.80               8.8      101.0   \n",
              "11          164         mpfi  3.31    3.19               9.0      121.0   \n",
              "12          164         mpfi  3.31    3.19               9.0      121.0   \n",
              "13          164         mpfi  3.31    3.19               9.0      121.0   \n",
              "14          209         mpfi  3.62    3.39               8.0      182.0   \n",
              "15          209         mpfi  3.62    3.39               8.0      182.0   \n",
              "16          209         mpfi  3.62    3.39               8.0      182.0   \n",
              "17           61         2bbl  2.91    3.03               9.5       48.0   \n",
              "18           90         2bbl  3.03    3.11               9.6       70.0   \n",
              "19           90         2bbl  3.03    3.11               9.6       70.0   \n",
              "\n",
              "    peak-rpm city-mpg  highway-mpg  price  \n",
              "0     5000.0       21           27  13495  \n",
              "1     5000.0       21           27  16500  \n",
              "2     5000.0       19           26  16500  \n",
              "3     5500.0       24           30  13950  \n",
              "4     5500.0       18           22  17450  \n",
              "5     5500.0       19           25  15250  \n",
              "6     5500.0       19           25  17710  \n",
              "7     5500.0       19           25  18920  \n",
              "8     5500.0       17           20  23875  \n",
              "9     5800.0       23           29  16430  \n",
              "10    5800.0       23           29  16925  \n",
              "11    4250.0       21           28  20970  \n",
              "12    4250.0       21           28  21105  \n",
              "13    4250.0       20           25  24565  \n",
              "14    5400.0       16           22  30760  \n",
              "15    5400.0       16           22  41315  \n",
              "16    5400.0       15           20  36880  \n",
              "17    5100.0       47           53   5151  \n",
              "18    5400.0       38           43   6295  \n",
              "19    5400.0       38           43   6575  \n",
              "\n",
              "[20 rows x 26 columns]"
            ],
            "text/html": [
              "\n",
              "  <div id=\"df-4859c0fb-a67e-4766-b5ac-57f9385bd9a2\">\n",
              "    <div class=\"colab-df-container\">\n",
              "      <div>\n",
              "<style scoped>\n",
              "    .dataframe tbody tr th:only-of-type {\n",
              "        vertical-align: middle;\n",
              "    }\n",
              "\n",
              "    .dataframe tbody tr th {\n",
              "        vertical-align: top;\n",
              "    }\n",
              "\n",
              "    .dataframe thead th {\n",
              "        text-align: right;\n",
              "    }\n",
              "</style>\n",
              "<table border=\"1\" class=\"dataframe\">\n",
              "  <thead>\n",
              "    <tr style=\"text-align: right;\">\n",
              "      <th></th>\n",
              "      <th>symboling</th>\n",
              "      <th>normalized-losses</th>\n",
              "      <th>make</th>\n",
              "      <th>fuel-type</th>\n",
              "      <th>aspiration</th>\n",
              "      <th>num-of-doors</th>\n",
              "      <th>body-style</th>\n",
              "      <th>drive-wheels</th>\n",
              "      <th>engine-location</th>\n",
              "      <th>wheel-base</th>\n",
              "      <th>...</th>\n",
              "      <th>engine-size</th>\n",
              "      <th>fuel-system</th>\n",
              "      <th>bore</th>\n",
              "      <th>stroke</th>\n",
              "      <th>compression-ratio</th>\n",
              "      <th>horsepower</th>\n",
              "      <th>peak-rpm</th>\n",
              "      <th>city-mpg</th>\n",
              "      <th>highway-mpg</th>\n",
              "      <th>price</th>\n",
              "    </tr>\n",
              "  </thead>\n",
              "  <tbody>\n",
              "    <tr>\n",
              "      <th>0</th>\n",
              "      <td>3</td>\n",
              "      <td>NaN</td>\n",
              "      <td>alfa-romero</td>\n",
              "      <td>gas</td>\n",
              "      <td>std</td>\n",
              "      <td>two</td>\n",
              "      <td>convertible</td>\n",
              "      <td>rwd</td>\n",
              "      <td>front</td>\n",
              "      <td>88.6</td>\n",
              "      <td>...</td>\n",
              "      <td>130</td>\n",
              "      <td>mpfi</td>\n",
              "      <td>3.47</td>\n",
              "      <td>2.68</td>\n",
              "      <td>9.0</td>\n",
              "      <td>111.0</td>\n",
              "      <td>5000.0</td>\n",
              "      <td>21</td>\n",
              "      <td>27</td>\n",
              "      <td>13495</td>\n",
              "    </tr>\n",
              "    <tr>\n",
              "      <th>1</th>\n",
              "      <td>3</td>\n",
              "      <td>NaN</td>\n",
              "      <td>alfa-romero</td>\n",
              "      <td>gas</td>\n",
              "      <td>std</td>\n",
              "      <td>two</td>\n",
              "      <td>convertible</td>\n",
              "      <td>rwd</td>\n",
              "      <td>front</td>\n",
              "      <td>88.6</td>\n",
              "      <td>...</td>\n",
              "      <td>130</td>\n",
              "      <td>mpfi</td>\n",
              "      <td>3.47</td>\n",
              "      <td>2.68</td>\n",
              "      <td>9.0</td>\n",
              "      <td>111.0</td>\n",
              "      <td>5000.0</td>\n",
              "      <td>21</td>\n",
              "      <td>27</td>\n",
              "      <td>16500</td>\n",
              "    </tr>\n",
              "    <tr>\n",
              "      <th>2</th>\n",
              "      <td>1</td>\n",
              "      <td>NaN</td>\n",
              "      <td>alfa-romero</td>\n",
              "      <td>gas</td>\n",
              "      <td>std</td>\n",
              "      <td>two</td>\n",
              "      <td>hatchback</td>\n",
              "      <td>rwd</td>\n",
              "      <td>front</td>\n",
              "      <td>94.5</td>\n",
              "      <td>...</td>\n",
              "      <td>152</td>\n",
              "      <td>mpfi</td>\n",
              "      <td>2.68</td>\n",
              "      <td>3.47</td>\n",
              "      <td>9.0</td>\n",
              "      <td>154.0</td>\n",
              "      <td>5000.0</td>\n",
              "      <td>19</td>\n",
              "      <td>26</td>\n",
              "      <td>16500</td>\n",
              "    </tr>\n",
              "    <tr>\n",
              "      <th>3</th>\n",
              "      <td>2</td>\n",
              "      <td>164.0</td>\n",
              "      <td>audi</td>\n",
              "      <td>gas</td>\n",
              "      <td>std</td>\n",
              "      <td>four</td>\n",
              "      <td>sedan</td>\n",
              "      <td>fwd</td>\n",
              "      <td>front</td>\n",
              "      <td>99.8</td>\n",
              "      <td>...</td>\n",
              "      <td>109</td>\n",
              "      <td>mpfi</td>\n",
              "      <td>3.19</td>\n",
              "      <td>3.40</td>\n",
              "      <td>10.0</td>\n",
              "      <td>102.0</td>\n",
              "      <td>5500.0</td>\n",
              "      <td>24</td>\n",
              "      <td>30</td>\n",
              "      <td>13950</td>\n",
              "    </tr>\n",
              "    <tr>\n",
              "      <th>4</th>\n",
              "      <td>2</td>\n",
              "      <td>164.0</td>\n",
              "      <td>audi</td>\n",
              "      <td>gas</td>\n",
              "      <td>std</td>\n",
              "      <td>four</td>\n",
              "      <td>sedan</td>\n",
              "      <td>4wd</td>\n",
              "      <td>front</td>\n",
              "      <td>99.4</td>\n",
              "      <td>...</td>\n",
              "      <td>136</td>\n",
              "      <td>mpfi</td>\n",
              "      <td>3.19</td>\n",
              "      <td>3.40</td>\n",
              "      <td>8.0</td>\n",
              "      <td>115.0</td>\n",
              "      <td>5500.0</td>\n",
              "      <td>18</td>\n",
              "      <td>22</td>\n",
              "      <td>17450</td>\n",
              "    </tr>\n",
              "    <tr>\n",
              "      <th>5</th>\n",
              "      <td>2</td>\n",
              "      <td>NaN</td>\n",
              "      <td>audi</td>\n",
              "      <td>gas</td>\n",
              "      <td>std</td>\n",
              "      <td>two</td>\n",
              "      <td>sedan</td>\n",
              "      <td>fwd</td>\n",
              "      <td>front</td>\n",
              "      <td>99.8</td>\n",
              "      <td>...</td>\n",
              "      <td>136</td>\n",
              "      <td>mpfi</td>\n",
              "      <td>3.19</td>\n",
              "      <td>3.40</td>\n",
              "      <td>8.5</td>\n",
              "      <td>110.0</td>\n",
              "      <td>5500.0</td>\n",
              "      <td>19</td>\n",
              "      <td>25</td>\n",
              "      <td>15250</td>\n",
              "    </tr>\n",
              "    <tr>\n",
              "      <th>6</th>\n",
              "      <td>1</td>\n",
              "      <td>158.0</td>\n",
              "      <td>audi</td>\n",
              "      <td>gas</td>\n",
              "      <td>std</td>\n",
              "      <td>four</td>\n",
              "      <td>sedan</td>\n",
              "      <td>fwd</td>\n",
              "      <td>front</td>\n",
              "      <td>105.8</td>\n",
              "      <td>...</td>\n",
              "      <td>136</td>\n",
              "      <td>mpfi</td>\n",
              "      <td>3.19</td>\n",
              "      <td>3.40</td>\n",
              "      <td>8.5</td>\n",
              "      <td>110.0</td>\n",
              "      <td>5500.0</td>\n",
              "      <td>19</td>\n",
              "      <td>25</td>\n",
              "      <td>17710</td>\n",
              "    </tr>\n",
              "    <tr>\n",
              "      <th>7</th>\n",
              "      <td>1</td>\n",
              "      <td>NaN</td>\n",
              "      <td>audi</td>\n",
              "      <td>gas</td>\n",
              "      <td>std</td>\n",
              "      <td>four</td>\n",
              "      <td>wagon</td>\n",
              "      <td>fwd</td>\n",
              "      <td>front</td>\n",
              "      <td>105.8</td>\n",
              "      <td>...</td>\n",
              "      <td>136</td>\n",
              "      <td>mpfi</td>\n",
              "      <td>3.19</td>\n",
              "      <td>3.40</td>\n",
              "      <td>8.5</td>\n",
              "      <td>110.0</td>\n",
              "      <td>5500.0</td>\n",
              "      <td>19</td>\n",
              "      <td>25</td>\n",
              "      <td>18920</td>\n",
              "    </tr>\n",
              "    <tr>\n",
              "      <th>8</th>\n",
              "      <td>1</td>\n",
              "      <td>158.0</td>\n",
              "      <td>audi</td>\n",
              "      <td>gas</td>\n",
              "      <td>turbo</td>\n",
              "      <td>four</td>\n",
              "      <td>sedan</td>\n",
              "      <td>fwd</td>\n",
              "      <td>front</td>\n",
              "      <td>105.8</td>\n",
              "      <td>...</td>\n",
              "      <td>131</td>\n",
              "      <td>mpfi</td>\n",
              "      <td>3.13</td>\n",
              "      <td>3.40</td>\n",
              "      <td>8.3</td>\n",
              "      <td>140.0</td>\n",
              "      <td>5500.0</td>\n",
              "      <td>17</td>\n",
              "      <td>20</td>\n",
              "      <td>23875</td>\n",
              "    </tr>\n",
              "    <tr>\n",
              "      <th>9</th>\n",
              "      <td>2</td>\n",
              "      <td>192.0</td>\n",
              "      <td>bmw</td>\n",
              "      <td>gas</td>\n",
              "      <td>std</td>\n",
              "      <td>two</td>\n",
              "      <td>sedan</td>\n",
              "      <td>rwd</td>\n",
              "      <td>front</td>\n",
              "      <td>101.2</td>\n",
              "      <td>...</td>\n",
              "      <td>108</td>\n",
              "      <td>mpfi</td>\n",
              "      <td>3.50</td>\n",
              "      <td>2.80</td>\n",
              "      <td>8.8</td>\n",
              "      <td>101.0</td>\n",
              "      <td>5800.0</td>\n",
              "      <td>23</td>\n",
              "      <td>29</td>\n",
              "      <td>16430</td>\n",
              "    </tr>\n",
              "    <tr>\n",
              "      <th>10</th>\n",
              "      <td>0</td>\n",
              "      <td>192.0</td>\n",
              "      <td>bmw</td>\n",
              "      <td>gas</td>\n",
              "      <td>std</td>\n",
              "      <td>four</td>\n",
              "      <td>sedan</td>\n",
              "      <td>rwd</td>\n",
              "      <td>front</td>\n",
              "      <td>101.2</td>\n",
              "      <td>...</td>\n",
              "      <td>108</td>\n",
              "      <td>mpfi</td>\n",
              "      <td>3.50</td>\n",
              "      <td>2.80</td>\n",
              "      <td>8.8</td>\n",
              "      <td>101.0</td>\n",
              "      <td>5800.0</td>\n",
              "      <td>23</td>\n",
              "      <td>29</td>\n",
              "      <td>16925</td>\n",
              "    </tr>\n",
              "    <tr>\n",
              "      <th>11</th>\n",
              "      <td>0</td>\n",
              "      <td>188.0</td>\n",
              "      <td>bmw</td>\n",
              "      <td>gas</td>\n",
              "      <td>std</td>\n",
              "      <td>two</td>\n",
              "      <td>sedan</td>\n",
              "      <td>rwd</td>\n",
              "      <td>front</td>\n",
              "      <td>101.2</td>\n",
              "      <td>...</td>\n",
              "      <td>164</td>\n",
              "      <td>mpfi</td>\n",
              "      <td>3.31</td>\n",
              "      <td>3.19</td>\n",
              "      <td>9.0</td>\n",
              "      <td>121.0</td>\n",
              "      <td>4250.0</td>\n",
              "      <td>21</td>\n",
              "      <td>28</td>\n",
              "      <td>20970</td>\n",
              "    </tr>\n",
              "    <tr>\n",
              "      <th>12</th>\n",
              "      <td>0</td>\n",
              "      <td>188.0</td>\n",
              "      <td>bmw</td>\n",
              "      <td>gas</td>\n",
              "      <td>std</td>\n",
              "      <td>four</td>\n",
              "      <td>sedan</td>\n",
              "      <td>rwd</td>\n",
              "      <td>front</td>\n",
              "      <td>101.2</td>\n",
              "      <td>...</td>\n",
              "      <td>164</td>\n",
              "      <td>mpfi</td>\n",
              "      <td>3.31</td>\n",
              "      <td>3.19</td>\n",
              "      <td>9.0</td>\n",
              "      <td>121.0</td>\n",
              "      <td>4250.0</td>\n",
              "      <td>21</td>\n",
              "      <td>28</td>\n",
              "      <td>21105</td>\n",
              "    </tr>\n",
              "    <tr>\n",
              "      <th>13</th>\n",
              "      <td>1</td>\n",
              "      <td>NaN</td>\n",
              "      <td>bmw</td>\n",
              "      <td>gas</td>\n",
              "      <td>std</td>\n",
              "      <td>four</td>\n",
              "      <td>sedan</td>\n",
              "      <td>rwd</td>\n",
              "      <td>front</td>\n",
              "      <td>103.5</td>\n",
              "      <td>...</td>\n",
              "      <td>164</td>\n",
              "      <td>mpfi</td>\n",
              "      <td>3.31</td>\n",
              "      <td>3.19</td>\n",
              "      <td>9.0</td>\n",
              "      <td>121.0</td>\n",
              "      <td>4250.0</td>\n",
              "      <td>20</td>\n",
              "      <td>25</td>\n",
              "      <td>24565</td>\n",
              "    </tr>\n",
              "    <tr>\n",
              "      <th>14</th>\n",
              "      <td>0</td>\n",
              "      <td>NaN</td>\n",
              "      <td>bmw</td>\n",
              "      <td>gas</td>\n",
              "      <td>std</td>\n",
              "      <td>four</td>\n",
              "      <td>sedan</td>\n",
              "      <td>rwd</td>\n",
              "      <td>front</td>\n",
              "      <td>103.5</td>\n",
              "      <td>...</td>\n",
              "      <td>209</td>\n",
              "      <td>mpfi</td>\n",
              "      <td>3.62</td>\n",
              "      <td>3.39</td>\n",
              "      <td>8.0</td>\n",
              "      <td>182.0</td>\n",
              "      <td>5400.0</td>\n",
              "      <td>16</td>\n",
              "      <td>22</td>\n",
              "      <td>30760</td>\n",
              "    </tr>\n",
              "    <tr>\n",
              "      <th>15</th>\n",
              "      <td>0</td>\n",
              "      <td>NaN</td>\n",
              "      <td>bmw</td>\n",
              "      <td>gas</td>\n",
              "      <td>std</td>\n",
              "      <td>two</td>\n",
              "      <td>sedan</td>\n",
              "      <td>rwd</td>\n",
              "      <td>front</td>\n",
              "      <td>103.5</td>\n",
              "      <td>...</td>\n",
              "      <td>209</td>\n",
              "      <td>mpfi</td>\n",
              "      <td>3.62</td>\n",
              "      <td>3.39</td>\n",
              "      <td>8.0</td>\n",
              "      <td>182.0</td>\n",
              "      <td>5400.0</td>\n",
              "      <td>16</td>\n",
              "      <td>22</td>\n",
              "      <td>41315</td>\n",
              "    </tr>\n",
              "    <tr>\n",
              "      <th>16</th>\n",
              "      <td>0</td>\n",
              "      <td>NaN</td>\n",
              "      <td>bmw</td>\n",
              "      <td>gas</td>\n",
              "      <td>std</td>\n",
              "      <td>four</td>\n",
              "      <td>sedan</td>\n",
              "      <td>rwd</td>\n",
              "      <td>front</td>\n",
              "      <td>110.0</td>\n",
              "      <td>...</td>\n",
              "      <td>209</td>\n",
              "      <td>mpfi</td>\n",
              "      <td>3.62</td>\n",
              "      <td>3.39</td>\n",
              "      <td>8.0</td>\n",
              "      <td>182.0</td>\n",
              "      <td>5400.0</td>\n",
              "      <td>15</td>\n",
              "      <td>20</td>\n",
              "      <td>36880</td>\n",
              "    </tr>\n",
              "    <tr>\n",
              "      <th>17</th>\n",
              "      <td>2</td>\n",
              "      <td>121.0</td>\n",
              "      <td>chevrolet</td>\n",
              "      <td>gas</td>\n",
              "      <td>std</td>\n",
              "      <td>two</td>\n",
              "      <td>hatchback</td>\n",
              "      <td>fwd</td>\n",
              "      <td>front</td>\n",
              "      <td>88.4</td>\n",
              "      <td>...</td>\n",
              "      <td>61</td>\n",
              "      <td>2bbl</td>\n",
              "      <td>2.91</td>\n",
              "      <td>3.03</td>\n",
              "      <td>9.5</td>\n",
              "      <td>48.0</td>\n",
              "      <td>5100.0</td>\n",
              "      <td>47</td>\n",
              "      <td>53</td>\n",
              "      <td>5151</td>\n",
              "    </tr>\n",
              "    <tr>\n",
              "      <th>18</th>\n",
              "      <td>1</td>\n",
              "      <td>98.0</td>\n",
              "      <td>chevrolet</td>\n",
              "      <td>gas</td>\n",
              "      <td>std</td>\n",
              "      <td>two</td>\n",
              "      <td>hatchback</td>\n",
              "      <td>fwd</td>\n",
              "      <td>front</td>\n",
              "      <td>94.5</td>\n",
              "      <td>...</td>\n",
              "      <td>90</td>\n",
              "      <td>2bbl</td>\n",
              "      <td>3.03</td>\n",
              "      <td>3.11</td>\n",
              "      <td>9.6</td>\n",
              "      <td>70.0</td>\n",
              "      <td>5400.0</td>\n",
              "      <td>38</td>\n",
              "      <td>43</td>\n",
              "      <td>6295</td>\n",
              "    </tr>\n",
              "    <tr>\n",
              "      <th>19</th>\n",
              "      <td>0</td>\n",
              "      <td>81.0</td>\n",
              "      <td>chevrolet</td>\n",
              "      <td>gas</td>\n",
              "      <td>std</td>\n",
              "      <td>four</td>\n",
              "      <td>sedan</td>\n",
              "      <td>fwd</td>\n",
              "      <td>front</td>\n",
              "      <td>94.5</td>\n",
              "      <td>...</td>\n",
              "      <td>90</td>\n",
              "      <td>2bbl</td>\n",
              "      <td>3.03</td>\n",
              "      <td>3.11</td>\n",
              "      <td>9.6</td>\n",
              "      <td>70.0</td>\n",
              "      <td>5400.0</td>\n",
              "      <td>38</td>\n",
              "      <td>43</td>\n",
              "      <td>6575</td>\n",
              "    </tr>\n",
              "  </tbody>\n",
              "</table>\n",
              "<p>20 rows × 26 columns</p>\n",
              "</div>\n",
              "      <button class=\"colab-df-convert\" onclick=\"convertToInteractive('df-4859c0fb-a67e-4766-b5ac-57f9385bd9a2')\"\n",
              "              title=\"Convert this dataframe to an interactive table.\"\n",
              "              style=\"display:none;\">\n",
              "        \n",
              "  <svg xmlns=\"http://www.w3.org/2000/svg\" height=\"24px\"viewBox=\"0 0 24 24\"\n",
              "       width=\"24px\">\n",
              "    <path d=\"M0 0h24v24H0V0z\" fill=\"none\"/>\n",
              "    <path d=\"M18.56 5.44l.94 2.06.94-2.06 2.06-.94-2.06-.94-.94-2.06-.94 2.06-2.06.94zm-11 1L8.5 8.5l.94-2.06 2.06-.94-2.06-.94L8.5 2.5l-.94 2.06-2.06.94zm10 10l.94 2.06.94-2.06 2.06-.94-2.06-.94-.94-2.06-.94 2.06-2.06.94z\"/><path d=\"M17.41 7.96l-1.37-1.37c-.4-.4-.92-.59-1.43-.59-.52 0-1.04.2-1.43.59L10.3 9.45l-7.72 7.72c-.78.78-.78 2.05 0 2.83L4 21.41c.39.39.9.59 1.41.59.51 0 1.02-.2 1.41-.59l7.78-7.78 2.81-2.81c.8-.78.8-2.07 0-2.86zM5.41 20L4 18.59l7.72-7.72 1.47 1.35L5.41 20z\"/>\n",
              "  </svg>\n",
              "      </button>\n",
              "      \n",
              "  <style>\n",
              "    .colab-df-container {\n",
              "      display:flex;\n",
              "      flex-wrap:wrap;\n",
              "      gap: 12px;\n",
              "    }\n",
              "\n",
              "    .colab-df-convert {\n",
              "      background-color: #E8F0FE;\n",
              "      border: none;\n",
              "      border-radius: 50%;\n",
              "      cursor: pointer;\n",
              "      display: none;\n",
              "      fill: #1967D2;\n",
              "      height: 32px;\n",
              "      padding: 0 0 0 0;\n",
              "      width: 32px;\n",
              "    }\n",
              "\n",
              "    .colab-df-convert:hover {\n",
              "      background-color: #E2EBFA;\n",
              "      box-shadow: 0px 1px 2px rgba(60, 64, 67, 0.3), 0px 1px 3px 1px rgba(60, 64, 67, 0.15);\n",
              "      fill: #174EA6;\n",
              "    }\n",
              "\n",
              "    [theme=dark] .colab-df-convert {\n",
              "      background-color: #3B4455;\n",
              "      fill: #D2E3FC;\n",
              "    }\n",
              "\n",
              "    [theme=dark] .colab-df-convert:hover {\n",
              "      background-color: #434B5C;\n",
              "      box-shadow: 0px 1px 3px 1px rgba(0, 0, 0, 0.15);\n",
              "      filter: drop-shadow(0px 1px 2px rgba(0, 0, 0, 0.3));\n",
              "      fill: #FFFFFF;\n",
              "    }\n",
              "  </style>\n",
              "\n",
              "      <script>\n",
              "        const buttonEl =\n",
              "          document.querySelector('#df-4859c0fb-a67e-4766-b5ac-57f9385bd9a2 button.colab-df-convert');\n",
              "        buttonEl.style.display =\n",
              "          google.colab.kernel.accessAllowed ? 'block' : 'none';\n",
              "\n",
              "        async function convertToInteractive(key) {\n",
              "          const element = document.querySelector('#df-4859c0fb-a67e-4766-b5ac-57f9385bd9a2');\n",
              "          const dataTable =\n",
              "            await google.colab.kernel.invokeFunction('convertToInteractive',\n",
              "                                                     [key], {});\n",
              "          if (!dataTable) return;\n",
              "\n",
              "          const docLinkHtml = 'Like what you see? Visit the ' +\n",
              "            '<a target=\"_blank\" href=https://colab.research.google.com/notebooks/data_table.ipynb>data table notebook</a>'\n",
              "            + ' to learn more about interactive tables.';\n",
              "          element.innerHTML = '';\n",
              "          dataTable['output_type'] = 'display_data';\n",
              "          await google.colab.output.renderOutput(dataTable, element);\n",
              "          const docLink = document.createElement('div');\n",
              "          docLink.innerHTML = docLinkHtml;\n",
              "          element.appendChild(docLink);\n",
              "        }\n",
              "      </script>\n",
              "    </div>\n",
              "  </div>\n",
              "  "
            ]
          },
          "metadata": {},
          "execution_count": 3
        }
      ],
      "source": [
        "# Import data (file \"cars_data.csv\") dan tampilkan 30 data awal (pertama) dari 201 baris data\n",
        "\n",
        "df_mobil_ori = pd.read_csv(\"cars_data.csv\")\n",
        "# df_mobil_ori\n",
        "df_mobil_ori.head(20)\n"
      ]
    },
    {
      "cell_type": "code",
      "execution_count": 4,
      "metadata": {
        "scrolled": false,
        "colab": {
          "base_uri": "https://localhost:8080/"
        },
        "id": "uQ4_FnpaZVYJ",
        "outputId": "3123ba29-7837-45af-c2fa-6a94ea7663af"
      },
      "outputs": [
        {
          "output_type": "execute_result",
          "data": {
            "text/plain": [
              "symboling             0\n",
              "normalized-losses    37\n",
              "make                  0\n",
              "fuel-type             0\n",
              "aspiration            0\n",
              "num-of-doors          2\n",
              "body-style            0\n",
              "drive-wheels          0\n",
              "engine-location       0\n",
              "wheel-base            0\n",
              "length                0\n",
              "width                 0\n",
              "height                0\n",
              "curb-weight           0\n",
              "engine-type           0\n",
              "num-of-cylinders      0\n",
              "engine-size           0\n",
              "fuel-system           0\n",
              "bore                  4\n",
              "stroke                4\n",
              "compression-ratio     0\n",
              "horsepower            2\n",
              "peak-rpm              2\n",
              "city-mpg              0\n",
              "highway-mpg           0\n",
              "price                 0\n",
              "dtype: int64"
            ]
          },
          "metadata": {},
          "execution_count": 4
        }
      ],
      "source": [
        "# Kolom/atribut yang mengandung missing value (NaN)\n",
        "\n",
        "# df_mobil_ori.isnull()\n",
        "df_mobil_ori.isnull().sum()\n"
      ]
    },
    {
      "cell_type": "code",
      "execution_count": 5,
      "metadata": {
        "scrolled": false,
        "colab": {
          "base_uri": "https://localhost:8080/"
        },
        "id": "XlIlCE2AZVYK",
        "outputId": "13bb7cc1-574f-42cb-ed57-7cb8fb0564bc"
      },
      "outputs": [
        {
          "output_type": "execute_result",
          "data": {
            "text/plain": [
              "symboling            0\n",
              "normalized-losses    0\n",
              "make                 0\n",
              "fuel-type            0\n",
              "aspiration           0\n",
              "num-of-doors         0\n",
              "body-style           0\n",
              "drive-wheels         0\n",
              "engine-location      0\n",
              "wheel-base           0\n",
              "length               0\n",
              "width                0\n",
              "height               0\n",
              "curb-weight          0\n",
              "engine-type          0\n",
              "num-of-cylinders     0\n",
              "engine-size          0\n",
              "fuel-system          0\n",
              "bore                 0\n",
              "stroke               0\n",
              "compression-ratio    0\n",
              "horsepower           0\n",
              "peak-rpm             0\n",
              "city-mpg             0\n",
              "highway-mpg          0\n",
              "price                0\n",
              "dtype: int64"
            ]
          },
          "metadata": {},
          "execution_count": 5
        }
      ],
      "source": [
        "# Ubah missing value pada setiap kolomnya dengan 0 (nol)\n",
        "\n",
        "df_mobil = df_mobil_ori.replace(np.nan,0)\n",
        "df_mobil.isnull().sum()\n"
      ]
    },
    {
      "cell_type": "code",
      "execution_count": 6,
      "metadata": {
        "colab": {
          "base_uri": "https://localhost:8080/"
        },
        "id": "uUdNkCdtZVYK",
        "outputId": "0c4ca7a0-dd57-4c68-83f0-0f524e25fe79"
      },
      "outputs": [
        {
          "output_type": "execute_result",
          "data": {
            "text/plain": [
              "symboling              int64\n",
              "normalized-losses    float64\n",
              "make                  object\n",
              "fuel-type             object\n",
              "aspiration            object\n",
              "num-of-doors          object\n",
              "body-style            object\n",
              "drive-wheels          object\n",
              "engine-location       object\n",
              "wheel-base           float64\n",
              "length               float64\n",
              "width                float64\n",
              "height               float64\n",
              "curb-weight            int64\n",
              "engine-type           object\n",
              "num-of-cylinders      object\n",
              "engine-size            int64\n",
              "fuel-system           object\n",
              "bore                 float64\n",
              "stroke               float64\n",
              "compression-ratio    float64\n",
              "horsepower           float64\n",
              "peak-rpm             float64\n",
              "city-mpg               int64\n",
              "highway-mpg            int64\n",
              "price                  int64\n",
              "dtype: object"
            ]
          },
          "metadata": {},
          "execution_count": 6
        }
      ],
      "source": [
        "# Ubah tipe data \"horsepower\" dari float64 ke integer64\n",
        "\n",
        "# melihat type data setiap kolom\n",
        "df_mobil.dtypes\n"
      ]
    },
    {
      "cell_type": "code",
      "execution_count": 8,
      "metadata": {
        "colab": {
          "base_uri": "https://localhost:8080/"
        },
        "id": "IUesX2DCZVYL",
        "outputId": "8189752d-e50f-4c36-84ea-735326506dc5"
      },
      "outputs": [
        {
          "output_type": "execute_result",
          "data": {
            "text/plain": [
              "symboling              int64\n",
              "normalized-losses    float64\n",
              "make                  object\n",
              "fuel-type             object\n",
              "aspiration            object\n",
              "num-of-doors          object\n",
              "body-style            object\n",
              "drive-wheels          object\n",
              "engine-location       object\n",
              "wheel-base           float64\n",
              "length               float64\n",
              "width                float64\n",
              "height               float64\n",
              "curb-weight            int64\n",
              "engine-type           object\n",
              "num-of-cylinders      object\n",
              "engine-size            int64\n",
              "fuel-system           object\n",
              "bore                 float64\n",
              "stroke               float64\n",
              "compression-ratio    float64\n",
              "horsepower             int64\n",
              "peak-rpm             float64\n",
              "city-mpg               int64\n",
              "highway-mpg            int64\n",
              "price                  int64\n",
              "dtype: object"
            ]
          },
          "metadata": {},
          "execution_count": 8
        }
      ],
      "source": [
        "# ganti kolom \"horsepower\" dari float64 ke int64\n",
        "\n",
        "df_mobil['horsepower'] = df_mobil['horsepower'].astype(\"int64\")\n",
        "df_mobil.dtypes\n"
      ]
    },
    {
      "cell_type": "code",
      "source": [
        "# Masih ada tanda lain\n",
        "# Ubah tanda ? ke nilai 0\n",
        "\n",
        "df_mobil['price'] = df_mobil['price'].replace(to_replace =\"?\",value =0) #replace ? jadi 0\n",
        "df_mobil['horsepower'] = df_mobil['horsepower'].replace(to_replace =\"?\",value =0) #replace ? jadi 0\n",
        "df_mobil['curb-weight'] = df_mobil['curb-weight'].replace(to_replace =\"?\",value =0) #replace ? jadi 0\n",
        "df_mobil['highway-mpg'] = df_mobil['highway-mpg'].replace(to_replace =\"?\",value =0) #replace ? jadi 0\n",
        "df_mobil.head()\n"
      ],
      "metadata": {
        "colab": {
          "base_uri": "https://localhost:8080/",
          "height": 386
        },
        "id": "hkYQHZwmhSq0",
        "outputId": "2e0eb4dd-627e-43f8-82e1-baf5b9eadd78"
      },
      "execution_count": 9,
      "outputs": [
        {
          "output_type": "execute_result",
          "data": {
            "text/plain": [
              "   symboling  normalized-losses         make fuel-type aspiration  \\\n",
              "0          3                0.0  alfa-romero       gas        std   \n",
              "1          3                0.0  alfa-romero       gas        std   \n",
              "2          1                0.0  alfa-romero       gas        std   \n",
              "3          2              164.0         audi       gas        std   \n",
              "4          2              164.0         audi       gas        std   \n",
              "\n",
              "  num-of-doors   body-style drive-wheels engine-location  wheel-base  ...  \\\n",
              "0          two  convertible          rwd           front        88.6  ...   \n",
              "1          two  convertible          rwd           front        88.6  ...   \n",
              "2          two    hatchback          rwd           front        94.5  ...   \n",
              "3         four        sedan          fwd           front        99.8  ...   \n",
              "4         four        sedan          4wd           front        99.4  ...   \n",
              "\n",
              "   engine-size  fuel-system  bore  stroke compression-ratio horsepower  \\\n",
              "0          130         mpfi  3.47    2.68               9.0        111   \n",
              "1          130         mpfi  3.47    2.68               9.0        111   \n",
              "2          152         mpfi  2.68    3.47               9.0        154   \n",
              "3          109         mpfi  3.19    3.40              10.0        102   \n",
              "4          136         mpfi  3.19    3.40               8.0        115   \n",
              "\n",
              "   peak-rpm city-mpg  highway-mpg  price  \n",
              "0    5000.0       21           27  13495  \n",
              "1    5000.0       21           27  16500  \n",
              "2    5000.0       19           26  16500  \n",
              "3    5500.0       24           30  13950  \n",
              "4    5500.0       18           22  17450  \n",
              "\n",
              "[5 rows x 26 columns]"
            ],
            "text/html": [
              "\n",
              "  <div id=\"df-787c797b-0072-4723-a010-6ad0e96392b7\">\n",
              "    <div class=\"colab-df-container\">\n",
              "      <div>\n",
              "<style scoped>\n",
              "    .dataframe tbody tr th:only-of-type {\n",
              "        vertical-align: middle;\n",
              "    }\n",
              "\n",
              "    .dataframe tbody tr th {\n",
              "        vertical-align: top;\n",
              "    }\n",
              "\n",
              "    .dataframe thead th {\n",
              "        text-align: right;\n",
              "    }\n",
              "</style>\n",
              "<table border=\"1\" class=\"dataframe\">\n",
              "  <thead>\n",
              "    <tr style=\"text-align: right;\">\n",
              "      <th></th>\n",
              "      <th>symboling</th>\n",
              "      <th>normalized-losses</th>\n",
              "      <th>make</th>\n",
              "      <th>fuel-type</th>\n",
              "      <th>aspiration</th>\n",
              "      <th>num-of-doors</th>\n",
              "      <th>body-style</th>\n",
              "      <th>drive-wheels</th>\n",
              "      <th>engine-location</th>\n",
              "      <th>wheel-base</th>\n",
              "      <th>...</th>\n",
              "      <th>engine-size</th>\n",
              "      <th>fuel-system</th>\n",
              "      <th>bore</th>\n",
              "      <th>stroke</th>\n",
              "      <th>compression-ratio</th>\n",
              "      <th>horsepower</th>\n",
              "      <th>peak-rpm</th>\n",
              "      <th>city-mpg</th>\n",
              "      <th>highway-mpg</th>\n",
              "      <th>price</th>\n",
              "    </tr>\n",
              "  </thead>\n",
              "  <tbody>\n",
              "    <tr>\n",
              "      <th>0</th>\n",
              "      <td>3</td>\n",
              "      <td>0.0</td>\n",
              "      <td>alfa-romero</td>\n",
              "      <td>gas</td>\n",
              "      <td>std</td>\n",
              "      <td>two</td>\n",
              "      <td>convertible</td>\n",
              "      <td>rwd</td>\n",
              "      <td>front</td>\n",
              "      <td>88.6</td>\n",
              "      <td>...</td>\n",
              "      <td>130</td>\n",
              "      <td>mpfi</td>\n",
              "      <td>3.47</td>\n",
              "      <td>2.68</td>\n",
              "      <td>9.0</td>\n",
              "      <td>111</td>\n",
              "      <td>5000.0</td>\n",
              "      <td>21</td>\n",
              "      <td>27</td>\n",
              "      <td>13495</td>\n",
              "    </tr>\n",
              "    <tr>\n",
              "      <th>1</th>\n",
              "      <td>3</td>\n",
              "      <td>0.0</td>\n",
              "      <td>alfa-romero</td>\n",
              "      <td>gas</td>\n",
              "      <td>std</td>\n",
              "      <td>two</td>\n",
              "      <td>convertible</td>\n",
              "      <td>rwd</td>\n",
              "      <td>front</td>\n",
              "      <td>88.6</td>\n",
              "      <td>...</td>\n",
              "      <td>130</td>\n",
              "      <td>mpfi</td>\n",
              "      <td>3.47</td>\n",
              "      <td>2.68</td>\n",
              "      <td>9.0</td>\n",
              "      <td>111</td>\n",
              "      <td>5000.0</td>\n",
              "      <td>21</td>\n",
              "      <td>27</td>\n",
              "      <td>16500</td>\n",
              "    </tr>\n",
              "    <tr>\n",
              "      <th>2</th>\n",
              "      <td>1</td>\n",
              "      <td>0.0</td>\n",
              "      <td>alfa-romero</td>\n",
              "      <td>gas</td>\n",
              "      <td>std</td>\n",
              "      <td>two</td>\n",
              "      <td>hatchback</td>\n",
              "      <td>rwd</td>\n",
              "      <td>front</td>\n",
              "      <td>94.5</td>\n",
              "      <td>...</td>\n",
              "      <td>152</td>\n",
              "      <td>mpfi</td>\n",
              "      <td>2.68</td>\n",
              "      <td>3.47</td>\n",
              "      <td>9.0</td>\n",
              "      <td>154</td>\n",
              "      <td>5000.0</td>\n",
              "      <td>19</td>\n",
              "      <td>26</td>\n",
              "      <td>16500</td>\n",
              "    </tr>\n",
              "    <tr>\n",
              "      <th>3</th>\n",
              "      <td>2</td>\n",
              "      <td>164.0</td>\n",
              "      <td>audi</td>\n",
              "      <td>gas</td>\n",
              "      <td>std</td>\n",
              "      <td>four</td>\n",
              "      <td>sedan</td>\n",
              "      <td>fwd</td>\n",
              "      <td>front</td>\n",
              "      <td>99.8</td>\n",
              "      <td>...</td>\n",
              "      <td>109</td>\n",
              "      <td>mpfi</td>\n",
              "      <td>3.19</td>\n",
              "      <td>3.40</td>\n",
              "      <td>10.0</td>\n",
              "      <td>102</td>\n",
              "      <td>5500.0</td>\n",
              "      <td>24</td>\n",
              "      <td>30</td>\n",
              "      <td>13950</td>\n",
              "    </tr>\n",
              "    <tr>\n",
              "      <th>4</th>\n",
              "      <td>2</td>\n",
              "      <td>164.0</td>\n",
              "      <td>audi</td>\n",
              "      <td>gas</td>\n",
              "      <td>std</td>\n",
              "      <td>four</td>\n",
              "      <td>sedan</td>\n",
              "      <td>4wd</td>\n",
              "      <td>front</td>\n",
              "      <td>99.4</td>\n",
              "      <td>...</td>\n",
              "      <td>136</td>\n",
              "      <td>mpfi</td>\n",
              "      <td>3.19</td>\n",
              "      <td>3.40</td>\n",
              "      <td>8.0</td>\n",
              "      <td>115</td>\n",
              "      <td>5500.0</td>\n",
              "      <td>18</td>\n",
              "      <td>22</td>\n",
              "      <td>17450</td>\n",
              "    </tr>\n",
              "  </tbody>\n",
              "</table>\n",
              "<p>5 rows × 26 columns</p>\n",
              "</div>\n",
              "      <button class=\"colab-df-convert\" onclick=\"convertToInteractive('df-787c797b-0072-4723-a010-6ad0e96392b7')\"\n",
              "              title=\"Convert this dataframe to an interactive table.\"\n",
              "              style=\"display:none;\">\n",
              "        \n",
              "  <svg xmlns=\"http://www.w3.org/2000/svg\" height=\"24px\"viewBox=\"0 0 24 24\"\n",
              "       width=\"24px\">\n",
              "    <path d=\"M0 0h24v24H0V0z\" fill=\"none\"/>\n",
              "    <path d=\"M18.56 5.44l.94 2.06.94-2.06 2.06-.94-2.06-.94-.94-2.06-.94 2.06-2.06.94zm-11 1L8.5 8.5l.94-2.06 2.06-.94-2.06-.94L8.5 2.5l-.94 2.06-2.06.94zm10 10l.94 2.06.94-2.06 2.06-.94-2.06-.94-.94-2.06-.94 2.06-2.06.94z\"/><path d=\"M17.41 7.96l-1.37-1.37c-.4-.4-.92-.59-1.43-.59-.52 0-1.04.2-1.43.59L10.3 9.45l-7.72 7.72c-.78.78-.78 2.05 0 2.83L4 21.41c.39.39.9.59 1.41.59.51 0 1.02-.2 1.41-.59l7.78-7.78 2.81-2.81c.8-.78.8-2.07 0-2.86zM5.41 20L4 18.59l7.72-7.72 1.47 1.35L5.41 20z\"/>\n",
              "  </svg>\n",
              "      </button>\n",
              "      \n",
              "  <style>\n",
              "    .colab-df-container {\n",
              "      display:flex;\n",
              "      flex-wrap:wrap;\n",
              "      gap: 12px;\n",
              "    }\n",
              "\n",
              "    .colab-df-convert {\n",
              "      background-color: #E8F0FE;\n",
              "      border: none;\n",
              "      border-radius: 50%;\n",
              "      cursor: pointer;\n",
              "      display: none;\n",
              "      fill: #1967D2;\n",
              "      height: 32px;\n",
              "      padding: 0 0 0 0;\n",
              "      width: 32px;\n",
              "    }\n",
              "\n",
              "    .colab-df-convert:hover {\n",
              "      background-color: #E2EBFA;\n",
              "      box-shadow: 0px 1px 2px rgba(60, 64, 67, 0.3), 0px 1px 3px 1px rgba(60, 64, 67, 0.15);\n",
              "      fill: #174EA6;\n",
              "    }\n",
              "\n",
              "    [theme=dark] .colab-df-convert {\n",
              "      background-color: #3B4455;\n",
              "      fill: #D2E3FC;\n",
              "    }\n",
              "\n",
              "    [theme=dark] .colab-df-convert:hover {\n",
              "      background-color: #434B5C;\n",
              "      box-shadow: 0px 1px 3px 1px rgba(0, 0, 0, 0.15);\n",
              "      filter: drop-shadow(0px 1px 2px rgba(0, 0, 0, 0.3));\n",
              "      fill: #FFFFFF;\n",
              "    }\n",
              "  </style>\n",
              "\n",
              "      <script>\n",
              "        const buttonEl =\n",
              "          document.querySelector('#df-787c797b-0072-4723-a010-6ad0e96392b7 button.colab-df-convert');\n",
              "        buttonEl.style.display =\n",
              "          google.colab.kernel.accessAllowed ? 'block' : 'none';\n",
              "\n",
              "        async function convertToInteractive(key) {\n",
              "          const element = document.querySelector('#df-787c797b-0072-4723-a010-6ad0e96392b7');\n",
              "          const dataTable =\n",
              "            await google.colab.kernel.invokeFunction('convertToInteractive',\n",
              "                                                     [key], {});\n",
              "          if (!dataTable) return;\n",
              "\n",
              "          const docLinkHtml = 'Like what you see? Visit the ' +\n",
              "            '<a target=\"_blank\" href=https://colab.research.google.com/notebooks/data_table.ipynb>data table notebook</a>'\n",
              "            + ' to learn more about interactive tables.';\n",
              "          element.innerHTML = '';\n",
              "          dataTable['output_type'] = 'display_data';\n",
              "          await google.colab.output.renderOutput(dataTable, element);\n",
              "          const docLink = document.createElement('div');\n",
              "          docLink.innerHTML = docLinkHtml;\n",
              "          element.appendChild(docLink);\n",
              "        }\n",
              "      </script>\n",
              "    </div>\n",
              "  </div>\n",
              "  "
            ]
          },
          "metadata": {},
          "execution_count": 9
        }
      ]
    },
    {
      "cell_type": "code",
      "source": [
        "# Plot highway-mpg vs price pada scatter plot\n",
        "\n",
        "import matplotlib as mpl\n",
        "import matplotlib.pyplot as plt\n",
        "\n",
        "plt.scatter(df_mobil['highway-mpg'], df_mobil['price'])\n",
        "plt.xlabel(\"highway mpg\")\n",
        "plt.ylabel(\"price\")\n",
        "plt.show()\n"
      ],
      "metadata": {
        "colab": {
          "base_uri": "https://localhost:8080/",
          "height": 279
        },
        "id": "BjeueMnWkYXC",
        "outputId": "23db2ab2-8b99-4e4d-c90b-5df78c2cf6a3"
      },
      "execution_count": 12,
      "outputs": [
        {
          "output_type": "display_data",
          "data": {
            "text/plain": [
              "<Figure size 432x288 with 1 Axes>"
            ],
            "image/png": "[encoded data removed]"
          },
          "metadata": {
            "needs_background": "light"
          }
        }
      ]
    },
    {
      "cell_type": "code",
      "source": [
        "# Plot horse power vs price pada scatter plot\n",
        "\n",
        "plt.scatter(df_mobil['horsepower'], df_mobil['price'])\n",
        "plt.xlabel(\"horse power\")\n",
        "plt.ylabel(\"price\")\n",
        "plt.show()\n",
        "\n",
        "# terlihat ada data outliers (menyimpang) di bagian paling kanan dan kiri\n"
      ],
      "metadata": {
        "colab": {
          "base_uri": "https://localhost:8080/",
          "height": 279
        },
        "id": "3mx3P8Bfk1pS",
        "outputId": "a60a19bc-e8ad-43b0-cc10-8087de203d7a"
      },
      "execution_count": 13,
      "outputs": [
        {
          "output_type": "display_data",
          "data": {
            "text/plain": [
              "<Figure size 432x288 with 1 Axes>"
            ],
            "image/png": "[encoded data removed]"
          },
          "metadata": {
            "needs_background": "light"
          }
        }
      ]
    },
    {
      "cell_type": "code",
      "source": [
        "# Plot curb wight vs price pada scatter plot\n",
        "\n",
        "plt.scatter(df_mobil['curb-weight'], df_mobil['price'])\n",
        "plt.xlabel(\"curb weight\")\n",
        "plt.ylabel(\"price\")\n",
        "plt.show()\n"
      ],
      "metadata": {
        "colab": {
          "base_uri": "https://localhost:8080/",
          "height": 279
        },
        "id": "zU9Hhl38lchr",
        "outputId": "d5cc83d0-a179-4980-a926-5fe30558ecfd"
      },
      "execution_count": 14,
      "outputs": [
        {
          "output_type": "display_data",
          "data": {
            "text/plain": [
              "<Figure size 432x288 with 1 Axes>"
            ],
            "image/png": "[encoded data removed]"
          },
          "metadata": {
            "needs_background": "light"
          }
        }
      ]
    },
    {
      "cell_type": "markdown",
      "source": [
        "Langkah selanjutnya adalah melakukan split dataset menjadi data training 80% dan data testing 20%\n",
        "\n",
        "![train-test-split.png](data:image/png;base64,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)"
      ],
      "metadata": {
        "id": "uTq2owU3tiJt"
      }
    },
    {
      "cell_type": "code",
      "source": [
        "# Melakukan train-test-split pada 3 fitur (kolom) data diatas\n",
        "\n",
        "from sklearn.linear_model import LinearRegression\n",
        "from sklearn.model_selection import train_test_split\n",
        "\n",
        "X = df_mobil[['highway-mpg','curb-weight','horsepower']]\n",
        "y = df_mobil[['price']]\n",
        "X_train, X_test, y_train, y_test = train_test_split(X, y, test_size=0.2)\n"
      ],
      "metadata": {
        "id": "RQlScmB1nRjH"
      },
      "execution_count": 15,
      "outputs": []
    },
    {
      "cell_type": "code",
      "source": [
        "# Prediksi data dengan model machine learning (i.e. regresi linear)\n",
        "# Membuat model\n",
        "\n",
        "from sklearn.metrics import r2_score, mean_squared_error\n",
        "\n",
        "model_regresi = LinearRegression()\n",
        "model_regresi.fit(X_train, y_train)\n",
        "model_regresi_pred = model_regresi.predict(X_test)\n",
        "# model_regresi_pred\n"
      ],
      "metadata": {
        "id": "6TNSl_GfvIia"
      },
      "execution_count": 16,
      "outputs": []
    },
    {
      "cell_type": "code",
      "source": [
        "print(model_regresi_pred[3])  # hasil prediksi\n",
        "print(y.iloc[3])              # data price Ground Truth/acuan/data asli\n"
      ],
      "metadata": {
        "colab": {
          "base_uri": "https://localhost:8080/"
        },
        "id": "n9DBGoN_vyj6",
        "outputId": "ba10ceb2-2a1a-406a-a087-26c8600e4c9c"
      },
      "execution_count": 17,
      "outputs": [
        {
          "output_type": "stream",
          "name": "stdout",
          "text": [
            "[15532.5165394]\n",
            "price    13950\n",
            "Name: 3, dtype: int64\n"
          ]
        }
      ]
    },
    {
      "cell_type": "markdown",
      "source": [
        "Formula MSE\n",
        "\n",
        "![Formula MSE.png](data:image/png;base64,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)"
      ],
      "metadata": {
        "id": "5xCzFfJr9ik8"
      }
    },
    {
      "cell_type": "code",
      "source": [
        "# Menghitung MSE (Mean Square Error)\n",
        "# Dikuadratkan supaya tidak ada nilai minus (-)\n",
        "# Nanti hasilnya di-akar kuadrat\n",
        "\n",
        "mse = str(mean_squared_error(y_test, model_regresi_pred))\n",
        "print(\"MSE: \" + mse)\n",
        "\n",
        "# print(\"MSE: \"+ str(mean_squared_error(y_test, model_regresi_pred)))\n"
      ],
      "metadata": {
        "colab": {
          "base_uri": "https://localhost:8080/"
        },
        "id": "CDvGOOj-2QJq",
        "outputId": "faab2fe7-df48-4730-b96d-b1fe05fe52e4"
      },
      "execution_count": 19,
      "outputs": [
        {
          "output_type": "stream",
          "name": "stdout",
          "text": [
            "MSE: 14355377.576900974\n"
          ]
        }
      ]
    },
    {
      "cell_type": "code",
      "source": [
        "# Menghitung RMSE (Root Mean Square)\n",
        "\n",
        "akar = str(r2_score(model_regresi_pred, y_test))\n",
        "print(\"R2: \" + akar)\n",
        "\n",
        "# print(\"R2: \"+ str(r2_score(model_regresi_pred, y_test)))\n"
      ],
      "metadata": {
        "colab": {
          "base_uri": "https://localhost:8080/"
        },
        "id": "q4rCUgel3GWr",
        "outputId": "d64741c6-c389-4e60-dfd7-c973da82cb00"
      },
      "execution_count": 20,
      "outputs": [
        {
          "output_type": "stream",
          "name": "stdout",
          "text": [
            "R2: 0.7720366795594247\n"
          ]
        }
      ]
    },
    {
      "cell_type": "code",
      "source": [
        "# Memasukkan data test kedalam model\n",
        "\n",
        "plt.scatter(X_test.iloc[:,0], model_regresi_pred)\n",
        "plt.xlabel(\"highway mpg\")\n",
        "plt.ylabel(\"Price\")\n",
        "plt.show()\n"
      ],
      "metadata": {
        "colab": {
          "base_uri": "https://localhost:8080/",
          "height": 279
        },
        "id": "qZSeOOa740Y8",
        "outputId": "298a5697-983c-4f90-d91f-a45831143d57"
      },
      "execution_count": 21,
      "outputs": [
        {
          "output_type": "display_data",
          "data": {
            "text/plain": [
              "<Figure size 432x288 with 1 Axes>"
            ],
            "image/png": "[encoded data removed]"
          },
          "metadata": {
            "needs_background": "light"
          }
        }
      ]
    },
    {
      "cell_type": "code",
      "source": [
        "# Menampilkan plot data test\n",
        "\n",
        "plt.scatter(X_test.iloc[:,0], y_test)\n",
        "plt.xlabel(\"highway mpg\")\n",
        "plt.ylabel(\"Price\")\n",
        "plt.show()\n"
      ],
      "metadata": {
        "colab": {
          "base_uri": "https://localhost:8080/",
          "height": 279
        },
        "id": "mFME907qESbF",
        "outputId": "a9f1e033-0345-40c0-e7be-8ef16011cd34"
      },
      "execution_count": 22,
      "outputs": [
        {
          "output_type": "display_data",
          "data": {
            "text/plain": [
              "<Figure size 432x288 with 1 Axes>"
            ],
            "image/png": "[encoded data removed]"
          },
          "metadata": {
            "needs_background": "light"
          }
        }
      ]
    },
    {
      "cell_type": "code",
      "source": [
        "# Spesifikasi mobil Mukidi (highway-mpg = 32; curb-wight = 2328; horse-power = 85)\n",
        "# Berapa harga jual mobil Mukidi\n",
        "\n",
        "mukidi = ([[32, 2328,   85]])\n",
        "mukidi\n"
      ],
      "metadata": {
        "colab": {
          "base_uri": "https://localhost:8080/"
        },
        "id": "Y_sG-y1CFX33",
        "outputId": "f0d0b804-b640-4da4-a109-e0ef18eee2dc"
      },
      "execution_count": 23,
      "outputs": [
        {
          "output_type": "execute_result",
          "data": {
            "text/plain": [
              "[[32, 2328, 85]]"
            ]
          },
          "metadata": {},
          "execution_count": 23
        }
      ]
    },
    {
      "cell_type": "code",
      "source": [
        "model_regresi_pred = model_regresi.predict(mukidi)\n"
      ],
      "metadata": {
        "colab": {
          "base_uri": "https://localhost:8080/"
        },
        "id": "HXMLRWNCGHDO",
        "outputId": "e85cd074-9e65-49a7-aa5d-40efd6480da5"
      },
      "execution_count": 24,
      "outputs": [
        {
          "output_type": "stream",
          "name": "stderr",
          "text": [
            "/usr/local/lib/python3.8/dist-packages/sklearn/base.py:450: UserWarning: X does not have valid feature names, but LinearRegression was fitted with feature names\n",
            "  warnings.warn(\n"
          ]
        }
      ]
    },
    {
      "cell_type": "code",
      "source": [
        "model_regresi_pred\n"
      ],
      "metadata": {
        "colab": {
          "base_uri": "https://localhost:8080/"
        },
        "id": "sdiOn5DSG4zI",
        "outputId": "4a3f02f7-0b82-42c3-ab28-e7ff72a38251"
      },
      "execution_count": 25,
      "outputs": [
        {
          "output_type": "execute_result",
          "data": {
            "text/plain": [
              "array([[9636.7646999]])"
            ]
          },
          "metadata": {},
          "execution_count": 25
        }
      ]
    },
    {
      "cell_type": "markdown",
      "source": [
        "Berdasarkan prediksi model, didapat harga jual mobil Mukidi adalah ... lihat hasil `model_regresi_pred`\n"
      ],
      "metadata": {
        "id": "dOqQFwhHHXFg"
      }
    }
  ],
  "metadata": {
    "kernelspec": {
      "display_name": "Python 3",
      "language": "python",
      "name": "python3"
    },
    "language_info": {
      "codemirror_mode": {
        "name": "ipython",
        "version": 3
      },
      "file_extension": ".py",
      "mimetype": "text/x-python",
      "name": "python",
      "nbconvert_exporter": "python",
      "pygments_lexer": "ipython3",
      "version": "3.6.5"
    },
    "colab": {
      "provenance": []
    }
  },
  "nbformat": 4,
  "nbformat_minor": 0
}